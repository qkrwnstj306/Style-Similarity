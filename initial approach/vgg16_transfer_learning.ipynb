{
 "cells": [
  {
   "cell_type": "code",
   "execution_count": 1,
   "id": "c55f199e-724e-4a6d-8490-526496c038ea",
   "metadata": {},
   "outputs": [],
   "source": [
    "import torchvision\n",
    "from torchvision import models\n",
    "from torchvision.datasets import ImageFolder\n",
    "import torchvision.transforms as transforms\n",
    "from torch.utils.data import Dataset, DataLoader\n",
    "\n",
    "import os, subprocess\n",
    "import matplotlib.pyplot as plt\n",
    "import numpy as np\n",
    "from PIL import Image"
   ]
  },
  {
   "cell_type": "code",
   "execution_count": 2,
   "id": "f0f10d49-4b84-414c-8918-1f9c8d3d64f5",
   "metadata": {},
   "outputs": [],
   "source": [
    "data_dir = \"./data\"\n",
    "dir_lst = os.listdir(data_dir)\n",
    "for dir in dir_lst:\n",
    "    dir_path = os.listdir(f\"./data/{dir}\")\n",
    "\n",
    "    for name in dir_path:\n",
    "        if name == \".ipynb_checkpoints\":\n",
    "            print(name)\n",
    "            os.rmdir(f\"./data/{dir}/{name}\")"
   ]
  },
  {
   "cell_type": "code",
   "execution_count": 3,
   "id": "47bc6320-9ca4-4efa-a0d4-048f6b2ec4d5",
   "metadata": {},
   "outputs": [],
   "source": [
    "IMG_TRANSFORM = transforms.Compose([\n",
    "    transforms.ToTensor(),\n",
    "    transforms.Resize((512,512), antialias = True),\n",
    "    transforms.Normalize((0.5,0.5,0.5),(0.5,0.5,0.5)),\n",
    "    ])"
   ]
  },
  {
   "cell_type": "code",
   "execution_count": 4,
   "id": "a8d9d142-6f1a-47db-9797-e6760740d7ff",
   "metadata": {},
   "outputs": [],
   "source": [
    "train_imgfolder = ImageFolder(root=\"./data/train\",\n",
    "                              transform=IMG_TRANSFORM,\n",
    "                              target_transform=None\n",
    "                             )\n",
    "\n",
    "test_imgfolder = ImageFolder(root=\"./data/test\",\n",
    "                              transform=IMG_TRANSFORM\n",
    "                             )"
   ]
  },
  {
   "cell_type": "code",
   "execution_count": 5,
   "id": "5029d92a-00bc-4a3d-b6f9-86008c8995aa",
   "metadata": {},
   "outputs": [],
   "source": [
    "Image.MAX_IMAGE_PIXELS = None\n",
    "\n",
    "train_dataloader = DataLoader(dataset=train_imgfolder,\n",
    "\t\t\t\t\t\t\t  batch_size = 32,\n",
    "                              num_workers=os.cpu_count(),\n",
    "                              shuffle=True,\n",
    "                              drop_last=True \n",
    "                             )\n",
    "\n",
    "test_dataloader = DataLoader(dataset=test_imgfolder,\n",
    "\t\t\t\t\t\t\t  batch_size = 32,\n",
    "                              num_workers=os.cpu_count(),\n",
    "                              shuffle=True,\n",
    "                              drop_last=True \n",
    "                            )"
   ]
  },
  {
   "cell_type": "code",
   "execution_count": 6,
   "id": "0821fad3-540f-47ca-854f-9f5c7171d243",
   "metadata": {},
   "outputs": [
    {
     "name": "stderr",
     "output_type": "stream",
     "text": [
      "/home/qkrwnstj/anaconda3/envs/qkrwnstj/lib/python3.9/site-packages/torchvision/models/_utils.py:208: UserWarning: The parameter 'pretrained' is deprecated since 0.13 and may be removed in the future, please use 'weights' instead.\n",
      "  warnings.warn(\n",
      "/home/qkrwnstj/anaconda3/envs/qkrwnstj/lib/python3.9/site-packages/torchvision/models/_utils.py:223: UserWarning: Arguments other than a weight enum or `None` for 'weights' are deprecated since 0.13 and may be removed in the future. The current behavior is equivalent to passing `weights=VGG16_Weights.IMAGENET1K_V1`. You can also use `weights=VGG16_Weights.DEFAULT` to get the most up-to-date weights.\n",
      "  warnings.warn(msg)\n"
     ]
    }
   ],
   "source": [
    "import torch\n",
    "import torch.nn as nn\n",
    "\n",
    "from tqdm import tqdm\n",
    "\n",
    "pre_trained_model = models.vgg16(pretrained=True)\n"
   ]
  },
  {
   "cell_type": "code",
   "execution_count": 7,
   "id": "d924e92f-d7b4-4b67-b7cb-1ee80f879521",
   "metadata": {},
   "outputs": [
    {
     "data": {
      "text/plain": [
       "VGG(\n",
       "  (features): Sequential(\n",
       "    (0): Conv2d(3, 64, kernel_size=(3, 3), stride=(1, 1), padding=(1, 1))\n",
       "    (1): ReLU(inplace=True)\n",
       "    (2): Conv2d(64, 64, kernel_size=(3, 3), stride=(1, 1), padding=(1, 1))\n",
       "    (3): ReLU(inplace=True)\n",
       "    (4): MaxPool2d(kernel_size=2, stride=2, padding=0, dilation=1, ceil_mode=False)\n",
       "    (5): Conv2d(64, 128, kernel_size=(3, 3), stride=(1, 1), padding=(1, 1))\n",
       "    (6): ReLU(inplace=True)\n",
       "    (7): Conv2d(128, 128, kernel_size=(3, 3), stride=(1, 1), padding=(1, 1))\n",
       "    (8): ReLU(inplace=True)\n",
       "    (9): MaxPool2d(kernel_size=2, stride=2, padding=0, dilation=1, ceil_mode=False)\n",
       "    (10): Conv2d(128, 256, kernel_size=(3, 3), stride=(1, 1), padding=(1, 1))\n",
       "    (11): ReLU(inplace=True)\n",
       "    (12): Conv2d(256, 256, kernel_size=(3, 3), stride=(1, 1), padding=(1, 1))\n",
       "    (13): ReLU(inplace=True)\n",
       "    (14): Conv2d(256, 256, kernel_size=(3, 3), stride=(1, 1), padding=(1, 1))\n",
       "    (15): ReLU(inplace=True)\n",
       "    (16): MaxPool2d(kernel_size=2, stride=2, padding=0, dilation=1, ceil_mode=False)\n",
       "    (17): Conv2d(256, 512, kernel_size=(3, 3), stride=(1, 1), padding=(1, 1))\n",
       "    (18): ReLU(inplace=True)\n",
       "    (19): Conv2d(512, 512, kernel_size=(3, 3), stride=(1, 1), padding=(1, 1))\n",
       "    (20): ReLU(inplace=True)\n",
       "    (21): Conv2d(512, 512, kernel_size=(3, 3), stride=(1, 1), padding=(1, 1))\n",
       "    (22): ReLU(inplace=True)\n",
       "    (23): MaxPool2d(kernel_size=2, stride=2, padding=0, dilation=1, ceil_mode=False)\n",
       "    (24): Conv2d(512, 512, kernel_size=(3, 3), stride=(1, 1), padding=(1, 1))\n",
       "    (25): ReLU(inplace=True)\n",
       "    (26): Conv2d(512, 512, kernel_size=(3, 3), stride=(1, 1), padding=(1, 1))\n",
       "    (27): ReLU(inplace=True)\n",
       "    (28): Conv2d(512, 512, kernel_size=(3, 3), stride=(1, 1), padding=(1, 1))\n",
       "    (29): ReLU(inplace=True)\n",
       "    (30): MaxPool2d(kernel_size=2, stride=2, padding=0, dilation=1, ceil_mode=False)\n",
       "  )\n",
       "  (avgpool): AdaptiveAvgPool2d(output_size=(7, 7))\n",
       "  (classifier): Sequential(\n",
       "    (0): Linear(in_features=25088, out_features=4096, bias=True)\n",
       "    (1): ReLU(inplace=True)\n",
       "    (2): Dropout(p=0.5, inplace=False)\n",
       "    (3): Linear(in_features=4096, out_features=4096, bias=True)\n",
       "    (4): ReLU(inplace=True)\n",
       "    (5): Dropout(p=0.5, inplace=False)\n",
       "    (6): Linear(in_features=4096, out_features=1000, bias=True)\n",
       "  )\n",
       ")"
      ]
     },
     "execution_count": 7,
     "metadata": {},
     "output_type": "execute_result"
    }
   ],
   "source": [
    "pre_trained_model"
   ]
  },
  {
   "cell_type": "code",
   "execution_count": 8,
   "id": "2215f198-4699-4aa3-b0de-63432a5a86d1",
   "metadata": {},
   "outputs": [
    {
     "data": {
      "text/plain": [
       "VGG(\n",
       "  (features): Sequential(\n",
       "    (0): Conv2d(3, 64, kernel_size=(3, 3), stride=(1, 1), padding=(1, 1))\n",
       "    (1): ReLU(inplace=True)\n",
       "    (2): Conv2d(64, 64, kernel_size=(3, 3), stride=(1, 1), padding=(1, 1))\n",
       "    (3): ReLU(inplace=True)\n",
       "    (4): MaxPool2d(kernel_size=2, stride=2, padding=0, dilation=1, ceil_mode=False)\n",
       "    (5): Conv2d(64, 128, kernel_size=(3, 3), stride=(1, 1), padding=(1, 1))\n",
       "    (6): ReLU(inplace=True)\n",
       "    (7): Conv2d(128, 128, kernel_size=(3, 3), stride=(1, 1), padding=(1, 1))\n",
       "    (8): ReLU(inplace=True)\n",
       "    (9): MaxPool2d(kernel_size=2, stride=2, padding=0, dilation=1, ceil_mode=False)\n",
       "    (10): Conv2d(128, 256, kernel_size=(3, 3), stride=(1, 1), padding=(1, 1))\n",
       "    (11): ReLU(inplace=True)\n",
       "    (12): Conv2d(256, 256, kernel_size=(3, 3), stride=(1, 1), padding=(1, 1))\n",
       "    (13): ReLU(inplace=True)\n",
       "    (14): Conv2d(256, 256, kernel_size=(3, 3), stride=(1, 1), padding=(1, 1))\n",
       "    (15): ReLU(inplace=True)\n",
       "    (16): MaxPool2d(kernel_size=2, stride=2, padding=0, dilation=1, ceil_mode=False)\n",
       "    (17): Conv2d(256, 512, kernel_size=(3, 3), stride=(1, 1), padding=(1, 1))\n",
       "    (18): ReLU(inplace=True)\n",
       "    (19): Conv2d(512, 512, kernel_size=(3, 3), stride=(1, 1), padding=(1, 1))\n",
       "    (20): ReLU(inplace=True)\n",
       "    (21): Conv2d(512, 512, kernel_size=(3, 3), stride=(1, 1), padding=(1, 1))\n",
       "    (22): ReLU(inplace=True)\n",
       "    (23): MaxPool2d(kernel_size=2, stride=2, padding=0, dilation=1, ceil_mode=False)\n",
       "    (24): Conv2d(512, 512, kernel_size=(3, 3), stride=(1, 1), padding=(1, 1))\n",
       "    (25): ReLU(inplace=True)\n",
       "    (26): Conv2d(512, 512, kernel_size=(3, 3), stride=(1, 1), padding=(1, 1))\n",
       "    (27): ReLU(inplace=True)\n",
       "    (28): Conv2d(512, 512, kernel_size=(3, 3), stride=(1, 1), padding=(1, 1))\n",
       "    (29): ReLU(inplace=True)\n",
       "    (30): MaxPool2d(kernel_size=2, stride=2, padding=0, dilation=1, ceil_mode=False)\n",
       "  )\n",
       "  (avgpool): AdaptiveAvgPool2d(output_size=(7, 7))\n",
       "  (classifier): Sequential(\n",
       "    (0): Linear(in_features=25088, out_features=4096, bias=True)\n",
       "    (1): ReLU(inplace=True)\n",
       "    (2): Dropout(p=0.5, inplace=False)\n",
       "    (3): Linear(in_features=4096, out_features=4096, bias=True)\n",
       "    (4): ReLU(inplace=True)\n",
       "    (5): Dropout(p=0.5, inplace=False)\n",
       "    (6): Linear(in_features=4096, out_features=20, bias=True)\n",
       "  )\n",
       ")"
      ]
     },
     "execution_count": 8,
     "metadata": {},
     "output_type": "execute_result"
    }
   ],
   "source": [
    "pre_trained_model.classifier[6].out_features=20\n",
    "pre_trained_model"
   ]
  },
  {
   "cell_type": "code",
   "execution_count": 9,
   "id": "09d0ab99-f071-46af-8415-a5720df093aa",
   "metadata": {},
   "outputs": [],
   "source": [
    "for name, param in pre_trained_model.named_parameters():\n",
    "    \n",
    "    if name.split('.')[0] == \"features\" and int(name.split('.')[1]) <= 23:\n",
    "        param.requires_grad = False"
   ]
  },
  {
   "cell_type": "code",
   "execution_count": 10,
   "id": "22ac3976-a9b0-4fe2-934e-9ae687e7efed",
   "metadata": {},
   "outputs": [
    {
     "name": "stdout",
     "output_type": "stream",
     "text": [
      "Using device:  cuda:1\n"
     ]
    }
   ],
   "source": [
    "# model setting\n",
    "model = pre_trained_model\n",
    "\n",
    "EPOCH = 50\n",
    "LEARNING_RATE = 1e-3 \n",
    "DEVICE = torch.device(\"cuda:1\" if torch.cuda.is_available() else \"cpu\")\n",
    "optimizer = torch.optim.Adam(model.parameters(), lr = LEARNING_RATE, weight_decay = 0.01)\n",
    "criterion = nn.CrossEntropyLoss()\n",
    "print(\"Using device: \",DEVICE)"
   ]
  },
  {
   "cell_type": "code",
   "execution_count": 11,
   "id": "a800dca9-50eb-4c37-8994-6c04c28ae140",
   "metadata": {},
   "outputs": [],
   "source": [
    "def loss_fn(class_output, label, criterion):\n",
    "    CE_loss = criterion(class_output, label)\n",
    "\n",
    "    return CE_loss "
   ]
  },
  {
   "cell_type": "code",
   "execution_count": 12,
   "id": "f35887cb-ff53-4df6-934c-04ef6048e88b",
   "metadata": {},
   "outputs": [],
   "source": [
    "def train(train_loader, model, optimizer, criterion, epoch):\n",
    "    model.train()\n",
    "    correct = 0\n",
    "    total = 0\n",
    "    \n",
    "    epoch_loss = []\n",
    "    for index, (img_data,labels) in enumerate(train_loader):\n",
    "        img_data, labels = img_data.to(DEVICE), labels.to(DEVICE)\n",
    "        optimizer.zero_grad()\n",
    "        \n",
    "        outputs = model(img_data)\n",
    "        loss = loss_fn(outputs, labels, criterion)\n",
    "        \n",
    "        _, predicted = torch.max(outputs.data, 1)\n",
    "        correct += (predicted == labels).sum().item()\n",
    "        total += labels.size(0)\n",
    "        \n",
    "        \n",
    "        loss.backward()\n",
    "        optimizer.step()\n",
    "\n",
    "        epoch_loss.append(loss.item())\n",
    "        if index%100==0:\n",
    "            print(f'train loss : {np.mean(epoch_loss):>7f}, [epoch:{epoch}, iter:{index}]')\n",
    "            \n",
    "    accuracy = correct / total\n",
    "    print(f\"TRAIN ACCURACY : {(100*accuracy):>0.1f}% [{correct}/{total}]\")\n",
    "    return np.mean(epoch_loss)"
   ]
  },
  {
   "cell_type": "code",
   "execution_count": 13,
   "id": "166bbec2-b81c-46cf-9586-7a0a468f3dbb",
   "metadata": {},
   "outputs": [],
   "source": [
    "def test(test_loader, model, criterion, epoch):\n",
    "    model.eval()\n",
    "\n",
    "    epoch_loss = []\n",
    "    correct = 0\n",
    "    total = 0\n",
    "    \n",
    "    with torch.no_grad():\n",
    "        for index, (img_data,labels) in enumerate(test_loader):\n",
    "            img_data, labels = img_data.to(DEVICE), labels.to(DEVICE)\n",
    "            outputs = model(img_data)\n",
    "    \n",
    "            loss = loss_fn(outputs, labels, criterion)\n",
    "\n",
    "            _, predicted = torch.max(outputs.data, 1)\n",
    "            correct += (predicted == labels).sum().item()\n",
    "            total += labels.size(0)\n",
    "            \n",
    "            epoch_loss.append(loss.item())\n",
    "    \n",
    "    accuracy = correct / total\n",
    "    \n",
    "    print(f\"TEST ACCURACY : {(100*accuracy):>0.1f}% [{correct}/{total}]\")\n",
    "    return np.mean(epoch_loss)"
   ]
  },
  {
   "cell_type": "code",
   "execution_count": 14,
   "id": "ee5442db-aa3a-4554-a670-99f3b731dafc",
   "metadata": {},
   "outputs": [],
   "source": [
    "import gc\n",
    "gc.collect()\n",
    "torch.cuda.empty_cache()"
   ]
  },
  {
   "cell_type": "code",
   "execution_count": 15,
   "id": "858b7500-0e83-47c8-aba7-f9e360ea25c5",
   "metadata": {
    "scrolled": true
   },
   "outputs": [
    {
     "name": "stderr",
     "output_type": "stream",
     "text": [
      "Train:   0%|                                       | 0/50 [00:00<?, ?it/s]"
     ]
    },
    {
     "name": "stdout",
     "output_type": "stream",
     "text": [
      "EPOCH 1 \n",
      "-------------------------\n",
      "train loss : 9.385809, [epoch:1, iter:0]\n",
      "train loss : 3.413219, [epoch:1, iter:100]\n",
      "train loss : 2.985387, [epoch:1, iter:200]\n",
      "train loss : 2.760560, [epoch:1, iter:300]\n",
      "train loss : 2.605352, [epoch:1, iter:400]\n",
      "train loss : 2.495892, [epoch:1, iter:500]\n",
      "train loss : 2.419860, [epoch:1, iter:600]\n",
      "train loss : 2.359995, [epoch:1, iter:700]\n",
      "train loss : 2.310214, [epoch:1, iter:800]\n",
      "train loss : 2.272573, [epoch:1, iter:900]\n",
      "train loss : 2.235741, [epoch:1, iter:1000]\n",
      "train loss : 2.201659, [epoch:1, iter:1100]\n",
      "train loss : 2.171842, [epoch:1, iter:1200]\n",
      "train loss : 2.149441, [epoch:1, iter:1300]\n",
      "train loss : 2.128723, [epoch:1, iter:1400]\n"
     ]
    },
    {
     "name": "stderr",
     "output_type": "stream",
     "text": [
      "/home/qkrwnstj/anaconda3/envs/qkrwnstj/lib/python3.9/site-packages/PIL/TiffImagePlugin.py:858: UserWarning: Corrupt EXIF data.  Expecting to read 2 bytes but only got 0. \n",
      "  warnings.warn(str(msg))\n"
     ]
    },
    {
     "name": "stdout",
     "output_type": "stream",
     "text": [
      "train loss : 2.111047, [epoch:1, iter:1500]\n"
     ]
    },
    {
     "name": "stderr",
     "output_type": "stream",
     "text": [
      "/home/qkrwnstj/anaconda3/envs/qkrwnstj/lib/python3.9/site-packages/PIL/TiffImagePlugin.py:858: UserWarning: Corrupt EXIF data.  Expecting to read 2 bytes but only got 0. \n",
      "  warnings.warn(str(msg))\n"
     ]
    },
    {
     "name": "stdout",
     "output_type": "stream",
     "text": [
      "train loss : 2.093915, [epoch:1, iter:1600]\n",
      "train loss : 2.078516, [epoch:1, iter:1700]\n",
      "train loss : 2.067300, [epoch:1, iter:1800]\n",
      "train loss : 2.055543, [epoch:1, iter:1900]\n",
      "TRAIN ACCURACY : 34.9% [21500/61664]\n",
      "TEST ACCURACY : 33.2% [3876/11680]\n",
      "...MODEL SAVE...\n"
     ]
    },
    {
     "name": "stderr",
     "output_type": "stream",
     "text": [
      "Train:   2%|▌                          | 1/50 [12:49<10:28:38, 769.77s/it]"
     ]
    },
    {
     "name": "stdout",
     "output_type": "stream",
     "text": [
      "\n",
      "EPOCH:1 | train loss : 2.053128081649836, test loss : 1.9903012027479199\n",
      "\n",
      "EPOCH 2 \n",
      "-------------------------\n",
      "train loss : 1.710936, [epoch:2, iter:0]\n",
      "train loss : 1.721779, [epoch:2, iter:100]\n",
      "train loss : 1.752126, [epoch:2, iter:200]\n",
      "train loss : 1.782069, [epoch:2, iter:300]\n",
      "train loss : 1.788800, [epoch:2, iter:400]\n"
     ]
    },
    {
     "name": "stderr",
     "output_type": "stream",
     "text": [
      "/home/qkrwnstj/anaconda3/envs/qkrwnstj/lib/python3.9/site-packages/PIL/TiffImagePlugin.py:858: UserWarning: Corrupt EXIF data.  Expecting to read 2 bytes but only got 0. \n",
      "  warnings.warn(str(msg))\n"
     ]
    },
    {
     "name": "stdout",
     "output_type": "stream",
     "text": [
      "train loss : 1.789648, [epoch:2, iter:500]\n",
      "train loss : 1.786129, [epoch:2, iter:600]\n",
      "train loss : 1.783942, [epoch:2, iter:700]\n"
     ]
    },
    {
     "name": "stderr",
     "output_type": "stream",
     "text": [
      "/home/qkrwnstj/anaconda3/envs/qkrwnstj/lib/python3.9/site-packages/PIL/TiffImagePlugin.py:858: UserWarning: Corrupt EXIF data.  Expecting to read 2 bytes but only got 0. \n",
      "  warnings.warn(str(msg))\n"
     ]
    },
    {
     "name": "stdout",
     "output_type": "stream",
     "text": [
      "train loss : 1.786121, [epoch:2, iter:800]\n",
      "train loss : 1.784761, [epoch:2, iter:900]\n",
      "train loss : 1.778782, [epoch:2, iter:1000]\n",
      "train loss : 1.774797, [epoch:2, iter:1100]\n",
      "train loss : 1.780511, [epoch:2, iter:1200]\n",
      "train loss : 1.780678, [epoch:2, iter:1300]\n",
      "train loss : 1.777257, [epoch:2, iter:1400]\n",
      "train loss : 1.776594, [epoch:2, iter:1500]\n",
      "train loss : 1.774948, [epoch:2, iter:1600]\n",
      "train loss : 1.776039, [epoch:2, iter:1700]\n",
      "train loss : 1.773749, [epoch:2, iter:1800]\n",
      "train loss : 1.771573, [epoch:2, iter:1900]\n",
      "TRAIN ACCURACY : 42.1% [25943/61664]\n",
      "TEST ACCURACY : 36.4% [4254/11680]\n",
      "...MODEL SAVE...\n"
     ]
    },
    {
     "name": "stderr",
     "output_type": "stream",
     "text": [
      "Train:   4%|█                          | 2/50 [26:17<10:33:45, 792.19s/it]"
     ]
    },
    {
     "name": "stdout",
     "output_type": "stream",
     "text": [
      "\n",
      "EPOCH:2 | train loss : 1.7710008882276123, test loss : 1.8282633448300296\n",
      "\n",
      "EPOCH 3 \n",
      "-------------------------\n",
      "train loss : 1.902963, [epoch:3, iter:0]\n"
     ]
    },
    {
     "name": "stderr",
     "output_type": "stream",
     "text": [
      "/home/qkrwnstj/anaconda3/envs/qkrwnstj/lib/python3.9/site-packages/PIL/TiffImagePlugin.py:858: UserWarning: Corrupt EXIF data.  Expecting to read 2 bytes but only got 0. \n",
      "  warnings.warn(str(msg))\n"
     ]
    },
    {
     "name": "stdout",
     "output_type": "stream",
     "text": [
      "train loss : 1.723370, [epoch:3, iter:100]\n",
      "train loss : 1.722917, [epoch:3, iter:200]\n",
      "train loss : 1.742901, [epoch:3, iter:300]\n",
      "train loss : 1.733600, [epoch:3, iter:400]\n",
      "train loss : 1.732497, [epoch:3, iter:500]\n",
      "train loss : 1.731601, [epoch:3, iter:600]\n",
      "train loss : 1.736670, [epoch:3, iter:700]\n",
      "train loss : 1.744356, [epoch:3, iter:800]\n",
      "train loss : 1.744848, [epoch:3, iter:900]\n",
      "train loss : 1.750370, [epoch:3, iter:1000]\n",
      "train loss : 1.745218, [epoch:3, iter:1100]\n",
      "train loss : 1.746155, [epoch:3, iter:1200]\n",
      "train loss : 1.745581, [epoch:3, iter:1300]\n",
      "train loss : 1.744855, [epoch:3, iter:1400]\n",
      "train loss : 1.743428, [epoch:3, iter:1500]\n"
     ]
    },
    {
     "name": "stderr",
     "output_type": "stream",
     "text": [
      "/home/qkrwnstj/anaconda3/envs/qkrwnstj/lib/python3.9/site-packages/PIL/TiffImagePlugin.py:858: UserWarning: Corrupt EXIF data.  Expecting to read 2 bytes but only got 0. \n",
      "  warnings.warn(str(msg))\n"
     ]
    },
    {
     "name": "stdout",
     "output_type": "stream",
     "text": [
      "train loss : 1.741347, [epoch:3, iter:1600]\n",
      "train loss : 1.738366, [epoch:3, iter:1700]\n",
      "train loss : 1.738121, [epoch:3, iter:1800]\n",
      "train loss : 1.738136, [epoch:3, iter:1900]\n",
      "TRAIN ACCURACY : 43.0% [26542/61664]\n"
     ]
    },
    {
     "name": "stderr",
     "output_type": "stream",
     "text": [
      "Train:   6%|█▌                         | 3/50 [39:27<10:19:34, 790.95s/it]"
     ]
    },
    {
     "name": "stdout",
     "output_type": "stream",
     "text": [
      "TEST ACCURACY : 29.9% [3496/11680]\n",
      "\n",
      "EPOCH:3 | train loss : 1.7385206127265729, test loss : 2.093701045807094\n",
      "\n",
      "EPOCH 4 \n",
      "-------------------------\n",
      "train loss : 1.967705, [epoch:4, iter:0]\n"
     ]
    },
    {
     "name": "stderr",
     "output_type": "stream",
     "text": [
      "/home/qkrwnstj/anaconda3/envs/qkrwnstj/lib/python3.9/site-packages/PIL/TiffImagePlugin.py:858: UserWarning: Corrupt EXIF data.  Expecting to read 2 bytes but only got 0. \n",
      "  warnings.warn(str(msg))\n"
     ]
    },
    {
     "name": "stdout",
     "output_type": "stream",
     "text": [
      "train loss : 1.669702, [epoch:4, iter:100]\n",
      "train loss : 1.711328, [epoch:4, iter:200]\n",
      "train loss : 1.720373, [epoch:4, iter:300]\n",
      "train loss : 1.713435, [epoch:4, iter:400]\n",
      "train loss : 1.712151, [epoch:4, iter:500]\n",
      "train loss : 1.718989, [epoch:4, iter:600]\n",
      "train loss : 1.716361, [epoch:4, iter:700]\n",
      "train loss : 1.718497, [epoch:4, iter:800]\n",
      "train loss : 1.715844, [epoch:4, iter:900]\n",
      "train loss : 1.717149, [epoch:4, iter:1000]\n",
      "train loss : 1.718407, [epoch:4, iter:1100]\n",
      "train loss : 1.721066, [epoch:4, iter:1200]\n"
     ]
    },
    {
     "name": "stderr",
     "output_type": "stream",
     "text": [
      "/home/qkrwnstj/anaconda3/envs/qkrwnstj/lib/python3.9/site-packages/PIL/TiffImagePlugin.py:858: UserWarning: Corrupt EXIF data.  Expecting to read 2 bytes but only got 0. \n",
      "  warnings.warn(str(msg))\n"
     ]
    },
    {
     "name": "stdout",
     "output_type": "stream",
     "text": [
      "train loss : 1.721322, [epoch:4, iter:1300]\n",
      "train loss : 1.723430, [epoch:4, iter:1400]\n",
      "train loss : 1.723589, [epoch:4, iter:1500]\n",
      "train loss : 1.721268, [epoch:4, iter:1600]\n",
      "train loss : 1.716329, [epoch:4, iter:1700]\n",
      "train loss : 1.714417, [epoch:4, iter:1800]\n",
      "train loss : 1.715896, [epoch:4, iter:1900]\n",
      "TRAIN ACCURACY : 43.5% [26846/61664]\n"
     ]
    },
    {
     "name": "stderr",
     "output_type": "stream",
     "text": [
      "Train:   8%|██▏                        | 4/50 [52:22<10:01:48, 784.98s/it]"
     ]
    },
    {
     "name": "stdout",
     "output_type": "stream",
     "text": [
      "TEST ACCURACY : 38.6% [4504/11680]\n",
      "\n",
      "EPOCH:4 | train loss : 1.7161121179417866, test loss : 1.8588132492483478\n",
      "\n",
      "EPOCH 5 \n",
      "-------------------------\n",
      "train loss : 1.806285, [epoch:5, iter:0]\n"
     ]
    },
    {
     "name": "stderr",
     "output_type": "stream",
     "text": [
      "/home/qkrwnstj/anaconda3/envs/qkrwnstj/lib/python3.9/site-packages/PIL/TiffImagePlugin.py:858: UserWarning: Corrupt EXIF data.  Expecting to read 2 bytes but only got 0. \n",
      "  warnings.warn(str(msg))\n"
     ]
    },
    {
     "name": "stdout",
     "output_type": "stream",
     "text": [
      "train loss : 1.713833, [epoch:5, iter:100]\n",
      "train loss : 1.695452, [epoch:5, iter:200]\n",
      "train loss : 1.706834, [epoch:5, iter:300]\n",
      "train loss : 1.705563, [epoch:5, iter:400]\n",
      "train loss : 1.715831, [epoch:5, iter:500]\n",
      "train loss : 1.719632, [epoch:5, iter:600]\n",
      "train loss : 1.723486, [epoch:5, iter:700]\n"
     ]
    },
    {
     "name": "stderr",
     "output_type": "stream",
     "text": [
      "/home/qkrwnstj/anaconda3/envs/qkrwnstj/lib/python3.9/site-packages/PIL/TiffImagePlugin.py:858: UserWarning: Corrupt EXIF data.  Expecting to read 2 bytes but only got 0. \n",
      "  warnings.warn(str(msg))\n"
     ]
    },
    {
     "name": "stdout",
     "output_type": "stream",
     "text": [
      "train loss : 1.731537, [epoch:5, iter:800]\n",
      "train loss : 1.730464, [epoch:5, iter:900]\n",
      "train loss : 1.725698, [epoch:5, iter:1000]\n",
      "train loss : 1.726350, [epoch:5, iter:1100]\n",
      "train loss : 1.720877, [epoch:5, iter:1200]\n",
      "train loss : 1.716981, [epoch:5, iter:1300]\n",
      "train loss : 1.713552, [epoch:5, iter:1400]\n",
      "train loss : 1.712253, [epoch:5, iter:1500]\n",
      "train loss : 1.713354, [epoch:5, iter:1600]\n",
      "train loss : 1.712842, [epoch:5, iter:1700]\n",
      "train loss : 1.710658, [epoch:5, iter:1800]\n",
      "train loss : 1.710351, [epoch:5, iter:1900]\n",
      "TRAIN ACCURACY : 43.9% [27092/61664]\n"
     ]
    },
    {
     "name": "stderr",
     "output_type": "stream",
     "text": [
      "Train:  10%|██▌                       | 5/50 [1:05:40<9:52:13, 789.64s/it]"
     ]
    },
    {
     "name": "stdout",
     "output_type": "stream",
     "text": [
      "TEST ACCURACY : 34.4% [4017/11680]\n",
      "\n",
      "EPOCH:5 | train loss : 1.7103244001591955, test loss : 1.928216054994766\n",
      "\n",
      "EPOCH 6 \n",
      "-------------------------\n",
      "train loss : 1.738185, [epoch:6, iter:0]\n",
      "train loss : 1.786604, [epoch:6, iter:100]\n",
      "train loss : 1.776821, [epoch:6, iter:200]\n",
      "train loss : 1.744077, [epoch:6, iter:300]\n",
      "train loss : 1.745787, [epoch:6, iter:400]\n",
      "train loss : 1.765644, [epoch:6, iter:500]\n"
     ]
    },
    {
     "name": "stderr",
     "output_type": "stream",
     "text": [
      "/home/qkrwnstj/anaconda3/envs/qkrwnstj/lib/python3.9/site-packages/PIL/TiffImagePlugin.py:858: UserWarning: Corrupt EXIF data.  Expecting to read 2 bytes but only got 0. \n",
      "  warnings.warn(str(msg))\n"
     ]
    },
    {
     "name": "stdout",
     "output_type": "stream",
     "text": [
      "train loss : 1.800751, [epoch:6, iter:600]\n",
      "train loss : 1.787893, [epoch:6, iter:700]\n",
      "train loss : 1.785790, [epoch:6, iter:800]\n",
      "train loss : 1.775407, [epoch:6, iter:900]\n",
      "train loss : 1.767922, [epoch:6, iter:1000]\n",
      "train loss : 1.758299, [epoch:6, iter:1100]\n"
     ]
    },
    {
     "name": "stderr",
     "output_type": "stream",
     "text": [
      "/home/qkrwnstj/anaconda3/envs/qkrwnstj/lib/python3.9/site-packages/PIL/TiffImagePlugin.py:858: UserWarning: Corrupt EXIF data.  Expecting to read 2 bytes but only got 0. \n",
      "  warnings.warn(str(msg))\n"
     ]
    },
    {
     "name": "stdout",
     "output_type": "stream",
     "text": [
      "train loss : 1.755119, [epoch:6, iter:1200]\n",
      "train loss : 1.748205, [epoch:6, iter:1300]\n",
      "train loss : 1.744912, [epoch:6, iter:1400]\n",
      "train loss : 1.745381, [epoch:6, iter:1500]\n",
      "train loss : 1.743100, [epoch:6, iter:1600]\n",
      "train loss : 1.743513, [epoch:6, iter:1700]\n",
      "train loss : 1.742733, [epoch:6, iter:1800]\n",
      "train loss : 1.743112, [epoch:6, iter:1900]\n",
      "TRAIN ACCURACY : 43.1% [26574/61664]\n"
     ]
    },
    {
     "name": "stderr",
     "output_type": "stream",
     "text": [
      "Train:  12%|███                       | 6/50 [1:18:30<9:34:09, 782.93s/it]"
     ]
    },
    {
     "name": "stdout",
     "output_type": "stream",
     "text": [
      "TEST ACCURACY : 38.0% [4443/11680]\n",
      "\n",
      "EPOCH:6 | train loss : 1.7413981361097168, test loss : 1.8981100366540151\n",
      "\n",
      "EPOCH 7 \n",
      "-------------------------\n",
      "train loss : 1.506591, [epoch:7, iter:0]\n"
     ]
    },
    {
     "name": "stderr",
     "output_type": "stream",
     "text": [
      "/home/qkrwnstj/anaconda3/envs/qkrwnstj/lib/python3.9/site-packages/PIL/TiffImagePlugin.py:858: UserWarning: Corrupt EXIF data.  Expecting to read 2 bytes but only got 0. \n",
      "  warnings.warn(str(msg))\n"
     ]
    },
    {
     "name": "stdout",
     "output_type": "stream",
     "text": [
      "train loss : 1.676782, [epoch:7, iter:100]\n",
      "train loss : 1.682224, [epoch:7, iter:200]\n",
      "train loss : 1.688882, [epoch:7, iter:300]\n",
      "train loss : 1.691570, [epoch:7, iter:400]\n"
     ]
    },
    {
     "name": "stderr",
     "output_type": "stream",
     "text": [
      "/home/qkrwnstj/anaconda3/envs/qkrwnstj/lib/python3.9/site-packages/PIL/TiffImagePlugin.py:858: UserWarning: Corrupt EXIF data.  Expecting to read 2 bytes but only got 0. \n",
      "  warnings.warn(str(msg))\n"
     ]
    },
    {
     "name": "stdout",
     "output_type": "stream",
     "text": [
      "train loss : 1.686497, [epoch:7, iter:500]\n",
      "train loss : 1.687487, [epoch:7, iter:600]\n",
      "train loss : 1.684093, [epoch:7, iter:700]\n",
      "train loss : 1.682566, [epoch:7, iter:800]\n",
      "train loss : 1.682544, [epoch:7, iter:900]\n",
      "train loss : 1.680478, [epoch:7, iter:1000]\n",
      "train loss : 1.687532, [epoch:7, iter:1100]\n",
      "train loss : 1.691216, [epoch:7, iter:1200]\n",
      "train loss : 1.694065, [epoch:7, iter:1300]\n",
      "train loss : 1.694662, [epoch:7, iter:1400]\n",
      "train loss : 1.697906, [epoch:7, iter:1500]\n",
      "train loss : 1.698455, [epoch:7, iter:1600]\n",
      "train loss : 1.698934, [epoch:7, iter:1700]\n",
      "train loss : 1.697403, [epoch:7, iter:1800]\n",
      "train loss : 1.698809, [epoch:7, iter:1900]\n",
      "TRAIN ACCURACY : 44.3% [27333/61664]\n"
     ]
    },
    {
     "name": "stderr",
     "output_type": "stream",
     "text": [
      "Train:  14%|███▋                      | 7/50 [1:31:47<9:24:26, 787.59s/it]"
     ]
    },
    {
     "name": "stdout",
     "output_type": "stream",
     "text": [
      "TEST ACCURACY : 33.0% [3859/11680]\n",
      "\n",
      "EPOCH:7 | train loss : 1.7006838363133754, test loss : 1.9837523016211105\n",
      "\n",
      "EPOCH 8 \n",
      "-------------------------\n",
      "train loss : 1.386612, [epoch:8, iter:0]\n",
      "train loss : 1.769061, [epoch:8, iter:100]\n"
     ]
    },
    {
     "name": "stderr",
     "output_type": "stream",
     "text": [
      "/home/qkrwnstj/anaconda3/envs/qkrwnstj/lib/python3.9/site-packages/PIL/TiffImagePlugin.py:858: UserWarning: Corrupt EXIF data.  Expecting to read 2 bytes but only got 0. \n",
      "  warnings.warn(str(msg))\n",
      "/home/qkrwnstj/anaconda3/envs/qkrwnstj/lib/python3.9/site-packages/PIL/TiffImagePlugin.py:858: UserWarning: Corrupt EXIF data.  Expecting to read 2 bytes but only got 0. \n",
      "  warnings.warn(str(msg))\n"
     ]
    },
    {
     "name": "stdout",
     "output_type": "stream",
     "text": [
      "train loss : 1.698015, [epoch:8, iter:200]\n",
      "train loss : 1.696420, [epoch:8, iter:300]\n",
      "train loss : 1.709078, [epoch:8, iter:400]\n",
      "train loss : 1.705770, [epoch:8, iter:500]\n",
      "train loss : 1.702973, [epoch:8, iter:600]\n",
      "train loss : 1.727311, [epoch:8, iter:700]\n",
      "train loss : 1.724784, [epoch:8, iter:800]\n",
      "train loss : 1.728723, [epoch:8, iter:900]\n",
      "train loss : 1.729791, [epoch:8, iter:1000]\n",
      "train loss : 1.729850, [epoch:8, iter:1100]\n",
      "train loss : 1.728175, [epoch:8, iter:1200]\n",
      "train loss : 1.729376, [epoch:8, iter:1300]\n",
      "train loss : 1.731138, [epoch:8, iter:1400]\n",
      "train loss : 1.731047, [epoch:8, iter:1500]\n",
      "train loss : 1.729860, [epoch:8, iter:1600]\n",
      "train loss : 1.734635, [epoch:8, iter:1700]\n",
      "train loss : 1.734508, [epoch:8, iter:1800]\n",
      "train loss : 1.732628, [epoch:8, iter:1900]\n",
      "TRAIN ACCURACY : 43.1% [26600/61664]\n"
     ]
    },
    {
     "name": "stderr",
     "output_type": "stream",
     "text": [
      "Train:  16%|████▏                     | 8/50 [1:44:40<9:07:56, 782.77s/it]"
     ]
    },
    {
     "name": "stdout",
     "output_type": "stream",
     "text": [
      "TEST ACCURACY : 34.1% [3986/11680]\n",
      "\n",
      "EPOCH:8 | train loss : 1.7327358114577107, test loss : 1.9354431887195536\n",
      "\n",
      "EPOCH 9 \n",
      "-------------------------\n",
      "train loss : 1.830113, [epoch:9, iter:0]\n",
      "train loss : 1.699496, [epoch:9, iter:100]\n",
      "train loss : 1.713242, [epoch:9, iter:200]\n",
      "train loss : 1.707245, [epoch:9, iter:300]\n",
      "train loss : 1.705588, [epoch:9, iter:400]\n",
      "train loss : 1.701437, [epoch:9, iter:500]\n",
      "train loss : 1.704940, [epoch:9, iter:600]\n",
      "train loss : 1.725732, [epoch:9, iter:700]\n",
      "train loss : 1.737128, [epoch:9, iter:800]\n",
      "train loss : 1.739299, [epoch:9, iter:900]\n"
     ]
    },
    {
     "name": "stderr",
     "output_type": "stream",
     "text": [
      "/home/qkrwnstj/anaconda3/envs/qkrwnstj/lib/python3.9/site-packages/PIL/TiffImagePlugin.py:858: UserWarning: Corrupt EXIF data.  Expecting to read 2 bytes but only got 0. \n",
      "  warnings.warn(str(msg))\n"
     ]
    },
    {
     "name": "stdout",
     "output_type": "stream",
     "text": [
      "train loss : 1.743237, [epoch:9, iter:1000]\n",
      "train loss : 1.740888, [epoch:9, iter:1100]\n"
     ]
    },
    {
     "name": "stderr",
     "output_type": "stream",
     "text": [
      "/home/qkrwnstj/anaconda3/envs/qkrwnstj/lib/python3.9/site-packages/PIL/TiffImagePlugin.py:858: UserWarning: Corrupt EXIF data.  Expecting to read 2 bytes but only got 0. \n",
      "  warnings.warn(str(msg))\n"
     ]
    },
    {
     "name": "stdout",
     "output_type": "stream",
     "text": [
      "train loss : 1.743799, [epoch:9, iter:1200]\n",
      "train loss : 1.741489, [epoch:9, iter:1300]\n",
      "train loss : 1.742313, [epoch:9, iter:1400]\n",
      "train loss : 1.740910, [epoch:9, iter:1500]\n",
      "train loss : 1.738993, [epoch:9, iter:1600]\n",
      "train loss : 1.737913, [epoch:9, iter:1700]\n",
      "train loss : 1.736461, [epoch:9, iter:1800]\n",
      "train loss : 1.736215, [epoch:9, iter:1900]\n",
      "TRAIN ACCURACY : 42.7% [26324/61664]\n"
     ]
    },
    {
     "name": "stderr",
     "output_type": "stream",
     "text": [
      "Train:  18%|████▋                     | 9/50 [1:58:01<8:58:43, 788.38s/it]"
     ]
    },
    {
     "name": "stdout",
     "output_type": "stream",
     "text": [
      "TEST ACCURACY : 35.5% [4147/11680]\n",
      "\n",
      "EPOCH:9 | train loss : 1.7354581997564065, test loss : 1.907561777062612\n",
      "\n",
      "EPOCH 10 \n",
      "-------------------------\n",
      "train loss : 1.721208, [epoch:10, iter:0]\n",
      "train loss : 1.710098, [epoch:10, iter:100]\n",
      "train loss : 1.710164, [epoch:10, iter:200]\n"
     ]
    },
    {
     "name": "stderr",
     "output_type": "stream",
     "text": [
      "/home/qkrwnstj/anaconda3/envs/qkrwnstj/lib/python3.9/site-packages/PIL/TiffImagePlugin.py:858: UserWarning: Corrupt EXIF data.  Expecting to read 2 bytes but only got 0. \n",
      "  warnings.warn(str(msg))\n"
     ]
    },
    {
     "name": "stdout",
     "output_type": "stream",
     "text": [
      "train loss : 1.719465, [epoch:10, iter:300]\n",
      "train loss : 1.724867, [epoch:10, iter:400]\n",
      "train loss : 1.719051, [epoch:10, iter:500]\n",
      "train loss : 1.711704, [epoch:10, iter:600]\n",
      "train loss : 1.710628, [epoch:10, iter:700]\n",
      "train loss : 1.713332, [epoch:10, iter:800]\n",
      "train loss : 1.713511, [epoch:10, iter:900]\n",
      "train loss : 1.710580, [epoch:10, iter:1000]\n",
      "train loss : 1.708298, [epoch:10, iter:1100]\n",
      "train loss : 1.712334, [epoch:10, iter:1200]\n",
      "train loss : 1.712486, [epoch:10, iter:1300]\n",
      "train loss : 1.711650, [epoch:10, iter:1400]\n",
      "train loss : 1.711063, [epoch:10, iter:1500]\n",
      "train loss : 1.712071, [epoch:10, iter:1600]\n"
     ]
    },
    {
     "name": "stderr",
     "output_type": "stream",
     "text": [
      "/home/qkrwnstj/anaconda3/envs/qkrwnstj/lib/python3.9/site-packages/PIL/TiffImagePlugin.py:858: UserWarning: Corrupt EXIF data.  Expecting to read 2 bytes but only got 0. \n",
      "  warnings.warn(str(msg))\n"
     ]
    },
    {
     "name": "stdout",
     "output_type": "stream",
     "text": [
      "train loss : 1.714101, [epoch:10, iter:1700]\n",
      "train loss : 1.714240, [epoch:10, iter:1800]\n",
      "train loss : 1.714900, [epoch:10, iter:1900]\n",
      "TRAIN ACCURACY : 43.5% [26801/61664]\n"
     ]
    },
    {
     "name": "stderr",
     "output_type": "stream",
     "text": [
      "Train:  20%|█████                    | 10/50 [2:11:01<8:43:56, 785.90s/it]"
     ]
    },
    {
     "name": "stdout",
     "output_type": "stream",
     "text": [
      "TEST ACCURACY : 34.7% [4053/11680]\n",
      "\n",
      "EPOCH:10 | train loss : 1.716200446643295, test loss : 1.8968149910234424\n",
      "\n",
      "EPOCH 11 \n",
      "-------------------------\n",
      "train loss : 1.153486, [epoch:11, iter:0]\n",
      "train loss : 1.702254, [epoch:11, iter:100]\n",
      "train loss : 1.683199, [epoch:11, iter:200]\n",
      "train loss : 1.705127, [epoch:11, iter:300]\n",
      "train loss : 1.686488, [epoch:11, iter:400]\n"
     ]
    },
    {
     "name": "stderr",
     "output_type": "stream",
     "text": [
      "/home/qkrwnstj/anaconda3/envs/qkrwnstj/lib/python3.9/site-packages/PIL/TiffImagePlugin.py:858: UserWarning: Corrupt EXIF data.  Expecting to read 2 bytes but only got 0. \n",
      "  warnings.warn(str(msg))\n"
     ]
    },
    {
     "name": "stdout",
     "output_type": "stream",
     "text": [
      "train loss : 1.690428, [epoch:11, iter:500]\n",
      "train loss : 1.693916, [epoch:11, iter:600]\n",
      "train loss : 1.694609, [epoch:11, iter:700]\n",
      "train loss : 1.693412, [epoch:11, iter:800]\n",
      "train loss : 1.696263, [epoch:11, iter:900]\n",
      "train loss : 1.701020, [epoch:11, iter:1000]\n"
     ]
    },
    {
     "name": "stderr",
     "output_type": "stream",
     "text": [
      "/home/qkrwnstj/anaconda3/envs/qkrwnstj/lib/python3.9/site-packages/PIL/TiffImagePlugin.py:858: UserWarning: Corrupt EXIF data.  Expecting to read 2 bytes but only got 0. \n",
      "  warnings.warn(str(msg))\n"
     ]
    },
    {
     "name": "stdout",
     "output_type": "stream",
     "text": [
      "train loss : 1.698976, [epoch:11, iter:1100]\n",
      "train loss : 1.701642, [epoch:11, iter:1200]\n",
      "train loss : 1.716904, [epoch:11, iter:1300]\n",
      "train loss : 1.715546, [epoch:11, iter:1400]\n",
      "train loss : 1.714555, [epoch:11, iter:1500]\n",
      "train loss : 1.711784, [epoch:11, iter:1600]\n",
      "train loss : 1.710755, [epoch:11, iter:1700]\n",
      "train loss : 1.710679, [epoch:11, iter:1800]\n",
      "train loss : 1.711552, [epoch:11, iter:1900]\n",
      "TRAIN ACCURACY : 43.5% [26802/61664]\n"
     ]
    },
    {
     "name": "stderr",
     "output_type": "stream",
     "text": [
      "Train:  22%|█████▌                   | 11/50 [2:24:13<8:31:59, 787.67s/it]"
     ]
    },
    {
     "name": "stdout",
     "output_type": "stream",
     "text": [
      "TEST ACCURACY : 33.3% [3891/11680]\n",
      "\n",
      "EPOCH:11 | train loss : 1.7115991153615586, test loss : 2.0323571257395288\n",
      "\n",
      "EPOCH 12 \n",
      "-------------------------\n",
      "train loss : 1.761960, [epoch:12, iter:0]\n"
     ]
    },
    {
     "name": "stderr",
     "output_type": "stream",
     "text": [
      "/home/qkrwnstj/anaconda3/envs/qkrwnstj/lib/python3.9/site-packages/PIL/TiffImagePlugin.py:858: UserWarning: Corrupt EXIF data.  Expecting to read 2 bytes but only got 0. \n",
      "  warnings.warn(str(msg))\n"
     ]
    },
    {
     "name": "stdout",
     "output_type": "stream",
     "text": [
      "train loss : 1.650135, [epoch:12, iter:100]\n",
      "train loss : 1.645839, [epoch:12, iter:200]\n",
      "train loss : 1.657316, [epoch:12, iter:300]\n",
      "train loss : 1.680223, [epoch:12, iter:400]\n",
      "train loss : 1.690340, [epoch:12, iter:500]\n",
      "train loss : 1.700174, [epoch:12, iter:600]\n"
     ]
    },
    {
     "name": "stderr",
     "output_type": "stream",
     "text": [
      "/home/qkrwnstj/anaconda3/envs/qkrwnstj/lib/python3.9/site-packages/PIL/TiffImagePlugin.py:858: UserWarning: Corrupt EXIF data.  Expecting to read 2 bytes but only got 0. \n",
      "  warnings.warn(str(msg))\n"
     ]
    },
    {
     "name": "stdout",
     "output_type": "stream",
     "text": [
      "train loss : 1.698742, [epoch:12, iter:700]\n",
      "train loss : 1.697321, [epoch:12, iter:800]\n",
      "train loss : 1.693914, [epoch:12, iter:900]\n",
      "train loss : 1.699691, [epoch:12, iter:1000]\n",
      "train loss : 1.700444, [epoch:12, iter:1100]\n",
      "train loss : 1.695975, [epoch:12, iter:1200]\n",
      "train loss : 1.698041, [epoch:12, iter:1300]\n",
      "train loss : 1.701216, [epoch:12, iter:1400]\n",
      "train loss : 1.702727, [epoch:12, iter:1500]\n",
      "train loss : 1.701043, [epoch:12, iter:1600]\n",
      "train loss : 1.700786, [epoch:12, iter:1700]\n",
      "train loss : 1.701157, [epoch:12, iter:1800]\n",
      "train loss : 1.703382, [epoch:12, iter:1900]\n",
      "TRAIN ACCURACY : 43.9% [27084/61664]\n"
     ]
    },
    {
     "name": "stderr",
     "output_type": "stream",
     "text": [
      "Train:  24%|██████                   | 12/50 [2:36:49<8:12:52, 778.23s/it]"
     ]
    },
    {
     "name": "stdout",
     "output_type": "stream",
     "text": [
      "TEST ACCURACY : 34.4% [4023/11680]\n",
      "\n",
      "EPOCH:12 | train loss : 1.7035228341245627, test loss : 1.9724742357045004\n",
      "\n",
      "EPOCH 13 \n",
      "-------------------------\n",
      "train loss : 1.586499, [epoch:13, iter:0]\n",
      "train loss : 1.684003, [epoch:13, iter:100]\n",
      "train loss : 1.690240, [epoch:13, iter:200]\n",
      "train loss : 1.681877, [epoch:13, iter:300]\n"
     ]
    },
    {
     "name": "stderr",
     "output_type": "stream",
     "text": [
      "/home/qkrwnstj/anaconda3/envs/qkrwnstj/lib/python3.9/site-packages/PIL/TiffImagePlugin.py:858: UserWarning: Corrupt EXIF data.  Expecting to read 2 bytes but only got 0. \n",
      "  warnings.warn(str(msg))\n"
     ]
    },
    {
     "name": "stdout",
     "output_type": "stream",
     "text": [
      "train loss : 1.687217, [epoch:13, iter:400]\n",
      "train loss : 1.693784, [epoch:13, iter:500]\n"
     ]
    },
    {
     "name": "stderr",
     "output_type": "stream",
     "text": [
      "/home/qkrwnstj/anaconda3/envs/qkrwnstj/lib/python3.9/site-packages/PIL/TiffImagePlugin.py:858: UserWarning: Corrupt EXIF data.  Expecting to read 2 bytes but only got 0. \n",
      "  warnings.warn(str(msg))\n"
     ]
    },
    {
     "name": "stdout",
     "output_type": "stream",
     "text": [
      "train loss : 1.703499, [epoch:13, iter:600]\n",
      "train loss : 1.708185, [epoch:13, iter:700]\n",
      "train loss : 1.709594, [epoch:13, iter:800]\n",
      "train loss : 1.706706, [epoch:13, iter:900]\n",
      "train loss : 1.705615, [epoch:13, iter:1000]\n",
      "train loss : 1.709895, [epoch:13, iter:1100]\n",
      "train loss : 1.705364, [epoch:13, iter:1200]\n",
      "train loss : 1.703886, [epoch:13, iter:1300]\n",
      "train loss : 1.708713, [epoch:13, iter:1400]\n",
      "train loss : 1.709344, [epoch:13, iter:1500]\n",
      "train loss : 1.709289, [epoch:13, iter:1600]\n",
      "train loss : 1.714318, [epoch:13, iter:1700]\n",
      "train loss : 1.712625, [epoch:13, iter:1800]\n",
      "train loss : 1.710129, [epoch:13, iter:1900]\n",
      "TRAIN ACCURACY : 43.6% [26893/61664]\n"
     ]
    },
    {
     "name": "stderr",
     "output_type": "stream",
     "text": [
      "Train:  26%|██████▌                  | 13/50 [2:50:22<8:06:25, 788.80s/it]"
     ]
    },
    {
     "name": "stdout",
     "output_type": "stream",
     "text": [
      "TEST ACCURACY : 36.7% [4282/11680]\n",
      "\n",
      "EPOCH:13 | train loss : 1.7095576041896663, test loss : 1.898743942992328\n",
      "\n",
      "EPOCH 14 \n",
      "-------------------------\n"
     ]
    },
    {
     "name": "stderr",
     "output_type": "stream",
     "text": [
      "/home/qkrwnstj/anaconda3/envs/qkrwnstj/lib/python3.9/site-packages/PIL/TiffImagePlugin.py:858: UserWarning: Corrupt EXIF data.  Expecting to read 2 bytes but only got 0. \n",
      "  warnings.warn(str(msg))\n"
     ]
    },
    {
     "name": "stdout",
     "output_type": "stream",
     "text": [
      "train loss : 1.964774, [epoch:14, iter:0]\n",
      "train loss : 1.714837, [epoch:14, iter:100]\n",
      "train loss : 1.690358, [epoch:14, iter:200]\n",
      "train loss : 1.701257, [epoch:14, iter:300]\n",
      "train loss : 1.691764, [epoch:14, iter:400]\n",
      "train loss : 1.696784, [epoch:14, iter:500]\n",
      "train loss : 1.697322, [epoch:14, iter:600]\n"
     ]
    },
    {
     "name": "stderr",
     "output_type": "stream",
     "text": [
      "/home/qkrwnstj/anaconda3/envs/qkrwnstj/lib/python3.9/site-packages/PIL/TiffImagePlugin.py:858: UserWarning: Corrupt EXIF data.  Expecting to read 2 bytes but only got 0. \n",
      "  warnings.warn(str(msg))\n"
     ]
    },
    {
     "name": "stdout",
     "output_type": "stream",
     "text": [
      "train loss : 1.692362, [epoch:14, iter:700]\n",
      "train loss : 1.695737, [epoch:14, iter:800]\n",
      "train loss : 1.699638, [epoch:14, iter:900]\n",
      "train loss : 1.696552, [epoch:14, iter:1000]\n",
      "train loss : 1.702828, [epoch:14, iter:1100]\n",
      "train loss : 1.700894, [epoch:14, iter:1200]\n",
      "train loss : 1.699908, [epoch:14, iter:1300]\n",
      "train loss : 1.700838, [epoch:14, iter:1400]\n",
      "train loss : 1.702479, [epoch:14, iter:1500]\n",
      "train loss : 1.705744, [epoch:14, iter:1600]\n",
      "train loss : 1.703185, [epoch:14, iter:1700]\n",
      "train loss : 1.703892, [epoch:14, iter:1800]\n",
      "train loss : 1.705403, [epoch:14, iter:1900]\n",
      "TRAIN ACCURACY : 43.6% [26886/61664]\n"
     ]
    },
    {
     "name": "stderr",
     "output_type": "stream",
     "text": [
      "Train:  28%|███████                  | 14/50 [3:03:19<7:51:04, 785.12s/it]"
     ]
    },
    {
     "name": "stdout",
     "output_type": "stream",
     "text": [
      "TEST ACCURACY : 36.5% [4266/11680]\n",
      "\n",
      "EPOCH:14 | train loss : 1.705494591994303, test loss : 1.8566375484205273\n",
      "\n",
      "EPOCH 15 \n",
      "-------------------------\n",
      "train loss : 1.374366, [epoch:15, iter:0]\n",
      "train loss : 1.663893, [epoch:15, iter:100]\n",
      "train loss : 1.664458, [epoch:15, iter:200]\n",
      "train loss : 1.664940, [epoch:15, iter:300]\n",
      "train loss : 1.669511, [epoch:15, iter:400]\n",
      "train loss : 1.675625, [epoch:15, iter:500]\n",
      "train loss : 1.679567, [epoch:15, iter:600]\n",
      "train loss : 1.688616, [epoch:15, iter:700]\n",
      "train loss : 1.690224, [epoch:15, iter:800]\n"
     ]
    },
    {
     "name": "stderr",
     "output_type": "stream",
     "text": [
      "/home/qkrwnstj/anaconda3/envs/qkrwnstj/lib/python3.9/site-packages/PIL/TiffImagePlugin.py:858: UserWarning: Corrupt EXIF data.  Expecting to read 2 bytes but only got 0. \n",
      "  warnings.warn(str(msg))\n"
     ]
    },
    {
     "name": "stdout",
     "output_type": "stream",
     "text": [
      "train loss : 1.692881, [epoch:15, iter:900]\n"
     ]
    },
    {
     "name": "stderr",
     "output_type": "stream",
     "text": [
      "/home/qkrwnstj/anaconda3/envs/qkrwnstj/lib/python3.9/site-packages/PIL/TiffImagePlugin.py:858: UserWarning: Corrupt EXIF data.  Expecting to read 2 bytes but only got 0. \n",
      "  warnings.warn(str(msg))\n"
     ]
    },
    {
     "name": "stdout",
     "output_type": "stream",
     "text": [
      "train loss : 1.694332, [epoch:15, iter:1000]\n",
      "train loss : 1.692160, [epoch:15, iter:1100]\n",
      "train loss : 1.695638, [epoch:15, iter:1200]\n",
      "train loss : 1.695523, [epoch:15, iter:1300]\n",
      "train loss : 1.694794, [epoch:15, iter:1400]\n",
      "train loss : 1.694187, [epoch:15, iter:1500]\n",
      "train loss : 1.695684, [epoch:15, iter:1600]\n",
      "train loss : 1.696950, [epoch:15, iter:1700]\n",
      "train loss : 1.697602, [epoch:15, iter:1800]\n",
      "train loss : 1.698734, [epoch:15, iter:1900]\n",
      "TRAIN ACCURACY : 44.2% [27276/61664]\n"
     ]
    },
    {
     "name": "stderr",
     "output_type": "stream",
     "text": [
      "Train:  30%|███████▌                 | 15/50 [3:16:25<7:38:05, 785.31s/it]"
     ]
    },
    {
     "name": "stdout",
     "output_type": "stream",
     "text": [
      "TEST ACCURACY : 40.5% [4734/11680]\n",
      "\n",
      "EPOCH:15 | train loss : 1.6991315610556017, test loss : 1.8502039883234729\n",
      "\n",
      "EPOCH 16 \n",
      "-------------------------\n",
      "train loss : 1.783211, [epoch:16, iter:0]\n",
      "train loss : 1.702037, [epoch:16, iter:100]\n"
     ]
    },
    {
     "name": "stderr",
     "output_type": "stream",
     "text": [
      "/home/qkrwnstj/anaconda3/envs/qkrwnstj/lib/python3.9/site-packages/PIL/TiffImagePlugin.py:858: UserWarning: Corrupt EXIF data.  Expecting to read 2 bytes but only got 0. \n",
      "  warnings.warn(str(msg))\n"
     ]
    },
    {
     "name": "stdout",
     "output_type": "stream",
     "text": [
      "train loss : 1.722197, [epoch:16, iter:200]\n",
      "train loss : 1.720532, [epoch:16, iter:300]\n",
      "train loss : 1.709711, [epoch:16, iter:400]\n",
      "train loss : 1.710880, [epoch:16, iter:500]\n",
      "train loss : 1.711920, [epoch:16, iter:600]\n",
      "train loss : 1.705085, [epoch:16, iter:700]\n",
      "train loss : 1.706989, [epoch:16, iter:800]\n",
      "train loss : 1.701766, [epoch:16, iter:900]\n",
      "train loss : 1.699705, [epoch:16, iter:1000]\n",
      "train loss : 1.701385, [epoch:16, iter:1100]\n",
      "train loss : 1.697037, [epoch:16, iter:1200]\n",
      "train loss : 1.696684, [epoch:16, iter:1300]\n",
      "train loss : 1.704899, [epoch:16, iter:1400]\n",
      "train loss : 1.703849, [epoch:16, iter:1500]\n",
      "train loss : 1.704500, [epoch:16, iter:1600]\n"
     ]
    },
    {
     "name": "stderr",
     "output_type": "stream",
     "text": [
      "/home/qkrwnstj/anaconda3/envs/qkrwnstj/lib/python3.9/site-packages/PIL/TiffImagePlugin.py:858: UserWarning: Corrupt EXIF data.  Expecting to read 2 bytes but only got 0. \n",
      "  warnings.warn(str(msg))\n"
     ]
    },
    {
     "name": "stdout",
     "output_type": "stream",
     "text": [
      "train loss : 1.702836, [epoch:16, iter:1700]\n",
      "train loss : 1.703048, [epoch:16, iter:1800]\n",
      "train loss : 1.702605, [epoch:16, iter:1900]\n",
      "TRAIN ACCURACY : 43.9% [27085/61664]\n"
     ]
    },
    {
     "name": "stderr",
     "output_type": "stream",
     "text": [
      "Train:  32%|████████                 | 16/50 [3:29:23<7:23:48, 783.19s/it]"
     ]
    },
    {
     "name": "stdout",
     "output_type": "stream",
     "text": [
      "TEST ACCURACY : 38.8% [4529/11680]\n",
      "\n",
      "EPOCH:16 | train loss : 1.7023512900463336, test loss : 1.9077254670940034\n",
      "\n",
      "EPOCH 17 \n",
      "-------------------------\n"
     ]
    },
    {
     "name": "stderr",
     "output_type": "stream",
     "text": [
      "/home/qkrwnstj/anaconda3/envs/qkrwnstj/lib/python3.9/site-packages/PIL/TiffImagePlugin.py:858: UserWarning: Corrupt EXIF data.  Expecting to read 2 bytes but only got 0. \n",
      "  warnings.warn(str(msg))\n"
     ]
    },
    {
     "name": "stdout",
     "output_type": "stream",
     "text": [
      "train loss : 1.793090, [epoch:17, iter:0]\n",
      "train loss : 1.680575, [epoch:17, iter:100]\n",
      "train loss : 1.676468, [epoch:17, iter:200]\n",
      "train loss : 1.674026, [epoch:17, iter:300]\n",
      "train loss : 1.681480, [epoch:17, iter:400]\n",
      "train loss : 1.674937, [epoch:17, iter:500]\n",
      "train loss : 1.679114, [epoch:17, iter:600]\n",
      "train loss : 1.681212, [epoch:17, iter:700]\n"
     ]
    },
    {
     "name": "stderr",
     "output_type": "stream",
     "text": [
      "/home/qkrwnstj/anaconda3/envs/qkrwnstj/lib/python3.9/site-packages/PIL/TiffImagePlugin.py:858: UserWarning: Corrupt EXIF data.  Expecting to read 2 bytes but only got 0. \n",
      "  warnings.warn(str(msg))\n"
     ]
    },
    {
     "name": "stdout",
     "output_type": "stream",
     "text": [
      "train loss : 1.683971, [epoch:17, iter:800]\n",
      "train loss : 1.681263, [epoch:17, iter:900]\n",
      "train loss : 1.688264, [epoch:17, iter:1000]\n",
      "train loss : 1.691972, [epoch:17, iter:1100]\n",
      "train loss : 1.693396, [epoch:17, iter:1200]\n",
      "train loss : 1.692813, [epoch:17, iter:1300]\n",
      "train loss : 1.695743, [epoch:17, iter:1400]\n",
      "train loss : 1.696615, [epoch:17, iter:1500]\n",
      "train loss : 1.694426, [epoch:17, iter:1600]\n",
      "train loss : 1.696243, [epoch:17, iter:1700]\n",
      "train loss : 1.697412, [epoch:17, iter:1800]\n",
      "train loss : 1.698861, [epoch:17, iter:1900]\n",
      "TRAIN ACCURACY : 44.1% [27212/61664]\n"
     ]
    },
    {
     "name": "stderr",
     "output_type": "stream",
     "text": [
      "Train:  34%|████████▌                | 17/50 [3:42:34<7:12:06, 785.66s/it]"
     ]
    },
    {
     "name": "stdout",
     "output_type": "stream",
     "text": [
      "TEST ACCURACY : 37.8% [4419/11680]\n",
      "\n",
      "EPOCH:17 | train loss : 1.6994794560765503, test loss : 1.8356856721721284\n",
      "\n",
      "EPOCH 18 \n",
      "-------------------------\n",
      "train loss : 1.929664, [epoch:18, iter:0]\n",
      "train loss : 1.637368, [epoch:18, iter:100]\n",
      "train loss : 1.619799, [epoch:18, iter:200]\n",
      "train loss : 1.631889, [epoch:18, iter:300]\n",
      "train loss : 1.644194, [epoch:18, iter:400]\n",
      "train loss : 1.656629, [epoch:18, iter:500]\n",
      "train loss : 1.665611, [epoch:18, iter:600]\n"
     ]
    },
    {
     "name": "stderr",
     "output_type": "stream",
     "text": [
      "/home/qkrwnstj/anaconda3/envs/qkrwnstj/lib/python3.9/site-packages/PIL/TiffImagePlugin.py:858: UserWarning: Corrupt EXIF data.  Expecting to read 2 bytes but only got 0. \n",
      "  warnings.warn(str(msg))\n"
     ]
    },
    {
     "name": "stdout",
     "output_type": "stream",
     "text": [
      "train loss : 1.669010, [epoch:18, iter:700]\n",
      "train loss : 1.675418, [epoch:18, iter:800]\n",
      "train loss : 1.676930, [epoch:18, iter:900]\n",
      "train loss : 1.681206, [epoch:18, iter:1000]\n",
      "train loss : 1.682747, [epoch:18, iter:1100]\n",
      "train loss : 1.686593, [epoch:18, iter:1200]\n",
      "train loss : 1.687165, [epoch:18, iter:1300]\n"
     ]
    },
    {
     "name": "stderr",
     "output_type": "stream",
     "text": [
      "/home/qkrwnstj/anaconda3/envs/qkrwnstj/lib/python3.9/site-packages/PIL/TiffImagePlugin.py:858: UserWarning: Corrupt EXIF data.  Expecting to read 2 bytes but only got 0. \n",
      "  warnings.warn(str(msg))\n"
     ]
    },
    {
     "name": "stdout",
     "output_type": "stream",
     "text": [
      "train loss : 1.691021, [epoch:18, iter:1400]\n",
      "train loss : 1.690200, [epoch:18, iter:1500]\n",
      "train loss : 1.689757, [epoch:18, iter:1600]\n",
      "train loss : 1.692946, [epoch:18, iter:1700]\n",
      "train loss : 1.694142, [epoch:18, iter:1800]\n",
      "train loss : 1.694623, [epoch:18, iter:1900]\n",
      "TRAIN ACCURACY : 44.2% [27248/61664]\n"
     ]
    },
    {
     "name": "stderr",
     "output_type": "stream",
     "text": [
      "Train:  36%|█████████                | 18/50 [3:55:46<6:59:58, 787.45s/it]"
     ]
    },
    {
     "name": "stdout",
     "output_type": "stream",
     "text": [
      "TEST ACCURACY : 39.6% [4625/11680]\n",
      "\n",
      "EPOCH:18 | train loss : 1.6949809811309513, test loss : 1.8373559919122147\n",
      "\n",
      "EPOCH 19 \n",
      "-------------------------\n",
      "train loss : 2.367703, [epoch:19, iter:0]\n",
      "train loss : 1.698357, [epoch:19, iter:100]\n",
      "train loss : 1.691359, [epoch:19, iter:200]\n"
     ]
    },
    {
     "name": "stderr",
     "output_type": "stream",
     "text": [
      "/home/qkrwnstj/anaconda3/envs/qkrwnstj/lib/python3.9/site-packages/PIL/TiffImagePlugin.py:858: UserWarning: Corrupt EXIF data.  Expecting to read 2 bytes but only got 0. \n",
      "  warnings.warn(str(msg))\n"
     ]
    },
    {
     "name": "stdout",
     "output_type": "stream",
     "text": [
      "train loss : 1.674579, [epoch:19, iter:300]\n",
      "train loss : 1.690273, [epoch:19, iter:400]\n",
      "train loss : 1.687633, [epoch:19, iter:500]\n",
      "train loss : 1.694082, [epoch:19, iter:600]\n",
      "train loss : 1.693104, [epoch:19, iter:700]\n",
      "train loss : 1.691418, [epoch:19, iter:800]\n",
      "train loss : 1.695804, [epoch:19, iter:900]\n"
     ]
    },
    {
     "name": "stderr",
     "output_type": "stream",
     "text": [
      "/home/qkrwnstj/anaconda3/envs/qkrwnstj/lib/python3.9/site-packages/PIL/TiffImagePlugin.py:858: UserWarning: Corrupt EXIF data.  Expecting to read 2 bytes but only got 0. \n",
      "  warnings.warn(str(msg))\n"
     ]
    },
    {
     "name": "stdout",
     "output_type": "stream",
     "text": [
      "train loss : 1.696727, [epoch:19, iter:1000]\n",
      "train loss : 1.695170, [epoch:19, iter:1100]\n",
      "train loss : 1.694811, [epoch:19, iter:1200]\n",
      "train loss : 1.696547, [epoch:19, iter:1300]\n",
      "train loss : 1.693546, [epoch:19, iter:1400]\n",
      "train loss : 1.696738, [epoch:19, iter:1500]\n",
      "train loss : 1.699608, [epoch:19, iter:1600]\n",
      "train loss : 1.698874, [epoch:19, iter:1700]\n",
      "train loss : 1.710427, [epoch:19, iter:1800]\n",
      "train loss : 1.716828, [epoch:19, iter:1900]\n",
      "TRAIN ACCURACY : 43.6% [26855/61664]\n"
     ]
    },
    {
     "name": "stderr",
     "output_type": "stream",
     "text": [
      "Train:  38%|█████████▌               | 19/50 [4:07:31<6:34:03, 762.70s/it]"
     ]
    },
    {
     "name": "stdout",
     "output_type": "stream",
     "text": [
      "TEST ACCURACY : 37.9% [4427/11680]\n",
      "\n",
      "EPOCH:19 | train loss : 1.7166154353681722, test loss : 1.8663674236976937\n",
      "\n",
      "EPOCH 20 \n",
      "-------------------------\n"
     ]
    },
    {
     "name": "stderr",
     "output_type": "stream",
     "text": [
      "/home/qkrwnstj/anaconda3/envs/qkrwnstj/lib/python3.9/site-packages/PIL/TiffImagePlugin.py:858: UserWarning: Corrupt EXIF data.  Expecting to read 2 bytes but only got 0. \n",
      "  warnings.warn(str(msg))\n"
     ]
    },
    {
     "name": "stdout",
     "output_type": "stream",
     "text": [
      "train loss : 2.456827, [epoch:20, iter:0]\n",
      "train loss : 1.779268, [epoch:20, iter:100]\n",
      "train loss : 1.729677, [epoch:20, iter:200]\n",
      "train loss : 1.748907, [epoch:20, iter:300]\n"
     ]
    },
    {
     "name": "stderr",
     "output_type": "stream",
     "text": [
      "/home/qkrwnstj/anaconda3/envs/qkrwnstj/lib/python3.9/site-packages/PIL/TiffImagePlugin.py:858: UserWarning: Corrupt EXIF data.  Expecting to read 2 bytes but only got 0. \n",
      "  warnings.warn(str(msg))\n"
     ]
    },
    {
     "name": "stdout",
     "output_type": "stream",
     "text": [
      "train loss : 1.747838, [epoch:20, iter:400]\n",
      "train loss : 1.740845, [epoch:20, iter:500]\n",
      "train loss : 1.728774, [epoch:20, iter:600]\n",
      "train loss : 1.723201, [epoch:20, iter:700]\n",
      "train loss : 1.722245, [epoch:20, iter:800]\n",
      "train loss : 1.720457, [epoch:20, iter:900]\n",
      "train loss : 1.718984, [epoch:20, iter:1000]\n",
      "train loss : 1.718789, [epoch:20, iter:1100]\n",
      "train loss : 1.715441, [epoch:20, iter:1200]\n",
      "train loss : 1.717961, [epoch:20, iter:1300]\n",
      "train loss : 1.717944, [epoch:20, iter:1400]\n",
      "train loss : 1.725850, [epoch:20, iter:1500]\n",
      "train loss : 1.726535, [epoch:20, iter:1600]\n",
      "train loss : 1.725315, [epoch:20, iter:1700]\n",
      "train loss : 1.722131, [epoch:20, iter:1800]\n",
      "train loss : 1.721807, [epoch:20, iter:1900]\n",
      "TRAIN ACCURACY : 43.5% [26823/61664]\n"
     ]
    },
    {
     "name": "stderr",
     "output_type": "stream",
     "text": [
      "Train:  40%|██████████               | 20/50 [4:19:01<6:10:23, 740.79s/it]"
     ]
    },
    {
     "name": "stdout",
     "output_type": "stream",
     "text": [
      "TEST ACCURACY : 37.5% [4382/11680]\n",
      "\n",
      "EPOCH:20 | train loss : 1.7208544193739463, test loss : 1.8334639532925332\n",
      "\n",
      "EPOCH 21 \n",
      "-------------------------\n",
      "train loss : 1.583785, [epoch:21, iter:0]\n",
      "train loss : 1.712806, [epoch:21, iter:100]\n"
     ]
    },
    {
     "name": "stderr",
     "output_type": "stream",
     "text": [
      "/home/qkrwnstj/anaconda3/envs/qkrwnstj/lib/python3.9/site-packages/PIL/TiffImagePlugin.py:858: UserWarning: Corrupt EXIF data.  Expecting to read 2 bytes but only got 0. \n",
      "  warnings.warn(str(msg))\n"
     ]
    },
    {
     "name": "stdout",
     "output_type": "stream",
     "text": [
      "train loss : 1.692086, [epoch:21, iter:200]\n"
     ]
    },
    {
     "name": "stderr",
     "output_type": "stream",
     "text": [
      "/home/qkrwnstj/anaconda3/envs/qkrwnstj/lib/python3.9/site-packages/PIL/TiffImagePlugin.py:858: UserWarning: Corrupt EXIF data.  Expecting to read 2 bytes but only got 0. \n",
      "  warnings.warn(str(msg))\n"
     ]
    },
    {
     "name": "stdout",
     "output_type": "stream",
     "text": [
      "train loss : 1.699923, [epoch:21, iter:300]\n",
      "train loss : 1.696588, [epoch:21, iter:400]\n",
      "train loss : 1.698116, [epoch:21, iter:500]\n",
      "train loss : 1.719695, [epoch:21, iter:600]\n",
      "train loss : 1.719991, [epoch:21, iter:700]\n",
      "train loss : 1.715199, [epoch:21, iter:800]\n",
      "train loss : 1.710026, [epoch:21, iter:900]\n",
      "train loss : 1.710665, [epoch:21, iter:1000]\n",
      "train loss : 1.711499, [epoch:21, iter:1100]\n",
      "train loss : 1.709375, [epoch:21, iter:1200]\n",
      "train loss : 1.704292, [epoch:21, iter:1300]\n",
      "train loss : 1.701974, [epoch:21, iter:1400]\n",
      "train loss : 1.702706, [epoch:21, iter:1500]\n",
      "train loss : 1.701980, [epoch:21, iter:1600]\n",
      "train loss : 1.700045, [epoch:21, iter:1700]\n",
      "train loss : 1.699188, [epoch:21, iter:1800]\n",
      "train loss : 1.702525, [epoch:21, iter:1900]\n",
      "TRAIN ACCURACY : 44.0% [27144/61664]\n"
     ]
    },
    {
     "name": "stderr",
     "output_type": "stream",
     "text": [
      "Train:  42%|██████████▌              | 21/50 [4:30:32<5:50:48, 725.79s/it]"
     ]
    },
    {
     "name": "stdout",
     "output_type": "stream",
     "text": [
      "TEST ACCURACY : 37.5% [4382/11680]\n",
      "\n",
      "EPOCH:21 | train loss : 1.7025506848737126, test loss : 1.860683225278985\n",
      "\n",
      "EPOCH 22 \n",
      "-------------------------\n",
      "train loss : 2.177001, [epoch:22, iter:0]\n",
      "train loss : 1.658665, [epoch:22, iter:100]\n",
      "train loss : 1.702915, [epoch:22, iter:200]\n"
     ]
    },
    {
     "name": "stderr",
     "output_type": "stream",
     "text": [
      "/home/qkrwnstj/anaconda3/envs/qkrwnstj/lib/python3.9/site-packages/PIL/TiffImagePlugin.py:858: UserWarning: Corrupt EXIF data.  Expecting to read 2 bytes but only got 0. \n",
      "  warnings.warn(str(msg))\n"
     ]
    },
    {
     "name": "stdout",
     "output_type": "stream",
     "text": [
      "train loss : 1.700289, [epoch:22, iter:300]\n",
      "train loss : 1.695051, [epoch:22, iter:400]\n",
      "train loss : 1.702244, [epoch:22, iter:500]\n",
      "train loss : 1.695987, [epoch:22, iter:600]\n",
      "train loss : 1.698573, [epoch:22, iter:700]\n"
     ]
    },
    {
     "name": "stderr",
     "output_type": "stream",
     "text": [
      "/home/qkrwnstj/anaconda3/envs/qkrwnstj/lib/python3.9/site-packages/PIL/TiffImagePlugin.py:858: UserWarning: Corrupt EXIF data.  Expecting to read 2 bytes but only got 0. \n",
      "  warnings.warn(str(msg))\n"
     ]
    },
    {
     "name": "stdout",
     "output_type": "stream",
     "text": [
      "train loss : 1.699012, [epoch:22, iter:800]\n",
      "train loss : 1.702366, [epoch:22, iter:900]\n",
      "train loss : 1.702712, [epoch:22, iter:1000]\n",
      "train loss : 1.699805, [epoch:22, iter:1100]\n",
      "train loss : 1.701274, [epoch:22, iter:1200]\n",
      "train loss : 1.701418, [epoch:22, iter:1300]\n",
      "train loss : 1.701008, [epoch:22, iter:1400]\n",
      "train loss : 1.700046, [epoch:22, iter:1500]\n",
      "train loss : 1.700537, [epoch:22, iter:1600]\n",
      "train loss : 1.701718, [epoch:22, iter:1700]\n",
      "train loss : 1.700617, [epoch:22, iter:1800]\n",
      "train loss : 1.701378, [epoch:22, iter:1900]\n",
      "TRAIN ACCURACY : 43.9% [27052/61664]\n"
     ]
    },
    {
     "name": "stderr",
     "output_type": "stream",
     "text": [
      "Train:  44%|███████████              | 22/50 [4:41:53<5:32:28, 712.44s/it]"
     ]
    },
    {
     "name": "stdout",
     "output_type": "stream",
     "text": [
      "TEST ACCURACY : 36.0% [4210/11680]\n",
      "\n",
      "EPOCH:22 | train loss : 1.701669457822373, test loss : 1.9055174781851572\n",
      "\n",
      "EPOCH 23 \n",
      "-------------------------\n",
      "train loss : 1.806722, [epoch:23, iter:0]\n",
      "train loss : 1.768546, [epoch:23, iter:100]\n",
      "train loss : 1.732874, [epoch:23, iter:200]\n",
      "train loss : 1.715595, [epoch:23, iter:300]\n",
      "train loss : 1.693411, [epoch:23, iter:400]\n"
     ]
    },
    {
     "name": "stderr",
     "output_type": "stream",
     "text": [
      "/home/qkrwnstj/anaconda3/envs/qkrwnstj/lib/python3.9/site-packages/PIL/TiffImagePlugin.py:858: UserWarning: Corrupt EXIF data.  Expecting to read 2 bytes but only got 0. \n",
      "  warnings.warn(str(msg))\n"
     ]
    },
    {
     "name": "stdout",
     "output_type": "stream",
     "text": [
      "train loss : 1.690924, [epoch:23, iter:500]\n",
      "train loss : 1.685929, [epoch:23, iter:600]\n",
      "train loss : 1.687909, [epoch:23, iter:700]\n",
      "train loss : 1.688805, [epoch:23, iter:800]\n",
      "train loss : 1.691769, [epoch:23, iter:900]\n",
      "train loss : 1.694741, [epoch:23, iter:1000]\n",
      "train loss : 1.693744, [epoch:23, iter:1100]\n",
      "train loss : 1.695523, [epoch:23, iter:1200]\n"
     ]
    },
    {
     "name": "stderr",
     "output_type": "stream",
     "text": [
      "/home/qkrwnstj/anaconda3/envs/qkrwnstj/lib/python3.9/site-packages/PIL/TiffImagePlugin.py:858: UserWarning: Corrupt EXIF data.  Expecting to read 2 bytes but only got 0. \n",
      "  warnings.warn(str(msg))\n"
     ]
    },
    {
     "name": "stdout",
     "output_type": "stream",
     "text": [
      "train loss : 1.695555, [epoch:23, iter:1300]\n",
      "train loss : 1.699251, [epoch:23, iter:1400]\n",
      "train loss : 1.702204, [epoch:23, iter:1500]\n",
      "train loss : 1.701619, [epoch:23, iter:1600]\n",
      "train loss : 1.700977, [epoch:23, iter:1700]\n",
      "train loss : 1.700931, [epoch:23, iter:1800]\n",
      "train loss : 1.701620, [epoch:23, iter:1900]\n",
      "TRAIN ACCURACY : 43.8% [27019/61664]\n"
     ]
    },
    {
     "name": "stderr",
     "output_type": "stream",
     "text": [
      "Train:  46%|███████████▌             | 23/50 [4:53:16<5:16:38, 703.63s/it]"
     ]
    },
    {
     "name": "stdout",
     "output_type": "stream",
     "text": [
      "TEST ACCURACY : 27.8% [3249/11680]\n",
      "\n",
      "EPOCH:23 | train loss : 1.7016519620805808, test loss : 2.2983095750416793\n",
      "\n",
      "EPOCH 24 \n",
      "-------------------------\n",
      "train loss : 2.128009, [epoch:24, iter:0]\n",
      "train loss : 1.714978, [epoch:24, iter:100]\n",
      "train loss : 1.696137, [epoch:24, iter:200]\n",
      "train loss : 1.701757, [epoch:24, iter:300]\n",
      "train loss : 1.707785, [epoch:24, iter:400]\n",
      "train loss : 1.706442, [epoch:24, iter:500]\n",
      "train loss : 1.701485, [epoch:24, iter:600]\n",
      "train loss : 1.702352, [epoch:24, iter:700]\n",
      "train loss : 1.695746, [epoch:24, iter:800]\n",
      "train loss : 1.710435, [epoch:24, iter:900]\n",
      "train loss : 1.709111, [epoch:24, iter:1000]\n",
      "train loss : 1.708481, [epoch:24, iter:1100]\n",
      "train loss : 1.711006, [epoch:24, iter:1200]\n",
      "train loss : 1.709842, [epoch:24, iter:1300]\n",
      "train loss : 1.707886, [epoch:24, iter:1400]\n"
     ]
    },
    {
     "name": "stderr",
     "output_type": "stream",
     "text": [
      "/home/qkrwnstj/anaconda3/envs/qkrwnstj/lib/python3.9/site-packages/PIL/TiffImagePlugin.py:858: UserWarning: Corrupt EXIF data.  Expecting to read 2 bytes but only got 0. \n",
      "  warnings.warn(str(msg))\n",
      "/home/qkrwnstj/anaconda3/envs/qkrwnstj/lib/python3.9/site-packages/PIL/TiffImagePlugin.py:858: UserWarning: Corrupt EXIF data.  Expecting to read 2 bytes but only got 0. \n",
      "  warnings.warn(str(msg))\n"
     ]
    },
    {
     "name": "stdout",
     "output_type": "stream",
     "text": [
      "train loss : 1.706852, [epoch:24, iter:1500]\n",
      "train loss : 1.707123, [epoch:24, iter:1600]\n",
      "train loss : 1.704545, [epoch:24, iter:1700]\n",
      "train loss : 1.705819, [epoch:24, iter:1800]\n",
      "train loss : 1.704851, [epoch:24, iter:1900]\n",
      "TRAIN ACCURACY : 43.8% [27037/61664]\n"
     ]
    },
    {
     "name": "stderr",
     "output_type": "stream",
     "text": [
      "Train:  48%|████████████             | 24/50 [5:04:37<5:02:00, 696.96s/it]"
     ]
    },
    {
     "name": "stdout",
     "output_type": "stream",
     "text": [
      "TEST ACCURACY : 31.7% [3700/11680]\n",
      "\n",
      "EPOCH:24 | train loss : 1.7057321094513929, test loss : 2.0472927433170685\n",
      "\n",
      "EPOCH 25 \n",
      "-------------------------\n",
      "train loss : 1.598048, [epoch:25, iter:0]\n"
     ]
    },
    {
     "name": "stderr",
     "output_type": "stream",
     "text": [
      "/home/qkrwnstj/anaconda3/envs/qkrwnstj/lib/python3.9/site-packages/PIL/TiffImagePlugin.py:858: UserWarning: Corrupt EXIF data.  Expecting to read 2 bytes but only got 0. \n",
      "  warnings.warn(str(msg))\n"
     ]
    },
    {
     "name": "stdout",
     "output_type": "stream",
     "text": [
      "train loss : 1.743428, [epoch:25, iter:100]\n",
      "train loss : 1.743510, [epoch:25, iter:200]\n",
      "train loss : 1.751142, [epoch:25, iter:300]\n",
      "train loss : 1.738482, [epoch:25, iter:400]\n",
      "train loss : 1.733658, [epoch:25, iter:500]\n",
      "train loss : 1.737534, [epoch:25, iter:600]\n",
      "train loss : 1.735525, [epoch:25, iter:700]\n",
      "train loss : 1.729822, [epoch:25, iter:800]\n",
      "train loss : 1.728157, [epoch:25, iter:900]\n",
      "train loss : 1.724110, [epoch:25, iter:1000]\n",
      "train loss : 1.722737, [epoch:25, iter:1100]\n"
     ]
    },
    {
     "name": "stderr",
     "output_type": "stream",
     "text": [
      "/home/qkrwnstj/anaconda3/envs/qkrwnstj/lib/python3.9/site-packages/PIL/TiffImagePlugin.py:858: UserWarning: Corrupt EXIF data.  Expecting to read 2 bytes but only got 0. \n",
      "  warnings.warn(str(msg))\n"
     ]
    },
    {
     "name": "stdout",
     "output_type": "stream",
     "text": [
      "train loss : 1.717136, [epoch:25, iter:1200]\n",
      "train loss : 1.718919, [epoch:25, iter:1300]\n",
      "train loss : 1.717964, [epoch:25, iter:1400]\n",
      "train loss : 1.717712, [epoch:25, iter:1500]\n",
      "train loss : 1.717663, [epoch:25, iter:1600]\n",
      "train loss : 1.715973, [epoch:25, iter:1700]\n",
      "train loss : 1.713775, [epoch:25, iter:1800]\n",
      "train loss : 1.711393, [epoch:25, iter:1900]\n",
      "TRAIN ACCURACY : 43.6% [26896/61664]\n"
     ]
    },
    {
     "name": "stderr",
     "output_type": "stream",
     "text": [
      "Train:  50%|████████████▌            | 25/50 [5:16:02<4:48:50, 693.24s/it]"
     ]
    },
    {
     "name": "stdout",
     "output_type": "stream",
     "text": [
      "TEST ACCURACY : 36.0% [4205/11680]\n",
      "\n",
      "EPOCH:25 | train loss : 1.7113719111164432, test loss : 1.8448271816723967\n",
      "\n",
      "EPOCH 26 \n",
      "-------------------------\n",
      "train loss : 1.555035, [epoch:26, iter:0]\n",
      "train loss : 1.670989, [epoch:26, iter:100]\n"
     ]
    },
    {
     "name": "stderr",
     "output_type": "stream",
     "text": [
      "/home/qkrwnstj/anaconda3/envs/qkrwnstj/lib/python3.9/site-packages/PIL/TiffImagePlugin.py:858: UserWarning: Corrupt EXIF data.  Expecting to read 2 bytes but only got 0. \n",
      "  warnings.warn(str(msg))\n"
     ]
    },
    {
     "name": "stdout",
     "output_type": "stream",
     "text": [
      "train loss : 1.666510, [epoch:26, iter:200]\n",
      "train loss : 1.688585, [epoch:26, iter:300]\n",
      "train loss : 1.710831, [epoch:26, iter:400]\n",
      "train loss : 1.706766, [epoch:26, iter:500]\n",
      "train loss : 1.704832, [epoch:26, iter:600]\n",
      "train loss : 1.703993, [epoch:26, iter:700]\n",
      "train loss : 1.703047, [epoch:26, iter:800]\n",
      "train loss : 1.701586, [epoch:26, iter:900]\n",
      "train loss : 1.701454, [epoch:26, iter:1000]\n",
      "train loss : 1.707932, [epoch:26, iter:1100]\n",
      "train loss : 1.708283, [epoch:26, iter:1200]\n",
      "train loss : 1.706065, [epoch:26, iter:1300]\n",
      "train loss : 1.702817, [epoch:26, iter:1400]\n",
      "train loss : 1.703434, [epoch:26, iter:1500]\n",
      "train loss : 1.703287, [epoch:26, iter:1600]\n"
     ]
    },
    {
     "name": "stderr",
     "output_type": "stream",
     "text": [
      "/home/qkrwnstj/anaconda3/envs/qkrwnstj/lib/python3.9/site-packages/PIL/TiffImagePlugin.py:858: UserWarning: Corrupt EXIF data.  Expecting to read 2 bytes but only got 0. \n",
      "  warnings.warn(str(msg))\n"
     ]
    },
    {
     "name": "stdout",
     "output_type": "stream",
     "text": [
      "train loss : 1.699758, [epoch:26, iter:1700]\n",
      "train loss : 1.702209, [epoch:26, iter:1800]\n",
      "train loss : 1.701331, [epoch:26, iter:1900]\n",
      "TRAIN ACCURACY : 44.0% [27137/61664]\n"
     ]
    },
    {
     "name": "stderr",
     "output_type": "stream",
     "text": [
      "Train:  52%|█████████████            | 26/50 [5:27:27<4:36:17, 690.73s/it]"
     ]
    },
    {
     "name": "stdout",
     "output_type": "stream",
     "text": [
      "TEST ACCURACY : 36.7% [4292/11680]\n",
      "\n",
      "EPOCH:26 | train loss : 1.7012265690200739, test loss : 1.9450159892643968\n",
      "\n",
      "EPOCH 27 \n",
      "-------------------------\n",
      "train loss : 1.877368, [epoch:27, iter:0]\n",
      "train loss : 1.676127, [epoch:27, iter:100]\n",
      "train loss : 1.663185, [epoch:27, iter:200]\n",
      "train loss : 1.662813, [epoch:27, iter:300]\n",
      "train loss : 1.663169, [epoch:27, iter:400]\n"
     ]
    },
    {
     "name": "stderr",
     "output_type": "stream",
     "text": [
      "/home/qkrwnstj/anaconda3/envs/qkrwnstj/lib/python3.9/site-packages/PIL/TiffImagePlugin.py:858: UserWarning: Corrupt EXIF data.  Expecting to read 2 bytes but only got 0. \n",
      "  warnings.warn(str(msg))\n"
     ]
    },
    {
     "name": "stdout",
     "output_type": "stream",
     "text": [
      "train loss : 1.672097, [epoch:27, iter:500]\n",
      "train loss : 1.673701, [epoch:27, iter:600]\n"
     ]
    },
    {
     "name": "stderr",
     "output_type": "stream",
     "text": [
      "/home/qkrwnstj/anaconda3/envs/qkrwnstj/lib/python3.9/site-packages/PIL/TiffImagePlugin.py:858: UserWarning: Corrupt EXIF data.  Expecting to read 2 bytes but only got 0. \n",
      "  warnings.warn(str(msg))\n"
     ]
    },
    {
     "name": "stdout",
     "output_type": "stream",
     "text": [
      "train loss : 1.672827, [epoch:27, iter:700]\n",
      "train loss : 1.672810, [epoch:27, iter:800]\n",
      "train loss : 1.675258, [epoch:27, iter:900]\n",
      "train loss : 1.679247, [epoch:27, iter:1000]\n",
      "train loss : 1.679298, [epoch:27, iter:1100]\n",
      "train loss : 1.682227, [epoch:27, iter:1200]\n",
      "train loss : 1.681770, [epoch:27, iter:1300]\n",
      "train loss : 1.683981, [epoch:27, iter:1400]\n",
      "train loss : 1.682304, [epoch:27, iter:1500]\n",
      "train loss : 1.681353, [epoch:27, iter:1600]\n",
      "train loss : 1.682930, [epoch:27, iter:1700]\n",
      "train loss : 1.685327, [epoch:27, iter:1800]\n",
      "train loss : 1.685934, [epoch:27, iter:1900]\n",
      "TRAIN ACCURACY : 44.4% [27392/61664]\n",
      "TEST ACCURACY : 40.1% [4689/11680]\n",
      "...MODEL SAVE...\n"
     ]
    },
    {
     "name": "stderr",
     "output_type": "stream",
     "text": [
      "Train:  54%|█████████████▌           | 27/50 [5:38:52<4:24:10, 689.17s/it]"
     ]
    },
    {
     "name": "stdout",
     "output_type": "stream",
     "text": [
      "\n",
      "EPOCH:27 | train loss : 1.6868803928290617, test loss : 1.7937655017800527\n",
      "\n",
      "EPOCH 28 \n",
      "-------------------------\n",
      "train loss : 1.559364, [epoch:28, iter:0]\n",
      "train loss : 1.665302, [epoch:28, iter:100]\n",
      "train loss : 1.677290, [epoch:28, iter:200]\n",
      "train loss : 1.687617, [epoch:28, iter:300]\n"
     ]
    },
    {
     "name": "stderr",
     "output_type": "stream",
     "text": [
      "/home/qkrwnstj/anaconda3/envs/qkrwnstj/lib/python3.9/site-packages/PIL/TiffImagePlugin.py:858: UserWarning: Corrupt EXIF data.  Expecting to read 2 bytes but only got 0. \n",
      "  warnings.warn(str(msg))\n"
     ]
    },
    {
     "name": "stdout",
     "output_type": "stream",
     "text": [
      "train loss : 1.686145, [epoch:28, iter:400]\n",
      "train loss : 1.694419, [epoch:28, iter:500]\n",
      "train loss : 1.691565, [epoch:28, iter:600]\n",
      "train loss : 1.688839, [epoch:28, iter:700]\n",
      "train loss : 1.697735, [epoch:28, iter:800]\n",
      "train loss : 1.695044, [epoch:28, iter:900]\n",
      "train loss : 1.698824, [epoch:28, iter:1000]\n",
      "train loss : 1.696432, [epoch:28, iter:1100]\n",
      "train loss : 1.694673, [epoch:28, iter:1200]\n",
      "train loss : 1.689932, [epoch:28, iter:1300]\n",
      "train loss : 1.690596, [epoch:28, iter:1400]\n",
      "train loss : 1.690159, [epoch:28, iter:1500]\n",
      "train loss : 1.690761, [epoch:28, iter:1600]\n"
     ]
    },
    {
     "name": "stderr",
     "output_type": "stream",
     "text": [
      "/home/qkrwnstj/anaconda3/envs/qkrwnstj/lib/python3.9/site-packages/PIL/TiffImagePlugin.py:858: UserWarning: Corrupt EXIF data.  Expecting to read 2 bytes but only got 0. \n",
      "  warnings.warn(str(msg))\n"
     ]
    },
    {
     "name": "stdout",
     "output_type": "stream",
     "text": [
      "train loss : 1.689825, [epoch:28, iter:1700]\n",
      "train loss : 1.692734, [epoch:28, iter:1800]\n",
      "train loss : 1.695705, [epoch:28, iter:1900]\n",
      "TRAIN ACCURACY : 44.3% [27320/61664]\n"
     ]
    },
    {
     "name": "stderr",
     "output_type": "stream",
     "text": [
      "Train:  56%|██████████████           | 28/50 [5:50:15<4:11:55, 687.06s/it]"
     ]
    },
    {
     "name": "stdout",
     "output_type": "stream",
     "text": [
      "TEST ACCURACY : 33.4% [3902/11680]\n",
      "\n",
      "EPOCH:28 | train loss : 1.6965535980589845, test loss : 1.9921241142978408\n",
      "\n",
      "EPOCH 29 \n",
      "-------------------------\n",
      "train loss : 1.324975, [epoch:29, iter:0]\n"
     ]
    },
    {
     "name": "stderr",
     "output_type": "stream",
     "text": [
      "/home/qkrwnstj/anaconda3/envs/qkrwnstj/lib/python3.9/site-packages/PIL/TiffImagePlugin.py:858: UserWarning: Corrupt EXIF data.  Expecting to read 2 bytes but only got 0. \n",
      "  warnings.warn(str(msg))\n"
     ]
    },
    {
     "name": "stdout",
     "output_type": "stream",
     "text": [
      "train loss : 1.632492, [epoch:29, iter:100]\n",
      "train loss : 1.651239, [epoch:29, iter:200]\n",
      "train loss : 1.653623, [epoch:29, iter:300]\n",
      "train loss : 1.660975, [epoch:29, iter:400]\n",
      "train loss : 1.665224, [epoch:29, iter:500]\n",
      "train loss : 1.664844, [epoch:29, iter:600]\n",
      "train loss : 1.667997, [epoch:29, iter:700]\n",
      "train loss : 1.679178, [epoch:29, iter:800]\n",
      "train loss : 1.686917, [epoch:29, iter:900]\n",
      "train loss : 1.692111, [epoch:29, iter:1000]\n",
      "train loss : 1.691045, [epoch:29, iter:1100]\n",
      "train loss : 1.687871, [epoch:29, iter:1200]\n",
      "train loss : 1.689742, [epoch:29, iter:1300]\n",
      "train loss : 1.688438, [epoch:29, iter:1400]\n",
      "train loss : 1.688815, [epoch:29, iter:1500]\n",
      "train loss : 1.690700, [epoch:29, iter:1600]\n",
      "train loss : 1.689406, [epoch:29, iter:1700]\n"
     ]
    },
    {
     "name": "stderr",
     "output_type": "stream",
     "text": [
      "/home/qkrwnstj/anaconda3/envs/qkrwnstj/lib/python3.9/site-packages/PIL/TiffImagePlugin.py:858: UserWarning: Corrupt EXIF data.  Expecting to read 2 bytes but only got 0. \n",
      "  warnings.warn(str(msg))\n"
     ]
    },
    {
     "name": "stdout",
     "output_type": "stream",
     "text": [
      "train loss : 1.689869, [epoch:29, iter:1800]\n",
      "train loss : 1.693291, [epoch:29, iter:1900]\n",
      "TRAIN ACCURACY : 44.2% [27244/61664]\n"
     ]
    },
    {
     "name": "stderr",
     "output_type": "stream",
     "text": [
      "Train:  58%|██████████████▍          | 29/50 [6:01:40<4:00:15, 686.47s/it]"
     ]
    },
    {
     "name": "stdout",
     "output_type": "stream",
     "text": [
      "TEST ACCURACY : 34.3% [4008/11680]\n",
      "\n",
      "EPOCH:29 | train loss : 1.6942398443269062, test loss : 1.9676884723036256\n",
      "\n",
      "EPOCH 30 \n",
      "-------------------------\n",
      "train loss : 1.653699, [epoch:30, iter:0]\n",
      "train loss : 1.662803, [epoch:30, iter:100]\n"
     ]
    },
    {
     "name": "stderr",
     "output_type": "stream",
     "text": [
      "/home/qkrwnstj/anaconda3/envs/qkrwnstj/lib/python3.9/site-packages/PIL/TiffImagePlugin.py:858: UserWarning: Corrupt EXIF data.  Expecting to read 2 bytes but only got 0. \n",
      "  warnings.warn(str(msg))\n"
     ]
    },
    {
     "name": "stdout",
     "output_type": "stream",
     "text": [
      "train loss : 1.676315, [epoch:30, iter:200]\n",
      "train loss : 1.692522, [epoch:30, iter:300]\n",
      "train loss : 1.679623, [epoch:30, iter:400]\n",
      "train loss : 1.681991, [epoch:30, iter:500]\n",
      "train loss : 1.682280, [epoch:30, iter:600]\n",
      "train loss : 1.680819, [epoch:30, iter:700]\n",
      "train loss : 1.675773, [epoch:30, iter:800]\n"
     ]
    },
    {
     "name": "stderr",
     "output_type": "stream",
     "text": [
      "/home/qkrwnstj/anaconda3/envs/qkrwnstj/lib/python3.9/site-packages/PIL/TiffImagePlugin.py:858: UserWarning: Corrupt EXIF data.  Expecting to read 2 bytes but only got 0. \n",
      "  warnings.warn(str(msg))\n"
     ]
    },
    {
     "name": "stdout",
     "output_type": "stream",
     "text": [
      "train loss : 1.677127, [epoch:30, iter:900]\n",
      "train loss : 1.682234, [epoch:30, iter:1000]\n",
      "train loss : 1.683921, [epoch:30, iter:1100]\n",
      "train loss : 1.685022, [epoch:30, iter:1200]\n",
      "train loss : 1.689762, [epoch:30, iter:1300]\n",
      "train loss : 1.693911, [epoch:30, iter:1400]\n",
      "train loss : 1.698216, [epoch:30, iter:1500]\n",
      "train loss : 1.699816, [epoch:30, iter:1600]\n",
      "train loss : 1.697089, [epoch:30, iter:1700]\n",
      "train loss : 1.699035, [epoch:30, iter:1800]\n",
      "train loss : 1.697877, [epoch:30, iter:1900]\n",
      "TRAIN ACCURACY : 44.4% [27348/61664]\n"
     ]
    },
    {
     "name": "stderr",
     "output_type": "stream",
     "text": [
      "Train:  60%|███████████████          | 30/50 [6:13:00<3:48:11, 684.58s/it]"
     ]
    },
    {
     "name": "stdout",
     "output_type": "stream",
     "text": [
      "TEST ACCURACY : 38.3% [4470/11680]\n",
      "\n",
      "EPOCH:30 | train loss : 1.6974014750897854, test loss : 1.8643739599071136\n",
      "\n",
      "EPOCH 31 \n",
      "-------------------------\n",
      "train loss : 1.411145, [epoch:31, iter:0]\n",
      "train loss : 1.665511, [epoch:31, iter:100]\n",
      "train loss : 1.791008, [epoch:31, iter:200]\n"
     ]
    },
    {
     "name": "stderr",
     "output_type": "stream",
     "text": [
      "/home/qkrwnstj/anaconda3/envs/qkrwnstj/lib/python3.9/site-packages/PIL/TiffImagePlugin.py:858: UserWarning: Corrupt EXIF data.  Expecting to read 2 bytes but only got 0. \n",
      "  warnings.warn(str(msg))\n"
     ]
    },
    {
     "name": "stdout",
     "output_type": "stream",
     "text": [
      "train loss : 1.796594, [epoch:31, iter:300]\n",
      "train loss : 1.784054, [epoch:31, iter:400]\n",
      "train loss : 1.773012, [epoch:31, iter:500]\n",
      "train loss : 1.759192, [epoch:31, iter:600]\n",
      "train loss : 1.750410, [epoch:31, iter:700]\n",
      "train loss : 1.747142, [epoch:31, iter:800]\n",
      "train loss : 1.742459, [epoch:31, iter:900]\n",
      "train loss : 1.739335, [epoch:31, iter:1000]\n",
      "train loss : 1.741318, [epoch:31, iter:1100]\n",
      "train loss : 1.737542, [epoch:31, iter:1200]\n"
     ]
    },
    {
     "name": "stderr",
     "output_type": "stream",
     "text": [
      "/home/qkrwnstj/anaconda3/envs/qkrwnstj/lib/python3.9/site-packages/PIL/TiffImagePlugin.py:858: UserWarning: Corrupt EXIF data.  Expecting to read 2 bytes but only got 0. \n",
      "  warnings.warn(str(msg))\n"
     ]
    },
    {
     "name": "stdout",
     "output_type": "stream",
     "text": [
      "train loss : 1.730933, [epoch:31, iter:1300]\n",
      "train loss : 1.732033, [epoch:31, iter:1400]\n",
      "train loss : 1.729470, [epoch:31, iter:1500]\n",
      "train loss : 1.727698, [epoch:31, iter:1600]\n",
      "train loss : 1.726856, [epoch:31, iter:1700]\n",
      "train loss : 1.725013, [epoch:31, iter:1800]\n",
      "train loss : 1.723784, [epoch:31, iter:1900]\n",
      "TRAIN ACCURACY : 43.3% [26693/61664]\n"
     ]
    },
    {
     "name": "stderr",
     "output_type": "stream",
     "text": [
      "Train:  62%|███████████████▌         | 31/50 [6:24:17<3:36:05, 682.38s/it]"
     ]
    },
    {
     "name": "stdout",
     "output_type": "stream",
     "text": [
      "TEST ACCURACY : 38.1% [4448/11680]\n",
      "\n",
      "EPOCH:31 | train loss : 1.7252747283182308, test loss : 1.9197108294865857\n",
      "\n",
      "EPOCH 32 \n",
      "-------------------------\n",
      "train loss : 1.563256, [epoch:32, iter:0]\n"
     ]
    },
    {
     "name": "stderr",
     "output_type": "stream",
     "text": [
      "/home/qkrwnstj/anaconda3/envs/qkrwnstj/lib/python3.9/site-packages/PIL/TiffImagePlugin.py:858: UserWarning: Corrupt EXIF data.  Expecting to read 2 bytes but only got 0. \n",
      "  warnings.warn(str(msg))\n"
     ]
    },
    {
     "name": "stdout",
     "output_type": "stream",
     "text": [
      "train loss : 1.704665, [epoch:32, iter:100]\n",
      "train loss : 1.680269, [epoch:32, iter:200]\n"
     ]
    },
    {
     "name": "stderr",
     "output_type": "stream",
     "text": [
      "/home/qkrwnstj/anaconda3/envs/qkrwnstj/lib/python3.9/site-packages/PIL/TiffImagePlugin.py:858: UserWarning: Corrupt EXIF data.  Expecting to read 2 bytes but only got 0. \n",
      "  warnings.warn(str(msg))\n"
     ]
    },
    {
     "name": "stdout",
     "output_type": "stream",
     "text": [
      "train loss : 1.679451, [epoch:32, iter:300]\n",
      "train loss : 1.680607, [epoch:32, iter:400]\n",
      "train loss : 1.680325, [epoch:32, iter:500]\n",
      "train loss : 1.678479, [epoch:32, iter:600]\n",
      "train loss : 1.693305, [epoch:32, iter:700]\n",
      "train loss : 1.688494, [epoch:32, iter:800]\n",
      "train loss : 1.691472, [epoch:32, iter:900]\n",
      "train loss : 1.690560, [epoch:32, iter:1000]\n",
      "train loss : 1.690609, [epoch:32, iter:1100]\n",
      "train loss : 1.692862, [epoch:32, iter:1200]\n",
      "train loss : 1.699010, [epoch:32, iter:1300]\n",
      "train loss : 1.699785, [epoch:32, iter:1400]\n",
      "train loss : 1.700425, [epoch:32, iter:1500]\n",
      "train loss : 1.701108, [epoch:32, iter:1600]\n",
      "train loss : 1.697967, [epoch:32, iter:1700]\n",
      "train loss : 1.697997, [epoch:32, iter:1800]\n",
      "train loss : 1.696493, [epoch:32, iter:1900]\n",
      "TRAIN ACCURACY : 44.3% [27327/61664]\n"
     ]
    },
    {
     "name": "stderr",
     "output_type": "stream",
     "text": [
      "Train:  64%|████████████████         | 32/50 [6:35:40<3:24:44, 682.44s/it]"
     ]
    },
    {
     "name": "stdout",
     "output_type": "stream",
     "text": [
      "TEST ACCURACY : 39.3% [4587/11680]\n",
      "\n",
      "EPOCH:32 | train loss : 1.6960809708693265, test loss : 1.844395901405648\n",
      "\n",
      "EPOCH 33 \n",
      "-------------------------\n",
      "train loss : 1.917396, [epoch:33, iter:0]\n",
      "train loss : 1.710013, [epoch:33, iter:100]\n",
      "train loss : 1.686724, [epoch:33, iter:200]\n",
      "train loss : 1.689761, [epoch:33, iter:300]\n",
      "train loss : 1.693658, [epoch:33, iter:400]\n",
      "train loss : 1.696197, [epoch:33, iter:500]\n"
     ]
    },
    {
     "name": "stderr",
     "output_type": "stream",
     "text": [
      "/home/qkrwnstj/anaconda3/envs/qkrwnstj/lib/python3.9/site-packages/PIL/TiffImagePlugin.py:858: UserWarning: Corrupt EXIF data.  Expecting to read 2 bytes but only got 0. \n",
      "  warnings.warn(str(msg))\n"
     ]
    },
    {
     "name": "stdout",
     "output_type": "stream",
     "text": [
      "train loss : 1.695571, [epoch:33, iter:600]\n",
      "train loss : 1.690139, [epoch:33, iter:700]\n",
      "train loss : 1.694634, [epoch:33, iter:800]\n",
      "train loss : 1.693967, [epoch:33, iter:900]\n",
      "train loss : 1.696277, [epoch:33, iter:1000]\n",
      "train loss : 1.696381, [epoch:33, iter:1100]\n",
      "train loss : 1.699040, [epoch:33, iter:1200]\n",
      "train loss : 1.697303, [epoch:33, iter:1300]\n",
      "train loss : 1.695403, [epoch:33, iter:1400]\n",
      "train loss : 1.695334, [epoch:33, iter:1500]\n"
     ]
    },
    {
     "name": "stderr",
     "output_type": "stream",
     "text": [
      "/home/qkrwnstj/anaconda3/envs/qkrwnstj/lib/python3.9/site-packages/PIL/TiffImagePlugin.py:858: UserWarning: Corrupt EXIF data.  Expecting to read 2 bytes but only got 0. \n",
      "  warnings.warn(str(msg))\n"
     ]
    },
    {
     "name": "stdout",
     "output_type": "stream",
     "text": [
      "train loss : 1.695851, [epoch:33, iter:1600]\n",
      "train loss : 1.695053, [epoch:33, iter:1700]\n",
      "train loss : 1.693557, [epoch:33, iter:1800]\n",
      "train loss : 1.693763, [epoch:33, iter:1900]\n",
      "TRAIN ACCURACY : 44.1% [27222/61664]\n"
     ]
    },
    {
     "name": "stderr",
     "output_type": "stream",
     "text": [
      "Train:  66%|████████████████▌        | 33/50 [6:47:00<3:13:12, 681.92s/it]"
     ]
    },
    {
     "name": "stdout",
     "output_type": "stream",
     "text": [
      "TEST ACCURACY : 30.0% [3499/11680]\n",
      "\n",
      "EPOCH:33 | train loss : 1.6996454153273721, test loss : 2.363132612019369\n",
      "\n",
      "EPOCH 34 \n",
      "-------------------------\n",
      "train loss : 2.278102, [epoch:34, iter:0]\n",
      "train loss : 1.856245, [epoch:34, iter:100]\n",
      "train loss : 1.791411, [epoch:34, iter:200]\n",
      "train loss : 1.752820, [epoch:34, iter:300]\n",
      "train loss : 1.735825, [epoch:34, iter:400]\n",
      "train loss : 1.902977, [epoch:34, iter:500]\n",
      "train loss : 1.920716, [epoch:34, iter:600]\n"
     ]
    },
    {
     "name": "stderr",
     "output_type": "stream",
     "text": [
      "/home/qkrwnstj/anaconda3/envs/qkrwnstj/lib/python3.9/site-packages/PIL/TiffImagePlugin.py:858: UserWarning: Corrupt EXIF data.  Expecting to read 2 bytes but only got 0. \n",
      "  warnings.warn(str(msg))\n"
     ]
    },
    {
     "name": "stdout",
     "output_type": "stream",
     "text": [
      "train loss : 1.914473, [epoch:34, iter:700]\n",
      "train loss : 1.907856, [epoch:34, iter:800]\n",
      "train loss : 1.899972, [epoch:34, iter:900]\n",
      "train loss : 1.888327, [epoch:34, iter:1000]\n",
      "train loss : 1.879193, [epoch:34, iter:1100]\n",
      "train loss : 1.865727, [epoch:34, iter:1200]\n",
      "train loss : 1.858158, [epoch:34, iter:1300]\n",
      "train loss : 1.852555, [epoch:34, iter:1400]\n",
      "train loss : 1.849346, [epoch:34, iter:1500]\n",
      "train loss : 1.843001, [epoch:34, iter:1600]\n",
      "train loss : 1.834348, [epoch:34, iter:1700]\n"
     ]
    },
    {
     "name": "stderr",
     "output_type": "stream",
     "text": [
      "/home/qkrwnstj/anaconda3/envs/qkrwnstj/lib/python3.9/site-packages/PIL/TiffImagePlugin.py:858: UserWarning: Corrupt EXIF data.  Expecting to read 2 bytes but only got 0. \n",
      "  warnings.warn(str(msg))\n"
     ]
    },
    {
     "name": "stdout",
     "output_type": "stream",
     "text": [
      "train loss : 1.826772, [epoch:34, iter:1800]\n",
      "train loss : 1.823874, [epoch:34, iter:1900]\n",
      "TRAIN ACCURACY : 40.5% [24996/61664]\n"
     ]
    },
    {
     "name": "stderr",
     "output_type": "stream",
     "text": [
      "Train:  68%|█████████████████        | 34/50 [6:58:20<3:01:39, 681.20s/it]"
     ]
    },
    {
     "name": "stdout",
     "output_type": "stream",
     "text": [
      "TEST ACCURACY : 33.1% [3863/11680]\n",
      "\n",
      "EPOCH:34 | train loss : 1.8231041027464023, test loss : 1.9628843911706584\n",
      "\n",
      "EPOCH 35 \n",
      "-------------------------\n",
      "train loss : 1.752966, [epoch:35, iter:0]\n",
      "train loss : 1.723773, [epoch:35, iter:100]\n",
      "train loss : 1.697558, [epoch:35, iter:200]\n",
      "train loss : 1.698315, [epoch:35, iter:300]\n"
     ]
    },
    {
     "name": "stderr",
     "output_type": "stream",
     "text": [
      "/home/qkrwnstj/anaconda3/envs/qkrwnstj/lib/python3.9/site-packages/PIL/TiffImagePlugin.py:858: UserWarning: Corrupt EXIF data.  Expecting to read 2 bytes but only got 0. \n",
      "  warnings.warn(str(msg))\n"
     ]
    },
    {
     "name": "stdout",
     "output_type": "stream",
     "text": [
      "train loss : 1.686326, [epoch:35, iter:400]\n",
      "train loss : 1.704357, [epoch:35, iter:500]\n",
      "train loss : 1.703657, [epoch:35, iter:600]\n",
      "train loss : 1.706592, [epoch:35, iter:700]\n",
      "train loss : 1.707741, [epoch:35, iter:800]\n",
      "train loss : 1.706044, [epoch:35, iter:900]\n",
      "train loss : 1.716854, [epoch:35, iter:1000]\n",
      "train loss : 1.716217, [epoch:35, iter:1100]\n",
      "train loss : 1.714940, [epoch:35, iter:1200]\n",
      "train loss : 1.717827, [epoch:35, iter:1300]\n",
      "train loss : 1.718140, [epoch:35, iter:1400]\n",
      "train loss : 1.717957, [epoch:35, iter:1500]\n",
      "train loss : 1.715585, [epoch:35, iter:1600]\n"
     ]
    },
    {
     "name": "stderr",
     "output_type": "stream",
     "text": [
      "/home/qkrwnstj/anaconda3/envs/qkrwnstj/lib/python3.9/site-packages/PIL/TiffImagePlugin.py:858: UserWarning: Corrupt EXIF data.  Expecting to read 2 bytes but only got 0. \n",
      "  warnings.warn(str(msg))\n"
     ]
    },
    {
     "name": "stdout",
     "output_type": "stream",
     "text": [
      "train loss : 1.713848, [epoch:35, iter:1700]\n",
      "train loss : 1.714525, [epoch:35, iter:1800]\n",
      "train loss : 1.713045, [epoch:35, iter:1900]\n",
      "TRAIN ACCURACY : 43.2% [26645/61664]\n"
     ]
    },
    {
     "name": "stderr",
     "output_type": "stream",
     "text": [
      "Train:  70%|█████████████████▌       | 35/50 [7:09:44<2:50:31, 682.08s/it]"
     ]
    },
    {
     "name": "stdout",
     "output_type": "stream",
     "text": [
      "TEST ACCURACY : 38.6% [4504/11680]\n",
      "\n",
      "EPOCH:35 | train loss : 1.7124338704004274, test loss : 1.8796005915289056\n",
      "\n",
      "EPOCH 36 \n",
      "-------------------------\n",
      "train loss : 1.262851, [epoch:36, iter:0]\n",
      "train loss : 1.706624, [epoch:36, iter:100]\n",
      "train loss : 1.702080, [epoch:36, iter:200]\n",
      "train loss : 1.694107, [epoch:36, iter:300]\n",
      "train loss : 1.693536, [epoch:36, iter:400]\n"
     ]
    },
    {
     "name": "stderr",
     "output_type": "stream",
     "text": [
      "/home/qkrwnstj/anaconda3/envs/qkrwnstj/lib/python3.9/site-packages/PIL/TiffImagePlugin.py:858: UserWarning: Corrupt EXIF data.  Expecting to read 2 bytes but only got 0. \n",
      "  warnings.warn(str(msg))\n"
     ]
    },
    {
     "name": "stdout",
     "output_type": "stream",
     "text": [
      "train loss : 1.694795, [epoch:36, iter:500]\n",
      "train loss : 1.703366, [epoch:36, iter:600]\n",
      "train loss : 1.707538, [epoch:36, iter:700]\n",
      "train loss : 1.705104, [epoch:36, iter:800]\n",
      "train loss : 1.706128, [epoch:36, iter:900]\n",
      "train loss : 1.706265, [epoch:36, iter:1000]\n",
      "train loss : 1.705944, [epoch:36, iter:1100]\n",
      "train loss : 1.707241, [epoch:36, iter:1200]\n",
      "train loss : 1.705543, [epoch:36, iter:1300]\n",
      "train loss : 1.707552, [epoch:36, iter:1400]\n",
      "train loss : 1.709254, [epoch:36, iter:1500]\n"
     ]
    },
    {
     "name": "stderr",
     "output_type": "stream",
     "text": [
      "/home/qkrwnstj/anaconda3/envs/qkrwnstj/lib/python3.9/site-packages/PIL/TiffImagePlugin.py:858: UserWarning: Corrupt EXIF data.  Expecting to read 2 bytes but only got 0. \n",
      "  warnings.warn(str(msg))\n"
     ]
    },
    {
     "name": "stdout",
     "output_type": "stream",
     "text": [
      "train loss : 1.710690, [epoch:36, iter:1600]\n",
      "train loss : 1.708502, [epoch:36, iter:1700]\n",
      "train loss : 1.706751, [epoch:36, iter:1800]\n",
      "train loss : 1.706948, [epoch:36, iter:1900]\n",
      "TRAIN ACCURACY : 43.7% [26967/61664]\n"
     ]
    },
    {
     "name": "stderr",
     "output_type": "stream",
     "text": [
      "Train:  72%|██████████████████       | 36/50 [7:21:06<2:39:08, 682.07s/it]"
     ]
    },
    {
     "name": "stdout",
     "output_type": "stream",
     "text": [
      "TEST ACCURACY : 36.6% [4279/11680]\n",
      "\n",
      "EPOCH:36 | train loss : 1.706601467414662, test loss : 1.8573137123290806\n",
      "\n",
      "EPOCH 37 \n",
      "-------------------------\n",
      "train loss : 1.812782, [epoch:37, iter:0]\n",
      "train loss : 1.709548, [epoch:37, iter:100]\n",
      "train loss : 1.726638, [epoch:37, iter:200]\n",
      "train loss : 1.729120, [epoch:37, iter:300]\n",
      "train loss : 1.728449, [epoch:37, iter:400]\n"
     ]
    },
    {
     "name": "stderr",
     "output_type": "stream",
     "text": [
      "/home/qkrwnstj/anaconda3/envs/qkrwnstj/lib/python3.9/site-packages/PIL/TiffImagePlugin.py:858: UserWarning: Corrupt EXIF data.  Expecting to read 2 bytes but only got 0. \n",
      "  warnings.warn(str(msg))\n"
     ]
    },
    {
     "name": "stdout",
     "output_type": "stream",
     "text": [
      "train loss : 1.722546, [epoch:37, iter:500]\n",
      "train loss : 1.719002, [epoch:37, iter:600]\n",
      "train loss : 1.715822, [epoch:37, iter:700]\n",
      "train loss : 1.712750, [epoch:37, iter:800]\n",
      "train loss : 1.710500, [epoch:37, iter:900]\n",
      "train loss : 1.708959, [epoch:37, iter:1000]\n",
      "train loss : 1.715237, [epoch:37, iter:1100]\n",
      "train loss : 1.715232, [epoch:37, iter:1200]\n"
     ]
    },
    {
     "name": "stderr",
     "output_type": "stream",
     "text": [
      "/home/qkrwnstj/anaconda3/envs/qkrwnstj/lib/python3.9/site-packages/PIL/TiffImagePlugin.py:858: UserWarning: Corrupt EXIF data.  Expecting to read 2 bytes but only got 0. \n",
      "  warnings.warn(str(msg))\n"
     ]
    },
    {
     "name": "stdout",
     "output_type": "stream",
     "text": [
      "train loss : 1.714681, [epoch:37, iter:1300]\n",
      "train loss : 1.715402, [epoch:37, iter:1400]\n",
      "train loss : 1.713076, [epoch:37, iter:1500]\n",
      "train loss : 1.711693, [epoch:37, iter:1600]\n",
      "train loss : 1.711919, [epoch:37, iter:1700]\n",
      "train loss : 1.710845, [epoch:37, iter:1800]\n",
      "train loss : 1.712323, [epoch:37, iter:1900]\n",
      "TRAIN ACCURACY : 43.8% [27005/61664]\n"
     ]
    },
    {
     "name": "stderr",
     "output_type": "stream",
     "text": [
      "Train:  74%|██████████████████▌      | 37/50 [7:32:31<2:27:57, 682.87s/it]"
     ]
    },
    {
     "name": "stdout",
     "output_type": "stream",
     "text": [
      "TEST ACCURACY : 36.7% [4286/11680]\n",
      "\n",
      "EPOCH:37 | train loss : 1.7115788359869684, test loss : 1.8566095508941232\n",
      "\n",
      "EPOCH 38 \n",
      "-------------------------\n",
      "train loss : 1.869079, [epoch:38, iter:0]\n",
      "train loss : 1.644733, [epoch:38, iter:100]\n",
      "train loss : 1.660370, [epoch:38, iter:200]\n",
      "train loss : 1.665718, [epoch:38, iter:300]\n",
      "train loss : 1.676876, [epoch:38, iter:400]\n",
      "train loss : 1.679685, [epoch:38, iter:500]\n",
      "train loss : 1.681526, [epoch:38, iter:600]\n",
      "train loss : 1.681181, [epoch:38, iter:700]\n",
      "train loss : 1.701592, [epoch:38, iter:800]\n",
      "train loss : 1.700722, [epoch:38, iter:900]\n"
     ]
    },
    {
     "name": "stderr",
     "output_type": "stream",
     "text": [
      "/home/qkrwnstj/anaconda3/envs/qkrwnstj/lib/python3.9/site-packages/PIL/TiffImagePlugin.py:858: UserWarning: Corrupt EXIF data.  Expecting to read 2 bytes but only got 0. \n",
      "  warnings.warn(str(msg))\n"
     ]
    },
    {
     "name": "stdout",
     "output_type": "stream",
     "text": [
      "train loss : 1.702603, [epoch:38, iter:1000]\n"
     ]
    },
    {
     "name": "stderr",
     "output_type": "stream",
     "text": [
      "/home/qkrwnstj/anaconda3/envs/qkrwnstj/lib/python3.9/site-packages/PIL/TiffImagePlugin.py:858: UserWarning: Corrupt EXIF data.  Expecting to read 2 bytes but only got 0. \n",
      "  warnings.warn(str(msg))\n"
     ]
    },
    {
     "name": "stdout",
     "output_type": "stream",
     "text": [
      "train loss : 1.702956, [epoch:38, iter:1100]\n",
      "train loss : 1.702565, [epoch:38, iter:1200]\n",
      "train loss : 1.700780, [epoch:38, iter:1300]\n",
      "train loss : 1.702647, [epoch:38, iter:1400]\n",
      "train loss : 1.700799, [epoch:38, iter:1500]\n",
      "train loss : 1.700243, [epoch:38, iter:1600]\n",
      "train loss : 1.700576, [epoch:38, iter:1700]\n",
      "train loss : 1.701106, [epoch:38, iter:1800]\n",
      "train loss : 1.700348, [epoch:38, iter:1900]\n",
      "TRAIN ACCURACY : 43.7% [26962/61664]\n"
     ]
    },
    {
     "name": "stderr",
     "output_type": "stream",
     "text": [
      "Train:  76%|███████████████████      | 38/50 [7:43:53<2:16:32, 682.70s/it]"
     ]
    },
    {
     "name": "stdout",
     "output_type": "stream",
     "text": [
      "TEST ACCURACY : 36.8% [4296/11680]\n",
      "\n",
      "EPOCH:38 | train loss : 1.6993509802598068, test loss : 1.8296923872542707\n",
      "\n",
      "EPOCH 39 \n",
      "-------------------------\n",
      "train loss : 1.855455, [epoch:39, iter:0]\n",
      "train loss : 1.755302, [epoch:39, iter:100]\n",
      "train loss : 1.731273, [epoch:39, iter:200]\n",
      "train loss : 1.706669, [epoch:39, iter:300]\n",
      "train loss : 1.703964, [epoch:39, iter:400]\n",
      "train loss : 1.705266, [epoch:39, iter:500]\n",
      "train loss : 1.700157, [epoch:39, iter:600]\n",
      "train loss : 1.699498, [epoch:39, iter:700]\n",
      "train loss : 1.702618, [epoch:39, iter:800]\n",
      "train loss : 1.708105, [epoch:39, iter:900]\n",
      "train loss : 1.707747, [epoch:39, iter:1000]\n",
      "train loss : 1.705904, [epoch:39, iter:1100]\n",
      "train loss : 1.705856, [epoch:39, iter:1200]\n",
      "train loss : 1.705434, [epoch:39, iter:1300]\n"
     ]
    },
    {
     "name": "stderr",
     "output_type": "stream",
     "text": [
      "/home/qkrwnstj/anaconda3/envs/qkrwnstj/lib/python3.9/site-packages/PIL/TiffImagePlugin.py:858: UserWarning: Corrupt EXIF data.  Expecting to read 2 bytes but only got 0. \n",
      "  warnings.warn(str(msg))\n"
     ]
    },
    {
     "name": "stdout",
     "output_type": "stream",
     "text": [
      "train loss : 1.705613, [epoch:39, iter:1400]\n",
      "train loss : 1.705209, [epoch:39, iter:1500]\n",
      "train loss : 1.705981, [epoch:39, iter:1600]\n"
     ]
    },
    {
     "name": "stderr",
     "output_type": "stream",
     "text": [
      "/home/qkrwnstj/anaconda3/envs/qkrwnstj/lib/python3.9/site-packages/PIL/TiffImagePlugin.py:858: UserWarning: Corrupt EXIF data.  Expecting to read 2 bytes but only got 0. \n",
      "  warnings.warn(str(msg))\n"
     ]
    },
    {
     "name": "stdout",
     "output_type": "stream",
     "text": [
      "train loss : 1.706818, [epoch:39, iter:1700]\n",
      "train loss : 1.706216, [epoch:39, iter:1800]\n",
      "train loss : 1.705933, [epoch:39, iter:1900]\n",
      "TRAIN ACCURACY : 43.9% [27072/61664]\n"
     ]
    },
    {
     "name": "stderr",
     "output_type": "stream",
     "text": [
      "Train:  78%|███████████████████▌     | 39/50 [7:55:13<2:04:58, 681.71s/it]"
     ]
    },
    {
     "name": "stdout",
     "output_type": "stream",
     "text": [
      "TEST ACCURACY : 36.1% [4216/11680]\n",
      "\n",
      "EPOCH:39 | train loss : 1.7063487333278924, test loss : 1.8904886565796317\n",
      "\n",
      "EPOCH 40 \n",
      "-------------------------\n",
      "train loss : 2.015248, [epoch:40, iter:0]\n",
      "train loss : 1.668830, [epoch:40, iter:100]\n",
      "train loss : 1.684113, [epoch:40, iter:200]\n",
      "train loss : 1.685318, [epoch:40, iter:300]\n",
      "train loss : 1.707939, [epoch:40, iter:400]\n",
      "train loss : 1.708677, [epoch:40, iter:500]\n",
      "train loss : 1.707379, [epoch:40, iter:600]\n",
      "train loss : 1.702728, [epoch:40, iter:700]\n",
      "train loss : 1.710031, [epoch:40, iter:800]\n",
      "train loss : 1.707496, [epoch:40, iter:900]\n",
      "train loss : 1.711302, [epoch:40, iter:1000]\n",
      "train loss : 1.713409, [epoch:40, iter:1100]\n"
     ]
    },
    {
     "name": "stderr",
     "output_type": "stream",
     "text": [
      "/home/qkrwnstj/anaconda3/envs/qkrwnstj/lib/python3.9/site-packages/PIL/TiffImagePlugin.py:858: UserWarning: Corrupt EXIF data.  Expecting to read 2 bytes but only got 0. \n",
      "  warnings.warn(str(msg))\n"
     ]
    },
    {
     "name": "stdout",
     "output_type": "stream",
     "text": [
      "train loss : 1.707346, [epoch:40, iter:1200]\n",
      "train loss : 1.707180, [epoch:40, iter:1300]\n",
      "train loss : 1.706629, [epoch:40, iter:1400]\n",
      "train loss : 1.707995, [epoch:40, iter:1500]\n",
      "train loss : 1.705287, [epoch:40, iter:1600]\n",
      "train loss : 1.703104, [epoch:40, iter:1700]\n",
      "train loss : 1.703856, [epoch:40, iter:1800]\n",
      "train loss : 1.707325, [epoch:40, iter:1900]\n",
      "TRAIN ACCURACY : 44.0% [27105/61664]\n"
     ]
    },
    {
     "name": "stderr",
     "output_type": "stream",
     "text": [
      "Train:  80%|████████████████████     | 40/50 [8:06:32<1:53:29, 680.96s/it]"
     ]
    },
    {
     "name": "stdout",
     "output_type": "stream",
     "text": [
      "TEST ACCURACY : 35.0% [4087/11680]\n",
      "\n",
      "EPOCH:40 | train loss : 1.7071499696158967, test loss : 1.983875927206588\n",
      "\n",
      "EPOCH 41 \n",
      "-------------------------\n",
      "train loss : 1.475530, [epoch:41, iter:0]\n",
      "train loss : 1.697490, [epoch:41, iter:100]\n",
      "train loss : 1.706624, [epoch:41, iter:200]\n"
     ]
    },
    {
     "name": "stderr",
     "output_type": "stream",
     "text": [
      "/home/qkrwnstj/anaconda3/envs/qkrwnstj/lib/python3.9/site-packages/PIL/TiffImagePlugin.py:858: UserWarning: Corrupt EXIF data.  Expecting to read 2 bytes but only got 0. \n",
      "  warnings.warn(str(msg))\n"
     ]
    },
    {
     "name": "stdout",
     "output_type": "stream",
     "text": [
      "train loss : 1.692679, [epoch:41, iter:300]\n",
      "train loss : 1.695918, [epoch:41, iter:400]\n",
      "train loss : 1.691177, [epoch:41, iter:500]\n",
      "train loss : 1.694541, [epoch:41, iter:600]\n",
      "train loss : 1.690999, [epoch:41, iter:700]\n",
      "train loss : 1.695997, [epoch:41, iter:800]\n",
      "train loss : 1.700315, [epoch:41, iter:900]\n",
      "train loss : 1.703488, [epoch:41, iter:1000]\n",
      "train loss : 1.704819, [epoch:41, iter:1100]\n"
     ]
    },
    {
     "name": "stderr",
     "output_type": "stream",
     "text": [
      "/home/qkrwnstj/anaconda3/envs/qkrwnstj/lib/python3.9/site-packages/PIL/TiffImagePlugin.py:858: UserWarning: Corrupt EXIF data.  Expecting to read 2 bytes but only got 0. \n",
      "  warnings.warn(str(msg))\n"
     ]
    },
    {
     "name": "stdout",
     "output_type": "stream",
     "text": [
      "train loss : 1.707345, [epoch:41, iter:1200]\n",
      "train loss : 1.703281, [epoch:41, iter:1300]\n",
      "train loss : 1.706256, [epoch:41, iter:1400]\n",
      "train loss : 1.706835, [epoch:41, iter:1500]\n",
      "train loss : 1.704324, [epoch:41, iter:1600]\n",
      "train loss : 1.703138, [epoch:41, iter:1700]\n",
      "train loss : 1.701248, [epoch:41, iter:1800]\n",
      "train loss : 1.704348, [epoch:41, iter:1900]\n",
      "TRAIN ACCURACY : 43.8% [26985/61664]\n"
     ]
    },
    {
     "name": "stderr",
     "output_type": "stream",
     "text": [
      "Train:  82%|████████████████████▌    | 41/50 [8:17:47<1:41:53, 679.27s/it]"
     ]
    },
    {
     "name": "stdout",
     "output_type": "stream",
     "text": [
      "TEST ACCURACY : 36.6% [4274/11680]\n",
      "\n",
      "EPOCH:41 | train loss : 1.703636254494711, test loss : 1.9016950287231027\n",
      "\n",
      "EPOCH 42 \n",
      "-------------------------\n",
      "train loss : 1.567692, [epoch:42, iter:0]\n",
      "train loss : 1.669070, [epoch:42, iter:100]\n",
      "train loss : 1.662508, [epoch:42, iter:200]\n",
      "train loss : 1.680170, [epoch:42, iter:300]\n",
      "train loss : 1.705970, [epoch:42, iter:400]\n",
      "train loss : 1.708077, [epoch:42, iter:500]\n",
      "train loss : 1.708955, [epoch:42, iter:600]\n",
      "train loss : 1.704536, [epoch:42, iter:700]\n"
     ]
    },
    {
     "name": "stderr",
     "output_type": "stream",
     "text": [
      "/home/qkrwnstj/anaconda3/envs/qkrwnstj/lib/python3.9/site-packages/PIL/TiffImagePlugin.py:858: UserWarning: Corrupt EXIF data.  Expecting to read 2 bytes but only got 0. \n",
      "  warnings.warn(str(msg))\n"
     ]
    },
    {
     "name": "stdout",
     "output_type": "stream",
     "text": [
      "train loss : 1.705797, [epoch:42, iter:800]\n"
     ]
    },
    {
     "name": "stderr",
     "output_type": "stream",
     "text": [
      "/home/qkrwnstj/anaconda3/envs/qkrwnstj/lib/python3.9/site-packages/PIL/TiffImagePlugin.py:858: UserWarning: Corrupt EXIF data.  Expecting to read 2 bytes but only got 0. \n",
      "  warnings.warn(str(msg))\n"
     ]
    },
    {
     "name": "stdout",
     "output_type": "stream",
     "text": [
      "train loss : 1.704293, [epoch:42, iter:900]\n",
      "train loss : 1.701803, [epoch:42, iter:1000]\n",
      "train loss : 1.701451, [epoch:42, iter:1100]\n",
      "train loss : 1.696837, [epoch:42, iter:1200]\n",
      "train loss : 1.699006, [epoch:42, iter:1300]\n",
      "train loss : 1.702572, [epoch:42, iter:1400]\n",
      "train loss : 1.700712, [epoch:42, iter:1500]\n",
      "train loss : 1.699351, [epoch:42, iter:1600]\n",
      "train loss : 1.700245, [epoch:42, iter:1700]\n",
      "train loss : 1.722294, [epoch:42, iter:1800]\n",
      "train loss : 1.753522, [epoch:42, iter:1900]\n",
      "TRAIN ACCURACY : 42.5% [26220/61664]\n"
     ]
    },
    {
     "name": "stderr",
     "output_type": "stream",
     "text": [
      "Train:  84%|█████████████████████    | 42/50 [8:29:09<1:30:40, 680.04s/it]"
     ]
    },
    {
     "name": "stdout",
     "output_type": "stream",
     "text": [
      "TEST ACCURACY : 25.5% [2973/11680]\n",
      "\n",
      "EPOCH:42 | train loss : 1.7586269524657918, test loss : 2.1631867105013702\n",
      "\n",
      "EPOCH 43 \n",
      "-------------------------\n",
      "train loss : 1.807133, [epoch:43, iter:0]\n",
      "train loss : 2.031716, [epoch:43, iter:100]\n",
      "train loss : 1.973668, [epoch:43, iter:200]\n",
      "train loss : 1.941790, [epoch:43, iter:300]\n",
      "train loss : 1.917496, [epoch:43, iter:400]\n",
      "train loss : 1.906241, [epoch:43, iter:500]\n",
      "train loss : 1.891540, [epoch:43, iter:600]\n",
      "train loss : 1.880578, [epoch:43, iter:700]\n",
      "train loss : 1.872713, [epoch:43, iter:800]\n",
      "train loss : 1.864677, [epoch:43, iter:900]\n",
      "train loss : 1.860719, [epoch:43, iter:1000]\n",
      "train loss : 1.853150, [epoch:43, iter:1100]\n"
     ]
    },
    {
     "name": "stderr",
     "output_type": "stream",
     "text": [
      "/home/qkrwnstj/anaconda3/envs/qkrwnstj/lib/python3.9/site-packages/PIL/TiffImagePlugin.py:858: UserWarning: Corrupt EXIF data.  Expecting to read 2 bytes but only got 0. \n",
      "  warnings.warn(str(msg))\n"
     ]
    },
    {
     "name": "stdout",
     "output_type": "stream",
     "text": [
      "train loss : 1.848438, [epoch:43, iter:1200]\n",
      "train loss : 1.842109, [epoch:43, iter:1300]\n",
      "train loss : 1.840032, [epoch:43, iter:1400]\n",
      "train loss : 1.836145, [epoch:43, iter:1500]\n",
      "train loss : 1.827991, [epoch:43, iter:1600]\n"
     ]
    },
    {
     "name": "stderr",
     "output_type": "stream",
     "text": [
      "/home/qkrwnstj/anaconda3/envs/qkrwnstj/lib/python3.9/site-packages/PIL/TiffImagePlugin.py:858: UserWarning: Corrupt EXIF data.  Expecting to read 2 bytes but only got 0. \n",
      "  warnings.warn(str(msg))\n"
     ]
    },
    {
     "name": "stdout",
     "output_type": "stream",
     "text": [
      "train loss : 1.822987, [epoch:43, iter:1700]\n",
      "train loss : 1.818131, [epoch:43, iter:1800]\n",
      "train loss : 1.813308, [epoch:43, iter:1900]\n",
      "TRAIN ACCURACY : 40.0% [24670/61664]\n"
     ]
    },
    {
     "name": "stderr",
     "output_type": "stream",
     "text": [
      "Train:  86%|█████████████████████▌   | 43/50 [8:40:30<1:19:23, 680.48s/it]"
     ]
    },
    {
     "name": "stdout",
     "output_type": "stream",
     "text": [
      "TEST ACCURACY : 33.0% [3855/11680]\n",
      "\n",
      "EPOCH:43 | train loss : 1.812604633835108, test loss : 1.9482842380053376\n",
      "\n",
      "EPOCH 44 \n",
      "-------------------------\n",
      "train loss : 1.859938, [epoch:44, iter:0]\n",
      "train loss : 1.693062, [epoch:44, iter:100]\n",
      "train loss : 1.709291, [epoch:44, iter:200]\n",
      "train loss : 1.720202, [epoch:44, iter:300]\n",
      "train loss : 1.714648, [epoch:44, iter:400]\n"
     ]
    },
    {
     "name": "stderr",
     "output_type": "stream",
     "text": [
      "/home/qkrwnstj/anaconda3/envs/qkrwnstj/lib/python3.9/site-packages/PIL/TiffImagePlugin.py:858: UserWarning: Corrupt EXIF data.  Expecting to read 2 bytes but only got 0. \n",
      "  warnings.warn(str(msg))\n"
     ]
    },
    {
     "name": "stdout",
     "output_type": "stream",
     "text": [
      "train loss : 1.714565, [epoch:44, iter:500]\n",
      "train loss : 1.722754, [epoch:44, iter:600]\n"
     ]
    },
    {
     "name": "stderr",
     "output_type": "stream",
     "text": [
      "/home/qkrwnstj/anaconda3/envs/qkrwnstj/lib/python3.9/site-packages/PIL/TiffImagePlugin.py:858: UserWarning: Corrupt EXIF data.  Expecting to read 2 bytes but only got 0. \n",
      "  warnings.warn(str(msg))\n"
     ]
    },
    {
     "name": "stdout",
     "output_type": "stream",
     "text": [
      "train loss : 1.716794, [epoch:44, iter:700]\n",
      "train loss : 1.715241, [epoch:44, iter:800]\n",
      "train loss : 1.713891, [epoch:44, iter:900]\n",
      "train loss : 1.713027, [epoch:44, iter:1000]\n",
      "train loss : 1.710138, [epoch:44, iter:1100]\n",
      "train loss : 1.708487, [epoch:44, iter:1200]\n",
      "train loss : 1.707110, [epoch:44, iter:1300]\n",
      "train loss : 1.707827, [epoch:44, iter:1400]\n",
      "train loss : 1.709262, [epoch:44, iter:1500]\n",
      "train loss : 1.709673, [epoch:44, iter:1600]\n",
      "train loss : 1.711288, [epoch:44, iter:1700]\n",
      "train loss : 1.712951, [epoch:44, iter:1800]\n",
      "train loss : 1.713305, [epoch:44, iter:1900]\n",
      "TRAIN ACCURACY : 43.5% [26840/61664]\n"
     ]
    },
    {
     "name": "stderr",
     "output_type": "stream",
     "text": [
      "Train:  88%|██████████████████████   | 44/50 [8:51:50<1:08:00, 680.12s/it]"
     ]
    },
    {
     "name": "stdout",
     "output_type": "stream",
     "text": [
      "TEST ACCURACY : 38.6% [4509/11680]\n",
      "\n",
      "EPOCH:44 | train loss : 1.7127597429125063, test loss : 1.913184047071901\n",
      "\n",
      "EPOCH 45 \n",
      "-------------------------\n",
      "train loss : 1.889284, [epoch:45, iter:0]\n",
      "train loss : 1.736492, [epoch:45, iter:100]\n",
      "train loss : 1.716105, [epoch:45, iter:200]\n",
      "train loss : 1.708623, [epoch:45, iter:300]\n",
      "train loss : 1.720935, [epoch:45, iter:400]\n",
      "train loss : 1.717309, [epoch:45, iter:500]\n",
      "train loss : 1.710540, [epoch:45, iter:600]\n",
      "train loss : 1.707625, [epoch:45, iter:700]\n"
     ]
    },
    {
     "name": "stderr",
     "output_type": "stream",
     "text": [
      "/home/qkrwnstj/anaconda3/envs/qkrwnstj/lib/python3.9/site-packages/PIL/TiffImagePlugin.py:858: UserWarning: Corrupt EXIF data.  Expecting to read 2 bytes but only got 0. \n",
      "  warnings.warn(str(msg))\n"
     ]
    },
    {
     "name": "stdout",
     "output_type": "stream",
     "text": [
      "train loss : 1.709286, [epoch:45, iter:800]\n",
      "train loss : 1.710053, [epoch:45, iter:900]\n",
      "train loss : 1.706277, [epoch:45, iter:1000]\n",
      "train loss : 1.712929, [epoch:45, iter:1100]\n",
      "train loss : 1.710953, [epoch:45, iter:1200]\n",
      "train loss : 1.712206, [epoch:45, iter:1300]\n"
     ]
    },
    {
     "name": "stderr",
     "output_type": "stream",
     "text": [
      "/home/qkrwnstj/anaconda3/envs/qkrwnstj/lib/python3.9/site-packages/PIL/TiffImagePlugin.py:858: UserWarning: Corrupt EXIF data.  Expecting to read 2 bytes but only got 0. \n",
      "  warnings.warn(str(msg))\n"
     ]
    },
    {
     "name": "stdout",
     "output_type": "stream",
     "text": [
      "train loss : 1.712197, [epoch:45, iter:1400]\n",
      "train loss : 1.711921, [epoch:45, iter:1500]\n",
      "train loss : 1.710372, [epoch:45, iter:1600]\n",
      "train loss : 1.710991, [epoch:45, iter:1700]\n",
      "train loss : 1.710135, [epoch:45, iter:1800]\n",
      "train loss : 1.711430, [epoch:45, iter:1900]\n",
      "TRAIN ACCURACY : 43.7% [26969/61664]\n"
     ]
    },
    {
     "name": "stderr",
     "output_type": "stream",
     "text": [
      "Train:  90%|████████████████████████▎  | 45/50 [9:03:08<56:38, 679.71s/it]"
     ]
    },
    {
     "name": "stdout",
     "output_type": "stream",
     "text": [
      "TEST ACCURACY : 37.3% [4353/11680]\n",
      "\n",
      "EPOCH:45 | train loss : 1.7111676276874592, test loss : 1.8670427544476236\n",
      "\n",
      "EPOCH 46 \n",
      "-------------------------\n",
      "train loss : 1.485822, [epoch:46, iter:0]\n",
      "train loss : 2.016836, [epoch:46, iter:100]\n",
      "train loss : 1.920107, [epoch:46, iter:200]\n"
     ]
    },
    {
     "name": "stderr",
     "output_type": "stream",
     "text": [
      "/home/qkrwnstj/anaconda3/envs/qkrwnstj/lib/python3.9/site-packages/PIL/TiffImagePlugin.py:858: UserWarning: Corrupt EXIF data.  Expecting to read 2 bytes but only got 0. \n",
      "  warnings.warn(str(msg))\n"
     ]
    },
    {
     "name": "stdout",
     "output_type": "stream",
     "text": [
      "train loss : 1.852113, [epoch:46, iter:300]\n",
      "train loss : 1.816780, [epoch:46, iter:400]\n",
      "train loss : 1.795943, [epoch:46, iter:500]\n",
      "train loss : 1.782682, [epoch:46, iter:600]\n",
      "train loss : 1.770775, [epoch:46, iter:700]\n",
      "train loss : 1.760664, [epoch:46, iter:800]\n",
      "train loss : 1.756116, [epoch:46, iter:900]\n",
      "train loss : 1.758270, [epoch:46, iter:1000]\n",
      "train loss : 1.751412, [epoch:46, iter:1100]\n"
     ]
    },
    {
     "name": "stderr",
     "output_type": "stream",
     "text": [
      "/home/qkrwnstj/anaconda3/envs/qkrwnstj/lib/python3.9/site-packages/PIL/TiffImagePlugin.py:858: UserWarning: Corrupt EXIF data.  Expecting to read 2 bytes but only got 0. \n",
      "  warnings.warn(str(msg))\n"
     ]
    },
    {
     "name": "stdout",
     "output_type": "stream",
     "text": [
      "train loss : 1.746851, [epoch:46, iter:1200]\n",
      "train loss : 1.740927, [epoch:46, iter:1300]\n",
      "train loss : 1.739275, [epoch:46, iter:1400]\n",
      "train loss : 1.732758, [epoch:46, iter:1500]\n",
      "train loss : 1.733697, [epoch:46, iter:1600]\n",
      "train loss : 1.731266, [epoch:46, iter:1700]\n",
      "train loss : 1.730320, [epoch:46, iter:1800]\n",
      "train loss : 1.729678, [epoch:46, iter:1900]\n",
      "TRAIN ACCURACY : 43.1% [26606/61664]\n"
     ]
    },
    {
     "name": "stderr",
     "output_type": "stream",
     "text": [
      "Train:  92%|████████████████████████▊  | 46/50 [9:14:32<45:24, 681.01s/it]"
     ]
    },
    {
     "name": "stdout",
     "output_type": "stream",
     "text": [
      "TEST ACCURACY : 26.6% [3108/11680]\n",
      "\n",
      "EPOCH:46 | train loss : 1.7435345407217726, test loss : 2.185310955243568\n",
      "\n",
      "EPOCH 47 \n",
      "-------------------------\n",
      "train loss : 2.016847, [epoch:47, iter:0]\n",
      "train loss : 1.858443, [epoch:47, iter:100]\n",
      "train loss : 1.815673, [epoch:47, iter:200]\n",
      "train loss : 1.798555, [epoch:47, iter:300]\n",
      "train loss : 1.779088, [epoch:47, iter:400]\n"
     ]
    },
    {
     "name": "stderr",
     "output_type": "stream",
     "text": [
      "/home/qkrwnstj/anaconda3/envs/qkrwnstj/lib/python3.9/site-packages/PIL/TiffImagePlugin.py:858: UserWarning: Corrupt EXIF data.  Expecting to read 2 bytes but only got 0. \n",
      "  warnings.warn(str(msg))\n"
     ]
    },
    {
     "name": "stdout",
     "output_type": "stream",
     "text": [
      "train loss : 1.794328, [epoch:47, iter:500]\n",
      "train loss : 1.787378, [epoch:47, iter:600]\n",
      "train loss : 1.784158, [epoch:47, iter:700]\n",
      "train loss : 1.775785, [epoch:47, iter:800]\n"
     ]
    },
    {
     "name": "stderr",
     "output_type": "stream",
     "text": [
      "/home/qkrwnstj/anaconda3/envs/qkrwnstj/lib/python3.9/site-packages/PIL/TiffImagePlugin.py:858: UserWarning: Corrupt EXIF data.  Expecting to read 2 bytes but only got 0. \n",
      "  warnings.warn(str(msg))\n"
     ]
    },
    {
     "name": "stdout",
     "output_type": "stream",
     "text": [
      "train loss : 1.770300, [epoch:47, iter:900]\n",
      "train loss : 1.762098, [epoch:47, iter:1000]\n",
      "train loss : 1.761350, [epoch:47, iter:1100]\n",
      "train loss : 1.765075, [epoch:47, iter:1200]\n",
      "train loss : 1.762305, [epoch:47, iter:1300]\n",
      "train loss : 1.757915, [epoch:47, iter:1400]\n",
      "train loss : 1.757825, [epoch:47, iter:1500]\n",
      "train loss : 1.753067, [epoch:47, iter:1600]\n",
      "train loss : 1.751012, [epoch:47, iter:1700]\n",
      "train loss : 1.748499, [epoch:47, iter:1800]\n",
      "train loss : 1.746839, [epoch:47, iter:1900]\n",
      "TRAIN ACCURACY : 42.4% [26141/61664]\n"
     ]
    },
    {
     "name": "stderr",
     "output_type": "stream",
     "text": [
      "Train:  94%|█████████████████████████▍ | 47/50 [9:25:54<34:03, 681.19s/it]"
     ]
    },
    {
     "name": "stdout",
     "output_type": "stream",
     "text": [
      "TEST ACCURACY : 37.1% [4333/11680]\n",
      "\n",
      "EPOCH:47 | train loss : 1.7452460826835177, test loss : 1.8796475129584744\n",
      "\n",
      "EPOCH 48 \n",
      "-------------------------\n",
      "train loss : 1.884256, [epoch:48, iter:0]\n",
      "train loss : 1.722976, [epoch:48, iter:100]\n",
      "train loss : 1.718421, [epoch:48, iter:200]\n",
      "train loss : 1.712309, [epoch:48, iter:300]\n",
      "train loss : 1.717941, [epoch:48, iter:400]\n",
      "train loss : 1.710578, [epoch:48, iter:500]\n",
      "train loss : 1.710188, [epoch:48, iter:600]\n",
      "train loss : 1.706107, [epoch:48, iter:700]\n"
     ]
    },
    {
     "name": "stderr",
     "output_type": "stream",
     "text": [
      "/home/qkrwnstj/anaconda3/envs/qkrwnstj/lib/python3.9/site-packages/PIL/TiffImagePlugin.py:858: UserWarning: Corrupt EXIF data.  Expecting to read 2 bytes but only got 0. \n",
      "  warnings.warn(str(msg))\n"
     ]
    },
    {
     "name": "stdout",
     "output_type": "stream",
     "text": [
      "train loss : 1.703211, [epoch:48, iter:800]\n",
      "train loss : 1.701136, [epoch:48, iter:900]\n",
      "train loss : 1.702008, [epoch:48, iter:1000]\n",
      "train loss : 1.699244, [epoch:48, iter:1100]\n",
      "train loss : 1.696408, [epoch:48, iter:1200]\n",
      "train loss : 1.696802, [epoch:48, iter:1300]\n"
     ]
    },
    {
     "name": "stderr",
     "output_type": "stream",
     "text": [
      "/home/qkrwnstj/anaconda3/envs/qkrwnstj/lib/python3.9/site-packages/PIL/TiffImagePlugin.py:858: UserWarning: Corrupt EXIF data.  Expecting to read 2 bytes but only got 0. \n",
      "  warnings.warn(str(msg))\n"
     ]
    },
    {
     "name": "stdout",
     "output_type": "stream",
     "text": [
      "train loss : 1.702311, [epoch:48, iter:1400]\n",
      "train loss : 1.703112, [epoch:48, iter:1500]\n",
      "train loss : 1.704832, [epoch:48, iter:1600]\n",
      "train loss : 1.706548, [epoch:48, iter:1700]\n",
      "train loss : 1.704956, [epoch:48, iter:1800]\n",
      "train loss : 1.707431, [epoch:48, iter:1900]\n",
      "TRAIN ACCURACY : 43.7% [26976/61664]\n"
     ]
    },
    {
     "name": "stderr",
     "output_type": "stream",
     "text": [
      "Train:  96%|█████████████████████████▉ | 48/50 [9:37:15<22:42, 681.01s/it]"
     ]
    },
    {
     "name": "stdout",
     "output_type": "stream",
     "text": [
      "TEST ACCURACY : 40.2% [4699/11680]\n",
      "\n",
      "EPOCH:48 | train loss : 1.7072761647739618, test loss : 1.9063919224151193\n",
      "\n",
      "EPOCH 49 \n",
      "-------------------------\n",
      "train loss : 1.521383, [epoch:49, iter:0]\n",
      "train loss : 1.703253, [epoch:49, iter:100]\n",
      "train loss : 1.702880, [epoch:49, iter:200]\n",
      "train loss : 1.693133, [epoch:49, iter:300]\n",
      "train loss : 1.698506, [epoch:49, iter:400]\n",
      "train loss : 1.707934, [epoch:49, iter:500]\n",
      "train loss : 1.706594, [epoch:49, iter:600]\n",
      "train loss : 1.706105, [epoch:49, iter:700]\n",
      "train loss : 1.700894, [epoch:49, iter:800]\n",
      "train loss : 1.700769, [epoch:49, iter:900]\n"
     ]
    },
    {
     "name": "stderr",
     "output_type": "stream",
     "text": [
      "/home/qkrwnstj/anaconda3/envs/qkrwnstj/lib/python3.9/site-packages/PIL/TiffImagePlugin.py:858: UserWarning: Corrupt EXIF data.  Expecting to read 2 bytes but only got 0. \n",
      "  warnings.warn(str(msg))\n"
     ]
    },
    {
     "name": "stdout",
     "output_type": "stream",
     "text": [
      "train loss : 1.700655, [epoch:49, iter:1000]\n",
      "train loss : 1.704569, [epoch:49, iter:1100]\n",
      "train loss : 1.705923, [epoch:49, iter:1200]\n"
     ]
    },
    {
     "name": "stderr",
     "output_type": "stream",
     "text": [
      "/home/qkrwnstj/anaconda3/envs/qkrwnstj/lib/python3.9/site-packages/PIL/TiffImagePlugin.py:858: UserWarning: Corrupt EXIF data.  Expecting to read 2 bytes but only got 0. \n",
      "  warnings.warn(str(msg))\n"
     ]
    },
    {
     "name": "stdout",
     "output_type": "stream",
     "text": [
      "train loss : 1.707000, [epoch:49, iter:1300]\n",
      "train loss : 1.707503, [epoch:49, iter:1400]\n",
      "train loss : 1.712052, [epoch:49, iter:1500]\n",
      "train loss : 1.710337, [epoch:49, iter:1600]\n",
      "train loss : 1.707811, [epoch:49, iter:1700]\n",
      "train loss : 1.705698, [epoch:49, iter:1800]\n",
      "train loss : 1.703354, [epoch:49, iter:1900]\n",
      "TRAIN ACCURACY : 43.6% [26866/61664]\n"
     ]
    },
    {
     "name": "stderr",
     "output_type": "stream",
     "text": [
      "Train:  98%|██████████████████████████▍| 49/50 [9:48:35<11:20, 680.70s/it]"
     ]
    },
    {
     "name": "stdout",
     "output_type": "stream",
     "text": [
      "TEST ACCURACY : 35.6% [4159/11680]\n",
      "\n",
      "EPOCH:49 | train loss : 1.70479476315776, test loss : 1.8564837837872439\n",
      "\n",
      "EPOCH 50 \n",
      "-------------------------\n",
      "train loss : 1.628141, [epoch:50, iter:0]\n",
      "train loss : 1.705814, [epoch:50, iter:100]\n",
      "train loss : 1.689427, [epoch:50, iter:200]\n",
      "train loss : 1.695006, [epoch:50, iter:300]\n"
     ]
    },
    {
     "name": "stderr",
     "output_type": "stream",
     "text": [
      "/home/qkrwnstj/anaconda3/envs/qkrwnstj/lib/python3.9/site-packages/PIL/TiffImagePlugin.py:858: UserWarning: Corrupt EXIF data.  Expecting to read 2 bytes but only got 0. \n",
      "  warnings.warn(str(msg))\n"
     ]
    },
    {
     "name": "stdout",
     "output_type": "stream",
     "text": [
      "train loss : 1.681538, [epoch:50, iter:400]\n",
      "train loss : 1.683196, [epoch:50, iter:500]\n",
      "train loss : 1.688860, [epoch:50, iter:600]\n"
     ]
    },
    {
     "name": "stderr",
     "output_type": "stream",
     "text": [
      "/home/qkrwnstj/anaconda3/envs/qkrwnstj/lib/python3.9/site-packages/PIL/TiffImagePlugin.py:858: UserWarning: Corrupt EXIF data.  Expecting to read 2 bytes but only got 0. \n",
      "  warnings.warn(str(msg))\n"
     ]
    },
    {
     "name": "stdout",
     "output_type": "stream",
     "text": [
      "train loss : 1.691286, [epoch:50, iter:700]\n",
      "train loss : 1.688189, [epoch:50, iter:800]\n",
      "train loss : 1.688458, [epoch:50, iter:900]\n",
      "train loss : 1.694781, [epoch:50, iter:1000]\n",
      "train loss : 1.697349, [epoch:50, iter:1100]\n",
      "train loss : 1.700450, [epoch:50, iter:1200]\n",
      "train loss : 1.699574, [epoch:50, iter:1300]\n",
      "train loss : 1.700504, [epoch:50, iter:1400]\n",
      "train loss : 1.700705, [epoch:50, iter:1500]\n",
      "train loss : 1.702600, [epoch:50, iter:1600]\n",
      "train loss : 1.702092, [epoch:50, iter:1700]\n",
      "train loss : 1.701871, [epoch:50, iter:1800]\n",
      "train loss : 1.703473, [epoch:50, iter:1900]\n",
      "TRAIN ACCURACY : 44.1% [27175/61664]\n"
     ]
    },
    {
     "name": "stderr",
     "output_type": "stream",
     "text": [
      "Train: 100%|███████████████████████████| 50/50 [9:59:56<00:00, 719.92s/it]"
     ]
    },
    {
     "name": "stdout",
     "output_type": "stream",
     "text": [
      "TEST ACCURACY : 31.3% [3658/11680]\n",
      "\n",
      "EPOCH:50 | train loss : 1.703908616666294, test loss : 2.0917261097529165\n",
      "\n",
      "DONE!\n"
     ]
    },
    {
     "name": "stderr",
     "output_type": "stream",
     "text": [
      "\n"
     ]
    }
   ],
   "source": [
    "train_loss_lst, test_loss_lst = [], []\n",
    "\n",
    "model_version = 1\n",
    "\n",
    "\n",
    "test_best_loss = 100\n",
    "test_current_loss = 100\n",
    "early_stop_threshold = 5\n",
    "early_stop_trigger = 0\n",
    "\n",
    "model = model.to(DEVICE)\n",
    "\n",
    "for i in tqdm(range(EPOCH), desc = 'Train'):\n",
    "    print(f\"EPOCH {i+1} \\n-------------------------\")\n",
    "    train_loss = train(train_dataloader, model, optimizer, criterion, i+1)\n",
    "    test_loss = test(test_dataloader, model, criterion, i+1)\n",
    "\n",
    "    train_loss_lst.append(train_loss)\n",
    "    test_loss_lst.append(test_loss)\n",
    "\n",
    "    if test_loss < test_best_loss :\n",
    "        print(\"...MODEL SAVE...\")\n",
    "        test_best_loss = test_loss \n",
    "        \n",
    "        if model_version == 0:\n",
    "            torch.save(model.state_dict(),'contrastive_model_for_style_weight_v2_without_target_style.pth')\n",
    "        else:\n",
    "            torch.save(model.state_dict(),'contrastive_model_for_style_weight_vgg_freeze.pth')\n",
    "        \n",
    "    if test_current_loss < test_loss:\n",
    "        early_stop_trigger += 1 \n",
    "    else:\n",
    "        early_stop_trigger = 0 \n",
    "    test_current_loss  = test_loss \n",
    "\n",
    "    print(f'\\nEPOCH:{i+1} | train loss : {train_loss}, test loss : {test_loss}\\n')\n",
    "    \n",
    "    if early_stop_trigger >= early_stop_threshold:\n",
    "        break\n",
    "        \n",
    "print(\"DONE!\")"
   ]
  },
  {
   "cell_type": "code",
   "execution_count": null,
   "id": "da12b1f9-ee33-4e24-9983-47749d373c2f",
   "metadata": {},
   "outputs": [],
   "source": []
  },
  {
   "cell_type": "code",
   "execution_count": null,
   "id": "ccb57e56-33cf-454e-8697-013513763e4f",
   "metadata": {},
   "outputs": [],
   "source": []
  },
  {
   "cell_type": "code",
   "execution_count": null,
   "id": "26709857-15e0-4ede-862a-22fda793c382",
   "metadata": {},
   "outputs": [],
   "source": []
  },
  {
   "cell_type": "code",
   "execution_count": null,
   "id": "fa5c944c-41ba-4c1d-8355-c45ce9353491",
   "metadata": {},
   "outputs": [],
   "source": []
  },
  {
   "cell_type": "code",
   "execution_count": null,
   "id": "beb22a7e-3405-4c50-8caa-2134613b3bff",
   "metadata": {},
   "outputs": [],
   "source": []
  },
  {
   "cell_type": "code",
   "execution_count": null,
   "id": "3ba4c834-847f-4c42-9eb1-6cd8767a246c",
   "metadata": {},
   "outputs": [],
   "source": []
  }
 ],
 "metadata": {
  "kernelspec": {
   "display_name": "qkrwnstj",
   "language": "python",
   "name": "qkrwnstj"
  },
  "language_info": {
   "codemirror_mode": {
    "name": "ipython",
    "version": 3
   },
   "file_extension": ".py",
   "mimetype": "text/x-python",
   "name": "python",
   "nbconvert_exporter": "python",
   "pygments_lexer": "ipython3",
   "version": "3.9.1"
  }
 },
 "nbformat": 4,
 "nbformat_minor": 5
}
