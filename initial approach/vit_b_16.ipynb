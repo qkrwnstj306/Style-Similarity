{
 "cells": [
  {
   "cell_type": "code",
   "execution_count": 16,
   "id": "c55f199e-724e-4a6d-8490-526496c038ea",
   "metadata": {},
   "outputs": [],
   "source": [
    "import torchvision\n",
    "from torchvision import models\n",
    "from torchvision.datasets import ImageFolder\n",
    "import torchvision.transforms as transforms\n",
    "from torch.utils.data import Dataset, DataLoader\n",
    "\n",
    "import os, subprocess\n",
    "import matplotlib.pyplot as plt\n",
    "import numpy as np\n",
    "from PIL import Image"
   ]
  },
  {
   "cell_type": "code",
   "execution_count": 17,
   "id": "6e9e42c5-62b1-4b1e-ac5d-6df3cd731284",
   "metadata": {
    "scrolled": true
   },
   "outputs": [
    {
     "ename": "TypeError",
     "evalue": "'str' object is not callable",
     "output_type": "error",
     "traceback": [
      "\u001b[0;31m---------------------------------------------------------------------------\u001b[0m",
      "\u001b[0;31mTypeError\u001b[0m                                 Traceback (most recent call last)",
      "Cell \u001b[0;32mIn[17], line 1\u001b[0m\n\u001b[0;32m----> 1\u001b[0m \u001b[38;5;28;01mfor\u001b[39;00m name \u001b[38;5;129;01min\u001b[39;00m \u001b[38;5;28;43mdir\u001b[39;49m\u001b[43m(\u001b[49m\u001b[43mtorchvision\u001b[49m\u001b[38;5;241;43m.\u001b[39;49m\u001b[43mmodels\u001b[49m\u001b[43m)\u001b[49m:\n\u001b[1;32m      2\u001b[0m     \u001b[38;5;28mprint\u001b[39m(name)\n",
      "\u001b[0;31mTypeError\u001b[0m: 'str' object is not callable"
     ]
    }
   ],
   "source": [
    "for name in dir(torchvision.models):\n",
    "    print(name)"
   ]
  },
  {
   "cell_type": "code",
   "execution_count": 18,
   "id": "7ed23181-947c-4d44-ac54-29c452c5e0f8",
   "metadata": {
    "scrolled": true
   },
   "outputs": [
    {
     "data": {
      "text/plain": [
       "VisionTransformer(\n",
       "  (conv_proj): Conv2d(3, 768, kernel_size=(16, 16), stride=(16, 16))\n",
       "  (encoder): Encoder(\n",
       "    (dropout): Dropout(p=0.0, inplace=False)\n",
       "    (layers): Sequential(\n",
       "      (encoder_layer_0): EncoderBlock(\n",
       "        (ln_1): LayerNorm((768,), eps=1e-06, elementwise_affine=True)\n",
       "        (self_attention): MultiheadAttention(\n",
       "          (out_proj): NonDynamicallyQuantizableLinear(in_features=768, out_features=768, bias=True)\n",
       "        )\n",
       "        (dropout): Dropout(p=0.0, inplace=False)\n",
       "        (ln_2): LayerNorm((768,), eps=1e-06, elementwise_affine=True)\n",
       "        (mlp): MLPBlock(\n",
       "          (0): Linear(in_features=768, out_features=3072, bias=True)\n",
       "          (1): GELU(approximate='none')\n",
       "          (2): Dropout(p=0.0, inplace=False)\n",
       "          (3): Linear(in_features=3072, out_features=768, bias=True)\n",
       "          (4): Dropout(p=0.0, inplace=False)\n",
       "        )\n",
       "      )\n",
       "      (encoder_layer_1): EncoderBlock(\n",
       "        (ln_1): LayerNorm((768,), eps=1e-06, elementwise_affine=True)\n",
       "        (self_attention): MultiheadAttention(\n",
       "          (out_proj): NonDynamicallyQuantizableLinear(in_features=768, out_features=768, bias=True)\n",
       "        )\n",
       "        (dropout): Dropout(p=0.0, inplace=False)\n",
       "        (ln_2): LayerNorm((768,), eps=1e-06, elementwise_affine=True)\n",
       "        (mlp): MLPBlock(\n",
       "          (0): Linear(in_features=768, out_features=3072, bias=True)\n",
       "          (1): GELU(approximate='none')\n",
       "          (2): Dropout(p=0.0, inplace=False)\n",
       "          (3): Linear(in_features=3072, out_features=768, bias=True)\n",
       "          (4): Dropout(p=0.0, inplace=False)\n",
       "        )\n",
       "      )\n",
       "      (encoder_layer_2): EncoderBlock(\n",
       "        (ln_1): LayerNorm((768,), eps=1e-06, elementwise_affine=True)\n",
       "        (self_attention): MultiheadAttention(\n",
       "          (out_proj): NonDynamicallyQuantizableLinear(in_features=768, out_features=768, bias=True)\n",
       "        )\n",
       "        (dropout): Dropout(p=0.0, inplace=False)\n",
       "        (ln_2): LayerNorm((768,), eps=1e-06, elementwise_affine=True)\n",
       "        (mlp): MLPBlock(\n",
       "          (0): Linear(in_features=768, out_features=3072, bias=True)\n",
       "          (1): GELU(approximate='none')\n",
       "          (2): Dropout(p=0.0, inplace=False)\n",
       "          (3): Linear(in_features=3072, out_features=768, bias=True)\n",
       "          (4): Dropout(p=0.0, inplace=False)\n",
       "        )\n",
       "      )\n",
       "      (encoder_layer_3): EncoderBlock(\n",
       "        (ln_1): LayerNorm((768,), eps=1e-06, elementwise_affine=True)\n",
       "        (self_attention): MultiheadAttention(\n",
       "          (out_proj): NonDynamicallyQuantizableLinear(in_features=768, out_features=768, bias=True)\n",
       "        )\n",
       "        (dropout): Dropout(p=0.0, inplace=False)\n",
       "        (ln_2): LayerNorm((768,), eps=1e-06, elementwise_affine=True)\n",
       "        (mlp): MLPBlock(\n",
       "          (0): Linear(in_features=768, out_features=3072, bias=True)\n",
       "          (1): GELU(approximate='none')\n",
       "          (2): Dropout(p=0.0, inplace=False)\n",
       "          (3): Linear(in_features=3072, out_features=768, bias=True)\n",
       "          (4): Dropout(p=0.0, inplace=False)\n",
       "        )\n",
       "      )\n",
       "      (encoder_layer_4): EncoderBlock(\n",
       "        (ln_1): LayerNorm((768,), eps=1e-06, elementwise_affine=True)\n",
       "        (self_attention): MultiheadAttention(\n",
       "          (out_proj): NonDynamicallyQuantizableLinear(in_features=768, out_features=768, bias=True)\n",
       "        )\n",
       "        (dropout): Dropout(p=0.0, inplace=False)\n",
       "        (ln_2): LayerNorm((768,), eps=1e-06, elementwise_affine=True)\n",
       "        (mlp): MLPBlock(\n",
       "          (0): Linear(in_features=768, out_features=3072, bias=True)\n",
       "          (1): GELU(approximate='none')\n",
       "          (2): Dropout(p=0.0, inplace=False)\n",
       "          (3): Linear(in_features=3072, out_features=768, bias=True)\n",
       "          (4): Dropout(p=0.0, inplace=False)\n",
       "        )\n",
       "      )\n",
       "      (encoder_layer_5): EncoderBlock(\n",
       "        (ln_1): LayerNorm((768,), eps=1e-06, elementwise_affine=True)\n",
       "        (self_attention): MultiheadAttention(\n",
       "          (out_proj): NonDynamicallyQuantizableLinear(in_features=768, out_features=768, bias=True)\n",
       "        )\n",
       "        (dropout): Dropout(p=0.0, inplace=False)\n",
       "        (ln_2): LayerNorm((768,), eps=1e-06, elementwise_affine=True)\n",
       "        (mlp): MLPBlock(\n",
       "          (0): Linear(in_features=768, out_features=3072, bias=True)\n",
       "          (1): GELU(approximate='none')\n",
       "          (2): Dropout(p=0.0, inplace=False)\n",
       "          (3): Linear(in_features=3072, out_features=768, bias=True)\n",
       "          (4): Dropout(p=0.0, inplace=False)\n",
       "        )\n",
       "      )\n",
       "      (encoder_layer_6): EncoderBlock(\n",
       "        (ln_1): LayerNorm((768,), eps=1e-06, elementwise_affine=True)\n",
       "        (self_attention): MultiheadAttention(\n",
       "          (out_proj): NonDynamicallyQuantizableLinear(in_features=768, out_features=768, bias=True)\n",
       "        )\n",
       "        (dropout): Dropout(p=0.0, inplace=False)\n",
       "        (ln_2): LayerNorm((768,), eps=1e-06, elementwise_affine=True)\n",
       "        (mlp): MLPBlock(\n",
       "          (0): Linear(in_features=768, out_features=3072, bias=True)\n",
       "          (1): GELU(approximate='none')\n",
       "          (2): Dropout(p=0.0, inplace=False)\n",
       "          (3): Linear(in_features=3072, out_features=768, bias=True)\n",
       "          (4): Dropout(p=0.0, inplace=False)\n",
       "        )\n",
       "      )\n",
       "      (encoder_layer_7): EncoderBlock(\n",
       "        (ln_1): LayerNorm((768,), eps=1e-06, elementwise_affine=True)\n",
       "        (self_attention): MultiheadAttention(\n",
       "          (out_proj): NonDynamicallyQuantizableLinear(in_features=768, out_features=768, bias=True)\n",
       "        )\n",
       "        (dropout): Dropout(p=0.0, inplace=False)\n",
       "        (ln_2): LayerNorm((768,), eps=1e-06, elementwise_affine=True)\n",
       "        (mlp): MLPBlock(\n",
       "          (0): Linear(in_features=768, out_features=3072, bias=True)\n",
       "          (1): GELU(approximate='none')\n",
       "          (2): Dropout(p=0.0, inplace=False)\n",
       "          (3): Linear(in_features=3072, out_features=768, bias=True)\n",
       "          (4): Dropout(p=0.0, inplace=False)\n",
       "        )\n",
       "      )\n",
       "      (encoder_layer_8): EncoderBlock(\n",
       "        (ln_1): LayerNorm((768,), eps=1e-06, elementwise_affine=True)\n",
       "        (self_attention): MultiheadAttention(\n",
       "          (out_proj): NonDynamicallyQuantizableLinear(in_features=768, out_features=768, bias=True)\n",
       "        )\n",
       "        (dropout): Dropout(p=0.0, inplace=False)\n",
       "        (ln_2): LayerNorm((768,), eps=1e-06, elementwise_affine=True)\n",
       "        (mlp): MLPBlock(\n",
       "          (0): Linear(in_features=768, out_features=3072, bias=True)\n",
       "          (1): GELU(approximate='none')\n",
       "          (2): Dropout(p=0.0, inplace=False)\n",
       "          (3): Linear(in_features=3072, out_features=768, bias=True)\n",
       "          (4): Dropout(p=0.0, inplace=False)\n",
       "        )\n",
       "      )\n",
       "      (encoder_layer_9): EncoderBlock(\n",
       "        (ln_1): LayerNorm((768,), eps=1e-06, elementwise_affine=True)\n",
       "        (self_attention): MultiheadAttention(\n",
       "          (out_proj): NonDynamicallyQuantizableLinear(in_features=768, out_features=768, bias=True)\n",
       "        )\n",
       "        (dropout): Dropout(p=0.0, inplace=False)\n",
       "        (ln_2): LayerNorm((768,), eps=1e-06, elementwise_affine=True)\n",
       "        (mlp): MLPBlock(\n",
       "          (0): Linear(in_features=768, out_features=3072, bias=True)\n",
       "          (1): GELU(approximate='none')\n",
       "          (2): Dropout(p=0.0, inplace=False)\n",
       "          (3): Linear(in_features=3072, out_features=768, bias=True)\n",
       "          (4): Dropout(p=0.0, inplace=False)\n",
       "        )\n",
       "      )\n",
       "      (encoder_layer_10): EncoderBlock(\n",
       "        (ln_1): LayerNorm((768,), eps=1e-06, elementwise_affine=True)\n",
       "        (self_attention): MultiheadAttention(\n",
       "          (out_proj): NonDynamicallyQuantizableLinear(in_features=768, out_features=768, bias=True)\n",
       "        )\n",
       "        (dropout): Dropout(p=0.0, inplace=False)\n",
       "        (ln_2): LayerNorm((768,), eps=1e-06, elementwise_affine=True)\n",
       "        (mlp): MLPBlock(\n",
       "          (0): Linear(in_features=768, out_features=3072, bias=True)\n",
       "          (1): GELU(approximate='none')\n",
       "          (2): Dropout(p=0.0, inplace=False)\n",
       "          (3): Linear(in_features=3072, out_features=768, bias=True)\n",
       "          (4): Dropout(p=0.0, inplace=False)\n",
       "        )\n",
       "      )\n",
       "      (encoder_layer_11): EncoderBlock(\n",
       "        (ln_1): LayerNorm((768,), eps=1e-06, elementwise_affine=True)\n",
       "        (self_attention): MultiheadAttention(\n",
       "          (out_proj): NonDynamicallyQuantizableLinear(in_features=768, out_features=768, bias=True)\n",
       "        )\n",
       "        (dropout): Dropout(p=0.0, inplace=False)\n",
       "        (ln_2): LayerNorm((768,), eps=1e-06, elementwise_affine=True)\n",
       "        (mlp): MLPBlock(\n",
       "          (0): Linear(in_features=768, out_features=3072, bias=True)\n",
       "          (1): GELU(approximate='none')\n",
       "          (2): Dropout(p=0.0, inplace=False)\n",
       "          (3): Linear(in_features=3072, out_features=768, bias=True)\n",
       "          (4): Dropout(p=0.0, inplace=False)\n",
       "        )\n",
       "      )\n",
       "    )\n",
       "    (ln): LayerNorm((768,), eps=1e-06, elementwise_affine=True)\n",
       "  )\n",
       "  (heads): Sequential(\n",
       "    (head): Linear(in_features=768, out_features=1000, bias=True)\n",
       "  )\n",
       ")"
      ]
     },
     "execution_count": 18,
     "metadata": {},
     "output_type": "execute_result"
    }
   ],
   "source": [
    "import torch\n",
    "import torch.nn as nn\n",
    "\n",
    "from tqdm import tqdm\n",
    "\n",
    "# vit_b_16은 image size가 224 x 224 여야 한다.\n",
    "model = models.vit_b_16(pretrained=True)\n",
    "model"
   ]
  },
  {
   "cell_type": "code",
   "execution_count": 4,
   "id": "b4980d57-1108-4e39-8553-aaeb52c10de7",
   "metadata": {
    "scrolled": true
   },
   "outputs": [],
   "source": [
    "model.heads.head.out_features=33"
   ]
  },
  {
   "cell_type": "code",
   "execution_count": 5,
   "id": "40d23eac-13fc-4436-a075-40864791579e",
   "metadata": {},
   "outputs": [
    {
     "data": {
      "text/plain": [
       "86567656"
      ]
     },
     "execution_count": 5,
     "metadata": {},
     "output_type": "execute_result"
    }
   ],
   "source": [
    "#parameter 수 확인\n",
    "total_params = sum(p.numel() for p in model.parameters())\n",
    "total_params"
   ]
  },
  {
   "cell_type": "code",
   "execution_count": 6,
   "id": "f0f10d49-4b84-414c-8918-1f9c8d3d64f5",
   "metadata": {},
   "outputs": [],
   "source": [
    "data_dir = \"./data\"\n",
    "dir_lst = os.listdir(data_dir)\n",
    "for dir in dir_lst:\n",
    "    dir_path = os.listdir(f\"./data/{dir}\")\n",
    "\n",
    "    for name in dir_path:\n",
    "        if name == \".ipynb_checkpoints\":\n",
    "            print(name)\n",
    "            os.rmdir(f\"./data/{dir}/{name}\")"
   ]
  },
  {
   "cell_type": "code",
   "execution_count": 19,
   "id": "47bc6320-9ca4-4efa-a0d4-048f6b2ec4d5",
   "metadata": {},
   "outputs": [],
   "source": [
    "IMG_TRANSFORM = transforms.Compose([\n",
    "    transforms.ToTensor(),\n",
    "    transforms.Resize((224,224), antialias = True),\n",
    "    transforms.Normalize((0.5,0.5,0.5),(0.5,0.5,0.5)),\n",
    "    ])"
   ]
  },
  {
   "cell_type": "code",
   "execution_count": 20,
   "id": "a8d9d142-6f1a-47db-9797-e6760740d7ff",
   "metadata": {},
   "outputs": [],
   "source": [
    "train_imgfolder = ImageFolder(root=\"./data/train\",\n",
    "                              transform=IMG_TRANSFORM,\n",
    "                              target_transform=None\n",
    "                             )\n",
    "\n",
    "test_imgfolder = ImageFolder(root=\"./data/test\",\n",
    "                              transform=IMG_TRANSFORM\n",
    "                             )"
   ]
  },
  {
   "cell_type": "code",
   "execution_count": 28,
   "id": "5029d92a-00bc-4a3d-b6f9-86008c8995aa",
   "metadata": {},
   "outputs": [],
   "source": [
    "Image.MAX_IMAGE_PIXELS = None\n",
    "\n",
    "train_dataloader = DataLoader(dataset=train_imgfolder,\n",
    "\t\t\t\t\t\t\t  batch_size = 64,\n",
    "                              num_workers=os.cpu_count(),\n",
    "                              shuffle=True,\n",
    "                              drop_last=True \n",
    "                             )\n",
    "\n",
    "test_dataloader = DataLoader(dataset=test_imgfolder,\n",
    "\t\t\t\t\t\t\t  batch_size = 64,\n",
    "                              num_workers=os.cpu_count(),\n",
    "                              shuffle=True,\n",
    "                              drop_last=True \n",
    "                            )"
   ]
  },
  {
   "cell_type": "code",
   "execution_count": 29,
   "id": "22ac3976-a9b0-4fe2-934e-9ae687e7efed",
   "metadata": {},
   "outputs": [
    {
     "name": "stdout",
     "output_type": "stream",
     "text": [
      "Using device:  cuda:3\n"
     ]
    }
   ],
   "source": [
    "# model setting\n",
    "\n",
    "EPOCH = 150\n",
    "LEARNING_RATE = 1e-3 \n",
    "DEVICE = torch.device(\"cuda:3\" if torch.cuda.is_available() else \"cpu\")\n",
    "optimizer = torch.optim.Adam(model.parameters(), lr = LEARNING_RATE, weight_decay = 0.001)\n",
    "criterion = nn.CrossEntropyLoss()\n",
    "print(\"Using device: \",DEVICE)"
   ]
  },
  {
   "cell_type": "code",
   "execution_count": 30,
   "id": "a800dca9-50eb-4c37-8994-6c04c28ae140",
   "metadata": {},
   "outputs": [],
   "source": [
    "def loss_fn(class_output, label, criterion):\n",
    "    CE_loss = criterion(class_output, label)\n",
    "\n",
    "    return CE_loss "
   ]
  },
  {
   "cell_type": "code",
   "execution_count": 31,
   "id": "f35887cb-ff53-4df6-934c-04ef6048e88b",
   "metadata": {},
   "outputs": [],
   "source": [
    "def train(train_loader, model, optimizer, criterion, epoch):\n",
    "    model.train()\n",
    "    correct = 0\n",
    "    total = 0\n",
    "    \n",
    "    epoch_loss = []\n",
    "    for index, (img_data,labels) in enumerate(train_loader):\n",
    "        img_data, labels = img_data.to(DEVICE), labels.to(DEVICE)\n",
    "        optimizer.zero_grad()\n",
    "        \n",
    "        outputs = model(img_data)\n",
    "        loss = loss_fn(outputs, labels, criterion)\n",
    "        \n",
    "        _, predicted = torch.max(outputs.data, 1)\n",
    "        correct += (predicted == labels).sum().item()\n",
    "        total += labels.size(0)\n",
    "        \n",
    "        \n",
    "        loss.backward()\n",
    "        optimizer.step()\n",
    "\n",
    "        epoch_loss.append(loss.item())\n",
    "        if index%100==0:\n",
    "            print(f'train loss : {np.mean(epoch_loss):>7f}, [epoch:{epoch}, iter:{index}]')\n",
    "            \n",
    "    accuracy = correct / total\n",
    "    print(f\"TRAIN ACCURACY : {(100*accuracy):>0.1f}% [{correct}/{total}]\")\n",
    "    return np.mean(epoch_loss)"
   ]
  },
  {
   "cell_type": "code",
   "execution_count": 32,
   "id": "166bbec2-b81c-46cf-9586-7a0a468f3dbb",
   "metadata": {},
   "outputs": [],
   "source": [
    "def test(test_loader, model, criterion, epoch):\n",
    "    model.eval()\n",
    "\n",
    "    epoch_loss = []\n",
    "    correct = 0\n",
    "    total = 0\n",
    "    \n",
    "    with torch.no_grad():\n",
    "        for index, (img_data,labels) in enumerate(test_loader):\n",
    "            img_data, labels = img_data.to(DEVICE), labels.to(DEVICE)\n",
    "            outputs = model(img_data)\n",
    "    \n",
    "            loss = loss_fn(outputs, labels, criterion)\n",
    "\n",
    "            _, predicted = torch.max(outputs.data, 1)\n",
    "            correct += (predicted == labels).sum().item()\n",
    "            total += labels.size(0)\n",
    "            \n",
    "            epoch_loss.append(loss.item())\n",
    "    \n",
    "    accuracy = correct / total\n",
    "    \n",
    "    print(f\"TEST ACCURACY : {(100*accuracy):>0.1f}% [{correct}/{total}]\")\n",
    "    return np.mean(epoch_loss)"
   ]
  },
  {
   "cell_type": "code",
   "execution_count": 33,
   "id": "ee5442db-aa3a-4554-a670-99f3b731dafc",
   "metadata": {},
   "outputs": [],
   "source": [
    "import gc\n",
    "gc.collect()\n",
    "torch.cuda.empty_cache()"
   ]
  },
  {
   "cell_type": "code",
   "execution_count": null,
   "id": "858b7500-0e83-47c8-aba7-f9e360ea25c5",
   "metadata": {
    "scrolled": true
   },
   "outputs": [
    {
     "name": "stderr",
     "output_type": "stream",
     "text": [
      "Train:   0%|                                      | 0/150 [00:00<?, ?it/s]"
     ]
    },
    {
     "name": "stdout",
     "output_type": "stream",
     "text": [
      "EPOCH 1 \n",
      "-------------------------\n"
     ]
    },
    {
     "name": "stderr",
     "output_type": "stream",
     "text": [
      "/home/qkrwnstj/anaconda3/envs/qkrwnstj/lib/python3.9/site-packages/PIL/TiffImagePlugin.py:858: UserWarning: Corrupt EXIF data.  Expecting to read 2 bytes but only got 0. \n",
      "  warnings.warn(str(msg))\n"
     ]
    },
    {
     "name": "stdout",
     "output_type": "stream",
     "text": [
      "train loss : 3.480208, [epoch:1, iter:0]\n",
      "train loss : 3.429360, [epoch:1, iter:100]\n",
      "train loss : 3.389463, [epoch:1, iter:200]\n"
     ]
    },
    {
     "name": "stderr",
     "output_type": "stream",
     "text": [
      "/home/qkrwnstj/anaconda3/envs/qkrwnstj/lib/python3.9/site-packages/PIL/TiffImagePlugin.py:858: UserWarning: Corrupt EXIF data.  Expecting to read 2 bytes but only got 0. \n",
      "  warnings.warn(str(msg))\n"
     ]
    },
    {
     "name": "stdout",
     "output_type": "stream",
     "text": [
      "train loss : 3.346940, [epoch:1, iter:300]\n",
      "train loss : 3.307345, [epoch:1, iter:400]\n",
      "train loss : 3.270574, [epoch:1, iter:500]\n",
      "train loss : 3.244969, [epoch:1, iter:600]\n",
      "train loss : 3.222026, [epoch:1, iter:700]\n",
      "train loss : 3.203458, [epoch:1, iter:800]\n",
      "train loss : 3.187826, [epoch:1, iter:900]\n",
      "train loss : 3.172377, [epoch:1, iter:1000]\n",
      "train loss : 3.156097, [epoch:1, iter:1100]\n",
      "train loss : 3.143395, [epoch:1, iter:1200]\n",
      "TRAIN ACCURACY : 14.0% [11194/80128]\n",
      "TEST ACCURACY : 10.3% [1839/17792]\n",
      "...MODEL SAVE...\n"
     ]
    },
    {
     "name": "stderr",
     "output_type": "stream",
     "text": [
      "Train:   1%|▏                         | 1/150 [16:18<40:29:30, 978.33s/it]"
     ]
    },
    {
     "name": "stdout",
     "output_type": "stream",
     "text": [
      "\n",
      "EPOCH:1 | train loss : 3.1372056670082262, test loss : 3.2072344160766053\n",
      "\n",
      "EPOCH 2 \n",
      "-------------------------\n",
      "train loss : 3.043150, [epoch:2, iter:0]\n"
     ]
    },
    {
     "name": "stderr",
     "output_type": "stream",
     "text": [
      "/home/qkrwnstj/anaconda3/envs/qkrwnstj/lib/python3.9/site-packages/PIL/TiffImagePlugin.py:858: UserWarning: Corrupt EXIF data.  Expecting to read 2 bytes but only got 0. \n",
      "  warnings.warn(str(msg))\n"
     ]
    },
    {
     "name": "stdout",
     "output_type": "stream",
     "text": [
      "train loss : 2.986344, [epoch:2, iter:100]\n",
      "train loss : 2.976102, [epoch:2, iter:200]\n",
      "train loss : 2.960888, [epoch:2, iter:300]\n",
      "train loss : 2.949579, [epoch:2, iter:400]\n",
      "train loss : 2.945889, [epoch:2, iter:500]\n",
      "train loss : 2.936267, [epoch:2, iter:600]\n",
      "train loss : 2.929216, [epoch:2, iter:700]\n",
      "train loss : 2.925538, [epoch:2, iter:800]\n"
     ]
    },
    {
     "name": "stderr",
     "output_type": "stream",
     "text": [
      "/home/qkrwnstj/anaconda3/envs/qkrwnstj/lib/python3.9/site-packages/PIL/TiffImagePlugin.py:858: UserWarning: Corrupt EXIF data.  Expecting to read 2 bytes but only got 0. \n",
      "  warnings.warn(str(msg))\n"
     ]
    },
    {
     "name": "stdout",
     "output_type": "stream",
     "text": [
      "train loss : 2.919795, [epoch:2, iter:900]\n",
      "train loss : 2.913030, [epoch:2, iter:1000]\n",
      "train loss : 2.908067, [epoch:2, iter:1100]\n",
      "train loss : 2.904174, [epoch:2, iter:1200]\n",
      "TRAIN ACCURACY : 18.9% [15179/80128]\n",
      "TEST ACCURACY : 13.2% [2353/17792]\n",
      "...MODEL SAVE...\n"
     ]
    },
    {
     "name": "stderr",
     "output_type": "stream",
     "text": [
      "Train:   1%|▎                        | 2/150 [33:21<41:17:44, 1004.49s/it]"
     ]
    },
    {
     "name": "stdout",
     "output_type": "stream",
     "text": [
      "\n",
      "EPOCH:2 | train loss : 2.902153152817735, test loss : 3.0746872579451088\n",
      "\n",
      "EPOCH 3 \n",
      "-------------------------\n",
      "train loss : 2.944505, [epoch:3, iter:0]\n",
      "train loss : 2.820148, [epoch:3, iter:100]\n",
      "train loss : 2.820457, [epoch:3, iter:200]\n",
      "train loss : 2.813686, [epoch:3, iter:300]\n",
      "train loss : 2.809973, [epoch:3, iter:400]\n",
      "train loss : 2.805029, [epoch:3, iter:500]\n",
      "train loss : 2.802072, [epoch:3, iter:600]\n",
      "train loss : 2.803227, [epoch:3, iter:700]\n"
     ]
    },
    {
     "name": "stderr",
     "output_type": "stream",
     "text": [
      "/home/qkrwnstj/anaconda3/envs/qkrwnstj/lib/python3.9/site-packages/PIL/TiffImagePlugin.py:858: UserWarning: Corrupt EXIF data.  Expecting to read 2 bytes but only got 0. \n",
      "  warnings.warn(str(msg))\n"
     ]
    },
    {
     "name": "stdout",
     "output_type": "stream",
     "text": [
      "train loss : 2.798151, [epoch:3, iter:800]\n",
      "train loss : 2.797096, [epoch:3, iter:900]\n",
      "train loss : 2.792915, [epoch:3, iter:1000]\n"
     ]
    },
    {
     "name": "stderr",
     "output_type": "stream",
     "text": [
      "/home/qkrwnstj/anaconda3/envs/qkrwnstj/lib/python3.9/site-packages/PIL/TiffImagePlugin.py:858: UserWarning: Corrupt EXIF data.  Expecting to read 2 bytes but only got 0. \n",
      "  warnings.warn(str(msg))\n"
     ]
    },
    {
     "name": "stdout",
     "output_type": "stream",
     "text": [
      "train loss : 2.791029, [epoch:3, iter:1100]\n",
      "train loss : 2.788839, [epoch:3, iter:1200]\n",
      "TRAIN ACCURACY : 21.7% [17393/80128]\n",
      "TEST ACCURACY : 15.6% [2773/17792]\n",
      "...MODEL SAVE...\n"
     ]
    },
    {
     "name": "stderr",
     "output_type": "stream",
     "text": [
      "Train:   2%|▌                        | 3/150 [49:59<40:53:43, 1001.52s/it]"
     ]
    },
    {
     "name": "stdout",
     "output_type": "stream",
     "text": [
      "\n",
      "EPOCH:3 | train loss : 2.7881750205454354, test loss : 3.012639289279636\n",
      "\n",
      "EPOCH 4 \n",
      "-------------------------\n",
      "train loss : 2.871461, [epoch:4, iter:0]\n",
      "train loss : 2.743872, [epoch:4, iter:100]\n",
      "train loss : 2.753539, [epoch:4, iter:200]\n",
      "train loss : 2.742273, [epoch:4, iter:300]\n",
      "train loss : 2.738766, [epoch:4, iter:400]\n",
      "train loss : 2.738908, [epoch:4, iter:500]\n",
      "train loss : 2.736500, [epoch:4, iter:600]\n",
      "train loss : 2.736746, [epoch:4, iter:700]\n",
      "train loss : 2.736327, [epoch:4, iter:800]\n",
      "train loss : 2.736452, [epoch:4, iter:900]\n"
     ]
    },
    {
     "name": "stderr",
     "output_type": "stream",
     "text": [
      "/home/qkrwnstj/anaconda3/envs/qkrwnstj/lib/python3.9/site-packages/PIL/TiffImagePlugin.py:858: UserWarning: Corrupt EXIF data.  Expecting to read 2 bytes but only got 0. \n",
      "  warnings.warn(str(msg))\n"
     ]
    },
    {
     "name": "stdout",
     "output_type": "stream",
     "text": [
      "train loss : 2.735854, [epoch:4, iter:1000]\n"
     ]
    },
    {
     "name": "stderr",
     "output_type": "stream",
     "text": [
      "/home/qkrwnstj/anaconda3/envs/qkrwnstj/lib/python3.9/site-packages/PIL/TiffImagePlugin.py:858: UserWarning: Corrupt EXIF data.  Expecting to read 2 bytes but only got 0. \n",
      "  warnings.warn(str(msg))\n"
     ]
    },
    {
     "name": "stdout",
     "output_type": "stream",
     "text": [
      "train loss : 2.735462, [epoch:4, iter:1100]\n",
      "train loss : 2.731253, [epoch:4, iter:1200]\n",
      "TRAIN ACCURACY : 23.2% [18611/80128]\n",
      "TEST ACCURACY : 15.8% [2806/17792]\n",
      "...MODEL SAVE...\n"
     ]
    },
    {
     "name": "stderr",
     "output_type": "stream",
     "text": [
      "Train:   3%|▌                      | 4/150 [1:06:37<40:33:38, 1000.13s/it]"
     ]
    },
    {
     "name": "stdout",
     "output_type": "stream",
     "text": [
      "\n",
      "EPOCH:4 | train loss : 2.730709418321189, test loss : 2.991927183789315\n",
      "\n",
      "EPOCH 5 \n",
      "-------------------------\n",
      "train loss : 2.668428, [epoch:5, iter:0]\n"
     ]
    },
    {
     "name": "stderr",
     "output_type": "stream",
     "text": [
      "/home/qkrwnstj/anaconda3/envs/qkrwnstj/lib/python3.9/site-packages/PIL/TiffImagePlugin.py:858: UserWarning: Corrupt EXIF data.  Expecting to read 2 bytes but only got 0. \n",
      "  warnings.warn(str(msg))\n"
     ]
    },
    {
     "name": "stdout",
     "output_type": "stream",
     "text": [
      "train loss : 2.735611, [epoch:5, iter:100]\n",
      "train loss : 2.708413, [epoch:5, iter:200]\n",
      "train loss : 2.710708, [epoch:5, iter:300]\n",
      "train loss : 2.709848, [epoch:5, iter:400]\n"
     ]
    },
    {
     "name": "stderr",
     "output_type": "stream",
     "text": [
      "/home/qkrwnstj/anaconda3/envs/qkrwnstj/lib/python3.9/site-packages/PIL/TiffImagePlugin.py:858: UserWarning: Corrupt EXIF data.  Expecting to read 2 bytes but only got 0. \n",
      "  warnings.warn(str(msg))\n"
     ]
    },
    {
     "name": "stdout",
     "output_type": "stream",
     "text": [
      "train loss : 2.702481, [epoch:5, iter:500]\n",
      "train loss : 2.701097, [epoch:5, iter:600]\n",
      "train loss : 2.698270, [epoch:5, iter:700]\n",
      "train loss : 2.697249, [epoch:5, iter:800]\n",
      "train loss : 2.697442, [epoch:5, iter:900]\n",
      "train loss : 2.696189, [epoch:5, iter:1000]\n",
      "train loss : 2.696620, [epoch:5, iter:1100]\n",
      "train loss : 2.697516, [epoch:5, iter:1200]\n",
      "TRAIN ACCURACY : 24.1% [19345/80128]\n",
      "TEST ACCURACY : 17.4% [3092/17792]\n",
      "...MODEL SAVE...\n"
     ]
    },
    {
     "name": "stderr",
     "output_type": "stream",
     "text": [
      "Train:   3%|▊                      | 5/150 [1:23:22<40:21:22, 1001.95s/it]"
     ]
    },
    {
     "name": "stdout",
     "output_type": "stream",
     "text": [
      "\n",
      "EPOCH:5 | train loss : 2.696262398276466, test loss : 2.9649628263583288\n",
      "\n",
      "EPOCH 6 \n",
      "-------------------------\n",
      "train loss : 2.904444, [epoch:6, iter:0]\n",
      "train loss : 2.650351, [epoch:6, iter:100]\n",
      "train loss : 2.664045, [epoch:6, iter:200]\n",
      "train loss : 2.662636, [epoch:6, iter:300]\n",
      "train loss : 2.665087, [epoch:6, iter:400]\n",
      "train loss : 2.667258, [epoch:6, iter:500]\n",
      "train loss : 2.669761, [epoch:6, iter:600]\n",
      "train loss : 2.668316, [epoch:6, iter:700]\n",
      "train loss : 2.670598, [epoch:6, iter:800]\n",
      "train loss : 2.669662, [epoch:6, iter:900]\n"
     ]
    },
    {
     "name": "stderr",
     "output_type": "stream",
     "text": [
      "/home/qkrwnstj/anaconda3/envs/qkrwnstj/lib/python3.9/site-packages/PIL/TiffImagePlugin.py:858: UserWarning: Corrupt EXIF data.  Expecting to read 2 bytes but only got 0. \n",
      "  warnings.warn(str(msg))\n"
     ]
    },
    {
     "name": "stdout",
     "output_type": "stream",
     "text": [
      "train loss : 2.669515, [epoch:6, iter:1000]\n"
     ]
    },
    {
     "name": "stderr",
     "output_type": "stream",
     "text": [
      "/home/qkrwnstj/anaconda3/envs/qkrwnstj/lib/python3.9/site-packages/PIL/TiffImagePlugin.py:858: UserWarning: Corrupt EXIF data.  Expecting to read 2 bytes but only got 0. \n",
      "  warnings.warn(str(msg))\n"
     ]
    },
    {
     "name": "stdout",
     "output_type": "stream",
     "text": [
      "train loss : 2.671286, [epoch:6, iter:1100]\n",
      "train loss : 2.669478, [epoch:6, iter:1200]\n",
      "TRAIN ACCURACY : 24.7% [19790/80128]\n",
      "TEST ACCURACY : 17.8% [3167/17792]\n",
      "...MODEL SAVE...\n"
     ]
    },
    {
     "name": "stderr",
     "output_type": "stream",
     "text": [
      "Train:   4%|▉                      | 6/150 [1:40:03<40:04:21, 1001.81s/it]"
     ]
    },
    {
     "name": "stdout",
     "output_type": "stream",
     "text": [
      "\n",
      "EPOCH:6 | train loss : 2.67047209461657, test loss : 2.919451627799933\n",
      "\n",
      "EPOCH 7 \n",
      "-------------------------\n",
      "train loss : 2.662889, [epoch:7, iter:0]\n",
      "train loss : 2.645943, [epoch:7, iter:100]\n",
      "train loss : 2.643785, [epoch:7, iter:200]\n",
      "train loss : 2.647521, [epoch:7, iter:300]\n",
      "train loss : 2.644585, [epoch:7, iter:400]\n",
      "train loss : 2.650699, [epoch:7, iter:500]\n",
      "train loss : 2.651067, [epoch:7, iter:600]\n",
      "train loss : 2.648347, [epoch:7, iter:700]\n",
      "train loss : 2.648951, [epoch:7, iter:800]\n"
     ]
    },
    {
     "name": "stderr",
     "output_type": "stream",
     "text": [
      "/home/qkrwnstj/anaconda3/envs/qkrwnstj/lib/python3.9/site-packages/PIL/TiffImagePlugin.py:858: UserWarning: Corrupt EXIF data.  Expecting to read 2 bytes but only got 0. \n",
      "  warnings.warn(str(msg))\n",
      "/home/qkrwnstj/anaconda3/envs/qkrwnstj/lib/python3.9/site-packages/PIL/TiffImagePlugin.py:858: UserWarning: Corrupt EXIF data.  Expecting to read 2 bytes but only got 0. \n",
      "  warnings.warn(str(msg))\n"
     ]
    },
    {
     "name": "stdout",
     "output_type": "stream",
     "text": [
      "train loss : 2.647481, [epoch:7, iter:900]\n",
      "train loss : 2.645205, [epoch:7, iter:1000]\n",
      "train loss : 2.645324, [epoch:7, iter:1100]\n",
      "train loss : 2.645431, [epoch:7, iter:1200]\n",
      "TRAIN ACCURACY : 25.3% [20294/80128]\n"
     ]
    },
    {
     "name": "stderr",
     "output_type": "stream",
     "text": [
      "Train:   5%|█                      | 7/150 [1:56:40<39:43:50, 1000.21s/it]"
     ]
    },
    {
     "name": "stdout",
     "output_type": "stream",
     "text": [
      "TEST ACCURACY : 16.7% [2972/17792]\n",
      "\n",
      "EPOCH:7 | train loss : 2.6438017906472324, test loss : 2.973095426456534\n",
      "\n",
      "EPOCH 8 \n",
      "-------------------------\n",
      "train loss : 2.525816, [epoch:8, iter:0]\n",
      "train loss : 2.608211, [epoch:8, iter:100]\n",
      "train loss : 2.622445, [epoch:8, iter:200]\n"
     ]
    },
    {
     "name": "stderr",
     "output_type": "stream",
     "text": [
      "/home/qkrwnstj/anaconda3/envs/qkrwnstj/lib/python3.9/site-packages/PIL/TiffImagePlugin.py:858: UserWarning: Corrupt EXIF data.  Expecting to read 2 bytes but only got 0. \n",
      "  warnings.warn(str(msg))\n"
     ]
    },
    {
     "name": "stdout",
     "output_type": "stream",
     "text": [
      "train loss : 2.621614, [epoch:8, iter:300]\n"
     ]
    },
    {
     "name": "stderr",
     "output_type": "stream",
     "text": [
      "/home/qkrwnstj/anaconda3/envs/qkrwnstj/lib/python3.9/site-packages/PIL/TiffImagePlugin.py:858: UserWarning: Corrupt EXIF data.  Expecting to read 2 bytes but only got 0. \n",
      "  warnings.warn(str(msg))\n"
     ]
    },
    {
     "name": "stdout",
     "output_type": "stream",
     "text": [
      "train loss : 2.622749, [epoch:8, iter:400]\n",
      "train loss : 2.623725, [epoch:8, iter:500]\n",
      "train loss : 2.617968, [epoch:8, iter:600]\n",
      "train loss : 2.616151, [epoch:8, iter:700]\n",
      "train loss : 2.614366, [epoch:8, iter:800]\n",
      "train loss : 2.612134, [epoch:8, iter:900]\n",
      "train loss : 2.611479, [epoch:8, iter:1000]\n",
      "train loss : 2.610560, [epoch:8, iter:1100]\n",
      "train loss : 2.610996, [epoch:8, iter:1200]\n",
      "TRAIN ACCURACY : 26.2% [21006/80128]\n"
     ]
    },
    {
     "name": "stderr",
     "output_type": "stream",
     "text": [
      "Train:   5%|█▎                      | 8/150 [2:13:08<39:17:52, 996.29s/it]"
     ]
    },
    {
     "name": "stdout",
     "output_type": "stream",
     "text": [
      "TEST ACCURACY : 18.2% [3240/17792]\n",
      "\n",
      "EPOCH:8 | train loss : 2.611327120861687, test loss : 2.9556595755995607\n",
      "\n",
      "EPOCH 9 \n",
      "-------------------------\n",
      "train loss : 2.649947, [epoch:9, iter:0]\n",
      "train loss : 2.583796, [epoch:9, iter:100]\n",
      "train loss : 2.596389, [epoch:9, iter:200]\n",
      "train loss : 2.591321, [epoch:9, iter:300]\n",
      "train loss : 2.586061, [epoch:9, iter:400]\n",
      "train loss : 2.592447, [epoch:9, iter:500]\n",
      "train loss : 2.594627, [epoch:9, iter:600]\n",
      "train loss : 2.590988, [epoch:9, iter:700]\n",
      "train loss : 2.587781, [epoch:9, iter:800]\n"
     ]
    },
    {
     "name": "stderr",
     "output_type": "stream",
     "text": [
      "/home/qkrwnstj/anaconda3/envs/qkrwnstj/lib/python3.9/site-packages/PIL/TiffImagePlugin.py:858: UserWarning: Corrupt EXIF data.  Expecting to read 2 bytes but only got 0. \n",
      "  warnings.warn(str(msg))\n"
     ]
    },
    {
     "name": "stdout",
     "output_type": "stream",
     "text": [
      "train loss : 2.586455, [epoch:9, iter:900]\n"
     ]
    },
    {
     "name": "stderr",
     "output_type": "stream",
     "text": [
      "/home/qkrwnstj/anaconda3/envs/qkrwnstj/lib/python3.9/site-packages/PIL/TiffImagePlugin.py:858: UserWarning: Corrupt EXIF data.  Expecting to read 2 bytes but only got 0. \n",
      "  warnings.warn(str(msg))\n"
     ]
    },
    {
     "name": "stdout",
     "output_type": "stream",
     "text": [
      "train loss : 2.586796, [epoch:9, iter:1000]\n",
      "train loss : 2.589884, [epoch:9, iter:1100]\n",
      "train loss : 2.588872, [epoch:9, iter:1200]\n",
      "TRAIN ACCURACY : 26.5% [21233/80128]\n",
      "TEST ACCURACY : 17.5% [3113/17792]\n",
      "...MODEL SAVE...\n"
     ]
    },
    {
     "name": "stderr",
     "output_type": "stream",
     "text": [
      "Train:   6%|█▍                      | 9/150 [2:29:24<38:46:09, 989.86s/it]"
     ]
    },
    {
     "name": "stdout",
     "output_type": "stream",
     "text": [
      "\n",
      "EPOCH:9 | train loss : 2.588764044613884, test loss : 2.8837381404080835\n",
      "\n",
      "EPOCH 10 \n",
      "-------------------------\n",
      "train loss : 2.942482, [epoch:10, iter:0]\n",
      "train loss : 2.578514, [epoch:10, iter:100]\n",
      "train loss : 2.574213, [epoch:10, iter:200]\n",
      "train loss : 2.577191, [epoch:10, iter:300]\n",
      "train loss : 2.564255, [epoch:10, iter:400]\n"
     ]
    },
    {
     "name": "stderr",
     "output_type": "stream",
     "text": [
      "/home/qkrwnstj/anaconda3/envs/qkrwnstj/lib/python3.9/site-packages/PIL/TiffImagePlugin.py:858: UserWarning: Corrupt EXIF data.  Expecting to read 2 bytes but only got 0. \n",
      "  warnings.warn(str(msg))\n"
     ]
    },
    {
     "name": "stdout",
     "output_type": "stream",
     "text": [
      "train loss : 2.566698, [epoch:10, iter:500]\n",
      "train loss : 2.570483, [epoch:10, iter:600]\n"
     ]
    },
    {
     "name": "stderr",
     "output_type": "stream",
     "text": [
      "/home/qkrwnstj/anaconda3/envs/qkrwnstj/lib/python3.9/site-packages/PIL/TiffImagePlugin.py:858: UserWarning: Corrupt EXIF data.  Expecting to read 2 bytes but only got 0. \n",
      "  warnings.warn(str(msg))\n"
     ]
    },
    {
     "name": "stdout",
     "output_type": "stream",
     "text": [
      "train loss : 2.570911, [epoch:10, iter:700]\n",
      "train loss : 2.571600, [epoch:10, iter:800]\n",
      "train loss : 2.570371, [epoch:10, iter:900]\n",
      "train loss : 2.569873, [epoch:10, iter:1000]\n",
      "train loss : 2.570225, [epoch:10, iter:1100]\n",
      "train loss : 2.570970, [epoch:10, iter:1200]\n",
      "TRAIN ACCURACY : 27.1% [21697/80128]\n",
      "TEST ACCURACY : 18.3% [3259/17792]\n",
      "...MODEL SAVE...\n"
     ]
    },
    {
     "name": "stderr",
     "output_type": "stream",
     "text": [
      "Train:   7%|█▍                    | 10/150 [2:46:29<38:54:48, 1000.63s/it]"
     ]
    },
    {
     "name": "stdout",
     "output_type": "stream",
     "text": [
      "\n",
      "EPOCH:10 | train loss : 2.5695460309235814, test loss : 2.848664341213034\n",
      "\n",
      "EPOCH 11 \n",
      "-------------------------\n",
      "train loss : 2.433484, [epoch:11, iter:0]\n"
     ]
    },
    {
     "name": "stderr",
     "output_type": "stream",
     "text": [
      "/home/qkrwnstj/anaconda3/envs/qkrwnstj/lib/python3.9/site-packages/PIL/TiffImagePlugin.py:858: UserWarning: Corrupt EXIF data.  Expecting to read 2 bytes but only got 0. \n",
      "  warnings.warn(str(msg))\n"
     ]
    },
    {
     "name": "stdout",
     "output_type": "stream",
     "text": [
      "train loss : 2.547110, [epoch:11, iter:100]\n",
      "train loss : 2.554336, [epoch:11, iter:200]\n",
      "train loss : 2.552706, [epoch:11, iter:300]\n",
      "train loss : 2.546851, [epoch:11, iter:400]\n",
      "train loss : 2.553228, [epoch:11, iter:500]\n",
      "train loss : 2.549121, [epoch:11, iter:600]\n",
      "train loss : 2.555902, [epoch:11, iter:700]\n",
      "train loss : 2.556384, [epoch:11, iter:800]\n",
      "train loss : 2.557620, [epoch:11, iter:900]\n",
      "train loss : 2.554982, [epoch:11, iter:1000]\n"
     ]
    },
    {
     "name": "stderr",
     "output_type": "stream",
     "text": [
      "/home/qkrwnstj/anaconda3/envs/qkrwnstj/lib/python3.9/site-packages/PIL/TiffImagePlugin.py:858: UserWarning: Corrupt EXIF data.  Expecting to read 2 bytes but only got 0. \n",
      "  warnings.warn(str(msg))\n"
     ]
    },
    {
     "name": "stdout",
     "output_type": "stream",
     "text": [
      "train loss : 2.554990, [epoch:11, iter:1100]\n",
      "train loss : 2.553603, [epoch:11, iter:1200]\n",
      "TRAIN ACCURACY : 27.2% [21815/80128]\n"
     ]
    },
    {
     "name": "stderr",
     "output_type": "stream",
     "text": [
      "Train:   7%|█▌                    | 11/150 [3:03:33<38:54:48, 1007.83s/it]"
     ]
    },
    {
     "name": "stdout",
     "output_type": "stream",
     "text": [
      "TEST ACCURACY : 18.3% [3261/17792]\n",
      "\n",
      "EPOCH:11 | train loss : 2.5541638368234847, test loss : 2.894796728230209\n",
      "\n",
      "EPOCH 12 \n",
      "-------------------------\n",
      "train loss : 2.599462, [epoch:12, iter:0]\n",
      "train loss : 2.487358, [epoch:12, iter:100]\n",
      "train loss : 2.512406, [epoch:12, iter:200]\n"
     ]
    },
    {
     "name": "stderr",
     "output_type": "stream",
     "text": [
      "/home/qkrwnstj/anaconda3/envs/qkrwnstj/lib/python3.9/site-packages/PIL/TiffImagePlugin.py:858: UserWarning: Corrupt EXIF data.  Expecting to read 2 bytes but only got 0. \n",
      "  warnings.warn(str(msg))\n"
     ]
    },
    {
     "name": "stdout",
     "output_type": "stream",
     "text": [
      "train loss : 2.518775, [epoch:12, iter:300]\n",
      "train loss : 2.530827, [epoch:12, iter:400]\n",
      "train loss : 2.532309, [epoch:12, iter:500]\n",
      "train loss : 2.534518, [epoch:12, iter:600]\n",
      "train loss : 2.535589, [epoch:12, iter:700]\n",
      "train loss : 2.540724, [epoch:12, iter:800]\n",
      "train loss : 2.542812, [epoch:12, iter:900]\n",
      "train loss : 2.538490, [epoch:12, iter:1000]\n",
      "train loss : 2.538233, [epoch:12, iter:1100]\n"
     ]
    },
    {
     "name": "stderr",
     "output_type": "stream",
     "text": [
      "/home/qkrwnstj/anaconda3/envs/qkrwnstj/lib/python3.9/site-packages/PIL/TiffImagePlugin.py:858: UserWarning: Corrupt EXIF data.  Expecting to read 2 bytes but only got 0. \n",
      "  warnings.warn(str(msg))\n"
     ]
    },
    {
     "name": "stdout",
     "output_type": "stream",
     "text": [
      "train loss : 2.538473, [epoch:12, iter:1200]\n",
      "TRAIN ACCURACY : 27.7% [22185/80128]\n"
     ]
    },
    {
     "name": "stderr",
     "output_type": "stream",
     "text": [
      "Train:   8%|█▊                    | 12/150 [3:20:04<38:26:20, 1002.76s/it]"
     ]
    },
    {
     "name": "stdout",
     "output_type": "stream",
     "text": [
      "TEST ACCURACY : 18.7% [3332/17792]\n",
      "\n",
      "EPOCH:12 | train loss : 2.538116572763973, test loss : 2.890568721208641\n",
      "\n",
      "EPOCH 13 \n",
      "-------------------------\n",
      "train loss : 2.722470, [epoch:13, iter:0]\n",
      "train loss : 2.523814, [epoch:13, iter:100]\n",
      "train loss : 2.524440, [epoch:13, iter:200]\n"
     ]
    },
    {
     "name": "stderr",
     "output_type": "stream",
     "text": [
      "/home/qkrwnstj/anaconda3/envs/qkrwnstj/lib/python3.9/site-packages/PIL/TiffImagePlugin.py:858: UserWarning: Corrupt EXIF data.  Expecting to read 2 bytes but only got 0. \n",
      "  warnings.warn(str(msg))\n"
     ]
    },
    {
     "name": "stdout",
     "output_type": "stream",
     "text": [
      "train loss : 2.521629, [epoch:13, iter:300]\n",
      "train loss : 2.518139, [epoch:13, iter:400]\n",
      "train loss : 2.519894, [epoch:13, iter:500]\n",
      "train loss : 2.517962, [epoch:13, iter:600]\n",
      "train loss : 2.519401, [epoch:13, iter:700]\n",
      "train loss : 2.521574, [epoch:13, iter:800]\n",
      "train loss : 2.520723, [epoch:13, iter:900]\n"
     ]
    },
    {
     "name": "stderr",
     "output_type": "stream",
     "text": [
      "/home/qkrwnstj/anaconda3/envs/qkrwnstj/lib/python3.9/site-packages/PIL/TiffImagePlugin.py:858: UserWarning: Corrupt EXIF data.  Expecting to read 2 bytes but only got 0. \n",
      "  warnings.warn(str(msg))\n"
     ]
    },
    {
     "name": "stdout",
     "output_type": "stream",
     "text": [
      "train loss : 2.520490, [epoch:13, iter:1000]\n",
      "train loss : 2.522668, [epoch:13, iter:1100]\n",
      "train loss : 2.522833, [epoch:13, iter:1200]\n",
      "TRAIN ACCURACY : 28.1% [22536/80128]\n",
      "TEST ACCURACY : 19.0% [3375/17792]\n",
      "...MODEL SAVE...\n"
     ]
    },
    {
     "name": "stderr",
     "output_type": "stream",
     "text": [
      "Train:   9%|█▉                    | 13/150 [3:36:39<38:04:38, 1000.58s/it]"
     ]
    },
    {
     "name": "stdout",
     "output_type": "stream",
     "text": [
      "\n",
      "EPOCH:13 | train loss : 2.5224379739060567, test loss : 2.8096523010473455\n",
      "\n",
      "EPOCH 14 \n",
      "-------------------------\n",
      "train loss : 2.662459, [epoch:14, iter:0]\n",
      "train loss : 2.523509, [epoch:14, iter:100]\n"
     ]
    },
    {
     "name": "stderr",
     "output_type": "stream",
     "text": [
      "/home/qkrwnstj/anaconda3/envs/qkrwnstj/lib/python3.9/site-packages/PIL/TiffImagePlugin.py:858: UserWarning: Corrupt EXIF data.  Expecting to read 2 bytes but only got 0. \n",
      "  warnings.warn(str(msg))\n"
     ]
    },
    {
     "name": "stdout",
     "output_type": "stream",
     "text": [
      "train loss : 2.520916, [epoch:14, iter:200]\n"
     ]
    },
    {
     "name": "stderr",
     "output_type": "stream",
     "text": [
      "/home/qkrwnstj/anaconda3/envs/qkrwnstj/lib/python3.9/site-packages/PIL/TiffImagePlugin.py:858: UserWarning: Corrupt EXIF data.  Expecting to read 2 bytes but only got 0. \n",
      "  warnings.warn(str(msg))\n"
     ]
    },
    {
     "name": "stdout",
     "output_type": "stream",
     "text": [
      "train loss : 2.511649, [epoch:14, iter:300]\n",
      "train loss : 2.513496, [epoch:14, iter:400]\n",
      "train loss : 2.513523, [epoch:14, iter:500]\n",
      "train loss : 2.514266, [epoch:14, iter:600]\n",
      "train loss : 2.509207, [epoch:14, iter:700]\n",
      "train loss : 2.507112, [epoch:14, iter:800]\n",
      "train loss : 2.508464, [epoch:14, iter:900]\n",
      "train loss : 2.506134, [epoch:14, iter:1000]\n",
      "train loss : 2.507975, [epoch:14, iter:1100]\n",
      "train loss : 2.507773, [epoch:14, iter:1200]\n",
      "TRAIN ACCURACY : 28.4% [22766/80128]\n"
     ]
    },
    {
     "name": "stderr",
     "output_type": "stream",
     "text": [
      "Train:   9%|██▏                    | 14/150 [3:53:08<37:39:35, 996.88s/it]"
     ]
    },
    {
     "name": "stdout",
     "output_type": "stream",
     "text": [
      "TEST ACCURACY : 19.5% [3478/17792]\n",
      "\n",
      "EPOCH:14 | train loss : 2.5060494258380928, test loss : 2.816553551516087\n",
      "\n",
      "EPOCH 15 \n",
      "-------------------------\n",
      "train loss : 2.543240, [epoch:15, iter:0]\n",
      "train loss : 2.497410, [epoch:15, iter:100]\n",
      "train loss : 2.501503, [epoch:15, iter:200]\n",
      "train loss : 2.507704, [epoch:15, iter:300]\n",
      "train loss : 2.502817, [epoch:15, iter:400]\n"
     ]
    },
    {
     "name": "stderr",
     "output_type": "stream",
     "text": [
      "/home/qkrwnstj/anaconda3/envs/qkrwnstj/lib/python3.9/site-packages/PIL/TiffImagePlugin.py:858: UserWarning: Corrupt EXIF data.  Expecting to read 2 bytes but only got 0. \n",
      "  warnings.warn(str(msg))\n"
     ]
    },
    {
     "name": "stdout",
     "output_type": "stream",
     "text": [
      "train loss : 2.502072, [epoch:15, iter:500]\n",
      "train loss : 2.500445, [epoch:15, iter:600]\n"
     ]
    },
    {
     "name": "stderr",
     "output_type": "stream",
     "text": [
      "/home/qkrwnstj/anaconda3/envs/qkrwnstj/lib/python3.9/site-packages/PIL/TiffImagePlugin.py:858: UserWarning: Corrupt EXIF data.  Expecting to read 2 bytes but only got 0. \n",
      "  warnings.warn(str(msg))\n"
     ]
    },
    {
     "name": "stdout",
     "output_type": "stream",
     "text": [
      "train loss : 2.501959, [epoch:15, iter:700]\n",
      "train loss : 2.498122, [epoch:15, iter:800]\n",
      "train loss : 2.493743, [epoch:15, iter:900]\n",
      "train loss : 2.496837, [epoch:15, iter:1000]\n",
      "train loss : 2.494834, [epoch:15, iter:1100]\n",
      "train loss : 2.494353, [epoch:15, iter:1200]\n",
      "TRAIN ACCURACY : 28.7% [22966/80128]\n"
     ]
    },
    {
     "name": "stderr",
     "output_type": "stream",
     "text": [
      "Train:  10%|██▎                    | 15/150 [4:09:28<37:11:19, 991.70s/it]"
     ]
    },
    {
     "name": "stdout",
     "output_type": "stream",
     "text": [
      "TEST ACCURACY : 20.0% [3556/17792]\n",
      "\n",
      "EPOCH:15 | train loss : 2.4934299852901374, test loss : 2.836086651404127\n",
      "\n",
      "EPOCH 16 \n",
      "-------------------------\n",
      "train loss : 2.340330, [epoch:16, iter:0]\n",
      "train loss : 2.476898, [epoch:16, iter:100]\n",
      "train loss : 2.472716, [epoch:16, iter:200]\n",
      "train loss : 2.468148, [epoch:16, iter:300]\n",
      "train loss : 2.471531, [epoch:16, iter:400]\n"
     ]
    },
    {
     "name": "stderr",
     "output_type": "stream",
     "text": [
      "/home/qkrwnstj/anaconda3/envs/qkrwnstj/lib/python3.9/site-packages/PIL/TiffImagePlugin.py:858: UserWarning: Corrupt EXIF data.  Expecting to read 2 bytes but only got 0. \n",
      "  warnings.warn(str(msg))\n"
     ]
    },
    {
     "name": "stdout",
     "output_type": "stream",
     "text": [
      "train loss : 2.476381, [epoch:16, iter:500]\n"
     ]
    },
    {
     "name": "stderr",
     "output_type": "stream",
     "text": [
      "/home/qkrwnstj/anaconda3/envs/qkrwnstj/lib/python3.9/site-packages/PIL/TiffImagePlugin.py:858: UserWarning: Corrupt EXIF data.  Expecting to read 2 bytes but only got 0. \n",
      "  warnings.warn(str(msg))\n"
     ]
    },
    {
     "name": "stdout",
     "output_type": "stream",
     "text": [
      "train loss : 2.474051, [epoch:16, iter:600]\n",
      "train loss : 2.476623, [epoch:16, iter:700]\n",
      "train loss : 2.475262, [epoch:16, iter:800]\n",
      "train loss : 2.480052, [epoch:16, iter:900]\n",
      "train loss : 2.481641, [epoch:16, iter:1000]\n",
      "train loss : 2.480958, [epoch:16, iter:1100]\n",
      "train loss : 2.482274, [epoch:16, iter:1200]\n",
      "TRAIN ACCURACY : 29.0% [23210/80128]\n"
     ]
    },
    {
     "name": "stderr",
     "output_type": "stream",
     "text": [
      "Train:  11%|██▍                    | 16/150 [4:25:46<36:46:08, 987.82s/it]"
     ]
    },
    {
     "name": "stdout",
     "output_type": "stream",
     "text": [
      "TEST ACCURACY : 18.9% [3359/17792]\n",
      "\n",
      "EPOCH:16 | train loss : 2.4808282825512626, test loss : 2.8578719492438887\n",
      "\n",
      "EPOCH 17 \n",
      "-------------------------\n",
      "train loss : 2.762944, [epoch:17, iter:0]\n"
     ]
    },
    {
     "name": "stderr",
     "output_type": "stream",
     "text": [
      "/home/qkrwnstj/anaconda3/envs/qkrwnstj/lib/python3.9/site-packages/PIL/TiffImagePlugin.py:858: UserWarning: Corrupt EXIF data.  Expecting to read 2 bytes but only got 0. \n",
      "  warnings.warn(str(msg))\n",
      "/home/qkrwnstj/anaconda3/envs/qkrwnstj/lib/python3.9/site-packages/PIL/TiffImagePlugin.py:858: UserWarning: Corrupt EXIF data.  Expecting to read 2 bytes but only got 0. \n",
      "  warnings.warn(str(msg))\n"
     ]
    },
    {
     "name": "stdout",
     "output_type": "stream",
     "text": [
      "train loss : 2.457599, [epoch:17, iter:100]\n",
      "train loss : 2.449773, [epoch:17, iter:200]\n",
      "train loss : 2.469068, [epoch:17, iter:300]\n",
      "train loss : 2.472837, [epoch:17, iter:400]\n",
      "train loss : 2.470770, [epoch:17, iter:500]\n",
      "train loss : 2.468139, [epoch:17, iter:600]\n",
      "train loss : 2.466713, [epoch:17, iter:700]\n",
      "train loss : 2.469878, [epoch:17, iter:800]\n",
      "train loss : 2.469068, [epoch:17, iter:900]\n",
      "train loss : 2.469920, [epoch:17, iter:1000]\n",
      "train loss : 2.466878, [epoch:17, iter:1100]\n",
      "train loss : 2.466748, [epoch:17, iter:1200]\n",
      "TRAIN ACCURACY : 29.3% [23496/80128]\n",
      "TEST ACCURACY : 20.6% [3670/17792]\n",
      "...MODEL SAVE...\n"
     ]
    },
    {
     "name": "stderr",
     "output_type": "stream",
     "text": [
      "Train:  11%|██▌                    | 17/150 [4:42:30<36:40:28, 992.70s/it]"
     ]
    },
    {
     "name": "stdout",
     "output_type": "stream",
     "text": [
      "\n",
      "EPOCH:17 | train loss : 2.467904607042337, test loss : 2.7721054305275565\n",
      "\n",
      "EPOCH 18 \n",
      "-------------------------\n",
      "train loss : 2.497074, [epoch:18, iter:0]\n",
      "train loss : 2.452832, [epoch:18, iter:100]\n",
      "train loss : 2.448428, [epoch:18, iter:200]\n",
      "train loss : 2.457468, [epoch:18, iter:300]\n",
      "train loss : 2.457236, [epoch:18, iter:400]\n",
      "train loss : 2.454432, [epoch:18, iter:500]\n",
      "train loss : 2.457332, [epoch:18, iter:600]\n"
     ]
    },
    {
     "name": "stderr",
     "output_type": "stream",
     "text": [
      "/home/qkrwnstj/anaconda3/envs/qkrwnstj/lib/python3.9/site-packages/PIL/TiffImagePlugin.py:858: UserWarning: Corrupt EXIF data.  Expecting to read 2 bytes but only got 0. \n",
      "  warnings.warn(str(msg))\n"
     ]
    },
    {
     "name": "stdout",
     "output_type": "stream",
     "text": [
      "train loss : 2.457751, [epoch:18, iter:700]\n",
      "train loss : 2.461158, [epoch:18, iter:800]\n",
      "train loss : 2.459735, [epoch:18, iter:900]\n",
      "train loss : 2.457377, [epoch:18, iter:1000]\n"
     ]
    },
    {
     "name": "stderr",
     "output_type": "stream",
     "text": [
      "/home/qkrwnstj/anaconda3/envs/qkrwnstj/lib/python3.9/site-packages/PIL/TiffImagePlugin.py:858: UserWarning: Corrupt EXIF data.  Expecting to read 2 bytes but only got 0. \n",
      "  warnings.warn(str(msg))\n"
     ]
    },
    {
     "name": "stdout",
     "output_type": "stream",
     "text": [
      "train loss : 2.457526, [epoch:18, iter:1100]\n",
      "train loss : 2.458871, [epoch:18, iter:1200]\n",
      "TRAIN ACCURACY : 29.6% [23753/80128]\n"
     ]
    },
    {
     "name": "stderr",
     "output_type": "stream",
     "text": [
      "Train:  12%|██▊                    | 18/150 [4:59:04<36:24:22, 992.90s/it]"
     ]
    },
    {
     "name": "stdout",
     "output_type": "stream",
     "text": [
      "TEST ACCURACY : 21.5% [3831/17792]\n",
      "\n",
      "EPOCH:18 | train loss : 2.4590347323554775, test loss : 2.7987320080077907\n",
      "\n",
      "EPOCH 19 \n",
      "-------------------------\n",
      "train loss : 2.494684, [epoch:19, iter:0]\n",
      "train loss : 2.429263, [epoch:19, iter:100]\n",
      "train loss : 2.448217, [epoch:19, iter:200]\n"
     ]
    },
    {
     "name": "stderr",
     "output_type": "stream",
     "text": [
      "/home/qkrwnstj/anaconda3/envs/qkrwnstj/lib/python3.9/site-packages/PIL/TiffImagePlugin.py:858: UserWarning: Corrupt EXIF data.  Expecting to read 2 bytes but only got 0. \n",
      "  warnings.warn(str(msg))\n"
     ]
    },
    {
     "name": "stdout",
     "output_type": "stream",
     "text": [
      "train loss : 2.452337, [epoch:19, iter:300]\n"
     ]
    },
    {
     "name": "stderr",
     "output_type": "stream",
     "text": [
      "/home/qkrwnstj/anaconda3/envs/qkrwnstj/lib/python3.9/site-packages/PIL/TiffImagePlugin.py:858: UserWarning: Corrupt EXIF data.  Expecting to read 2 bytes but only got 0. \n",
      "  warnings.warn(str(msg))\n"
     ]
    },
    {
     "name": "stdout",
     "output_type": "stream",
     "text": [
      "train loss : 2.457632, [epoch:19, iter:400]\n",
      "train loss : 2.458801, [epoch:19, iter:500]\n",
      "train loss : 2.454850, [epoch:19, iter:600]\n",
      "train loss : 2.452522, [epoch:19, iter:700]\n",
      "train loss : 2.453067, [epoch:19, iter:800]\n",
      "train loss : 2.451138, [epoch:19, iter:900]\n",
      "train loss : 2.449470, [epoch:19, iter:1000]\n",
      "train loss : 2.450050, [epoch:19, iter:1100]\n",
      "train loss : 2.450664, [epoch:19, iter:1200]\n",
      "TRAIN ACCURACY : 29.6% [23731/80128]\n"
     ]
    },
    {
     "name": "stderr",
     "output_type": "stream",
     "text": [
      "Train:  13%|██▉                    | 19/150 [5:15:29<36:02:41, 990.55s/it]"
     ]
    },
    {
     "name": "stdout",
     "output_type": "stream",
     "text": [
      "TEST ACCURACY : 20.7% [3682/17792]\n",
      "\n",
      "EPOCH:19 | train loss : 2.450513929033432, test loss : 2.7919710051241537\n",
      "\n",
      "EPOCH 20 \n",
      "-------------------------\n",
      "train loss : 2.468493, [epoch:20, iter:0]\n",
      "train loss : 2.443680, [epoch:20, iter:100]\n",
      "train loss : 2.430114, [epoch:20, iter:200]\n",
      "train loss : 2.430993, [epoch:20, iter:300]\n",
      "train loss : 2.435412, [epoch:20, iter:400]\n",
      "train loss : 2.435217, [epoch:20, iter:500]\n",
      "train loss : 2.443372, [epoch:20, iter:600]\n",
      "train loss : 2.439588, [epoch:20, iter:700]\n",
      "train loss : 2.437703, [epoch:20, iter:800]\n"
     ]
    },
    {
     "name": "stderr",
     "output_type": "stream",
     "text": [
      "/home/qkrwnstj/anaconda3/envs/qkrwnstj/lib/python3.9/site-packages/PIL/TiffImagePlugin.py:858: UserWarning: Corrupt EXIF data.  Expecting to read 2 bytes but only got 0. \n",
      "  warnings.warn(str(msg))\n"
     ]
    },
    {
     "name": "stdout",
     "output_type": "stream",
     "text": [
      "train loss : 2.437650, [epoch:20, iter:900]\n",
      "train loss : 2.439463, [epoch:20, iter:1000]\n"
     ]
    },
    {
     "name": "stderr",
     "output_type": "stream",
     "text": [
      "/home/qkrwnstj/anaconda3/envs/qkrwnstj/lib/python3.9/site-packages/PIL/TiffImagePlugin.py:858: UserWarning: Corrupt EXIF data.  Expecting to read 2 bytes but only got 0. \n",
      "  warnings.warn(str(msg))\n"
     ]
    },
    {
     "name": "stdout",
     "output_type": "stream",
     "text": [
      "train loss : 2.438842, [epoch:20, iter:1100]\n",
      "train loss : 2.441851, [epoch:20, iter:1200]\n",
      "TRAIN ACCURACY : 30.1% [24124/80128]\n"
     ]
    },
    {
     "name": "stderr",
     "output_type": "stream",
     "text": [
      "Train:  13%|███                    | 20/150 [5:32:02<35:47:57, 991.36s/it]"
     ]
    },
    {
     "name": "stdout",
     "output_type": "stream",
     "text": [
      "TEST ACCURACY : 20.3% [3610/17792]\n",
      "\n",
      "EPOCH:20 | train loss : 2.4394884611280583, test loss : 2.7831927923847446\n",
      "\n",
      "EPOCH 21 \n",
      "-------------------------\n",
      "train loss : 2.346867, [epoch:21, iter:0]\n",
      "train loss : 2.406507, [epoch:21, iter:100]\n",
      "train loss : 2.412949, [epoch:21, iter:200]\n"
     ]
    },
    {
     "name": "stderr",
     "output_type": "stream",
     "text": [
      "/home/qkrwnstj/anaconda3/envs/qkrwnstj/lib/python3.9/site-packages/PIL/TiffImagePlugin.py:858: UserWarning: Corrupt EXIF data.  Expecting to read 2 bytes but only got 0. \n",
      "  warnings.warn(str(msg))\n"
     ]
    },
    {
     "name": "stdout",
     "output_type": "stream",
     "text": [
      "train loss : 2.414025, [epoch:21, iter:300]\n",
      "train loss : 2.419096, [epoch:21, iter:400]\n",
      "train loss : 2.425036, [epoch:21, iter:500]\n",
      "train loss : 2.421824, [epoch:21, iter:600]\n",
      "train loss : 2.420366, [epoch:21, iter:700]\n",
      "train loss : 2.426611, [epoch:21, iter:800]\n"
     ]
    },
    {
     "name": "stderr",
     "output_type": "stream",
     "text": [
      "/home/qkrwnstj/anaconda3/envs/qkrwnstj/lib/python3.9/site-packages/PIL/TiffImagePlugin.py:858: UserWarning: Corrupt EXIF data.  Expecting to read 2 bytes but only got 0. \n",
      "  warnings.warn(str(msg))\n"
     ]
    },
    {
     "name": "stdout",
     "output_type": "stream",
     "text": [
      "train loss : 2.425576, [epoch:21, iter:900]\n",
      "train loss : 2.423611, [epoch:21, iter:1000]\n",
      "train loss : 2.424456, [epoch:21, iter:1100]\n",
      "train loss : 2.426098, [epoch:21, iter:1200]\n",
      "TRAIN ACCURACY : 30.5% [24435/80128]\n",
      "TEST ACCURACY : 21.1% [3761/17792]\n",
      "...MODEL SAVE...\n"
     ]
    },
    {
     "name": "stderr",
     "output_type": "stream",
     "text": [
      "Train:  14%|███▏                   | 21/150 [5:48:45<35:38:44, 994.76s/it]"
     ]
    },
    {
     "name": "stdout",
     "output_type": "stream",
     "text": [
      "\n",
      "EPOCH:21 | train loss : 2.427796366591804, test loss : 2.7519569697139934\n",
      "\n",
      "EPOCH 22 \n",
      "-------------------------\n",
      "train loss : 2.399047, [epoch:22, iter:0]\n"
     ]
    },
    {
     "name": "stderr",
     "output_type": "stream",
     "text": [
      "/home/qkrwnstj/anaconda3/envs/qkrwnstj/lib/python3.9/site-packages/PIL/TiffImagePlugin.py:858: UserWarning: Corrupt EXIF data.  Expecting to read 2 bytes but only got 0. \n",
      "  warnings.warn(str(msg))\n"
     ]
    },
    {
     "name": "stdout",
     "output_type": "stream",
     "text": [
      "train loss : 2.400535, [epoch:22, iter:100]\n",
      "train loss : 2.403983, [epoch:22, iter:200]\n",
      "train loss : 2.408467, [epoch:22, iter:300]\n",
      "train loss : 2.410149, [epoch:22, iter:400]\n",
      "train loss : 2.411403, [epoch:22, iter:500]\n",
      "train loss : 2.412737, [epoch:22, iter:600]\n",
      "train loss : 2.416152, [epoch:22, iter:700]\n"
     ]
    },
    {
     "name": "stderr",
     "output_type": "stream",
     "text": [
      "/home/qkrwnstj/anaconda3/envs/qkrwnstj/lib/python3.9/site-packages/PIL/TiffImagePlugin.py:858: UserWarning: Corrupt EXIF data.  Expecting to read 2 bytes but only got 0. \n",
      "  warnings.warn(str(msg))\n"
     ]
    },
    {
     "name": "stdout",
     "output_type": "stream",
     "text": [
      "train loss : 2.418231, [epoch:22, iter:800]\n",
      "train loss : 2.422296, [epoch:22, iter:900]\n",
      "train loss : 2.423702, [epoch:22, iter:1000]\n",
      "train loss : 2.420416, [epoch:22, iter:1100]\n",
      "train loss : 2.418357, [epoch:22, iter:1200]\n",
      "TRAIN ACCURACY : 30.5% [24467/80128]\n"
     ]
    },
    {
     "name": "stderr",
     "output_type": "stream",
     "text": [
      "Train:  15%|███▎                   | 22/150 [6:05:06<35:13:25, 990.67s/it]"
     ]
    },
    {
     "name": "stdout",
     "output_type": "stream",
     "text": [
      "TEST ACCURACY : 21.1% [3753/17792]\n",
      "\n",
      "EPOCH:22 | train loss : 2.419251278185616, test loss : 2.796716316140813\n",
      "\n",
      "EPOCH 23 \n",
      "-------------------------\n",
      "train loss : 2.457175, [epoch:23, iter:0]\n"
     ]
    },
    {
     "name": "stderr",
     "output_type": "stream",
     "text": [
      "/home/qkrwnstj/anaconda3/envs/qkrwnstj/lib/python3.9/site-packages/PIL/TiffImagePlugin.py:858: UserWarning: Corrupt EXIF data.  Expecting to read 2 bytes but only got 0. \n",
      "  warnings.warn(str(msg))\n"
     ]
    },
    {
     "name": "stdout",
     "output_type": "stream",
     "text": [
      "train loss : 2.411160, [epoch:23, iter:100]\n",
      "train loss : 2.397212, [epoch:23, iter:200]\n",
      "train loss : 2.397663, [epoch:23, iter:300]\n"
     ]
    },
    {
     "name": "stderr",
     "output_type": "stream",
     "text": [
      "/home/qkrwnstj/anaconda3/envs/qkrwnstj/lib/python3.9/site-packages/PIL/TiffImagePlugin.py:858: UserWarning: Corrupt EXIF data.  Expecting to read 2 bytes but only got 0. \n",
      "  warnings.warn(str(msg))\n"
     ]
    },
    {
     "name": "stdout",
     "output_type": "stream",
     "text": [
      "train loss : 2.400864, [epoch:23, iter:400]\n",
      "train loss : 2.411481, [epoch:23, iter:500]\n",
      "train loss : 2.407461, [epoch:23, iter:600]\n",
      "train loss : 2.407592, [epoch:23, iter:700]\n",
      "train loss : 2.406527, [epoch:23, iter:800]\n",
      "train loss : 2.409549, [epoch:23, iter:900]\n",
      "train loss : 2.410273, [epoch:23, iter:1000]\n",
      "train loss : 2.409583, [epoch:23, iter:1100]\n",
      "train loss : 2.408842, [epoch:23, iter:1200]\n",
      "TRAIN ACCURACY : 30.7% [24595/80128]\n"
     ]
    },
    {
     "name": "stderr",
     "output_type": "stream",
     "text": [
      "Train:  15%|███▌                   | 23/150 [6:21:32<34:54:20, 989.45s/it]"
     ]
    },
    {
     "name": "stdout",
     "output_type": "stream",
     "text": [
      "TEST ACCURACY : 21.1% [3761/17792]\n",
      "\n",
      "EPOCH:23 | train loss : 2.4097811892961922, test loss : 2.76204231574381\n",
      "\n",
      "EPOCH 24 \n",
      "-------------------------\n",
      "train loss : 2.221734, [epoch:24, iter:0]\n"
     ]
    },
    {
     "name": "stderr",
     "output_type": "stream",
     "text": [
      "/home/qkrwnstj/anaconda3/envs/qkrwnstj/lib/python3.9/site-packages/PIL/TiffImagePlugin.py:858: UserWarning: Corrupt EXIF data.  Expecting to read 2 bytes but only got 0. \n",
      "  warnings.warn(str(msg))\n",
      "/home/qkrwnstj/anaconda3/envs/qkrwnstj/lib/python3.9/site-packages/PIL/TiffImagePlugin.py:858: UserWarning: Corrupt EXIF data.  Expecting to read 2 bytes but only got 0. \n",
      "  warnings.warn(str(msg))\n"
     ]
    },
    {
     "name": "stdout",
     "output_type": "stream",
     "text": [
      "train loss : 2.411269, [epoch:24, iter:100]\n",
      "train loss : 2.409179, [epoch:24, iter:200]\n",
      "train loss : 2.405597, [epoch:24, iter:300]\n",
      "train loss : 2.400979, [epoch:24, iter:400]\n",
      "train loss : 2.403614, [epoch:24, iter:500]\n",
      "train loss : 2.400549, [epoch:24, iter:600]\n",
      "train loss : 2.400299, [epoch:24, iter:700]\n",
      "train loss : 2.401939, [epoch:24, iter:800]\n",
      "train loss : 2.400332, [epoch:24, iter:900]\n",
      "train loss : 2.401695, [epoch:24, iter:1000]\n",
      "train loss : 2.402242, [epoch:24, iter:1100]\n",
      "train loss : 2.403847, [epoch:24, iter:1200]\n",
      "TRAIN ACCURACY : 30.9% [24746/80128]\n"
     ]
    },
    {
     "name": "stderr",
     "output_type": "stream",
     "text": [
      "Train:  16%|███▋                   | 24/150 [6:38:24<34:51:54, 996.14s/it]"
     ]
    },
    {
     "name": "stdout",
     "output_type": "stream",
     "text": [
      "TEST ACCURACY : 21.9% [3892/17792]\n",
      "\n",
      "EPOCH:24 | train loss : 2.401902111003193, test loss : 2.770164589230105\n",
      "\n",
      "EPOCH 25 \n",
      "-------------------------\n",
      "train loss : 2.366063, [epoch:25, iter:0]\n",
      "train loss : 2.355593, [epoch:25, iter:100]\n",
      "train loss : 2.380427, [epoch:25, iter:200]\n",
      "train loss : 2.385560, [epoch:25, iter:300]\n",
      "train loss : 2.389779, [epoch:25, iter:400]\n",
      "train loss : 2.388799, [epoch:25, iter:500]\n",
      "train loss : 2.387266, [epoch:25, iter:600]\n"
     ]
    },
    {
     "name": "stderr",
     "output_type": "stream",
     "text": [
      "/home/qkrwnstj/anaconda3/envs/qkrwnstj/lib/python3.9/site-packages/PIL/TiffImagePlugin.py:858: UserWarning: Corrupt EXIF data.  Expecting to read 2 bytes but only got 0. \n",
      "  warnings.warn(str(msg))\n"
     ]
    },
    {
     "name": "stdout",
     "output_type": "stream",
     "text": [
      "train loss : 2.390523, [epoch:25, iter:700]\n",
      "train loss : 2.389259, [epoch:25, iter:800]\n",
      "train loss : 2.393962, [epoch:25, iter:900]\n",
      "train loss : 2.395578, [epoch:25, iter:1000]\n",
      "train loss : 2.392939, [epoch:25, iter:1100]\n"
     ]
    },
    {
     "name": "stderr",
     "output_type": "stream",
     "text": [
      "/home/qkrwnstj/anaconda3/envs/qkrwnstj/lib/python3.9/site-packages/PIL/TiffImagePlugin.py:858: UserWarning: Corrupt EXIF data.  Expecting to read 2 bytes but only got 0. \n",
      "  warnings.warn(str(msg))\n"
     ]
    },
    {
     "name": "stdout",
     "output_type": "stream",
     "text": [
      "train loss : 2.390803, [epoch:25, iter:1200]\n",
      "TRAIN ACCURACY : 31.2% [25019/80128]\n"
     ]
    },
    {
     "name": "stderr",
     "output_type": "stream",
     "text": [
      "Train:  17%|███▊                   | 25/150 [6:55:03<34:36:53, 996.91s/it]"
     ]
    },
    {
     "name": "stdout",
     "output_type": "stream",
     "text": [
      "TEST ACCURACY : 21.3% [3783/17792]\n",
      "\n",
      "EPOCH:25 | train loss : 2.391575298465479, test loss : 2.766254997081894\n",
      "\n",
      "EPOCH 26 \n",
      "-------------------------\n",
      "train loss : 2.270625, [epoch:26, iter:0]\n"
     ]
    },
    {
     "name": "stderr",
     "output_type": "stream",
     "text": [
      "/home/qkrwnstj/anaconda3/envs/qkrwnstj/lib/python3.9/site-packages/PIL/TiffImagePlugin.py:858: UserWarning: Corrupt EXIF data.  Expecting to read 2 bytes but only got 0. \n",
      "  warnings.warn(str(msg))\n"
     ]
    },
    {
     "name": "stdout",
     "output_type": "stream",
     "text": [
      "train loss : 2.354896, [epoch:26, iter:100]\n",
      "train loss : 2.364967, [epoch:26, iter:200]\n",
      "train loss : 2.374515, [epoch:26, iter:300]\n",
      "train loss : 2.375939, [epoch:26, iter:400]\n",
      "train loss : 2.380023, [epoch:26, iter:500]\n",
      "train loss : 2.382719, [epoch:26, iter:600]\n",
      "train loss : 2.381132, [epoch:26, iter:700]\n",
      "train loss : 2.382985, [epoch:26, iter:800]\n"
     ]
    },
    {
     "name": "stderr",
     "output_type": "stream",
     "text": [
      "/home/qkrwnstj/anaconda3/envs/qkrwnstj/lib/python3.9/site-packages/PIL/TiffImagePlugin.py:858: UserWarning: Corrupt EXIF data.  Expecting to read 2 bytes but only got 0. \n",
      "  warnings.warn(str(msg))\n"
     ]
    },
    {
     "name": "stdout",
     "output_type": "stream",
     "text": [
      "train loss : 2.380106, [epoch:26, iter:900]\n",
      "train loss : 2.381979, [epoch:26, iter:1000]\n",
      "train loss : 2.384822, [epoch:26, iter:1100]\n",
      "train loss : 2.387142, [epoch:26, iter:1200]\n",
      "TRAIN ACCURACY : 31.3% [25079/80128]\n"
     ]
    },
    {
     "name": "stderr",
     "output_type": "stream",
     "text": [
      "Train:  17%|███▉                   | 26/150 [7:11:29<34:13:22, 993.57s/it]"
     ]
    },
    {
     "name": "stdout",
     "output_type": "stream",
     "text": [
      "TEST ACCURACY : 20.6% [3667/17792]\n",
      "\n",
      "EPOCH:26 | train loss : 2.3881803535805726, test loss : 2.8084253167076936\n",
      "\n",
      "EPOCH 27 \n",
      "-------------------------\n"
     ]
    },
    {
     "name": "stderr",
     "output_type": "stream",
     "text": [
      "/home/qkrwnstj/anaconda3/envs/qkrwnstj/lib/python3.9/site-packages/PIL/TiffImagePlugin.py:858: UserWarning: Corrupt EXIF data.  Expecting to read 2 bytes but only got 0. \n",
      "  warnings.warn(str(msg))\n"
     ]
    },
    {
     "name": "stdout",
     "output_type": "stream",
     "text": [
      "train loss : 2.413774, [epoch:27, iter:0]\n",
      "train loss : 2.365884, [epoch:27, iter:100]\n",
      "train loss : 2.375289, [epoch:27, iter:200]\n",
      "train loss : 2.378337, [epoch:27, iter:300]\n",
      "train loss : 2.375642, [epoch:27, iter:400]\n",
      "train loss : 2.378252, [epoch:27, iter:500]\n",
      "train loss : 2.382294, [epoch:27, iter:600]\n"
     ]
    },
    {
     "name": "stderr",
     "output_type": "stream",
     "text": [
      "/home/qkrwnstj/anaconda3/envs/qkrwnstj/lib/python3.9/site-packages/PIL/TiffImagePlugin.py:858: UserWarning: Corrupt EXIF data.  Expecting to read 2 bytes but only got 0. \n",
      "  warnings.warn(str(msg))\n"
     ]
    },
    {
     "name": "stdout",
     "output_type": "stream",
     "text": [
      "train loss : 2.381696, [epoch:27, iter:700]\n",
      "train loss : 2.382853, [epoch:27, iter:800]\n",
      "train loss : 2.380953, [epoch:27, iter:900]\n",
      "train loss : 2.380158, [epoch:27, iter:1000]\n",
      "train loss : 2.381169, [epoch:27, iter:1100]\n",
      "train loss : 2.381207, [epoch:27, iter:1200]\n",
      "TRAIN ACCURACY : 31.4% [25177/80128]\n"
     ]
    },
    {
     "name": "stderr",
     "output_type": "stream",
     "text": [
      "Train:  18%|████▏                  | 27/150 [7:27:57<33:53:20, 991.88s/it]"
     ]
    },
    {
     "name": "stdout",
     "output_type": "stream",
     "text": [
      "TEST ACCURACY : 22.5% [3999/17792]\n",
      "\n",
      "EPOCH:27 | train loss : 2.37987391703045, test loss : 2.786705270945597\n",
      "\n",
      "EPOCH 28 \n",
      "-------------------------\n",
      "train loss : 2.300815, [epoch:28, iter:0]\n",
      "train loss : 2.365632, [epoch:28, iter:100]\n",
      "train loss : 2.372993, [epoch:28, iter:200]\n",
      "train loss : 2.367181, [epoch:28, iter:300]\n"
     ]
    },
    {
     "name": "stderr",
     "output_type": "stream",
     "text": [
      "/home/qkrwnstj/anaconda3/envs/qkrwnstj/lib/python3.9/site-packages/PIL/TiffImagePlugin.py:858: UserWarning: Corrupt EXIF data.  Expecting to read 2 bytes but only got 0. \n",
      "  warnings.warn(str(msg))\n"
     ]
    },
    {
     "name": "stdout",
     "output_type": "stream",
     "text": [
      "train loss : 2.367950, [epoch:28, iter:400]\n",
      "train loss : 2.360951, [epoch:28, iter:500]\n",
      "train loss : 2.368177, [epoch:28, iter:600]\n",
      "train loss : 2.368785, [epoch:28, iter:700]\n",
      "train loss : 2.369081, [epoch:28, iter:800]\n",
      "train loss : 2.370647, [epoch:28, iter:900]\n"
     ]
    },
    {
     "name": "stderr",
     "output_type": "stream",
     "text": [
      "/home/qkrwnstj/anaconda3/envs/qkrwnstj/lib/python3.9/site-packages/PIL/TiffImagePlugin.py:858: UserWarning: Corrupt EXIF data.  Expecting to read 2 bytes but only got 0. \n",
      "  warnings.warn(str(msg))\n"
     ]
    },
    {
     "name": "stdout",
     "output_type": "stream",
     "text": [
      "train loss : 2.370228, [epoch:28, iter:1000]\n",
      "train loss : 2.371706, [epoch:28, iter:1100]\n",
      "train loss : 2.372984, [epoch:28, iter:1200]\n",
      "TRAIN ACCURACY : 31.5% [25270/80128]\n"
     ]
    },
    {
     "name": "stderr",
     "output_type": "stream",
     "text": [
      "Train:  19%|████▎                  | 28/150 [7:44:23<33:33:24, 990.20s/it]"
     ]
    },
    {
     "name": "stdout",
     "output_type": "stream",
     "text": [
      "TEST ACCURACY : 22.1% [3940/17792]\n",
      "\n",
      "EPOCH:28 | train loss : 2.3731711354499425, test loss : 2.761018706740235\n",
      "\n",
      "EPOCH 29 \n",
      "-------------------------\n",
      "train loss : 2.965283, [epoch:29, iter:0]\n",
      "train loss : 2.368563, [epoch:29, iter:100]\n"
     ]
    },
    {
     "name": "stderr",
     "output_type": "stream",
     "text": [
      "/home/qkrwnstj/anaconda3/envs/qkrwnstj/lib/python3.9/site-packages/PIL/TiffImagePlugin.py:858: UserWarning: Corrupt EXIF data.  Expecting to read 2 bytes but only got 0. \n",
      "  warnings.warn(str(msg))\n"
     ]
    },
    {
     "name": "stdout",
     "output_type": "stream",
     "text": [
      "train loss : 2.359516, [epoch:29, iter:200]\n",
      "train loss : 2.364486, [epoch:29, iter:300]\n",
      "train loss : 2.364384, [epoch:29, iter:400]\n",
      "train loss : 2.359670, [epoch:29, iter:500]\n",
      "train loss : 2.360815, [epoch:29, iter:600]\n"
     ]
    },
    {
     "name": "stderr",
     "output_type": "stream",
     "text": [
      "/home/qkrwnstj/anaconda3/envs/qkrwnstj/lib/python3.9/site-packages/PIL/TiffImagePlugin.py:858: UserWarning: Corrupt EXIF data.  Expecting to read 2 bytes but only got 0. \n",
      "  warnings.warn(str(msg))\n"
     ]
    },
    {
     "name": "stdout",
     "output_type": "stream",
     "text": [
      "train loss : 2.363867, [epoch:29, iter:700]\n",
      "train loss : 2.364697, [epoch:29, iter:800]\n",
      "train loss : 2.365947, [epoch:29, iter:900]\n",
      "train loss : 2.367353, [epoch:29, iter:1000]\n",
      "train loss : 2.366602, [epoch:29, iter:1100]\n",
      "train loss : 2.364724, [epoch:29, iter:1200]\n",
      "TRAIN ACCURACY : 31.8% [25483/80128]\n"
     ]
    },
    {
     "name": "stderr",
     "output_type": "stream",
     "text": [
      "Train:  19%|████▍                  | 29/150 [8:00:51<33:15:18, 989.41s/it]"
     ]
    },
    {
     "name": "stdout",
     "output_type": "stream",
     "text": [
      "TEST ACCURACY : 20.4% [3634/17792]\n",
      "\n",
      "EPOCH:29 | train loss : 2.366061180068281, test loss : 2.7658456486763714\n",
      "\n",
      "EPOCH 30 \n",
      "-------------------------\n"
     ]
    },
    {
     "name": "stderr",
     "output_type": "stream",
     "text": [
      "/home/qkrwnstj/anaconda3/envs/qkrwnstj/lib/python3.9/site-packages/PIL/TiffImagePlugin.py:858: UserWarning: Corrupt EXIF data.  Expecting to read 2 bytes but only got 0. \n",
      "  warnings.warn(str(msg))\n"
     ]
    },
    {
     "name": "stdout",
     "output_type": "stream",
     "text": [
      "train loss : 2.413062, [epoch:30, iter:0]\n",
      "train loss : 2.355861, [epoch:30, iter:100]\n",
      "train loss : 2.366047, [epoch:30, iter:200]\n",
      "train loss : 2.362685, [epoch:30, iter:300]\n",
      "train loss : 2.360951, [epoch:30, iter:400]\n",
      "train loss : 2.352392, [epoch:30, iter:500]\n",
      "train loss : 2.350777, [epoch:30, iter:600]\n",
      "train loss : 2.350810, [epoch:30, iter:700]\n",
      "train loss : 2.350370, [epoch:30, iter:800]\n"
     ]
    },
    {
     "name": "stderr",
     "output_type": "stream",
     "text": [
      "/home/qkrwnstj/anaconda3/envs/qkrwnstj/lib/python3.9/site-packages/PIL/TiffImagePlugin.py:858: UserWarning: Corrupt EXIF data.  Expecting to read 2 bytes but only got 0. \n",
      "  warnings.warn(str(msg))\n"
     ]
    },
    {
     "name": "stdout",
     "output_type": "stream",
     "text": [
      "train loss : 2.351170, [epoch:30, iter:900]\n",
      "train loss : 2.355254, [epoch:30, iter:1000]\n",
      "train loss : 2.356892, [epoch:30, iter:1100]\n",
      "train loss : 2.359315, [epoch:30, iter:1200]\n",
      "TRAIN ACCURACY : 31.9% [25540/80128]\n",
      "TEST ACCURACY : 22.7% [4031/17792]\n",
      "...MODEL SAVE...\n"
     ]
    },
    {
     "name": "stderr",
     "output_type": "stream",
     "text": [
      "Train:  20%|████▌                  | 30/150 [8:17:22<32:59:46, 989.89s/it]"
     ]
    },
    {
     "name": "stdout",
     "output_type": "stream",
     "text": [
      "\n",
      "EPOCH:30 | train loss : 2.36055253022395, test loss : 2.6928683056248177\n",
      "\n",
      "EPOCH 31 \n",
      "-------------------------\n",
      "train loss : 2.272039, [epoch:31, iter:0]\n",
      "train loss : 2.338854, [epoch:31, iter:100]\n"
     ]
    },
    {
     "name": "stderr",
     "output_type": "stream",
     "text": [
      "/home/qkrwnstj/anaconda3/envs/qkrwnstj/lib/python3.9/site-packages/PIL/TiffImagePlugin.py:858: UserWarning: Corrupt EXIF data.  Expecting to read 2 bytes but only got 0. \n",
      "  warnings.warn(str(msg))\n",
      "/home/qkrwnstj/anaconda3/envs/qkrwnstj/lib/python3.9/site-packages/PIL/TiffImagePlugin.py:858: UserWarning: Corrupt EXIF data.  Expecting to read 2 bytes but only got 0. \n",
      "  warnings.warn(str(msg))\n"
     ]
    },
    {
     "name": "stdout",
     "output_type": "stream",
     "text": [
      "train loss : 2.336926, [epoch:31, iter:200]\n",
      "train loss : 2.340598, [epoch:31, iter:300]\n",
      "train loss : 2.346498, [epoch:31, iter:400]\n",
      "train loss : 2.352778, [epoch:31, iter:500]\n",
      "train loss : 2.353115, [epoch:31, iter:600]\n",
      "train loss : 2.355027, [epoch:31, iter:700]\n",
      "train loss : 2.355960, [epoch:31, iter:800]\n",
      "train loss : 2.354651, [epoch:31, iter:900]\n",
      "train loss : 2.354634, [epoch:31, iter:1000]\n",
      "train loss : 2.354245, [epoch:31, iter:1100]\n",
      "train loss : 2.355122, [epoch:31, iter:1200]\n",
      "TRAIN ACCURACY : 31.9% [25574/80128]\n"
     ]
    },
    {
     "name": "stderr",
     "output_type": "stream",
     "text": [
      "Train:  21%|████▊                  | 31/150 [8:33:46<32:40:04, 988.27s/it]"
     ]
    },
    {
     "name": "stdout",
     "output_type": "stream",
     "text": [
      "TEST ACCURACY : 21.5% [3823/17792]\n",
      "\n",
      "EPOCH:31 | train loss : 2.3550079441108642, test loss : 2.760139473908239\n",
      "\n",
      "EPOCH 32 \n",
      "-------------------------\n",
      "train loss : 2.225069, [epoch:32, iter:0]\n"
     ]
    },
    {
     "name": "stderr",
     "output_type": "stream",
     "text": [
      "/home/qkrwnstj/anaconda3/envs/qkrwnstj/lib/python3.9/site-packages/PIL/TiffImagePlugin.py:858: UserWarning: Corrupt EXIF data.  Expecting to read 2 bytes but only got 0. \n",
      "  warnings.warn(str(msg))\n"
     ]
    },
    {
     "name": "stdout",
     "output_type": "stream",
     "text": [
      "train loss : 2.347015, [epoch:32, iter:100]\n",
      "train loss : 2.348133, [epoch:32, iter:200]\n",
      "train loss : 2.349559, [epoch:32, iter:300]\n",
      "train loss : 2.349942, [epoch:32, iter:400]\n",
      "train loss : 2.349495, [epoch:32, iter:500]\n",
      "train loss : 2.346595, [epoch:32, iter:600]\n",
      "train loss : 2.346960, [epoch:32, iter:700]\n",
      "train loss : 2.347532, [epoch:32, iter:800]\n",
      "train loss : 2.348790, [epoch:32, iter:900]\n",
      "train loss : 2.346796, [epoch:32, iter:1000]\n"
     ]
    },
    {
     "name": "stderr",
     "output_type": "stream",
     "text": [
      "/home/qkrwnstj/anaconda3/envs/qkrwnstj/lib/python3.9/site-packages/PIL/TiffImagePlugin.py:858: UserWarning: Corrupt EXIF data.  Expecting to read 2 bytes but only got 0. \n",
      "  warnings.warn(str(msg))\n"
     ]
    },
    {
     "name": "stdout",
     "output_type": "stream",
     "text": [
      "train loss : 2.348362, [epoch:32, iter:1100]\n",
      "train loss : 2.350115, [epoch:32, iter:1200]\n",
      "TRAIN ACCURACY : 32.1% [25758/80128]\n"
     ]
    },
    {
     "name": "stderr",
     "output_type": "stream",
     "text": [
      "Train:  21%|████▉                  | 32/150 [8:50:11<32:21:37, 987.27s/it]"
     ]
    },
    {
     "name": "stdout",
     "output_type": "stream",
     "text": [
      "TEST ACCURACY : 21.6% [3848/17792]\n",
      "\n",
      "EPOCH:32 | train loss : 2.3497582889212585, test loss : 2.7756918943185602\n",
      "\n",
      "EPOCH 33 \n",
      "-------------------------\n",
      "train loss : 2.516526, [epoch:33, iter:0]\n"
     ]
    },
    {
     "name": "stderr",
     "output_type": "stream",
     "text": [
      "/home/qkrwnstj/anaconda3/envs/qkrwnstj/lib/python3.9/site-packages/PIL/TiffImagePlugin.py:858: UserWarning: Corrupt EXIF data.  Expecting to read 2 bytes but only got 0. \n",
      "  warnings.warn(str(msg))\n"
     ]
    },
    {
     "name": "stdout",
     "output_type": "stream",
     "text": [
      "train loss : 2.355069, [epoch:33, iter:100]\n",
      "train loss : 2.331694, [epoch:33, iter:200]\n",
      "train loss : 2.331072, [epoch:33, iter:300]\n",
      "train loss : 2.330922, [epoch:33, iter:400]\n",
      "train loss : 2.332936, [epoch:33, iter:500]\n"
     ]
    },
    {
     "name": "stderr",
     "output_type": "stream",
     "text": [
      "/home/qkrwnstj/anaconda3/envs/qkrwnstj/lib/python3.9/site-packages/PIL/TiffImagePlugin.py:858: UserWarning: Corrupt EXIF data.  Expecting to read 2 bytes but only got 0. \n",
      "  warnings.warn(str(msg))\n"
     ]
    },
    {
     "name": "stdout",
     "output_type": "stream",
     "text": [
      "train loss : 2.331797, [epoch:33, iter:600]\n",
      "train loss : 2.339696, [epoch:33, iter:700]\n",
      "train loss : 2.340211, [epoch:33, iter:800]\n",
      "train loss : 2.339781, [epoch:33, iter:900]\n",
      "train loss : 2.339519, [epoch:33, iter:1000]\n",
      "train loss : 2.339221, [epoch:33, iter:1100]\n",
      "train loss : 2.341209, [epoch:33, iter:1200]\n",
      "TRAIN ACCURACY : 32.3% [25846/80128]\n"
     ]
    },
    {
     "name": "stderr",
     "output_type": "stream",
     "text": [
      "Train:  22%|█████                  | 33/150 [9:07:06<32:21:23, 995.58s/it]"
     ]
    },
    {
     "name": "stdout",
     "output_type": "stream",
     "text": [
      "TEST ACCURACY : 23.7% [4208/17792]\n",
      "\n",
      "EPOCH:33 | train loss : 2.341432893428559, test loss : 2.6978378304474644\n",
      "\n",
      "EPOCH 34 \n",
      "-------------------------\n",
      "train loss : 2.376473, [epoch:34, iter:0]\n",
      "train loss : 2.328620, [epoch:34, iter:100]\n",
      "train loss : 2.331921, [epoch:34, iter:200]\n",
      "train loss : 2.326242, [epoch:34, iter:300]\n",
      "train loss : 2.326650, [epoch:34, iter:400]\n",
      "train loss : 2.329135, [epoch:34, iter:500]\n"
     ]
    },
    {
     "name": "stderr",
     "output_type": "stream",
     "text": [
      "/home/qkrwnstj/anaconda3/envs/qkrwnstj/lib/python3.9/site-packages/PIL/TiffImagePlugin.py:858: UserWarning: Corrupt EXIF data.  Expecting to read 2 bytes but only got 0. \n",
      "  warnings.warn(str(msg))\n"
     ]
    },
    {
     "name": "stdout",
     "output_type": "stream",
     "text": [
      "train loss : 2.333431, [epoch:34, iter:600]\n"
     ]
    },
    {
     "name": "stderr",
     "output_type": "stream",
     "text": [
      "/home/qkrwnstj/anaconda3/envs/qkrwnstj/lib/python3.9/site-packages/PIL/TiffImagePlugin.py:858: UserWarning: Corrupt EXIF data.  Expecting to read 2 bytes but only got 0. \n",
      "  warnings.warn(str(msg))\n"
     ]
    },
    {
     "name": "stdout",
     "output_type": "stream",
     "text": [
      "train loss : 2.333095, [epoch:34, iter:700]\n",
      "train loss : 2.335197, [epoch:34, iter:800]\n",
      "train loss : 2.333541, [epoch:34, iter:900]\n",
      "train loss : 2.332192, [epoch:34, iter:1000]\n",
      "train loss : 2.334801, [epoch:34, iter:1100]\n",
      "train loss : 2.336441, [epoch:34, iter:1200]\n",
      "TRAIN ACCURACY : 32.4% [25945/80128]\n"
     ]
    },
    {
     "name": "stderr",
     "output_type": "stream",
     "text": [
      "Train:  23%|█████▏                 | 34/150 [9:23:33<32:00:04, 993.15s/it]"
     ]
    },
    {
     "name": "stdout",
     "output_type": "stream",
     "text": [
      "TEST ACCURACY : 21.9% [3900/17792]\n",
      "\n",
      "EPOCH:34 | train loss : 2.3372109024859844, test loss : 2.7234319782943177\n",
      "\n",
      "EPOCH 35 \n",
      "-------------------------\n",
      "train loss : 2.312085, [epoch:35, iter:0]\n"
     ]
    },
    {
     "name": "stderr",
     "output_type": "stream",
     "text": [
      "/home/qkrwnstj/anaconda3/envs/qkrwnstj/lib/python3.9/site-packages/PIL/TiffImagePlugin.py:858: UserWarning: Corrupt EXIF data.  Expecting to read 2 bytes but only got 0. \n",
      "  warnings.warn(str(msg))\n"
     ]
    },
    {
     "name": "stdout",
     "output_type": "stream",
     "text": [
      "train loss : 2.350435, [epoch:35, iter:100]\n"
     ]
    },
    {
     "name": "stderr",
     "output_type": "stream",
     "text": [
      "/home/qkrwnstj/anaconda3/envs/qkrwnstj/lib/python3.9/site-packages/PIL/TiffImagePlugin.py:858: UserWarning: Corrupt EXIF data.  Expecting to read 2 bytes but only got 0. \n",
      "  warnings.warn(str(msg))\n"
     ]
    },
    {
     "name": "stdout",
     "output_type": "stream",
     "text": [
      "train loss : 2.327434, [epoch:35, iter:200]\n",
      "train loss : 2.335804, [epoch:35, iter:300]\n",
      "train loss : 2.326641, [epoch:35, iter:400]\n",
      "train loss : 2.329345, [epoch:35, iter:500]\n",
      "train loss : 2.330897, [epoch:35, iter:600]\n",
      "train loss : 2.331358, [epoch:35, iter:700]\n",
      "train loss : 2.330771, [epoch:35, iter:800]\n",
      "train loss : 2.330266, [epoch:35, iter:900]\n",
      "train loss : 2.332461, [epoch:35, iter:1000]\n",
      "train loss : 2.333535, [epoch:35, iter:1100]\n",
      "train loss : 2.334387, [epoch:35, iter:1200]\n",
      "TRAIN ACCURACY : 32.7% [26178/80128]\n"
     ]
    },
    {
     "name": "stderr",
     "output_type": "stream",
     "text": [
      "Train:  23%|█████▎                 | 35/150 [9:39:55<31:37:06, 989.79s/it]"
     ]
    },
    {
     "name": "stdout",
     "output_type": "stream",
     "text": [
      "TEST ACCURACY : 22.3% [3969/17792]\n",
      "\n",
      "EPOCH:35 | train loss : 2.3328241851573552, test loss : 2.733840834322593\n",
      "\n",
      "EPOCH 36 \n",
      "-------------------------\n",
      "train loss : 2.100219, [epoch:36, iter:0]\n",
      "train loss : 2.313994, [epoch:36, iter:100]\n",
      "train loss : 2.321071, [epoch:36, iter:200]\n",
      "train loss : 2.324874, [epoch:36, iter:300]\n",
      "train loss : 2.322504, [epoch:36, iter:400]\n"
     ]
    },
    {
     "name": "stderr",
     "output_type": "stream",
     "text": [
      "/home/qkrwnstj/anaconda3/envs/qkrwnstj/lib/python3.9/site-packages/PIL/TiffImagePlugin.py:858: UserWarning: Corrupt EXIF data.  Expecting to read 2 bytes but only got 0. \n",
      "  warnings.warn(str(msg))\n"
     ]
    },
    {
     "name": "stdout",
     "output_type": "stream",
     "text": [
      "train loss : 2.320926, [epoch:36, iter:500]\n",
      "train loss : 2.319056, [epoch:36, iter:600]\n"
     ]
    },
    {
     "name": "stderr",
     "output_type": "stream",
     "text": [
      "/home/qkrwnstj/anaconda3/envs/qkrwnstj/lib/python3.9/site-packages/PIL/TiffImagePlugin.py:858: UserWarning: Corrupt EXIF data.  Expecting to read 2 bytes but only got 0. \n",
      "  warnings.warn(str(msg))\n"
     ]
    },
    {
     "name": "stdout",
     "output_type": "stream",
     "text": [
      "train loss : 2.318155, [epoch:36, iter:700]\n",
      "train loss : 2.320993, [epoch:36, iter:800]\n",
      "train loss : 2.323592, [epoch:36, iter:900]\n",
      "train loss : 2.326770, [epoch:36, iter:1000]\n",
      "train loss : 2.328169, [epoch:36, iter:1100]\n",
      "train loss : 2.328723, [epoch:36, iter:1200]\n",
      "TRAIN ACCURACY : 32.7% [26216/80128]\n"
     ]
    },
    {
     "name": "stderr",
     "output_type": "stream",
     "text": [
      "Train:  24%|█████▌                 | 36/150 [9:56:30<31:23:30, 991.32s/it]"
     ]
    },
    {
     "name": "stdout",
     "output_type": "stream",
     "text": [
      "TEST ACCURACY : 22.4% [3987/17792]\n",
      "\n",
      "EPOCH:36 | train loss : 2.3283670364667812, test loss : 2.7317269182891297\n",
      "\n",
      "EPOCH 37 \n",
      "-------------------------\n",
      "train loss : 2.317322, [epoch:37, iter:0]\n",
      "train loss : 2.308113, [epoch:37, iter:100]\n",
      "train loss : 2.318809, [epoch:37, iter:200]\n",
      "train loss : 2.308476, [epoch:37, iter:300]\n"
     ]
    },
    {
     "name": "stderr",
     "output_type": "stream",
     "text": [
      "/home/qkrwnstj/anaconda3/envs/qkrwnstj/lib/python3.9/site-packages/PIL/TiffImagePlugin.py:858: UserWarning: Corrupt EXIF data.  Expecting to read 2 bytes but only got 0. \n",
      "  warnings.warn(str(msg))\n"
     ]
    },
    {
     "name": "stdout",
     "output_type": "stream",
     "text": [
      "train loss : 2.314849, [epoch:37, iter:400]\n",
      "train loss : 2.317861, [epoch:37, iter:500]\n",
      "train loss : 2.322032, [epoch:37, iter:600]\n",
      "train loss : 2.320334, [epoch:37, iter:700]\n",
      "train loss : 2.320365, [epoch:37, iter:800]\n",
      "train loss : 2.323192, [epoch:37, iter:900]\n",
      "train loss : 2.321471, [epoch:37, iter:1000]\n",
      "train loss : 2.321109, [epoch:37, iter:1100]\n"
     ]
    },
    {
     "name": "stderr",
     "output_type": "stream",
     "text": [
      "/home/qkrwnstj/anaconda3/envs/qkrwnstj/lib/python3.9/site-packages/PIL/TiffImagePlugin.py:858: UserWarning: Corrupt EXIF data.  Expecting to read 2 bytes but only got 0. \n",
      "  warnings.warn(str(msg))\n"
     ]
    },
    {
     "name": "stdout",
     "output_type": "stream",
     "text": [
      "train loss : 2.323022, [epoch:37, iter:1200]\n",
      "TRAIN ACCURACY : 32.7% [26222/80128]\n"
     ]
    },
    {
     "name": "stderr",
     "output_type": "stream",
     "text": [
      "Train:  25%|█████▍                | 37/150 [10:12:46<30:58:27, 986.79s/it]"
     ]
    },
    {
     "name": "stdout",
     "output_type": "stream",
     "text": [
      "TEST ACCURACY : 23.3% [4151/17792]\n",
      "\n",
      "EPOCH:37 | train loss : 2.3217579100649957, test loss : 2.7432785257161094\n",
      "\n",
      "EPOCH 38 \n",
      "-------------------------\n",
      "train loss : 2.268807, [epoch:38, iter:0]\n",
      "train loss : 2.285531, [epoch:38, iter:100]\n",
      "train loss : 2.303136, [epoch:38, iter:200]\n",
      "train loss : 2.316839, [epoch:38, iter:300]\n"
     ]
    },
    {
     "name": "stderr",
     "output_type": "stream",
     "text": [
      "/home/qkrwnstj/anaconda3/envs/qkrwnstj/lib/python3.9/site-packages/PIL/TiffImagePlugin.py:858: UserWarning: Corrupt EXIF data.  Expecting to read 2 bytes but only got 0. \n",
      "  warnings.warn(str(msg))\n"
     ]
    },
    {
     "name": "stdout",
     "output_type": "stream",
     "text": [
      "train loss : 2.319415, [epoch:38, iter:400]\n",
      "train loss : 2.315923, [epoch:38, iter:500]\n",
      "train loss : 2.311738, [epoch:38, iter:600]\n",
      "train loss : 2.316437, [epoch:38, iter:700]\n",
      "train loss : 2.316747, [epoch:38, iter:800]\n",
      "train loss : 2.317490, [epoch:38, iter:900]\n"
     ]
    },
    {
     "name": "stderr",
     "output_type": "stream",
     "text": [
      "/home/qkrwnstj/anaconda3/envs/qkrwnstj/lib/python3.9/site-packages/PIL/TiffImagePlugin.py:858: UserWarning: Corrupt EXIF data.  Expecting to read 2 bytes but only got 0. \n",
      "  warnings.warn(str(msg))\n"
     ]
    },
    {
     "name": "stdout",
     "output_type": "stream",
     "text": [
      "train loss : 2.317353, [epoch:38, iter:1000]\n",
      "train loss : 2.316764, [epoch:38, iter:1100]\n",
      "train loss : 2.317869, [epoch:38, iter:1200]\n",
      "TRAIN ACCURACY : 33.0% [26420/80128]\n",
      "TEST ACCURACY : 23.8% [4229/17792]\n",
      "...MODEL SAVE...\n"
     ]
    },
    {
     "name": "stderr",
     "output_type": "stream",
     "text": [
      "Train:  25%|█████▌                | 38/150 [10:29:20<30:45:46, 988.81s/it]"
     ]
    },
    {
     "name": "stdout",
     "output_type": "stream",
     "text": [
      "\n",
      "EPOCH:38 | train loss : 2.317270017946109, test loss : 2.675673846718219\n",
      "\n",
      "EPOCH 39 \n",
      "-------------------------\n",
      "train loss : 2.168491, [epoch:39, iter:0]\n",
      "train loss : 2.280859, [epoch:39, iter:100]\n",
      "train loss : 2.304994, [epoch:39, iter:200]\n",
      "train loss : 2.308713, [epoch:39, iter:300]\n"
     ]
    },
    {
     "name": "stderr",
     "output_type": "stream",
     "text": [
      "/home/qkrwnstj/anaconda3/envs/qkrwnstj/lib/python3.9/site-packages/PIL/TiffImagePlugin.py:858: UserWarning: Corrupt EXIF data.  Expecting to read 2 bytes but only got 0. \n",
      "  warnings.warn(str(msg))\n"
     ]
    },
    {
     "name": "stdout",
     "output_type": "stream",
     "text": [
      "train loss : 2.310480, [epoch:39, iter:400]\n",
      "train loss : 2.307642, [epoch:39, iter:500]\n"
     ]
    },
    {
     "name": "stderr",
     "output_type": "stream",
     "text": [
      "/home/qkrwnstj/anaconda3/envs/qkrwnstj/lib/python3.9/site-packages/PIL/TiffImagePlugin.py:858: UserWarning: Corrupt EXIF data.  Expecting to read 2 bytes but only got 0. \n",
      "  warnings.warn(str(msg))\n"
     ]
    },
    {
     "name": "stdout",
     "output_type": "stream",
     "text": [
      "train loss : 2.305478, [epoch:39, iter:600]\n",
      "train loss : 2.311641, [epoch:39, iter:700]\n",
      "train loss : 2.310305, [epoch:39, iter:800]\n",
      "train loss : 2.309684, [epoch:39, iter:900]\n",
      "train loss : 2.309728, [epoch:39, iter:1000]\n",
      "train loss : 2.310696, [epoch:39, iter:1100]\n",
      "train loss : 2.312915, [epoch:39, iter:1200]\n",
      "TRAIN ACCURACY : 33.2% [26583/80128]\n"
     ]
    },
    {
     "name": "stderr",
     "output_type": "stream",
     "text": [
      "Train:  26%|█████▋                | 39/150 [10:45:57<30:34:04, 991.40s/it]"
     ]
    },
    {
     "name": "stdout",
     "output_type": "stream",
     "text": [
      "TEST ACCURACY : 22.4% [3986/17792]\n",
      "\n",
      "EPOCH:39 | train loss : 2.313480643133005, test loss : 2.7027426469240257\n",
      "\n",
      "EPOCH 40 \n",
      "-------------------------\n",
      "train loss : 2.219680, [epoch:40, iter:0]\n"
     ]
    },
    {
     "name": "stderr",
     "output_type": "stream",
     "text": [
      "/home/qkrwnstj/anaconda3/envs/qkrwnstj/lib/python3.9/site-packages/PIL/TiffImagePlugin.py:858: UserWarning: Corrupt EXIF data.  Expecting to read 2 bytes but only got 0. \n",
      "  warnings.warn(str(msg))\n"
     ]
    },
    {
     "name": "stdout",
     "output_type": "stream",
     "text": [
      "train loss : 2.281844, [epoch:40, iter:100]\n",
      "train loss : 2.294848, [epoch:40, iter:200]\n",
      "train loss : 2.293238, [epoch:40, iter:300]\n",
      "train loss : 2.305768, [epoch:40, iter:400]\n",
      "train loss : 2.308816, [epoch:40, iter:500]\n"
     ]
    },
    {
     "name": "stderr",
     "output_type": "stream",
     "text": [
      "/home/qkrwnstj/anaconda3/envs/qkrwnstj/lib/python3.9/site-packages/PIL/TiffImagePlugin.py:858: UserWarning: Corrupt EXIF data.  Expecting to read 2 bytes but only got 0. \n",
      "  warnings.warn(str(msg))\n"
     ]
    },
    {
     "name": "stdout",
     "output_type": "stream",
     "text": [
      "train loss : 2.306106, [epoch:40, iter:600]\n",
      "train loss : 2.307410, [epoch:40, iter:700]\n",
      "train loss : 2.309419, [epoch:40, iter:800]\n",
      "train loss : 2.308642, [epoch:40, iter:900]\n",
      "train loss : 2.305350, [epoch:40, iter:1000]\n",
      "train loss : 2.311159, [epoch:40, iter:1100]\n",
      "train loss : 2.313226, [epoch:40, iter:1200]\n",
      "TRAIN ACCURACY : 33.1% [26525/80128]\n"
     ]
    },
    {
     "name": "stderr",
     "output_type": "stream",
     "text": [
      "Train:  27%|█████▊                | 40/150 [11:02:38<30:22:40, 994.19s/it]"
     ]
    },
    {
     "name": "stdout",
     "output_type": "stream",
     "text": [
      "TEST ACCURACY : 23.1% [4117/17792]\n",
      "\n",
      "EPOCH:40 | train loss : 2.3126074273746235, test loss : 2.7234474008889507\n",
      "\n",
      "EPOCH 41 \n",
      "-------------------------\n",
      "train loss : 2.246692, [epoch:41, iter:0]\n"
     ]
    },
    {
     "name": "stderr",
     "output_type": "stream",
     "text": [
      "/home/qkrwnstj/anaconda3/envs/qkrwnstj/lib/python3.9/site-packages/PIL/TiffImagePlugin.py:858: UserWarning: Corrupt EXIF data.  Expecting to read 2 bytes but only got 0. \n",
      "  warnings.warn(str(msg))\n"
     ]
    },
    {
     "name": "stdout",
     "output_type": "stream",
     "text": [
      "train loss : 2.291559, [epoch:41, iter:100]\n",
      "train loss : 2.305962, [epoch:41, iter:200]\n",
      "train loss : 2.307924, [epoch:41, iter:300]\n",
      "train loss : 2.309318, [epoch:41, iter:400]\n",
      "train loss : 2.309295, [epoch:41, iter:500]\n"
     ]
    },
    {
     "name": "stderr",
     "output_type": "stream",
     "text": [
      "/home/qkrwnstj/anaconda3/envs/qkrwnstj/lib/python3.9/site-packages/PIL/TiffImagePlugin.py:858: UserWarning: Corrupt EXIF data.  Expecting to read 2 bytes but only got 0. \n",
      "  warnings.warn(str(msg))\n"
     ]
    },
    {
     "name": "stdout",
     "output_type": "stream",
     "text": [
      "train loss : 2.313276, [epoch:41, iter:600]\n",
      "train loss : 2.309902, [epoch:41, iter:700]\n",
      "train loss : 2.308276, [epoch:41, iter:800]\n",
      "train loss : 2.308159, [epoch:41, iter:900]\n",
      "train loss : 2.308546, [epoch:41, iter:1000]\n",
      "train loss : 2.310152, [epoch:41, iter:1100]\n",
      "train loss : 2.310783, [epoch:41, iter:1200]\n",
      "TRAIN ACCURACY : 32.9% [26329/80128]\n"
     ]
    },
    {
     "name": "stderr",
     "output_type": "stream",
     "text": [
      "Train:  27%|██████                | 41/150 [11:19:27<30:14:19, 998.71s/it]"
     ]
    },
    {
     "name": "stdout",
     "output_type": "stream",
     "text": [
      "TEST ACCURACY : 22.8% [4053/17792]\n",
      "\n",
      "EPOCH:41 | train loss : 2.3114759182206357, test loss : 2.6877479347393667\n",
      "\n",
      "EPOCH 42 \n",
      "-------------------------\n",
      "train loss : 2.448935, [epoch:42, iter:0]\n",
      "train loss : 2.314267, [epoch:42, iter:100]\n",
      "train loss : 2.319884, [epoch:42, iter:200]\n"
     ]
    },
    {
     "name": "stderr",
     "output_type": "stream",
     "text": [
      "/home/qkrwnstj/anaconda3/envs/qkrwnstj/lib/python3.9/site-packages/PIL/TiffImagePlugin.py:858: UserWarning: Corrupt EXIF data.  Expecting to read 2 bytes but only got 0. \n",
      "  warnings.warn(str(msg))\n"
     ]
    },
    {
     "name": "stdout",
     "output_type": "stream",
     "text": [
      "train loss : 2.320268, [epoch:42, iter:300]\n",
      "train loss : 2.316912, [epoch:42, iter:400]\n",
      "train loss : 2.317247, [epoch:42, iter:500]\n",
      "train loss : 2.313471, [epoch:42, iter:600]\n"
     ]
    },
    {
     "name": "stderr",
     "output_type": "stream",
     "text": [
      "/home/qkrwnstj/anaconda3/envs/qkrwnstj/lib/python3.9/site-packages/PIL/TiffImagePlugin.py:858: UserWarning: Corrupt EXIF data.  Expecting to read 2 bytes but only got 0. \n",
      "  warnings.warn(str(msg))\n"
     ]
    },
    {
     "name": "stdout",
     "output_type": "stream",
     "text": [
      "train loss : 2.308946, [epoch:42, iter:700]\n",
      "train loss : 2.309161, [epoch:42, iter:800]\n",
      "train loss : 2.308084, [epoch:42, iter:900]\n",
      "train loss : 2.304933, [epoch:42, iter:1000]\n",
      "train loss : 2.306846, [epoch:42, iter:1100]\n",
      "train loss : 2.305565, [epoch:42, iter:1200]\n",
      "TRAIN ACCURACY : 33.4% [26726/80128]\n"
     ]
    },
    {
     "name": "stderr",
     "output_type": "stream",
     "text": [
      "Train:  28%|██████▏               | 42/150 [11:35:43<29:45:06, 991.72s/it]"
     ]
    },
    {
     "name": "stdout",
     "output_type": "stream",
     "text": [
      "TEST ACCURACY : 24.0% [4263/17792]\n",
      "\n",
      "EPOCH:42 | train loss : 2.3059113606477317, test loss : 2.6788459424492266\n",
      "\n",
      "EPOCH 43 \n",
      "-------------------------\n",
      "train loss : 2.320106, [epoch:43, iter:0]\n"
     ]
    },
    {
     "name": "stderr",
     "output_type": "stream",
     "text": [
      "/home/qkrwnstj/anaconda3/envs/qkrwnstj/lib/python3.9/site-packages/PIL/TiffImagePlugin.py:858: UserWarning: Corrupt EXIF data.  Expecting to read 2 bytes but only got 0. \n",
      "  warnings.warn(str(msg))\n"
     ]
    },
    {
     "name": "stdout",
     "output_type": "stream",
     "text": [
      "train loss : 2.264758, [epoch:43, iter:100]\n",
      "train loss : 2.277410, [epoch:43, iter:200]\n",
      "train loss : 2.285893, [epoch:43, iter:300]\n",
      "train loss : 2.289549, [epoch:43, iter:400]\n",
      "train loss : 2.289615, [epoch:43, iter:500]\n",
      "train loss : 2.295302, [epoch:43, iter:600]\n",
      "train loss : 2.299512, [epoch:43, iter:700]\n",
      "train loss : 2.296328, [epoch:43, iter:800]\n",
      "train loss : 2.297666, [epoch:43, iter:900]\n",
      "train loss : 2.298980, [epoch:43, iter:1000]\n"
     ]
    },
    {
     "name": "stderr",
     "output_type": "stream",
     "text": [
      "/home/qkrwnstj/anaconda3/envs/qkrwnstj/lib/python3.9/site-packages/PIL/TiffImagePlugin.py:858: UserWarning: Corrupt EXIF data.  Expecting to read 2 bytes but only got 0. \n",
      "  warnings.warn(str(msg))\n"
     ]
    },
    {
     "name": "stdout",
     "output_type": "stream",
     "text": [
      "train loss : 2.300691, [epoch:43, iter:1100]\n",
      "train loss : 2.297684, [epoch:43, iter:1200]\n",
      "TRAIN ACCURACY : 33.4% [26737/80128]\n",
      "TEST ACCURACY : 24.0% [4276/17792]\n",
      "...MODEL SAVE...\n"
     ]
    },
    {
     "name": "stderr",
     "output_type": "stream",
     "text": [
      "Train:  29%|██████▎               | 43/150 [11:52:08<29:25:16, 989.87s/it]"
     ]
    },
    {
     "name": "stdout",
     "output_type": "stream",
     "text": [
      "\n",
      "EPOCH:43 | train loss : 2.2977488680769462, test loss : 2.6734704130845106\n",
      "\n",
      "EPOCH 44 \n",
      "-------------------------\n",
      "train loss : 2.045913, [epoch:44, iter:0]\n"
     ]
    },
    {
     "name": "stderr",
     "output_type": "stream",
     "text": [
      "/home/qkrwnstj/anaconda3/envs/qkrwnstj/lib/python3.9/site-packages/PIL/TiffImagePlugin.py:858: UserWarning: Corrupt EXIF data.  Expecting to read 2 bytes but only got 0. \n",
      "  warnings.warn(str(msg))\n"
     ]
    },
    {
     "name": "stdout",
     "output_type": "stream",
     "text": [
      "train loss : 2.268024, [epoch:44, iter:100]\n",
      "train loss : 2.286224, [epoch:44, iter:200]\n",
      "train loss : 2.282511, [epoch:44, iter:300]\n",
      "train loss : 2.287226, [epoch:44, iter:400]\n",
      "train loss : 2.293330, [epoch:44, iter:500]\n",
      "train loss : 2.294855, [epoch:44, iter:600]\n",
      "train loss : 2.290160, [epoch:44, iter:700]\n",
      "train loss : 2.294196, [epoch:44, iter:800]\n"
     ]
    },
    {
     "name": "stderr",
     "output_type": "stream",
     "text": [
      "/home/qkrwnstj/anaconda3/envs/qkrwnstj/lib/python3.9/site-packages/PIL/TiffImagePlugin.py:858: UserWarning: Corrupt EXIF data.  Expecting to read 2 bytes but only got 0. \n",
      "  warnings.warn(str(msg))\n"
     ]
    },
    {
     "name": "stdout",
     "output_type": "stream",
     "text": [
      "train loss : 2.299946, [epoch:44, iter:900]\n",
      "train loss : 2.302600, [epoch:44, iter:1000]\n",
      "train loss : 2.299947, [epoch:44, iter:1100]\n",
      "train loss : 2.299803, [epoch:44, iter:1200]\n",
      "TRAIN ACCURACY : 33.3% [26708/80128]\n"
     ]
    },
    {
     "name": "stderr",
     "output_type": "stream",
     "text": [
      "Train:  29%|██████▍               | 44/150 [12:08:43<29:11:03, 991.17s/it]"
     ]
    },
    {
     "name": "stdout",
     "output_type": "stream",
     "text": [
      "TEST ACCURACY : 23.3% [4148/17792]\n",
      "\n",
      "EPOCH:44 | train loss : 2.300408637276092, test loss : 2.707228368992428\n",
      "\n",
      "EPOCH 45 \n",
      "-------------------------\n"
     ]
    },
    {
     "name": "stderr",
     "output_type": "stream",
     "text": [
      "/home/qkrwnstj/anaconda3/envs/qkrwnstj/lib/python3.9/site-packages/PIL/TiffImagePlugin.py:858: UserWarning: Corrupt EXIF data.  Expecting to read 2 bytes but only got 0. \n",
      "  warnings.warn(str(msg))\n"
     ]
    },
    {
     "name": "stdout",
     "output_type": "stream",
     "text": [
      "train loss : 2.675272, [epoch:45, iter:0]\n",
      "train loss : 2.300188, [epoch:45, iter:100]\n",
      "train loss : 2.291141, [epoch:45, iter:200]\n",
      "train loss : 2.289095, [epoch:45, iter:300]\n",
      "train loss : 2.297380, [epoch:45, iter:400]\n",
      "train loss : 2.299330, [epoch:45, iter:500]\n",
      "train loss : 2.299078, [epoch:45, iter:600]\n",
      "train loss : 2.296812, [epoch:45, iter:700]\n",
      "train loss : 2.297115, [epoch:45, iter:800]\n",
      "train loss : 2.296723, [epoch:45, iter:900]\n",
      "train loss : 2.296340, [epoch:45, iter:1000]\n"
     ]
    },
    {
     "name": "stderr",
     "output_type": "stream",
     "text": [
      "/home/qkrwnstj/anaconda3/envs/qkrwnstj/lib/python3.9/site-packages/PIL/TiffImagePlugin.py:858: UserWarning: Corrupt EXIF data.  Expecting to read 2 bytes but only got 0. \n",
      "  warnings.warn(str(msg))\n"
     ]
    },
    {
     "name": "stdout",
     "output_type": "stream",
     "text": [
      "train loss : 2.296014, [epoch:45, iter:1100]\n",
      "train loss : 2.294902, [epoch:45, iter:1200]\n",
      "TRAIN ACCURACY : 33.5% [26813/80128]\n"
     ]
    },
    {
     "name": "stderr",
     "output_type": "stream",
     "text": [
      "Train:  30%|██████▌               | 45/150 [12:25:10<28:52:29, 990.00s/it]"
     ]
    },
    {
     "name": "stdout",
     "output_type": "stream",
     "text": [
      "TEST ACCURACY : 22.8% [4048/17792]\n",
      "\n",
      "EPOCH:45 | train loss : 2.2976971057276376, test loss : 2.7065992012298365\n",
      "\n",
      "EPOCH 46 \n",
      "-------------------------\n",
      "train loss : 2.390706, [epoch:46, iter:0]\n",
      "train loss : 2.257904, [epoch:46, iter:100]\n",
      "train loss : 2.287625, [epoch:46, iter:200]\n",
      "train loss : 2.284119, [epoch:46, iter:300]\n",
      "train loss : 2.287680, [epoch:46, iter:400]\n",
      "train loss : 2.290089, [epoch:46, iter:500]\n",
      "train loss : 2.286257, [epoch:46, iter:600]\n",
      "train loss : 2.286210, [epoch:46, iter:700]\n"
     ]
    },
    {
     "name": "stderr",
     "output_type": "stream",
     "text": [
      "/home/qkrwnstj/anaconda3/envs/qkrwnstj/lib/python3.9/site-packages/PIL/TiffImagePlugin.py:858: UserWarning: Corrupt EXIF data.  Expecting to read 2 bytes but only got 0. \n",
      "  warnings.warn(str(msg))\n"
     ]
    },
    {
     "name": "stdout",
     "output_type": "stream",
     "text": [
      "train loss : 2.286497, [epoch:46, iter:800]\n",
      "train loss : 2.288892, [epoch:46, iter:900]\n"
     ]
    },
    {
     "name": "stderr",
     "output_type": "stream",
     "text": [
      "/home/qkrwnstj/anaconda3/envs/qkrwnstj/lib/python3.9/site-packages/PIL/TiffImagePlugin.py:858: UserWarning: Corrupt EXIF data.  Expecting to read 2 bytes but only got 0. \n",
      "  warnings.warn(str(msg))\n"
     ]
    },
    {
     "name": "stdout",
     "output_type": "stream",
     "text": [
      "train loss : 2.289878, [epoch:46, iter:1000]\n",
      "train loss : 2.293503, [epoch:46, iter:1100]\n",
      "train loss : 2.295362, [epoch:46, iter:1200]\n",
      "TRAIN ACCURACY : 33.7% [26967/80128]\n"
     ]
    },
    {
     "name": "stderr",
     "output_type": "stream",
     "text": [
      "Train:  31%|██████▋               | 46/150 [12:41:40<28:36:15, 990.14s/it]"
     ]
    },
    {
     "name": "stdout",
     "output_type": "stream",
     "text": [
      "TEST ACCURACY : 23.4% [4170/17792]\n",
      "\n",
      "EPOCH:46 | train loss : 2.2937560150988947, test loss : 2.6935056310763463\n",
      "\n",
      "EPOCH 47 \n",
      "-------------------------\n",
      "train loss : 1.925513, [epoch:47, iter:0]\n"
     ]
    },
    {
     "name": "stderr",
     "output_type": "stream",
     "text": [
      "/home/qkrwnstj/anaconda3/envs/qkrwnstj/lib/python3.9/site-packages/PIL/TiffImagePlugin.py:858: UserWarning: Corrupt EXIF data.  Expecting to read 2 bytes but only got 0. \n",
      "  warnings.warn(str(msg))\n"
     ]
    },
    {
     "name": "stdout",
     "output_type": "stream",
     "text": [
      "train loss : 2.282266, [epoch:47, iter:100]\n",
      "train loss : 2.280793, [epoch:47, iter:200]\n",
      "train loss : 2.280883, [epoch:47, iter:300]\n",
      "train loss : 2.278483, [epoch:47, iter:400]\n",
      "train loss : 2.276799, [epoch:47, iter:500]\n",
      "train loss : 2.288760, [epoch:47, iter:600]\n",
      "train loss : 2.291341, [epoch:47, iter:700]\n",
      "train loss : 2.293556, [epoch:47, iter:800]\n",
      "train loss : 2.292025, [epoch:47, iter:900]\n",
      "train loss : 2.295535, [epoch:47, iter:1000]\n"
     ]
    },
    {
     "name": "stderr",
     "output_type": "stream",
     "text": [
      "/home/qkrwnstj/anaconda3/envs/qkrwnstj/lib/python3.9/site-packages/PIL/TiffImagePlugin.py:858: UserWarning: Corrupt EXIF data.  Expecting to read 2 bytes but only got 0. \n",
      "  warnings.warn(str(msg))\n"
     ]
    },
    {
     "name": "stdout",
     "output_type": "stream",
     "text": [
      "train loss : 2.295303, [epoch:47, iter:1100]\n",
      "train loss : 2.292534, [epoch:47, iter:1200]\n",
      "TRAIN ACCURACY : 33.5% [26834/80128]\n"
     ]
    },
    {
     "name": "stderr",
     "output_type": "stream",
     "text": [
      "Train:  31%|██████▉               | 47/150 [12:58:12<28:20:27, 990.56s/it]"
     ]
    },
    {
     "name": "stdout",
     "output_type": "stream",
     "text": [
      "TEST ACCURACY : 22.9% [4077/17792]\n",
      "\n",
      "EPOCH:47 | train loss : 2.2911439491346623, test loss : 2.724211504991106\n",
      "\n",
      "EPOCH 48 \n",
      "-------------------------\n",
      "train loss : 2.305828, [epoch:48, iter:0]\n",
      "train loss : 2.271689, [epoch:48, iter:100]\n"
     ]
    },
    {
     "name": "stderr",
     "output_type": "stream",
     "text": [
      "/home/qkrwnstj/anaconda3/envs/qkrwnstj/lib/python3.9/site-packages/PIL/TiffImagePlugin.py:858: UserWarning: Corrupt EXIF data.  Expecting to read 2 bytes but only got 0. \n",
      "  warnings.warn(str(msg))\n"
     ]
    },
    {
     "name": "stdout",
     "output_type": "stream",
     "text": [
      "train loss : 2.271374, [epoch:48, iter:200]\n",
      "train loss : 2.267062, [epoch:48, iter:300]\n",
      "train loss : 2.271539, [epoch:48, iter:400]\n",
      "train loss : 2.273320, [epoch:48, iter:500]\n",
      "train loss : 2.274875, [epoch:48, iter:600]\n",
      "train loss : 2.269966, [epoch:48, iter:700]\n",
      "train loss : 2.277178, [epoch:48, iter:800]\n"
     ]
    },
    {
     "name": "stderr",
     "output_type": "stream",
     "text": [
      "/home/qkrwnstj/anaconda3/envs/qkrwnstj/lib/python3.9/site-packages/PIL/TiffImagePlugin.py:858: UserWarning: Corrupt EXIF data.  Expecting to read 2 bytes but only got 0. \n",
      "  warnings.warn(str(msg))\n"
     ]
    },
    {
     "name": "stdout",
     "output_type": "stream",
     "text": [
      "train loss : 2.279236, [epoch:48, iter:900]\n",
      "train loss : 2.280555, [epoch:48, iter:1000]\n",
      "train loss : 2.283128, [epoch:48, iter:1100]\n",
      "train loss : 2.284631, [epoch:48, iter:1200]\n",
      "TRAIN ACCURACY : 33.7% [27014/80128]\n"
     ]
    },
    {
     "name": "stderr",
     "output_type": "stream",
     "text": [
      "Train:  32%|███████               | 48/150 [13:14:38<28:01:56, 989.38s/it]"
     ]
    },
    {
     "name": "stdout",
     "output_type": "stream",
     "text": [
      "TEST ACCURACY : 22.0% [3910/17792]\n",
      "\n",
      "EPOCH:48 | train loss : 2.2845857704218964, test loss : 2.7285304875682583\n",
      "\n",
      "EPOCH 49 \n",
      "-------------------------\n",
      "train loss : 2.181593, [epoch:49, iter:0]\n",
      "train loss : 2.250964, [epoch:49, iter:100]\n"
     ]
    },
    {
     "name": "stderr",
     "output_type": "stream",
     "text": [
      "/home/qkrwnstj/anaconda3/envs/qkrwnstj/lib/python3.9/site-packages/PIL/TiffImagePlugin.py:858: UserWarning: Corrupt EXIF data.  Expecting to read 2 bytes but only got 0. \n",
      "  warnings.warn(str(msg))\n"
     ]
    },
    {
     "name": "stdout",
     "output_type": "stream",
     "text": [
      "train loss : 2.259931, [epoch:49, iter:200]\n",
      "train loss : 2.259826, [epoch:49, iter:300]\n",
      "train loss : 2.272711, [epoch:49, iter:400]\n",
      "train loss : 2.274921, [epoch:49, iter:500]\n"
     ]
    },
    {
     "name": "stderr",
     "output_type": "stream",
     "text": [
      "/home/qkrwnstj/anaconda3/envs/qkrwnstj/lib/python3.9/site-packages/PIL/TiffImagePlugin.py:858: UserWarning: Corrupt EXIF data.  Expecting to read 2 bytes but only got 0. \n",
      "  warnings.warn(str(msg))\n"
     ]
    },
    {
     "name": "stdout",
     "output_type": "stream",
     "text": [
      "train loss : 2.282899, [epoch:49, iter:600]\n",
      "train loss : 2.283847, [epoch:49, iter:700]\n",
      "train loss : 2.289879, [epoch:49, iter:800]\n",
      "train loss : 2.290717, [epoch:49, iter:900]\n",
      "train loss : 2.289576, [epoch:49, iter:1000]\n",
      "train loss : 2.288654, [epoch:49, iter:1100]\n",
      "train loss : 2.285213, [epoch:49, iter:1200]\n",
      "TRAIN ACCURACY : 33.7% [27025/80128]\n"
     ]
    },
    {
     "name": "stderr",
     "output_type": "stream",
     "text": [
      "Train:  33%|███████▏              | 49/150 [13:31:24<27:53:41, 994.27s/it]"
     ]
    },
    {
     "name": "stdout",
     "output_type": "stream",
     "text": [
      "TEST ACCURACY : 23.0% [4090/17792]\n",
      "\n",
      "EPOCH:49 | train loss : 2.2851201224441344, test loss : 2.7016583080772016\n",
      "\n",
      "EPOCH 50 \n",
      "-------------------------\n",
      "train loss : 2.247520, [epoch:50, iter:0]\n"
     ]
    },
    {
     "name": "stderr",
     "output_type": "stream",
     "text": [
      "/home/qkrwnstj/anaconda3/envs/qkrwnstj/lib/python3.9/site-packages/PIL/TiffImagePlugin.py:858: UserWarning: Corrupt EXIF data.  Expecting to read 2 bytes but only got 0. \n",
      "  warnings.warn(str(msg))\n"
     ]
    },
    {
     "name": "stdout",
     "output_type": "stream",
     "text": [
      "train loss : 2.271015, [epoch:50, iter:100]\n",
      "train loss : 2.275897, [epoch:50, iter:200]\n",
      "train loss : 2.281052, [epoch:50, iter:300]\n",
      "train loss : 2.275805, [epoch:50, iter:400]\n",
      "train loss : 2.278777, [epoch:50, iter:500]\n",
      "train loss : 2.279564, [epoch:50, iter:600]\n",
      "train loss : 2.276174, [epoch:50, iter:700]\n"
     ]
    },
    {
     "name": "stderr",
     "output_type": "stream",
     "text": [
      "/home/qkrwnstj/anaconda3/envs/qkrwnstj/lib/python3.9/site-packages/PIL/TiffImagePlugin.py:858: UserWarning: Corrupt EXIF data.  Expecting to read 2 bytes but only got 0. \n",
      "  warnings.warn(str(msg))\n"
     ]
    },
    {
     "name": "stdout",
     "output_type": "stream",
     "text": [
      "train loss : 2.281076, [epoch:50, iter:800]\n",
      "train loss : 2.281823, [epoch:50, iter:900]\n",
      "train loss : 2.281877, [epoch:50, iter:1000]\n",
      "train loss : 2.283722, [epoch:50, iter:1100]\n",
      "train loss : 2.281339, [epoch:50, iter:1200]\n",
      "TRAIN ACCURACY : 34.0% [27240/80128]\n",
      "TEST ACCURACY : 24.5% [4353/17792]\n",
      "...MODEL SAVE...\n"
     ]
    },
    {
     "name": "stderr",
     "output_type": "stream",
     "text": [
      "Train:  33%|███████▎              | 50/150 [13:47:56<27:36:03, 993.63s/it]"
     ]
    },
    {
     "name": "stdout",
     "output_type": "stream",
     "text": [
      "\n",
      "EPOCH:50 | train loss : 2.279971561968898, test loss : 2.6527593152986157\n",
      "\n",
      "EPOCH 51 \n",
      "-------------------------\n",
      "train loss : 2.057726, [epoch:51, iter:0]\n"
     ]
    },
    {
     "name": "stderr",
     "output_type": "stream",
     "text": [
      "/home/qkrwnstj/anaconda3/envs/qkrwnstj/lib/python3.9/site-packages/PIL/TiffImagePlugin.py:858: UserWarning: Corrupt EXIF data.  Expecting to read 2 bytes but only got 0. \n",
      "  warnings.warn(str(msg))\n"
     ]
    },
    {
     "name": "stdout",
     "output_type": "stream",
     "text": [
      "train loss : 2.255152, [epoch:51, iter:100]\n",
      "train loss : 2.258116, [epoch:51, iter:200]\n",
      "train loss : 2.256059, [epoch:51, iter:300]\n",
      "train loss : 2.257789, [epoch:51, iter:400]\n",
      "train loss : 2.263563, [epoch:51, iter:500]\n",
      "train loss : 2.265313, [epoch:51, iter:600]\n",
      "train loss : 2.269588, [epoch:51, iter:700]\n",
      "train loss : 2.274327, [epoch:51, iter:800]\n"
     ]
    },
    {
     "name": "stderr",
     "output_type": "stream",
     "text": [
      "/home/qkrwnstj/anaconda3/envs/qkrwnstj/lib/python3.9/site-packages/PIL/TiffImagePlugin.py:858: UserWarning: Corrupt EXIF data.  Expecting to read 2 bytes but only got 0. \n",
      "  warnings.warn(str(msg))\n"
     ]
    },
    {
     "name": "stdout",
     "output_type": "stream",
     "text": [
      "train loss : 2.277029, [epoch:51, iter:900]\n",
      "train loss : 2.278764, [epoch:51, iter:1000]\n",
      "train loss : 2.278972, [epoch:51, iter:1100]\n",
      "train loss : 2.279617, [epoch:51, iter:1200]\n",
      "TRAIN ACCURACY : 33.8% [27105/80128]\n"
     ]
    },
    {
     "name": "stderr",
     "output_type": "stream",
     "text": [
      "Train:  34%|███████▍              | 51/150 [14:04:25<27:16:59, 992.11s/it]"
     ]
    },
    {
     "name": "stdout",
     "output_type": "stream",
     "text": [
      "TEST ACCURACY : 24.3% [4321/17792]\n",
      "\n",
      "EPOCH:51 | train loss : 2.278167707946735, test loss : 2.6587331886771772\n",
      "\n",
      "EPOCH 52 \n",
      "-------------------------\n"
     ]
    },
    {
     "name": "stderr",
     "output_type": "stream",
     "text": [
      "/home/qkrwnstj/anaconda3/envs/qkrwnstj/lib/python3.9/site-packages/PIL/TiffImagePlugin.py:858: UserWarning: Corrupt EXIF data.  Expecting to read 2 bytes but only got 0. \n",
      "  warnings.warn(str(msg))\n"
     ]
    },
    {
     "name": "stdout",
     "output_type": "stream",
     "text": [
      "train loss : 2.431924, [epoch:52, iter:0]\n",
      "train loss : 2.250821, [epoch:52, iter:100]\n",
      "train loss : 2.261608, [epoch:52, iter:200]\n",
      "train loss : 2.252230, [epoch:52, iter:300]\n",
      "train loss : 2.258802, [epoch:52, iter:400]\n",
      "train loss : 2.261334, [epoch:52, iter:500]\n",
      "train loss : 2.266540, [epoch:52, iter:600]\n",
      "train loss : 2.267622, [epoch:52, iter:700]\n",
      "train loss : 2.264902, [epoch:52, iter:800]\n",
      "train loss : 2.267499, [epoch:52, iter:900]\n"
     ]
    },
    {
     "name": "stderr",
     "output_type": "stream",
     "text": [
      "/home/qkrwnstj/anaconda3/envs/qkrwnstj/lib/python3.9/site-packages/PIL/TiffImagePlugin.py:858: UserWarning: Corrupt EXIF data.  Expecting to read 2 bytes but only got 0. \n",
      "  warnings.warn(str(msg))\n"
     ]
    },
    {
     "name": "stdout",
     "output_type": "stream",
     "text": [
      "train loss : 2.271170, [epoch:52, iter:1000]\n",
      "train loss : 2.271283, [epoch:52, iter:1100]\n",
      "train loss : 2.271490, [epoch:52, iter:1200]\n",
      "TRAIN ACCURACY : 34.1% [27284/80128]\n"
     ]
    },
    {
     "name": "stderr",
     "output_type": "stream",
     "text": [
      "Train:  35%|███████▋              | 52/150 [14:20:47<26:55:46, 989.25s/it]"
     ]
    },
    {
     "name": "stdout",
     "output_type": "stream",
     "text": [
      "TEST ACCURACY : 22.7% [4032/17792]\n",
      "\n",
      "EPOCH:52 | train loss : 2.272759512590524, test loss : 2.704537261304238\n",
      "\n",
      "EPOCH 53 \n",
      "-------------------------\n",
      "train loss : 2.298250, [epoch:53, iter:0]\n",
      "train loss : 2.244285, [epoch:53, iter:100]\n"
     ]
    },
    {
     "name": "stderr",
     "output_type": "stream",
     "text": [
      "/home/qkrwnstj/anaconda3/envs/qkrwnstj/lib/python3.9/site-packages/PIL/TiffImagePlugin.py:858: UserWarning: Corrupt EXIF data.  Expecting to read 2 bytes but only got 0. \n",
      "  warnings.warn(str(msg))\n",
      "/home/qkrwnstj/anaconda3/envs/qkrwnstj/lib/python3.9/site-packages/PIL/TiffImagePlugin.py:858: UserWarning: Corrupt EXIF data.  Expecting to read 2 bytes but only got 0. \n",
      "  warnings.warn(str(msg))\n"
     ]
    },
    {
     "name": "stdout",
     "output_type": "stream",
     "text": [
      "train loss : 2.260248, [epoch:53, iter:200]\n",
      "train loss : 2.255357, [epoch:53, iter:300]\n",
      "train loss : 2.257170, [epoch:53, iter:400]\n",
      "train loss : 2.267986, [epoch:53, iter:500]\n",
      "train loss : 2.268148, [epoch:53, iter:600]\n",
      "train loss : 2.269031, [epoch:53, iter:700]\n",
      "train loss : 2.267394, [epoch:53, iter:800]\n",
      "train loss : 2.265937, [epoch:53, iter:900]\n",
      "train loss : 2.268239, [epoch:53, iter:1000]\n",
      "train loss : 2.269858, [epoch:53, iter:1100]\n",
      "train loss : 2.269302, [epoch:53, iter:1200]\n",
      "TRAIN ACCURACY : 34.1% [27288/80128]\n"
     ]
    },
    {
     "name": "stderr",
     "output_type": "stream",
     "text": [
      "Train:  35%|███████▊              | 53/150 [14:37:18<26:39:47, 989.57s/it]"
     ]
    },
    {
     "name": "stdout",
     "output_type": "stream",
     "text": [
      "TEST ACCURACY : 23.7% [4211/17792]\n",
      "\n",
      "EPOCH:53 | train loss : 2.270462179431519, test loss : 2.666605698976585\n",
      "\n",
      "EPOCH 54 \n",
      "-------------------------\n",
      "train loss : 2.344139, [epoch:54, iter:0]\n",
      "train loss : 2.283561, [epoch:54, iter:100]\n",
      "train loss : 2.259516, [epoch:54, iter:200]\n",
      "train loss : 2.255139, [epoch:54, iter:300]\n"
     ]
    },
    {
     "name": "stderr",
     "output_type": "stream",
     "text": [
      "/home/qkrwnstj/anaconda3/envs/qkrwnstj/lib/python3.9/site-packages/PIL/TiffImagePlugin.py:858: UserWarning: Corrupt EXIF data.  Expecting to read 2 bytes but only got 0. \n",
      "  warnings.warn(str(msg))\n",
      "/home/qkrwnstj/anaconda3/envs/qkrwnstj/lib/python3.9/site-packages/PIL/TiffImagePlugin.py:858: UserWarning: Corrupt EXIF data.  Expecting to read 2 bytes but only got 0. \n",
      "  warnings.warn(str(msg))\n"
     ]
    },
    {
     "name": "stdout",
     "output_type": "stream",
     "text": [
      "train loss : 2.255716, [epoch:54, iter:400]\n",
      "train loss : 2.255105, [epoch:54, iter:500]\n",
      "train loss : 2.259184, [epoch:54, iter:600]\n",
      "train loss : 2.264954, [epoch:54, iter:700]\n",
      "train loss : 2.265935, [epoch:54, iter:800]\n",
      "train loss : 2.267330, [epoch:54, iter:900]\n",
      "train loss : 2.268280, [epoch:54, iter:1000]\n",
      "train loss : 2.268909, [epoch:54, iter:1100]\n",
      "train loss : 2.270617, [epoch:54, iter:1200]\n",
      "TRAIN ACCURACY : 34.2% [27425/80128]\n"
     ]
    },
    {
     "name": "stderr",
     "output_type": "stream",
     "text": [
      "Train:  36%|███████▉              | 54/150 [14:53:47<26:23:05, 989.43s/it]"
     ]
    },
    {
     "name": "stdout",
     "output_type": "stream",
     "text": [
      "TEST ACCURACY : 22.5% [3998/17792]\n",
      "\n",
      "EPOCH:54 | train loss : 2.2706656908265317, test loss : 2.7817925986626166\n",
      "\n",
      "EPOCH 55 \n",
      "-------------------------\n",
      "train loss : 2.053323, [epoch:55, iter:0]\n",
      "train loss : 2.242931, [epoch:55, iter:100]\n",
      "train loss : 2.263800, [epoch:55, iter:200]\n",
      "train loss : 2.265088, [epoch:55, iter:300]\n",
      "train loss : 2.263318, [epoch:55, iter:400]\n"
     ]
    },
    {
     "name": "stderr",
     "output_type": "stream",
     "text": [
      "/home/qkrwnstj/anaconda3/envs/qkrwnstj/lib/python3.9/site-packages/PIL/TiffImagePlugin.py:858: UserWarning: Corrupt EXIF data.  Expecting to read 2 bytes but only got 0. \n",
      "  warnings.warn(str(msg))\n"
     ]
    },
    {
     "name": "stdout",
     "output_type": "stream",
     "text": [
      "train loss : 2.263915, [epoch:55, iter:500]\n",
      "train loss : 2.266233, [epoch:55, iter:600]\n",
      "train loss : 2.268135, [epoch:55, iter:700]\n",
      "train loss : 2.264488, [epoch:55, iter:800]\n",
      "train loss : 2.264447, [epoch:55, iter:900]\n",
      "train loss : 2.266372, [epoch:55, iter:1000]\n"
     ]
    },
    {
     "name": "stderr",
     "output_type": "stream",
     "text": [
      "/home/qkrwnstj/anaconda3/envs/qkrwnstj/lib/python3.9/site-packages/PIL/TiffImagePlugin.py:858: UserWarning: Corrupt EXIF data.  Expecting to read 2 bytes but only got 0. \n",
      "  warnings.warn(str(msg))\n"
     ]
    },
    {
     "name": "stdout",
     "output_type": "stream",
     "text": [
      "train loss : 2.266580, [epoch:55, iter:1100]\n",
      "train loss : 2.265398, [epoch:55, iter:1200]\n",
      "TRAIN ACCURACY : 34.3% [27447/80128]\n"
     ]
    },
    {
     "name": "stderr",
     "output_type": "stream",
     "text": [
      "Train:  37%|████████              | 55/150 [15:10:22<26:09:25, 991.21s/it]"
     ]
    },
    {
     "name": "stdout",
     "output_type": "stream",
     "text": [
      "TEST ACCURACY : 22.1% [3935/17792]\n",
      "\n",
      "EPOCH:55 | train loss : 2.263531409894316, test loss : 2.782194024367298\n",
      "\n",
      "EPOCH 56 \n",
      "-------------------------\n",
      "train loss : 2.044918, [epoch:56, iter:0]\n",
      "train loss : 2.240668, [epoch:56, iter:100]\n",
      "train loss : 2.241983, [epoch:56, iter:200]\n"
     ]
    },
    {
     "name": "stderr",
     "output_type": "stream",
     "text": [
      "/home/qkrwnstj/anaconda3/envs/qkrwnstj/lib/python3.9/site-packages/PIL/TiffImagePlugin.py:858: UserWarning: Corrupt EXIF data.  Expecting to read 2 bytes but only got 0. \n",
      "  warnings.warn(str(msg))\n",
      "/home/qkrwnstj/anaconda3/envs/qkrwnstj/lib/python3.9/site-packages/PIL/TiffImagePlugin.py:858: UserWarning: Corrupt EXIF data.  Expecting to read 2 bytes but only got 0. \n",
      "  warnings.warn(str(msg))\n"
     ]
    },
    {
     "name": "stdout",
     "output_type": "stream",
     "text": [
      "train loss : 2.253732, [epoch:56, iter:300]\n",
      "train loss : 2.256818, [epoch:56, iter:400]\n",
      "train loss : 2.255996, [epoch:56, iter:500]\n",
      "train loss : 2.260832, [epoch:56, iter:600]\n",
      "train loss : 2.258738, [epoch:56, iter:700]\n",
      "train loss : 2.264636, [epoch:56, iter:800]\n",
      "train loss : 2.264780, [epoch:56, iter:900]\n",
      "train loss : 2.264386, [epoch:56, iter:1000]\n",
      "train loss : 2.266886, [epoch:56, iter:1100]\n",
      "train loss : 2.265846, [epoch:56, iter:1200]\n",
      "TRAIN ACCURACY : 34.0% [27206/80128]\n"
     ]
    },
    {
     "name": "stderr",
     "output_type": "stream",
     "text": [
      "Train:  37%|████████▏             | 56/150 [15:26:55<25:53:43, 991.74s/it]"
     ]
    },
    {
     "name": "stdout",
     "output_type": "stream",
     "text": [
      "TEST ACCURACY : 23.8% [4243/17792]\n",
      "\n",
      "EPOCH:56 | train loss : 2.2673724391780343, test loss : 2.6817333998439983\n",
      "\n",
      "EPOCH 57 \n",
      "-------------------------\n",
      "train loss : 2.343681, [epoch:57, iter:0]\n",
      "train loss : 2.261491, [epoch:57, iter:100]\n",
      "train loss : 2.246674, [epoch:57, iter:200]\n",
      "train loss : 2.254494, [epoch:57, iter:300]\n"
     ]
    },
    {
     "name": "stderr",
     "output_type": "stream",
     "text": [
      "/home/qkrwnstj/anaconda3/envs/qkrwnstj/lib/python3.9/site-packages/PIL/TiffImagePlugin.py:858: UserWarning: Corrupt EXIF data.  Expecting to read 2 bytes but only got 0. \n",
      "  warnings.warn(str(msg))\n"
     ]
    },
    {
     "name": "stdout",
     "output_type": "stream",
     "text": [
      "train loss : 2.252090, [epoch:57, iter:400]\n",
      "train loss : 2.256662, [epoch:57, iter:500]\n",
      "train loss : 2.259560, [epoch:57, iter:600]\n",
      "train loss : 2.257440, [epoch:57, iter:700]\n",
      "train loss : 2.259958, [epoch:57, iter:800]\n",
      "train loss : 2.259390, [epoch:57, iter:900]\n",
      "train loss : 2.260786, [epoch:57, iter:1000]\n"
     ]
    },
    {
     "name": "stderr",
     "output_type": "stream",
     "text": [
      "/home/qkrwnstj/anaconda3/envs/qkrwnstj/lib/python3.9/site-packages/PIL/TiffImagePlugin.py:858: UserWarning: Corrupt EXIF data.  Expecting to read 2 bytes but only got 0. \n",
      "  warnings.warn(str(msg))\n"
     ]
    },
    {
     "name": "stdout",
     "output_type": "stream",
     "text": [
      "train loss : 2.260900, [epoch:57, iter:1100]\n",
      "train loss : 2.260957, [epoch:57, iter:1200]\n",
      "TRAIN ACCURACY : 34.3% [27456/80128]\n"
     ]
    },
    {
     "name": "stderr",
     "output_type": "stream",
     "text": [
      "Train:  38%|████████▎             | 57/150 [15:43:41<25:43:31, 995.83s/it]"
     ]
    },
    {
     "name": "stdout",
     "output_type": "stream",
     "text": [
      "TEST ACCURACY : 22.8% [4058/17792]\n",
      "\n",
      "EPOCH:57 | train loss : 2.261967143121238, test loss : 2.708703733176636\n",
      "\n",
      "EPOCH 58 \n",
      "-------------------------\n",
      "train loss : 2.371729, [epoch:58, iter:0]\n",
      "train loss : 2.260062, [epoch:58, iter:100]\n",
      "train loss : 2.262206, [epoch:58, iter:200]\n",
      "train loss : 2.248602, [epoch:58, iter:300]\n",
      "train loss : 2.255713, [epoch:58, iter:400]\n",
      "train loss : 2.249093, [epoch:58, iter:500]\n"
     ]
    },
    {
     "name": "stderr",
     "output_type": "stream",
     "text": [
      "/home/qkrwnstj/anaconda3/envs/qkrwnstj/lib/python3.9/site-packages/PIL/TiffImagePlugin.py:858: UserWarning: Corrupt EXIF data.  Expecting to read 2 bytes but only got 0. \n",
      "  warnings.warn(str(msg))\n"
     ]
    },
    {
     "name": "stdout",
     "output_type": "stream",
     "text": [
      "train loss : 2.251298, [epoch:58, iter:600]\n",
      "train loss : 2.254350, [epoch:58, iter:700]\n",
      "train loss : 2.255436, [epoch:58, iter:800]\n",
      "train loss : 2.258616, [epoch:58, iter:900]\n"
     ]
    },
    {
     "name": "stderr",
     "output_type": "stream",
     "text": [
      "/home/qkrwnstj/anaconda3/envs/qkrwnstj/lib/python3.9/site-packages/PIL/TiffImagePlugin.py:858: UserWarning: Corrupt EXIF data.  Expecting to read 2 bytes but only got 0. \n",
      "  warnings.warn(str(msg))\n"
     ]
    },
    {
     "name": "stdout",
     "output_type": "stream",
     "text": [
      "train loss : 2.258186, [epoch:58, iter:1000]\n",
      "train loss : 2.258653, [epoch:58, iter:1100]\n",
      "train loss : 2.259387, [epoch:58, iter:1200]\n",
      "TRAIN ACCURACY : 34.2% [27436/80128]\n"
     ]
    },
    {
     "name": "stderr",
     "output_type": "stream",
     "text": [
      "Train:  39%|████████▌             | 58/150 [16:00:13<25:25:22, 994.80s/it]"
     ]
    },
    {
     "name": "stdout",
     "output_type": "stream",
     "text": [
      "TEST ACCURACY : 23.7% [4212/17792]\n",
      "\n",
      "EPOCH:58 | train loss : 2.259298163576248, test loss : 2.700485862416329\n",
      "\n",
      "EPOCH 59 \n",
      "-------------------------\n",
      "train loss : 2.349503, [epoch:59, iter:0]\n",
      "train loss : 2.238220, [epoch:59, iter:100]\n",
      "train loss : 2.259044, [epoch:59, iter:200]\n",
      "train loss : 2.252524, [epoch:59, iter:300]\n",
      "train loss : 2.250832, [epoch:59, iter:400]\n",
      "train loss : 2.251866, [epoch:59, iter:500]\n",
      "train loss : 2.252197, [epoch:59, iter:600]\n",
      "train loss : 2.255875, [epoch:59, iter:700]\n"
     ]
    },
    {
     "name": "stderr",
     "output_type": "stream",
     "text": [
      "/home/qkrwnstj/anaconda3/envs/qkrwnstj/lib/python3.9/site-packages/PIL/TiffImagePlugin.py:858: UserWarning: Corrupt EXIF data.  Expecting to read 2 bytes but only got 0. \n",
      "  warnings.warn(str(msg))\n",
      "/home/qkrwnstj/anaconda3/envs/qkrwnstj/lib/python3.9/site-packages/PIL/TiffImagePlugin.py:858: UserWarning: Corrupt EXIF data.  Expecting to read 2 bytes but only got 0. \n",
      "  warnings.warn(str(msg))\n"
     ]
    },
    {
     "name": "stdout",
     "output_type": "stream",
     "text": [
      "train loss : 2.255470, [epoch:59, iter:800]\n",
      "train loss : 2.255750, [epoch:59, iter:900]\n",
      "train loss : 2.258712, [epoch:59, iter:1000]\n",
      "train loss : 2.258751, [epoch:59, iter:1100]\n",
      "train loss : 2.257754, [epoch:59, iter:1200]\n",
      "TRAIN ACCURACY : 34.4% [27540/80128]\n"
     ]
    },
    {
     "name": "stderr",
     "output_type": "stream",
     "text": [
      "Train:  39%|████████▋             | 59/150 [16:16:46<25:07:46, 994.14s/it]"
     ]
    },
    {
     "name": "stdout",
     "output_type": "stream",
     "text": [
      "TEST ACCURACY : 22.4% [3985/17792]\n",
      "\n",
      "EPOCH:59 | train loss : 2.2580608203769112, test loss : 2.698504296138132\n",
      "\n",
      "EPOCH 60 \n",
      "-------------------------\n",
      "train loss : 2.393116, [epoch:60, iter:0]\n"
     ]
    },
    {
     "name": "stderr",
     "output_type": "stream",
     "text": [
      "/home/qkrwnstj/anaconda3/envs/qkrwnstj/lib/python3.9/site-packages/PIL/TiffImagePlugin.py:858: UserWarning: Corrupt EXIF data.  Expecting to read 2 bytes but only got 0. \n",
      "  warnings.warn(str(msg))\n"
     ]
    },
    {
     "name": "stdout",
     "output_type": "stream",
     "text": [
      "train loss : 2.266394, [epoch:60, iter:100]\n",
      "train loss : 2.252502, [epoch:60, iter:200]\n",
      "train loss : 2.257069, [epoch:60, iter:300]\n",
      "train loss : 2.244114, [epoch:60, iter:400]\n",
      "train loss : 2.253674, [epoch:60, iter:500]\n"
     ]
    },
    {
     "name": "stderr",
     "output_type": "stream",
     "text": [
      "/home/qkrwnstj/anaconda3/envs/qkrwnstj/lib/python3.9/site-packages/PIL/TiffImagePlugin.py:858: UserWarning: Corrupt EXIF data.  Expecting to read 2 bytes but only got 0. \n",
      "  warnings.warn(str(msg))\n"
     ]
    },
    {
     "name": "stdout",
     "output_type": "stream",
     "text": [
      "train loss : 2.249447, [epoch:60, iter:600]\n",
      "train loss : 2.256436, [epoch:60, iter:700]\n",
      "train loss : 2.257040, [epoch:60, iter:800]\n",
      "train loss : 2.256113, [epoch:60, iter:900]\n",
      "train loss : 2.255766, [epoch:60, iter:1000]\n",
      "train loss : 2.256565, [epoch:60, iter:1100]\n",
      "train loss : 2.254157, [epoch:60, iter:1200]\n",
      "TRAIN ACCURACY : 34.5% [27664/80128]\n"
     ]
    },
    {
     "name": "stderr",
     "output_type": "stream",
     "text": [
      "Train:  40%|████████▊             | 60/150 [16:33:14<24:48:39, 992.44s/it]"
     ]
    },
    {
     "name": "stdout",
     "output_type": "stream",
     "text": [
      "TEST ACCURACY : 22.4% [3983/17792]\n",
      "\n",
      "EPOCH:60 | train loss : 2.2548730228655636, test loss : 2.699960166601826\n",
      "\n",
      "EPOCH 61 \n",
      "-------------------------\n",
      "train loss : 2.376646, [epoch:61, iter:0]\n",
      "train loss : 2.246078, [epoch:61, iter:100]\n",
      "train loss : 2.245469, [epoch:61, iter:200]\n"
     ]
    },
    {
     "name": "stderr",
     "output_type": "stream",
     "text": [
      "/home/qkrwnstj/anaconda3/envs/qkrwnstj/lib/python3.9/site-packages/PIL/TiffImagePlugin.py:858: UserWarning: Corrupt EXIF data.  Expecting to read 2 bytes but only got 0. \n",
      "  warnings.warn(str(msg))\n"
     ]
    },
    {
     "name": "stdout",
     "output_type": "stream",
     "text": [
      "train loss : 2.243973, [epoch:61, iter:300]\n",
      "train loss : 2.247116, [epoch:61, iter:400]\n",
      "train loss : 2.252053, [epoch:61, iter:500]\n",
      "train loss : 2.247544, [epoch:61, iter:600]\n",
      "train loss : 2.248870, [epoch:61, iter:700]\n",
      "train loss : 2.248140, [epoch:61, iter:800]\n",
      "train loss : 2.247828, [epoch:61, iter:900]\n",
      "train loss : 2.249751, [epoch:61, iter:1000]\n"
     ]
    },
    {
     "name": "stderr",
     "output_type": "stream",
     "text": [
      "/home/qkrwnstj/anaconda3/envs/qkrwnstj/lib/python3.9/site-packages/PIL/TiffImagePlugin.py:858: UserWarning: Corrupt EXIF data.  Expecting to read 2 bytes but only got 0. \n",
      "  warnings.warn(str(msg))\n"
     ]
    },
    {
     "name": "stdout",
     "output_type": "stream",
     "text": [
      "train loss : 2.252993, [epoch:61, iter:1100]\n",
      "train loss : 2.252658, [epoch:61, iter:1200]\n",
      "TRAIN ACCURACY : 34.6% [27706/80128]\n",
      "TEST ACCURACY : 25.0% [4442/17792]\n",
      "...MODEL SAVE...\n"
     ]
    },
    {
     "name": "stderr",
     "output_type": "stream",
     "text": [
      "Train:  41%|████████▉             | 61/150 [16:49:50<24:33:51, 993.61s/it]"
     ]
    },
    {
     "name": "stdout",
     "output_type": "stream",
     "text": [
      "\n",
      "EPOCH:61 | train loss : 2.251780718374557, test loss : 2.643926167659622\n",
      "\n",
      "EPOCH 62 \n",
      "-------------------------\n",
      "train loss : 1.946871, [epoch:62, iter:0]\n",
      "train loss : 2.204324, [epoch:62, iter:100]\n",
      "train loss : 2.219523, [epoch:62, iter:200]\n"
     ]
    },
    {
     "name": "stderr",
     "output_type": "stream",
     "text": [
      "/home/qkrwnstj/anaconda3/envs/qkrwnstj/lib/python3.9/site-packages/PIL/TiffImagePlugin.py:858: UserWarning: Corrupt EXIF data.  Expecting to read 2 bytes but only got 0. \n",
      "  warnings.warn(str(msg))\n"
     ]
    },
    {
     "name": "stdout",
     "output_type": "stream",
     "text": [
      "train loss : 2.226468, [epoch:62, iter:300]\n",
      "train loss : 2.232921, [epoch:62, iter:400]\n",
      "train loss : 2.241782, [epoch:62, iter:500]\n",
      "train loss : 2.239534, [epoch:62, iter:600]\n"
     ]
    },
    {
     "name": "stderr",
     "output_type": "stream",
     "text": [
      "/home/qkrwnstj/anaconda3/envs/qkrwnstj/lib/python3.9/site-packages/PIL/TiffImagePlugin.py:858: UserWarning: Corrupt EXIF data.  Expecting to read 2 bytes but only got 0. \n",
      "  warnings.warn(str(msg))\n"
     ]
    },
    {
     "name": "stdout",
     "output_type": "stream",
     "text": [
      "train loss : 2.239684, [epoch:62, iter:700]\n",
      "train loss : 2.240403, [epoch:62, iter:800]\n",
      "train loss : 2.244273, [epoch:62, iter:900]\n",
      "train loss : 2.246639, [epoch:62, iter:1000]\n",
      "train loss : 2.248627, [epoch:62, iter:1100]\n",
      "train loss : 2.250073, [epoch:62, iter:1200]\n",
      "TRAIN ACCURACY : 34.6% [27712/80128]\n",
      "TEST ACCURACY : 24.8% [4406/17792]\n",
      "...MODEL SAVE...\n"
     ]
    },
    {
     "name": "stderr",
     "output_type": "stream",
     "text": [
      "Train:  41%|█████████             | 62/150 [17:06:19<24:14:55, 991.99s/it]"
     ]
    },
    {
     "name": "stdout",
     "output_type": "stream",
     "text": [
      "\n",
      "EPOCH:62 | train loss : 2.2498828148879944, test loss : 2.6339224748474233\n",
      "\n",
      "EPOCH 63 \n",
      "-------------------------\n",
      "train loss : 2.405786, [epoch:63, iter:0]\n",
      "train loss : 2.242903, [epoch:63, iter:100]\n",
      "train loss : 2.251544, [epoch:63, iter:200]\n",
      "train loss : 2.254384, [epoch:63, iter:300]\n",
      "train loss : 2.245816, [epoch:63, iter:400]\n"
     ]
    },
    {
     "name": "stderr",
     "output_type": "stream",
     "text": [
      "/home/qkrwnstj/anaconda3/envs/qkrwnstj/lib/python3.9/site-packages/PIL/TiffImagePlugin.py:858: UserWarning: Corrupt EXIF data.  Expecting to read 2 bytes but only got 0. \n",
      "  warnings.warn(str(msg))\n"
     ]
    },
    {
     "name": "stdout",
     "output_type": "stream",
     "text": [
      "train loss : 2.239068, [epoch:63, iter:500]\n",
      "train loss : 2.236212, [epoch:63, iter:600]\n",
      "train loss : 2.241006, [epoch:63, iter:700]\n"
     ]
    },
    {
     "name": "stderr",
     "output_type": "stream",
     "text": [
      "/home/qkrwnstj/anaconda3/envs/qkrwnstj/lib/python3.9/site-packages/PIL/TiffImagePlugin.py:858: UserWarning: Corrupt EXIF data.  Expecting to read 2 bytes but only got 0. \n",
      "  warnings.warn(str(msg))\n"
     ]
    },
    {
     "name": "stdout",
     "output_type": "stream",
     "text": [
      "train loss : 2.240069, [epoch:63, iter:800]\n",
      "train loss : 2.240435, [epoch:63, iter:900]\n",
      "train loss : 2.242083, [epoch:63, iter:1000]\n",
      "train loss : 2.244259, [epoch:63, iter:1100]\n",
      "train loss : 2.245097, [epoch:63, iter:1200]\n",
      "TRAIN ACCURACY : 34.8% [27924/80128]\n"
     ]
    },
    {
     "name": "stderr",
     "output_type": "stream",
     "text": [
      "Train:  42%|█████████▏            | 63/150 [17:22:38<23:52:47, 988.13s/it]"
     ]
    },
    {
     "name": "stdout",
     "output_type": "stream",
     "text": [
      "TEST ACCURACY : 22.6% [4018/17792]\n",
      "\n",
      "EPOCH:63 | train loss : 2.245096809662188, test loss : 2.723871856284656\n",
      "\n",
      "EPOCH 64 \n",
      "-------------------------\n",
      "train loss : 2.098694, [epoch:64, iter:0]\n",
      "train loss : 2.211467, [epoch:64, iter:100]\n",
      "train loss : 2.219170, [epoch:64, iter:200]\n"
     ]
    },
    {
     "name": "stderr",
     "output_type": "stream",
     "text": [
      "/home/qkrwnstj/anaconda3/envs/qkrwnstj/lib/python3.9/site-packages/PIL/TiffImagePlugin.py:858: UserWarning: Corrupt EXIF data.  Expecting to read 2 bytes but only got 0. \n",
      "  warnings.warn(str(msg))\n"
     ]
    },
    {
     "name": "stdout",
     "output_type": "stream",
     "text": [
      "train loss : 2.227345, [epoch:64, iter:300]\n",
      "train loss : 2.235459, [epoch:64, iter:400]\n",
      "train loss : 2.232819, [epoch:64, iter:500]\n",
      "train loss : 2.231873, [epoch:64, iter:600]\n",
      "train loss : 2.233021, [epoch:64, iter:700]\n",
      "train loss : 2.237093, [epoch:64, iter:800]\n",
      "train loss : 2.240001, [epoch:64, iter:900]\n",
      "train loss : 2.242305, [epoch:64, iter:1000]\n",
      "train loss : 2.243046, [epoch:64, iter:1100]\n"
     ]
    },
    {
     "name": "stderr",
     "output_type": "stream",
     "text": [
      "/home/qkrwnstj/anaconda3/envs/qkrwnstj/lib/python3.9/site-packages/PIL/TiffImagePlugin.py:858: UserWarning: Corrupt EXIF data.  Expecting to read 2 bytes but only got 0. \n",
      "  warnings.warn(str(msg))\n"
     ]
    },
    {
     "name": "stdout",
     "output_type": "stream",
     "text": [
      "train loss : 2.246199, [epoch:64, iter:1200]\n",
      "TRAIN ACCURACY : 34.6% [27711/80128]\n"
     ]
    },
    {
     "name": "stderr",
     "output_type": "stream",
     "text": [
      "Train:  43%|█████████▍            | 64/150 [17:39:21<23:42:58, 992.78s/it]"
     ]
    },
    {
     "name": "stdout",
     "output_type": "stream",
     "text": [
      "TEST ACCURACY : 22.0% [3916/17792]\n",
      "\n",
      "EPOCH:64 | train loss : 2.2462040579166658, test loss : 2.7171268223000946\n",
      "\n",
      "EPOCH 65 \n",
      "-------------------------\n",
      "train loss : 2.492447, [epoch:65, iter:0]\n"
     ]
    },
    {
     "name": "stderr",
     "output_type": "stream",
     "text": [
      "/home/qkrwnstj/anaconda3/envs/qkrwnstj/lib/python3.9/site-packages/PIL/TiffImagePlugin.py:858: UserWarning: Corrupt EXIF data.  Expecting to read 2 bytes but only got 0. \n",
      "  warnings.warn(str(msg))\n"
     ]
    },
    {
     "name": "stdout",
     "output_type": "stream",
     "text": [
      "train loss : 2.214868, [epoch:65, iter:100]\n"
     ]
    },
    {
     "name": "stderr",
     "output_type": "stream",
     "text": [
      "/home/qkrwnstj/anaconda3/envs/qkrwnstj/lib/python3.9/site-packages/PIL/TiffImagePlugin.py:858: UserWarning: Corrupt EXIF data.  Expecting to read 2 bytes but only got 0. \n",
      "  warnings.warn(str(msg))\n"
     ]
    },
    {
     "name": "stdout",
     "output_type": "stream",
     "text": [
      "train loss : 2.223928, [epoch:65, iter:200]\n",
      "train loss : 2.234247, [epoch:65, iter:300]\n",
      "train loss : 2.238876, [epoch:65, iter:400]\n",
      "train loss : 2.238920, [epoch:65, iter:500]\n",
      "train loss : 2.244265, [epoch:65, iter:600]\n",
      "train loss : 2.243946, [epoch:65, iter:700]\n",
      "train loss : 2.239765, [epoch:65, iter:800]\n",
      "train loss : 2.241722, [epoch:65, iter:900]\n",
      "train loss : 2.243071, [epoch:65, iter:1000]\n",
      "train loss : 2.243938, [epoch:65, iter:1100]\n",
      "train loss : 2.243612, [epoch:65, iter:1200]\n",
      "TRAIN ACCURACY : 34.7% [27780/80128]\n"
     ]
    },
    {
     "name": "stderr",
     "output_type": "stream",
     "text": [
      "Train:  43%|█████████▌            | 65/150 [17:55:42<23:21:15, 989.12s/it]"
     ]
    },
    {
     "name": "stdout",
     "output_type": "stream",
     "text": [
      "TEST ACCURACY : 24.4% [4339/17792]\n",
      "\n",
      "EPOCH:65 | train loss : 2.245171980640759, test loss : 2.664864757078157\n",
      "\n",
      "EPOCH 66 \n",
      "-------------------------\n",
      "train loss : 2.437491, [epoch:66, iter:0]\n",
      "train loss : 2.214415, [epoch:66, iter:100]\n",
      "train loss : 2.210859, [epoch:66, iter:200]\n"
     ]
    },
    {
     "name": "stderr",
     "output_type": "stream",
     "text": [
      "/home/qkrwnstj/anaconda3/envs/qkrwnstj/lib/python3.9/site-packages/PIL/TiffImagePlugin.py:858: UserWarning: Corrupt EXIF data.  Expecting to read 2 bytes but only got 0. \n",
      "  warnings.warn(str(msg))\n"
     ]
    },
    {
     "name": "stdout",
     "output_type": "stream",
     "text": [
      "train loss : 2.225344, [epoch:66, iter:300]\n"
     ]
    },
    {
     "name": "stderr",
     "output_type": "stream",
     "text": [
      "/home/qkrwnstj/anaconda3/envs/qkrwnstj/lib/python3.9/site-packages/PIL/TiffImagePlugin.py:858: UserWarning: Corrupt EXIF data.  Expecting to read 2 bytes but only got 0. \n",
      "  warnings.warn(str(msg))\n"
     ]
    },
    {
     "name": "stdout",
     "output_type": "stream",
     "text": [
      "train loss : 2.231277, [epoch:66, iter:400]\n",
      "train loss : 2.235907, [epoch:66, iter:500]\n",
      "train loss : 2.233285, [epoch:66, iter:600]\n",
      "train loss : 2.231456, [epoch:66, iter:700]\n",
      "train loss : 2.232979, [epoch:66, iter:800]\n",
      "train loss : 2.236100, [epoch:66, iter:900]\n",
      "train loss : 2.237756, [epoch:66, iter:1000]\n",
      "train loss : 2.237955, [epoch:66, iter:1100]\n",
      "train loss : 2.241585, [epoch:66, iter:1200]\n",
      "TRAIN ACCURACY : 34.8% [27896/80128]\n"
     ]
    },
    {
     "name": "stderr",
     "output_type": "stream",
     "text": [
      "Train:  44%|█████████▋            | 66/150 [18:12:09<23:03:56, 988.53s/it]"
     ]
    },
    {
     "name": "stdout",
     "output_type": "stream",
     "text": [
      "TEST ACCURACY : 24.2% [4298/17792]\n",
      "\n",
      "EPOCH:66 | train loss : 2.242701363544495, test loss : 2.6928075474800823\n",
      "\n",
      "EPOCH 67 \n",
      "-------------------------\n",
      "train loss : 2.033146, [epoch:67, iter:0]\n",
      "train loss : 2.223340, [epoch:67, iter:100]\n",
      "train loss : 2.230107, [epoch:67, iter:200]\n",
      "train loss : 2.232534, [epoch:67, iter:300]\n",
      "train loss : 2.236493, [epoch:67, iter:400]\n"
     ]
    },
    {
     "name": "stderr",
     "output_type": "stream",
     "text": [
      "/home/qkrwnstj/anaconda3/envs/qkrwnstj/lib/python3.9/site-packages/PIL/TiffImagePlugin.py:858: UserWarning: Corrupt EXIF data.  Expecting to read 2 bytes but only got 0. \n",
      "  warnings.warn(str(msg))\n"
     ]
    },
    {
     "name": "stdout",
     "output_type": "stream",
     "text": [
      "train loss : 2.237989, [epoch:67, iter:500]\n",
      "train loss : 2.243997, [epoch:67, iter:600]\n"
     ]
    },
    {
     "name": "stderr",
     "output_type": "stream",
     "text": [
      "/home/qkrwnstj/anaconda3/envs/qkrwnstj/lib/python3.9/site-packages/PIL/TiffImagePlugin.py:858: UserWarning: Corrupt EXIF data.  Expecting to read 2 bytes but only got 0. \n",
      "  warnings.warn(str(msg))\n"
     ]
    },
    {
     "name": "stdout",
     "output_type": "stream",
     "text": [
      "train loss : 2.240826, [epoch:67, iter:700]\n",
      "train loss : 2.244071, [epoch:67, iter:800]\n",
      "train loss : 2.244014, [epoch:67, iter:900]\n",
      "train loss : 2.243485, [epoch:67, iter:1000]\n",
      "train loss : 2.242536, [epoch:67, iter:1100]\n",
      "train loss : 2.241646, [epoch:67, iter:1200]\n",
      "TRAIN ACCURACY : 34.8% [27904/80128]\n"
     ]
    },
    {
     "name": "stderr",
     "output_type": "stream",
     "text": [
      "Train:  45%|█████████▊            | 67/150 [18:28:40<22:48:20, 989.16s/it]"
     ]
    },
    {
     "name": "stdout",
     "output_type": "stream",
     "text": [
      "TEST ACCURACY : 24.3% [4324/17792]\n",
      "\n",
      "EPOCH:67 | train loss : 2.243067749296895, test loss : 2.680422023045931\n",
      "\n",
      "EPOCH 68 \n",
      "-------------------------\n"
     ]
    },
    {
     "name": "stderr",
     "output_type": "stream",
     "text": [
      "/home/qkrwnstj/anaconda3/envs/qkrwnstj/lib/python3.9/site-packages/PIL/TiffImagePlugin.py:858: UserWarning: Corrupt EXIF data.  Expecting to read 2 bytes but only got 0. \n",
      "  warnings.warn(str(msg))\n"
     ]
    },
    {
     "name": "stdout",
     "output_type": "stream",
     "text": [
      "train loss : 2.117911, [epoch:68, iter:0]\n",
      "train loss : 2.198768, [epoch:68, iter:100]\n",
      "train loss : 2.214664, [epoch:68, iter:200]\n",
      "train loss : 2.224291, [epoch:68, iter:300]\n",
      "train loss : 2.228493, [epoch:68, iter:400]\n"
     ]
    },
    {
     "name": "stderr",
     "output_type": "stream",
     "text": [
      "/home/qkrwnstj/anaconda3/envs/qkrwnstj/lib/python3.9/site-packages/PIL/TiffImagePlugin.py:858: UserWarning: Corrupt EXIF data.  Expecting to read 2 bytes but only got 0. \n",
      "  warnings.warn(str(msg))\n"
     ]
    },
    {
     "name": "stdout",
     "output_type": "stream",
     "text": [
      "train loss : 2.228888, [epoch:68, iter:500]\n",
      "train loss : 2.232700, [epoch:68, iter:600]\n",
      "train loss : 2.234458, [epoch:68, iter:700]\n",
      "train loss : 2.237779, [epoch:68, iter:800]\n",
      "train loss : 2.241442, [epoch:68, iter:900]\n",
      "train loss : 2.237701, [epoch:68, iter:1000]\n",
      "train loss : 2.237180, [epoch:68, iter:1100]\n",
      "train loss : 2.237513, [epoch:68, iter:1200]\n",
      "TRAIN ACCURACY : 34.8% [27880/80128]\n"
     ]
    },
    {
     "name": "stderr",
     "output_type": "stream",
     "text": [
      "Train:  45%|█████████▉            | 68/150 [18:45:11<22:32:38, 989.73s/it]"
     ]
    },
    {
     "name": "stdout",
     "output_type": "stream",
     "text": [
      "TEST ACCURACY : 24.1% [4291/17792]\n",
      "\n",
      "EPOCH:68 | train loss : 2.2386044604709734, test loss : 2.684328259323998\n",
      "\n",
      "EPOCH 69 \n",
      "-------------------------\n",
      "train loss : 2.208579, [epoch:69, iter:0]\n",
      "train loss : 2.216232, [epoch:69, iter:100]\n"
     ]
    },
    {
     "name": "stderr",
     "output_type": "stream",
     "text": [
      "/home/qkrwnstj/anaconda3/envs/qkrwnstj/lib/python3.9/site-packages/PIL/TiffImagePlugin.py:858: UserWarning: Corrupt EXIF data.  Expecting to read 2 bytes but only got 0. \n",
      "  warnings.warn(str(msg))\n"
     ]
    },
    {
     "name": "stdout",
     "output_type": "stream",
     "text": [
      "train loss : 2.224740, [epoch:69, iter:200]\n",
      "train loss : 2.216994, [epoch:69, iter:300]\n",
      "train loss : 2.225449, [epoch:69, iter:400]\n"
     ]
    },
    {
     "name": "stderr",
     "output_type": "stream",
     "text": [
      "/home/qkrwnstj/anaconda3/envs/qkrwnstj/lib/python3.9/site-packages/PIL/TiffImagePlugin.py:858: UserWarning: Corrupt EXIF data.  Expecting to read 2 bytes but only got 0. \n",
      "  warnings.warn(str(msg))\n"
     ]
    },
    {
     "name": "stdout",
     "output_type": "stream",
     "text": [
      "train loss : 2.221464, [epoch:69, iter:500]\n",
      "train loss : 2.228006, [epoch:69, iter:600]\n",
      "train loss : 2.229823, [epoch:69, iter:700]\n",
      "train loss : 2.231212, [epoch:69, iter:800]\n",
      "train loss : 2.232532, [epoch:69, iter:900]\n",
      "train loss : 2.236435, [epoch:69, iter:1000]\n",
      "train loss : 2.238599, [epoch:69, iter:1100]\n",
      "train loss : 2.239329, [epoch:69, iter:1200]\n",
      "TRAIN ACCURACY : 34.7% [27804/80128]\n"
     ]
    },
    {
     "name": "stderr",
     "output_type": "stream",
     "text": [
      "Train:  46%|██████████            | 69/150 [19:01:47<22:18:54, 991.79s/it]"
     ]
    },
    {
     "name": "stdout",
     "output_type": "stream",
     "text": [
      "TEST ACCURACY : 23.8% [4228/17792]\n",
      "\n",
      "EPOCH:69 | train loss : 2.2392788038086207, test loss : 2.706223260584495\n",
      "\n",
      "EPOCH 70 \n",
      "-------------------------\n",
      "train loss : 2.135730, [epoch:70, iter:0]\n"
     ]
    },
    {
     "name": "stderr",
     "output_type": "stream",
     "text": [
      "/home/qkrwnstj/anaconda3/envs/qkrwnstj/lib/python3.9/site-packages/PIL/TiffImagePlugin.py:858: UserWarning: Corrupt EXIF data.  Expecting to read 2 bytes but only got 0. \n",
      "  warnings.warn(str(msg))\n"
     ]
    },
    {
     "name": "stdout",
     "output_type": "stream",
     "text": [
      "train loss : 2.240276, [epoch:70, iter:100]\n",
      "train loss : 2.225433, [epoch:70, iter:200]\n",
      "train loss : 2.227398, [epoch:70, iter:300]\n",
      "train loss : 2.226886, [epoch:70, iter:400]\n",
      "train loss : 2.229443, [epoch:70, iter:500]\n",
      "train loss : 2.234685, [epoch:70, iter:600]\n",
      "train loss : 2.235118, [epoch:70, iter:700]\n",
      "train loss : 2.235104, [epoch:70, iter:800]\n",
      "train loss : 2.233729, [epoch:70, iter:900]\n",
      "train loss : 2.233865, [epoch:70, iter:1000]\n"
     ]
    },
    {
     "name": "stderr",
     "output_type": "stream",
     "text": [
      "/home/qkrwnstj/anaconda3/envs/qkrwnstj/lib/python3.9/site-packages/PIL/TiffImagePlugin.py:858: UserWarning: Corrupt EXIF data.  Expecting to read 2 bytes but only got 0. \n",
      "  warnings.warn(str(msg))\n"
     ]
    },
    {
     "name": "stdout",
     "output_type": "stream",
     "text": [
      "train loss : 2.234507, [epoch:70, iter:1100]\n",
      "train loss : 2.235193, [epoch:70, iter:1200]\n",
      "TRAIN ACCURACY : 34.9% [27975/80128]\n"
     ]
    },
    {
     "name": "stderr",
     "output_type": "stream",
     "text": [
      "Train:  47%|██████████▎           | 70/150 [19:18:17<22:01:43, 991.29s/it]"
     ]
    },
    {
     "name": "stdout",
     "output_type": "stream",
     "text": [
      "TEST ACCURACY : 25.2% [4486/17792]\n",
      "\n",
      "EPOCH:70 | train loss : 2.233934385136674, test loss : 2.642006477006048\n",
      "\n",
      "EPOCH 71 \n",
      "-------------------------\n",
      "train loss : 2.126635, [epoch:71, iter:0]\n",
      "train loss : 2.238354, [epoch:71, iter:100]\n"
     ]
    },
    {
     "name": "stderr",
     "output_type": "stream",
     "text": [
      "/home/qkrwnstj/anaconda3/envs/qkrwnstj/lib/python3.9/site-packages/PIL/TiffImagePlugin.py:858: UserWarning: Corrupt EXIF data.  Expecting to read 2 bytes but only got 0. \n",
      "  warnings.warn(str(msg))\n"
     ]
    },
    {
     "name": "stdout",
     "output_type": "stream",
     "text": [
      "train loss : 2.235019, [epoch:71, iter:200]\n",
      "train loss : 2.235260, [epoch:71, iter:300]\n",
      "train loss : 2.239297, [epoch:71, iter:400]\n",
      "train loss : 2.239040, [epoch:71, iter:500]\n",
      "train loss : 2.239329, [epoch:71, iter:600]\n",
      "train loss : 2.233844, [epoch:71, iter:700]\n",
      "train loss : 2.238528, [epoch:71, iter:800]\n"
     ]
    },
    {
     "name": "stderr",
     "output_type": "stream",
     "text": [
      "/home/qkrwnstj/anaconda3/envs/qkrwnstj/lib/python3.9/site-packages/PIL/TiffImagePlugin.py:858: UserWarning: Corrupt EXIF data.  Expecting to read 2 bytes but only got 0. \n",
      "  warnings.warn(str(msg))\n"
     ]
    },
    {
     "name": "stdout",
     "output_type": "stream",
     "text": [
      "train loss : 2.239032, [epoch:71, iter:900]\n",
      "train loss : 2.235412, [epoch:71, iter:1000]\n",
      "train loss : 2.235345, [epoch:71, iter:1100]\n",
      "train loss : 2.234926, [epoch:71, iter:1200]\n",
      "TRAIN ACCURACY : 34.8% [27900/80128]\n"
     ]
    },
    {
     "name": "stderr",
     "output_type": "stream",
     "text": [
      "Train:  47%|██████████▍           | 71/150 [19:34:45<21:43:31, 990.02s/it]"
     ]
    },
    {
     "name": "stdout",
     "output_type": "stream",
     "text": [
      "TEST ACCURACY : 23.1% [4107/17792]\n",
      "\n",
      "EPOCH:71 | train loss : 2.236946036164372, test loss : 2.6807731733047704\n",
      "\n",
      "EPOCH 72 \n",
      "-------------------------\n",
      "train loss : 2.372239, [epoch:72, iter:0]\n",
      "train loss : 2.229299, [epoch:72, iter:100]\n",
      "train loss : 2.233292, [epoch:72, iter:200]\n"
     ]
    }
   ],
   "source": [
    "train_loss_lst, test_loss_lst = [], []\n",
    "\n",
    "model_version = 1\n",
    "\n",
    "\n",
    "test_best_loss = 100\n",
    "test_current_loss = 100\n",
    "early_stop_threshold = 5\n",
    "early_stop_trigger = 0\n",
    "\n",
    "model = model.to(DEVICE)\n",
    "\n",
    "for i in tqdm(range(EPOCH), desc = 'Train'):\n",
    "    print(f\"EPOCH {i+1} \\n-------------------------\")\n",
    "    train_loss = train(train_dataloader, model, optimizer, criterion, i+1)\n",
    "    test_loss = test(test_dataloader, model, criterion, i+1)\n",
    "\n",
    "    train_loss_lst.append(train_loss)\n",
    "    test_loss_lst.append(test_loss)\n",
    "\n",
    "    if test_loss < test_best_loss :\n",
    "        print(\"...MODEL SAVE...\")\n",
    "        test_best_loss = test_loss \n",
    "        \n",
    "        if model_version == 0:\n",
    "            torch.save(model.state_dict(),'contrastive_model_for_style_weight_v2_without_target_style.pth')\n",
    "        else:\n",
    "            torch.save(model.state_dict(),'contrastive_model_for_style_weight_vit_b_16.pth')\n",
    "        \n",
    "    if test_current_loss < test_loss:\n",
    "        early_stop_trigger += 1 \n",
    "    else:\n",
    "        early_stop_trigger = 0 \n",
    "    test_current_loss  = test_loss \n",
    "\n",
    "    print(f'\\nEPOCH:{i+1} | train loss : {train_loss}, test loss : {test_loss}\\n')\n",
    "    \n",
    "    if early_stop_trigger >= early_stop_threshold:\n",
    "        break\n",
    "        \n",
    "print(\"DONE!\")"
   ]
  },
  {
   "cell_type": "code",
   "execution_count": null,
   "id": "da12b1f9-ee33-4e24-9983-47749d373c2f",
   "metadata": {},
   "outputs": [],
   "source": [
    "figure = plt.figure(figsize = (10,5))\n",
    "rows, cols = 1, 2 \n",
    "\n",
    "title = ['train loss', 'test loss']\n",
    "values = [train_loss_lst, test_loss_lst]\n",
    "for i in range(1, rows* cols +1):\n",
    "    figure.add_subplot(rows,cols,i)\n",
    "    plt.title(title[i-1])\n",
    "    plt.plot(values[i-1])\n",
    "\n",
    "plt.show()"
   ]
  },
  {
   "cell_type": "code",
   "execution_count": null,
   "id": "ccb57e56-33cf-454e-8697-013513763e4f",
   "metadata": {},
   "outputs": [],
   "source": []
  },
  {
   "cell_type": "code",
   "execution_count": null,
   "id": "26709857-15e0-4ede-862a-22fda793c382",
   "metadata": {},
   "outputs": [],
   "source": []
  },
  {
   "cell_type": "code",
   "execution_count": null,
   "id": "fa5c944c-41ba-4c1d-8355-c45ce9353491",
   "metadata": {},
   "outputs": [],
   "source": []
  },
  {
   "cell_type": "code",
   "execution_count": null,
   "id": "beb22a7e-3405-4c50-8caa-2134613b3bff",
   "metadata": {},
   "outputs": [],
   "source": []
  },
  {
   "cell_type": "code",
   "execution_count": null,
   "id": "3ba4c834-847f-4c42-9eb1-6cd8767a246c",
   "metadata": {},
   "outputs": [],
   "source": []
  }
 ],
 "metadata": {
  "kernelspec": {
   "display_name": "qkrwnstj",
   "language": "python",
   "name": "qkrwnstj"
  },
  "language_info": {
   "codemirror_mode": {
    "name": "ipython",
    "version": 3
   },
   "file_extension": ".py",
   "mimetype": "text/x-python",
   "name": "python",
   "nbconvert_exporter": "python",
   "pygments_lexer": "ipython3",
   "version": "3.9.1"
  }
 },
 "nbformat": 4,
 "nbformat_minor": 5
}
