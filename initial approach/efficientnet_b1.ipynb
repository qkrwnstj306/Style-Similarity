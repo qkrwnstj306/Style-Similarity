{
 "cells": [
  {
   "cell_type": "code",
   "execution_count": 1,
   "id": "c55f199e-724e-4a6d-8490-526496c038ea",
   "metadata": {},
   "outputs": [],
   "source": [
    "import torchvision\n",
    "from torchvision import models\n",
    "from torchvision.datasets import ImageFolder\n",
    "import torchvision.transforms as transforms\n",
    "from torch.utils.data import Dataset, DataLoader\n",
    "\n",
    "import os, subprocess\n",
    "import matplotlib.pyplot as plt\n",
    "import numpy as np\n",
    "from PIL import Image"
   ]
  },
  {
   "cell_type": "code",
   "execution_count": 2,
   "id": "6e9e42c5-62b1-4b1e-ac5d-6df3cd731284",
   "metadata": {
    "scrolled": true
   },
   "outputs": [
    {
     "name": "stdout",
     "output_type": "stream",
     "text": [
      "AlexNet\n",
      "AlexNet_Weights\n",
      "ConvNeXt\n",
      "ConvNeXt_Base_Weights\n",
      "ConvNeXt_Large_Weights\n",
      "ConvNeXt_Small_Weights\n",
      "ConvNeXt_Tiny_Weights\n",
      "DenseNet\n",
      "DenseNet121_Weights\n",
      "DenseNet161_Weights\n",
      "DenseNet169_Weights\n",
      "DenseNet201_Weights\n",
      "EfficientNet\n",
      "EfficientNet_B0_Weights\n",
      "EfficientNet_B1_Weights\n",
      "EfficientNet_B2_Weights\n",
      "EfficientNet_B3_Weights\n",
      "EfficientNet_B4_Weights\n",
      "EfficientNet_B5_Weights\n",
      "EfficientNet_B6_Weights\n",
      "EfficientNet_B7_Weights\n",
      "EfficientNet_V2_L_Weights\n",
      "EfficientNet_V2_M_Weights\n",
      "EfficientNet_V2_S_Weights\n",
      "GoogLeNet\n",
      "GoogLeNetOutputs\n",
      "GoogLeNet_Weights\n",
      "Inception3\n",
      "InceptionOutputs\n",
      "Inception_V3_Weights\n",
      "MNASNet\n",
      "MNASNet0_5_Weights\n",
      "MNASNet0_75_Weights\n",
      "MNASNet1_0_Weights\n",
      "MNASNet1_3_Weights\n",
      "MaxVit\n",
      "MaxVit_T_Weights\n",
      "MobileNetV2\n",
      "MobileNetV3\n",
      "MobileNet_V2_Weights\n",
      "MobileNet_V3_Large_Weights\n",
      "MobileNet_V3_Small_Weights\n",
      "RegNet\n",
      "RegNet_X_16GF_Weights\n",
      "RegNet_X_1_6GF_Weights\n",
      "RegNet_X_32GF_Weights\n",
      "RegNet_X_3_2GF_Weights\n",
      "RegNet_X_400MF_Weights\n",
      "RegNet_X_800MF_Weights\n",
      "RegNet_X_8GF_Weights\n",
      "RegNet_Y_128GF_Weights\n",
      "RegNet_Y_16GF_Weights\n",
      "RegNet_Y_1_6GF_Weights\n",
      "RegNet_Y_32GF_Weights\n",
      "RegNet_Y_3_2GF_Weights\n",
      "RegNet_Y_400MF_Weights\n",
      "RegNet_Y_800MF_Weights\n",
      "RegNet_Y_8GF_Weights\n",
      "ResNeXt101_32X8D_Weights\n",
      "ResNeXt101_64X4D_Weights\n",
      "ResNeXt50_32X4D_Weights\n",
      "ResNet\n",
      "ResNet101_Weights\n",
      "ResNet152_Weights\n",
      "ResNet18_Weights\n",
      "ResNet34_Weights\n",
      "ResNet50_Weights\n",
      "ShuffleNetV2\n",
      "ShuffleNet_V2_X0_5_Weights\n",
      "ShuffleNet_V2_X1_0_Weights\n",
      "ShuffleNet_V2_X1_5_Weights\n",
      "ShuffleNet_V2_X2_0_Weights\n",
      "SqueezeNet\n",
      "SqueezeNet1_0_Weights\n",
      "SqueezeNet1_1_Weights\n",
      "SwinTransformer\n",
      "Swin_B_Weights\n",
      "Swin_S_Weights\n",
      "Swin_T_Weights\n",
      "Swin_V2_B_Weights\n",
      "Swin_V2_S_Weights\n",
      "Swin_V2_T_Weights\n",
      "VGG\n",
      "VGG11_BN_Weights\n",
      "VGG11_Weights\n",
      "VGG13_BN_Weights\n",
      "VGG13_Weights\n",
      "VGG16_BN_Weights\n",
      "VGG16_Weights\n",
      "VGG19_BN_Weights\n",
      "VGG19_Weights\n",
      "ViT_B_16_Weights\n",
      "ViT_B_32_Weights\n",
      "ViT_H_14_Weights\n",
      "ViT_L_16_Weights\n",
      "ViT_L_32_Weights\n",
      "VisionTransformer\n",
      "Weights\n",
      "WeightsEnum\n",
      "Wide_ResNet101_2_Weights\n",
      "Wide_ResNet50_2_Weights\n",
      "_GoogLeNetOutputs\n",
      "_InceptionOutputs\n",
      "__builtins__\n",
      "__cached__\n",
      "__doc__\n",
      "__file__\n",
      "__loader__\n",
      "__name__\n",
      "__package__\n",
      "__path__\n",
      "__spec__\n",
      "_api\n",
      "_meta\n",
      "_utils\n",
      "alexnet\n",
      "convnext\n",
      "convnext_base\n",
      "convnext_large\n",
      "convnext_small\n",
      "convnext_tiny\n",
      "densenet\n",
      "densenet121\n",
      "densenet161\n",
      "densenet169\n",
      "densenet201\n",
      "detection\n",
      "efficientnet\n",
      "efficientnet_b0\n",
      "efficientnet_b1\n",
      "efficientnet_b2\n",
      "efficientnet_b3\n",
      "efficientnet_b4\n",
      "efficientnet_b5\n",
      "efficientnet_b6\n",
      "efficientnet_b7\n",
      "efficientnet_v2_l\n",
      "efficientnet_v2_m\n",
      "efficientnet_v2_s\n",
      "get_model\n",
      "get_model_builder\n",
      "get_model_weights\n",
      "get_weight\n",
      "googlenet\n",
      "inception\n",
      "inception_v3\n",
      "list_models\n",
      "maxvit\n",
      "maxvit_t\n",
      "mnasnet\n",
      "mnasnet0_5\n",
      "mnasnet0_75\n",
      "mnasnet1_0\n",
      "mnasnet1_3\n",
      "mobilenet\n",
      "mobilenet_v2\n",
      "mobilenet_v3_large\n",
      "mobilenet_v3_small\n",
      "mobilenetv2\n",
      "mobilenetv3\n",
      "optical_flow\n",
      "quantization\n",
      "regnet\n",
      "regnet_x_16gf\n",
      "regnet_x_1_6gf\n",
      "regnet_x_32gf\n",
      "regnet_x_3_2gf\n",
      "regnet_x_400mf\n",
      "regnet_x_800mf\n",
      "regnet_x_8gf\n",
      "regnet_y_128gf\n",
      "regnet_y_16gf\n",
      "regnet_y_1_6gf\n",
      "regnet_y_32gf\n",
      "regnet_y_3_2gf\n",
      "regnet_y_400mf\n",
      "regnet_y_800mf\n",
      "regnet_y_8gf\n",
      "resnet\n",
      "resnet101\n",
      "resnet152\n",
      "resnet18\n",
      "resnet34\n",
      "resnet50\n",
      "resnext101_32x8d\n",
      "resnext101_64x4d\n",
      "resnext50_32x4d\n",
      "segmentation\n",
      "shufflenet_v2_x0_5\n",
      "shufflenet_v2_x1_0\n",
      "shufflenet_v2_x1_5\n",
      "shufflenet_v2_x2_0\n",
      "shufflenetv2\n",
      "squeezenet\n",
      "squeezenet1_0\n",
      "squeezenet1_1\n",
      "swin_b\n",
      "swin_s\n",
      "swin_t\n",
      "swin_transformer\n",
      "swin_v2_b\n",
      "swin_v2_s\n",
      "swin_v2_t\n",
      "vgg\n",
      "vgg11\n",
      "vgg11_bn\n",
      "vgg13\n",
      "vgg13_bn\n",
      "vgg16\n",
      "vgg16_bn\n",
      "vgg19\n",
      "vgg19_bn\n",
      "video\n",
      "vision_transformer\n",
      "vit_b_16\n",
      "vit_b_32\n",
      "vit_h_14\n",
      "vit_l_16\n",
      "vit_l_32\n",
      "wide_resnet101_2\n",
      "wide_resnet50_2\n"
     ]
    }
   ],
   "source": [
    "for name in dir(torchvision.models):\n",
    "    print(name)"
   ]
  },
  {
   "cell_type": "code",
   "execution_count": 3,
   "id": "7ed23181-947c-4d44-ac54-29c452c5e0f8",
   "metadata": {
    "scrolled": true
   },
   "outputs": [
    {
     "name": "stderr",
     "output_type": "stream",
     "text": [
      "/home/qkrwnstj/anaconda3/envs/qkrwnstj/lib/python3.9/site-packages/torchvision/models/_utils.py:208: UserWarning: The parameter 'pretrained' is deprecated since 0.13 and may be removed in the future, please use 'weights' instead.\n",
      "  warnings.warn(\n",
      "/home/qkrwnstj/anaconda3/envs/qkrwnstj/lib/python3.9/site-packages/torchvision/models/_utils.py:223: UserWarning: Arguments other than a weight enum or `None` for 'weights' are deprecated since 0.13 and may be removed in the future. The current behavior is equivalent to passing `weights=EfficientNet_B1_Weights.IMAGENET1K_V1`. You can also use `weights=EfficientNet_B1_Weights.DEFAULT` to get the most up-to-date weights.\n",
      "  warnings.warn(msg)\n"
     ]
    },
    {
     "data": {
      "text/plain": [
       "EfficientNet(\n",
       "  (features): Sequential(\n",
       "    (0): Conv2dNormActivation(\n",
       "      (0): Conv2d(3, 32, kernel_size=(3, 3), stride=(2, 2), padding=(1, 1), bias=False)\n",
       "      (1): BatchNorm2d(32, eps=1e-05, momentum=0.1, affine=True, track_running_stats=True)\n",
       "      (2): SiLU(inplace=True)\n",
       "    )\n",
       "    (1): Sequential(\n",
       "      (0): MBConv(\n",
       "        (block): Sequential(\n",
       "          (0): Conv2dNormActivation(\n",
       "            (0): Conv2d(32, 32, kernel_size=(3, 3), stride=(1, 1), padding=(1, 1), groups=32, bias=False)\n",
       "            (1): BatchNorm2d(32, eps=1e-05, momentum=0.1, affine=True, track_running_stats=True)\n",
       "            (2): SiLU(inplace=True)\n",
       "          )\n",
       "          (1): SqueezeExcitation(\n",
       "            (avgpool): AdaptiveAvgPool2d(output_size=1)\n",
       "            (fc1): Conv2d(32, 8, kernel_size=(1, 1), stride=(1, 1))\n",
       "            (fc2): Conv2d(8, 32, kernel_size=(1, 1), stride=(1, 1))\n",
       "            (activation): SiLU(inplace=True)\n",
       "            (scale_activation): Sigmoid()\n",
       "          )\n",
       "          (2): Conv2dNormActivation(\n",
       "            (0): Conv2d(32, 16, kernel_size=(1, 1), stride=(1, 1), bias=False)\n",
       "            (1): BatchNorm2d(16, eps=1e-05, momentum=0.1, affine=True, track_running_stats=True)\n",
       "          )\n",
       "        )\n",
       "        (stochastic_depth): StochasticDepth(p=0.0, mode=row)\n",
       "      )\n",
       "      (1): MBConv(\n",
       "        (block): Sequential(\n",
       "          (0): Conv2dNormActivation(\n",
       "            (0): Conv2d(16, 16, kernel_size=(3, 3), stride=(1, 1), padding=(1, 1), groups=16, bias=False)\n",
       "            (1): BatchNorm2d(16, eps=1e-05, momentum=0.1, affine=True, track_running_stats=True)\n",
       "            (2): SiLU(inplace=True)\n",
       "          )\n",
       "          (1): SqueezeExcitation(\n",
       "            (avgpool): AdaptiveAvgPool2d(output_size=1)\n",
       "            (fc1): Conv2d(16, 4, kernel_size=(1, 1), stride=(1, 1))\n",
       "            (fc2): Conv2d(4, 16, kernel_size=(1, 1), stride=(1, 1))\n",
       "            (activation): SiLU(inplace=True)\n",
       "            (scale_activation): Sigmoid()\n",
       "          )\n",
       "          (2): Conv2dNormActivation(\n",
       "            (0): Conv2d(16, 16, kernel_size=(1, 1), stride=(1, 1), bias=False)\n",
       "            (1): BatchNorm2d(16, eps=1e-05, momentum=0.1, affine=True, track_running_stats=True)\n",
       "          )\n",
       "        )\n",
       "        (stochastic_depth): StochasticDepth(p=0.008695652173913044, mode=row)\n",
       "      )\n",
       "    )\n",
       "    (2): Sequential(\n",
       "      (0): MBConv(\n",
       "        (block): Sequential(\n",
       "          (0): Conv2dNormActivation(\n",
       "            (0): Conv2d(16, 96, kernel_size=(1, 1), stride=(1, 1), bias=False)\n",
       "            (1): BatchNorm2d(96, eps=1e-05, momentum=0.1, affine=True, track_running_stats=True)\n",
       "            (2): SiLU(inplace=True)\n",
       "          )\n",
       "          (1): Conv2dNormActivation(\n",
       "            (0): Conv2d(96, 96, kernel_size=(3, 3), stride=(2, 2), padding=(1, 1), groups=96, bias=False)\n",
       "            (1): BatchNorm2d(96, eps=1e-05, momentum=0.1, affine=True, track_running_stats=True)\n",
       "            (2): SiLU(inplace=True)\n",
       "          )\n",
       "          (2): SqueezeExcitation(\n",
       "            (avgpool): AdaptiveAvgPool2d(output_size=1)\n",
       "            (fc1): Conv2d(96, 4, kernel_size=(1, 1), stride=(1, 1))\n",
       "            (fc2): Conv2d(4, 96, kernel_size=(1, 1), stride=(1, 1))\n",
       "            (activation): SiLU(inplace=True)\n",
       "            (scale_activation): Sigmoid()\n",
       "          )\n",
       "          (3): Conv2dNormActivation(\n",
       "            (0): Conv2d(96, 24, kernel_size=(1, 1), stride=(1, 1), bias=False)\n",
       "            (1): BatchNorm2d(24, eps=1e-05, momentum=0.1, affine=True, track_running_stats=True)\n",
       "          )\n",
       "        )\n",
       "        (stochastic_depth): StochasticDepth(p=0.017391304347826087, mode=row)\n",
       "      )\n",
       "      (1): MBConv(\n",
       "        (block): Sequential(\n",
       "          (0): Conv2dNormActivation(\n",
       "            (0): Conv2d(24, 144, kernel_size=(1, 1), stride=(1, 1), bias=False)\n",
       "            (1): BatchNorm2d(144, eps=1e-05, momentum=0.1, affine=True, track_running_stats=True)\n",
       "            (2): SiLU(inplace=True)\n",
       "          )\n",
       "          (1): Conv2dNormActivation(\n",
       "            (0): Conv2d(144, 144, kernel_size=(3, 3), stride=(1, 1), padding=(1, 1), groups=144, bias=False)\n",
       "            (1): BatchNorm2d(144, eps=1e-05, momentum=0.1, affine=True, track_running_stats=True)\n",
       "            (2): SiLU(inplace=True)\n",
       "          )\n",
       "          (2): SqueezeExcitation(\n",
       "            (avgpool): AdaptiveAvgPool2d(output_size=1)\n",
       "            (fc1): Conv2d(144, 6, kernel_size=(1, 1), stride=(1, 1))\n",
       "            (fc2): Conv2d(6, 144, kernel_size=(1, 1), stride=(1, 1))\n",
       "            (activation): SiLU(inplace=True)\n",
       "            (scale_activation): Sigmoid()\n",
       "          )\n",
       "          (3): Conv2dNormActivation(\n",
       "            (0): Conv2d(144, 24, kernel_size=(1, 1), stride=(1, 1), bias=False)\n",
       "            (1): BatchNorm2d(24, eps=1e-05, momentum=0.1, affine=True, track_running_stats=True)\n",
       "          )\n",
       "        )\n",
       "        (stochastic_depth): StochasticDepth(p=0.026086956521739136, mode=row)\n",
       "      )\n",
       "      (2): MBConv(\n",
       "        (block): Sequential(\n",
       "          (0): Conv2dNormActivation(\n",
       "            (0): Conv2d(24, 144, kernel_size=(1, 1), stride=(1, 1), bias=False)\n",
       "            (1): BatchNorm2d(144, eps=1e-05, momentum=0.1, affine=True, track_running_stats=True)\n",
       "            (2): SiLU(inplace=True)\n",
       "          )\n",
       "          (1): Conv2dNormActivation(\n",
       "            (0): Conv2d(144, 144, kernel_size=(3, 3), stride=(1, 1), padding=(1, 1), groups=144, bias=False)\n",
       "            (1): BatchNorm2d(144, eps=1e-05, momentum=0.1, affine=True, track_running_stats=True)\n",
       "            (2): SiLU(inplace=True)\n",
       "          )\n",
       "          (2): SqueezeExcitation(\n",
       "            (avgpool): AdaptiveAvgPool2d(output_size=1)\n",
       "            (fc1): Conv2d(144, 6, kernel_size=(1, 1), stride=(1, 1))\n",
       "            (fc2): Conv2d(6, 144, kernel_size=(1, 1), stride=(1, 1))\n",
       "            (activation): SiLU(inplace=True)\n",
       "            (scale_activation): Sigmoid()\n",
       "          )\n",
       "          (3): Conv2dNormActivation(\n",
       "            (0): Conv2d(144, 24, kernel_size=(1, 1), stride=(1, 1), bias=False)\n",
       "            (1): BatchNorm2d(24, eps=1e-05, momentum=0.1, affine=True, track_running_stats=True)\n",
       "          )\n",
       "        )\n",
       "        (stochastic_depth): StochasticDepth(p=0.034782608695652174, mode=row)\n",
       "      )\n",
       "    )\n",
       "    (3): Sequential(\n",
       "      (0): MBConv(\n",
       "        (block): Sequential(\n",
       "          (0): Conv2dNormActivation(\n",
       "            (0): Conv2d(24, 144, kernel_size=(1, 1), stride=(1, 1), bias=False)\n",
       "            (1): BatchNorm2d(144, eps=1e-05, momentum=0.1, affine=True, track_running_stats=True)\n",
       "            (2): SiLU(inplace=True)\n",
       "          )\n",
       "          (1): Conv2dNormActivation(\n",
       "            (0): Conv2d(144, 144, kernel_size=(5, 5), stride=(2, 2), padding=(2, 2), groups=144, bias=False)\n",
       "            (1): BatchNorm2d(144, eps=1e-05, momentum=0.1, affine=True, track_running_stats=True)\n",
       "            (2): SiLU(inplace=True)\n",
       "          )\n",
       "          (2): SqueezeExcitation(\n",
       "            (avgpool): AdaptiveAvgPool2d(output_size=1)\n",
       "            (fc1): Conv2d(144, 6, kernel_size=(1, 1), stride=(1, 1))\n",
       "            (fc2): Conv2d(6, 144, kernel_size=(1, 1), stride=(1, 1))\n",
       "            (activation): SiLU(inplace=True)\n",
       "            (scale_activation): Sigmoid()\n",
       "          )\n",
       "          (3): Conv2dNormActivation(\n",
       "            (0): Conv2d(144, 40, kernel_size=(1, 1), stride=(1, 1), bias=False)\n",
       "            (1): BatchNorm2d(40, eps=1e-05, momentum=0.1, affine=True, track_running_stats=True)\n",
       "          )\n",
       "        )\n",
       "        (stochastic_depth): StochasticDepth(p=0.043478260869565216, mode=row)\n",
       "      )\n",
       "      (1): MBConv(\n",
       "        (block): Sequential(\n",
       "          (0): Conv2dNormActivation(\n",
       "            (0): Conv2d(40, 240, kernel_size=(1, 1), stride=(1, 1), bias=False)\n",
       "            (1): BatchNorm2d(240, eps=1e-05, momentum=0.1, affine=True, track_running_stats=True)\n",
       "            (2): SiLU(inplace=True)\n",
       "          )\n",
       "          (1): Conv2dNormActivation(\n",
       "            (0): Conv2d(240, 240, kernel_size=(5, 5), stride=(1, 1), padding=(2, 2), groups=240, bias=False)\n",
       "            (1): BatchNorm2d(240, eps=1e-05, momentum=0.1, affine=True, track_running_stats=True)\n",
       "            (2): SiLU(inplace=True)\n",
       "          )\n",
       "          (2): SqueezeExcitation(\n",
       "            (avgpool): AdaptiveAvgPool2d(output_size=1)\n",
       "            (fc1): Conv2d(240, 10, kernel_size=(1, 1), stride=(1, 1))\n",
       "            (fc2): Conv2d(10, 240, kernel_size=(1, 1), stride=(1, 1))\n",
       "            (activation): SiLU(inplace=True)\n",
       "            (scale_activation): Sigmoid()\n",
       "          )\n",
       "          (3): Conv2dNormActivation(\n",
       "            (0): Conv2d(240, 40, kernel_size=(1, 1), stride=(1, 1), bias=False)\n",
       "            (1): BatchNorm2d(40, eps=1e-05, momentum=0.1, affine=True, track_running_stats=True)\n",
       "          )\n",
       "        )\n",
       "        (stochastic_depth): StochasticDepth(p=0.05217391304347827, mode=row)\n",
       "      )\n",
       "      (2): MBConv(\n",
       "        (block): Sequential(\n",
       "          (0): Conv2dNormActivation(\n",
       "            (0): Conv2d(40, 240, kernel_size=(1, 1), stride=(1, 1), bias=False)\n",
       "            (1): BatchNorm2d(240, eps=1e-05, momentum=0.1, affine=True, track_running_stats=True)\n",
       "            (2): SiLU(inplace=True)\n",
       "          )\n",
       "          (1): Conv2dNormActivation(\n",
       "            (0): Conv2d(240, 240, kernel_size=(5, 5), stride=(1, 1), padding=(2, 2), groups=240, bias=False)\n",
       "            (1): BatchNorm2d(240, eps=1e-05, momentum=0.1, affine=True, track_running_stats=True)\n",
       "            (2): SiLU(inplace=True)\n",
       "          )\n",
       "          (2): SqueezeExcitation(\n",
       "            (avgpool): AdaptiveAvgPool2d(output_size=1)\n",
       "            (fc1): Conv2d(240, 10, kernel_size=(1, 1), stride=(1, 1))\n",
       "            (fc2): Conv2d(10, 240, kernel_size=(1, 1), stride=(1, 1))\n",
       "            (activation): SiLU(inplace=True)\n",
       "            (scale_activation): Sigmoid()\n",
       "          )\n",
       "          (3): Conv2dNormActivation(\n",
       "            (0): Conv2d(240, 40, kernel_size=(1, 1), stride=(1, 1), bias=False)\n",
       "            (1): BatchNorm2d(40, eps=1e-05, momentum=0.1, affine=True, track_running_stats=True)\n",
       "          )\n",
       "        )\n",
       "        (stochastic_depth): StochasticDepth(p=0.06086956521739131, mode=row)\n",
       "      )\n",
       "    )\n",
       "    (4): Sequential(\n",
       "      (0): MBConv(\n",
       "        (block): Sequential(\n",
       "          (0): Conv2dNormActivation(\n",
       "            (0): Conv2d(40, 240, kernel_size=(1, 1), stride=(1, 1), bias=False)\n",
       "            (1): BatchNorm2d(240, eps=1e-05, momentum=0.1, affine=True, track_running_stats=True)\n",
       "            (2): SiLU(inplace=True)\n",
       "          )\n",
       "          (1): Conv2dNormActivation(\n",
       "            (0): Conv2d(240, 240, kernel_size=(3, 3), stride=(2, 2), padding=(1, 1), groups=240, bias=False)\n",
       "            (1): BatchNorm2d(240, eps=1e-05, momentum=0.1, affine=True, track_running_stats=True)\n",
       "            (2): SiLU(inplace=True)\n",
       "          )\n",
       "          (2): SqueezeExcitation(\n",
       "            (avgpool): AdaptiveAvgPool2d(output_size=1)\n",
       "            (fc1): Conv2d(240, 10, kernel_size=(1, 1), stride=(1, 1))\n",
       "            (fc2): Conv2d(10, 240, kernel_size=(1, 1), stride=(1, 1))\n",
       "            (activation): SiLU(inplace=True)\n",
       "            (scale_activation): Sigmoid()\n",
       "          )\n",
       "          (3): Conv2dNormActivation(\n",
       "            (0): Conv2d(240, 80, kernel_size=(1, 1), stride=(1, 1), bias=False)\n",
       "            (1): BatchNorm2d(80, eps=1e-05, momentum=0.1, affine=True, track_running_stats=True)\n",
       "          )\n",
       "        )\n",
       "        (stochastic_depth): StochasticDepth(p=0.06956521739130435, mode=row)\n",
       "      )\n",
       "      (1): MBConv(\n",
       "        (block): Sequential(\n",
       "          (0): Conv2dNormActivation(\n",
       "            (0): Conv2d(80, 480, kernel_size=(1, 1), stride=(1, 1), bias=False)\n",
       "            (1): BatchNorm2d(480, eps=1e-05, momentum=0.1, affine=True, track_running_stats=True)\n",
       "            (2): SiLU(inplace=True)\n",
       "          )\n",
       "          (1): Conv2dNormActivation(\n",
       "            (0): Conv2d(480, 480, kernel_size=(3, 3), stride=(1, 1), padding=(1, 1), groups=480, bias=False)\n",
       "            (1): BatchNorm2d(480, eps=1e-05, momentum=0.1, affine=True, track_running_stats=True)\n",
       "            (2): SiLU(inplace=True)\n",
       "          )\n",
       "          (2): SqueezeExcitation(\n",
       "            (avgpool): AdaptiveAvgPool2d(output_size=1)\n",
       "            (fc1): Conv2d(480, 20, kernel_size=(1, 1), stride=(1, 1))\n",
       "            (fc2): Conv2d(20, 480, kernel_size=(1, 1), stride=(1, 1))\n",
       "            (activation): SiLU(inplace=True)\n",
       "            (scale_activation): Sigmoid()\n",
       "          )\n",
       "          (3): Conv2dNormActivation(\n",
       "            (0): Conv2d(480, 80, kernel_size=(1, 1), stride=(1, 1), bias=False)\n",
       "            (1): BatchNorm2d(80, eps=1e-05, momentum=0.1, affine=True, track_running_stats=True)\n",
       "          )\n",
       "        )\n",
       "        (stochastic_depth): StochasticDepth(p=0.0782608695652174, mode=row)\n",
       "      )\n",
       "      (2): MBConv(\n",
       "        (block): Sequential(\n",
       "          (0): Conv2dNormActivation(\n",
       "            (0): Conv2d(80, 480, kernel_size=(1, 1), stride=(1, 1), bias=False)\n",
       "            (1): BatchNorm2d(480, eps=1e-05, momentum=0.1, affine=True, track_running_stats=True)\n",
       "            (2): SiLU(inplace=True)\n",
       "          )\n",
       "          (1): Conv2dNormActivation(\n",
       "            (0): Conv2d(480, 480, kernel_size=(3, 3), stride=(1, 1), padding=(1, 1), groups=480, bias=False)\n",
       "            (1): BatchNorm2d(480, eps=1e-05, momentum=0.1, affine=True, track_running_stats=True)\n",
       "            (2): SiLU(inplace=True)\n",
       "          )\n",
       "          (2): SqueezeExcitation(\n",
       "            (avgpool): AdaptiveAvgPool2d(output_size=1)\n",
       "            (fc1): Conv2d(480, 20, kernel_size=(1, 1), stride=(1, 1))\n",
       "            (fc2): Conv2d(20, 480, kernel_size=(1, 1), stride=(1, 1))\n",
       "            (activation): SiLU(inplace=True)\n",
       "            (scale_activation): Sigmoid()\n",
       "          )\n",
       "          (3): Conv2dNormActivation(\n",
       "            (0): Conv2d(480, 80, kernel_size=(1, 1), stride=(1, 1), bias=False)\n",
       "            (1): BatchNorm2d(80, eps=1e-05, momentum=0.1, affine=True, track_running_stats=True)\n",
       "          )\n",
       "        )\n",
       "        (stochastic_depth): StochasticDepth(p=0.08695652173913043, mode=row)\n",
       "      )\n",
       "      (3): MBConv(\n",
       "        (block): Sequential(\n",
       "          (0): Conv2dNormActivation(\n",
       "            (0): Conv2d(80, 480, kernel_size=(1, 1), stride=(1, 1), bias=False)\n",
       "            (1): BatchNorm2d(480, eps=1e-05, momentum=0.1, affine=True, track_running_stats=True)\n",
       "            (2): SiLU(inplace=True)\n",
       "          )\n",
       "          (1): Conv2dNormActivation(\n",
       "            (0): Conv2d(480, 480, kernel_size=(3, 3), stride=(1, 1), padding=(1, 1), groups=480, bias=False)\n",
       "            (1): BatchNorm2d(480, eps=1e-05, momentum=0.1, affine=True, track_running_stats=True)\n",
       "            (2): SiLU(inplace=True)\n",
       "          )\n",
       "          (2): SqueezeExcitation(\n",
       "            (avgpool): AdaptiveAvgPool2d(output_size=1)\n",
       "            (fc1): Conv2d(480, 20, kernel_size=(1, 1), stride=(1, 1))\n",
       "            (fc2): Conv2d(20, 480, kernel_size=(1, 1), stride=(1, 1))\n",
       "            (activation): SiLU(inplace=True)\n",
       "            (scale_activation): Sigmoid()\n",
       "          )\n",
       "          (3): Conv2dNormActivation(\n",
       "            (0): Conv2d(480, 80, kernel_size=(1, 1), stride=(1, 1), bias=False)\n",
       "            (1): BatchNorm2d(80, eps=1e-05, momentum=0.1, affine=True, track_running_stats=True)\n",
       "          )\n",
       "        )\n",
       "        (stochastic_depth): StochasticDepth(p=0.09565217391304348, mode=row)\n",
       "      )\n",
       "    )\n",
       "    (5): Sequential(\n",
       "      (0): MBConv(\n",
       "        (block): Sequential(\n",
       "          (0): Conv2dNormActivation(\n",
       "            (0): Conv2d(80, 480, kernel_size=(1, 1), stride=(1, 1), bias=False)\n",
       "            (1): BatchNorm2d(480, eps=1e-05, momentum=0.1, affine=True, track_running_stats=True)\n",
       "            (2): SiLU(inplace=True)\n",
       "          )\n",
       "          (1): Conv2dNormActivation(\n",
       "            (0): Conv2d(480, 480, kernel_size=(5, 5), stride=(1, 1), padding=(2, 2), groups=480, bias=False)\n",
       "            (1): BatchNorm2d(480, eps=1e-05, momentum=0.1, affine=True, track_running_stats=True)\n",
       "            (2): SiLU(inplace=True)\n",
       "          )\n",
       "          (2): SqueezeExcitation(\n",
       "            (avgpool): AdaptiveAvgPool2d(output_size=1)\n",
       "            (fc1): Conv2d(480, 20, kernel_size=(1, 1), stride=(1, 1))\n",
       "            (fc2): Conv2d(20, 480, kernel_size=(1, 1), stride=(1, 1))\n",
       "            (activation): SiLU(inplace=True)\n",
       "            (scale_activation): Sigmoid()\n",
       "          )\n",
       "          (3): Conv2dNormActivation(\n",
       "            (0): Conv2d(480, 112, kernel_size=(1, 1), stride=(1, 1), bias=False)\n",
       "            (1): BatchNorm2d(112, eps=1e-05, momentum=0.1, affine=True, track_running_stats=True)\n",
       "          )\n",
       "        )\n",
       "        (stochastic_depth): StochasticDepth(p=0.10434782608695654, mode=row)\n",
       "      )\n",
       "      (1): MBConv(\n",
       "        (block): Sequential(\n",
       "          (0): Conv2dNormActivation(\n",
       "            (0): Conv2d(112, 672, kernel_size=(1, 1), stride=(1, 1), bias=False)\n",
       "            (1): BatchNorm2d(672, eps=1e-05, momentum=0.1, affine=True, track_running_stats=True)\n",
       "            (2): SiLU(inplace=True)\n",
       "          )\n",
       "          (1): Conv2dNormActivation(\n",
       "            (0): Conv2d(672, 672, kernel_size=(5, 5), stride=(1, 1), padding=(2, 2), groups=672, bias=False)\n",
       "            (1): BatchNorm2d(672, eps=1e-05, momentum=0.1, affine=True, track_running_stats=True)\n",
       "            (2): SiLU(inplace=True)\n",
       "          )\n",
       "          (2): SqueezeExcitation(\n",
       "            (avgpool): AdaptiveAvgPool2d(output_size=1)\n",
       "            (fc1): Conv2d(672, 28, kernel_size=(1, 1), stride=(1, 1))\n",
       "            (fc2): Conv2d(28, 672, kernel_size=(1, 1), stride=(1, 1))\n",
       "            (activation): SiLU(inplace=True)\n",
       "            (scale_activation): Sigmoid()\n",
       "          )\n",
       "          (3): Conv2dNormActivation(\n",
       "            (0): Conv2d(672, 112, kernel_size=(1, 1), stride=(1, 1), bias=False)\n",
       "            (1): BatchNorm2d(112, eps=1e-05, momentum=0.1, affine=True, track_running_stats=True)\n",
       "          )\n",
       "        )\n",
       "        (stochastic_depth): StochasticDepth(p=0.11304347826086956, mode=row)\n",
       "      )\n",
       "      (2): MBConv(\n",
       "        (block): Sequential(\n",
       "          (0): Conv2dNormActivation(\n",
       "            (0): Conv2d(112, 672, kernel_size=(1, 1), stride=(1, 1), bias=False)\n",
       "            (1): BatchNorm2d(672, eps=1e-05, momentum=0.1, affine=True, track_running_stats=True)\n",
       "            (2): SiLU(inplace=True)\n",
       "          )\n",
       "          (1): Conv2dNormActivation(\n",
       "            (0): Conv2d(672, 672, kernel_size=(5, 5), stride=(1, 1), padding=(2, 2), groups=672, bias=False)\n",
       "            (1): BatchNorm2d(672, eps=1e-05, momentum=0.1, affine=True, track_running_stats=True)\n",
       "            (2): SiLU(inplace=True)\n",
       "          )\n",
       "          (2): SqueezeExcitation(\n",
       "            (avgpool): AdaptiveAvgPool2d(output_size=1)\n",
       "            (fc1): Conv2d(672, 28, kernel_size=(1, 1), stride=(1, 1))\n",
       "            (fc2): Conv2d(28, 672, kernel_size=(1, 1), stride=(1, 1))\n",
       "            (activation): SiLU(inplace=True)\n",
       "            (scale_activation): Sigmoid()\n",
       "          )\n",
       "          (3): Conv2dNormActivation(\n",
       "            (0): Conv2d(672, 112, kernel_size=(1, 1), stride=(1, 1), bias=False)\n",
       "            (1): BatchNorm2d(112, eps=1e-05, momentum=0.1, affine=True, track_running_stats=True)\n",
       "          )\n",
       "        )\n",
       "        (stochastic_depth): StochasticDepth(p=0.12173913043478261, mode=row)\n",
       "      )\n",
       "      (3): MBConv(\n",
       "        (block): Sequential(\n",
       "          (0): Conv2dNormActivation(\n",
       "            (0): Conv2d(112, 672, kernel_size=(1, 1), stride=(1, 1), bias=False)\n",
       "            (1): BatchNorm2d(672, eps=1e-05, momentum=0.1, affine=True, track_running_stats=True)\n",
       "            (2): SiLU(inplace=True)\n",
       "          )\n",
       "          (1): Conv2dNormActivation(\n",
       "            (0): Conv2d(672, 672, kernel_size=(5, 5), stride=(1, 1), padding=(2, 2), groups=672, bias=False)\n",
       "            (1): BatchNorm2d(672, eps=1e-05, momentum=0.1, affine=True, track_running_stats=True)\n",
       "            (2): SiLU(inplace=True)\n",
       "          )\n",
       "          (2): SqueezeExcitation(\n",
       "            (avgpool): AdaptiveAvgPool2d(output_size=1)\n",
       "            (fc1): Conv2d(672, 28, kernel_size=(1, 1), stride=(1, 1))\n",
       "            (fc2): Conv2d(28, 672, kernel_size=(1, 1), stride=(1, 1))\n",
       "            (activation): SiLU(inplace=True)\n",
       "            (scale_activation): Sigmoid()\n",
       "          )\n",
       "          (3): Conv2dNormActivation(\n",
       "            (0): Conv2d(672, 112, kernel_size=(1, 1), stride=(1, 1), bias=False)\n",
       "            (1): BatchNorm2d(112, eps=1e-05, momentum=0.1, affine=True, track_running_stats=True)\n",
       "          )\n",
       "        )\n",
       "        (stochastic_depth): StochasticDepth(p=0.13043478260869565, mode=row)\n",
       "      )\n",
       "    )\n",
       "    (6): Sequential(\n",
       "      (0): MBConv(\n",
       "        (block): Sequential(\n",
       "          (0): Conv2dNormActivation(\n",
       "            (0): Conv2d(112, 672, kernel_size=(1, 1), stride=(1, 1), bias=False)\n",
       "            (1): BatchNorm2d(672, eps=1e-05, momentum=0.1, affine=True, track_running_stats=True)\n",
       "            (2): SiLU(inplace=True)\n",
       "          )\n",
       "          (1): Conv2dNormActivation(\n",
       "            (0): Conv2d(672, 672, kernel_size=(5, 5), stride=(2, 2), padding=(2, 2), groups=672, bias=False)\n",
       "            (1): BatchNorm2d(672, eps=1e-05, momentum=0.1, affine=True, track_running_stats=True)\n",
       "            (2): SiLU(inplace=True)\n",
       "          )\n",
       "          (2): SqueezeExcitation(\n",
       "            (avgpool): AdaptiveAvgPool2d(output_size=1)\n",
       "            (fc1): Conv2d(672, 28, kernel_size=(1, 1), stride=(1, 1))\n",
       "            (fc2): Conv2d(28, 672, kernel_size=(1, 1), stride=(1, 1))\n",
       "            (activation): SiLU(inplace=True)\n",
       "            (scale_activation): Sigmoid()\n",
       "          )\n",
       "          (3): Conv2dNormActivation(\n",
       "            (0): Conv2d(672, 192, kernel_size=(1, 1), stride=(1, 1), bias=False)\n",
       "            (1): BatchNorm2d(192, eps=1e-05, momentum=0.1, affine=True, track_running_stats=True)\n",
       "          )\n",
       "        )\n",
       "        (stochastic_depth): StochasticDepth(p=0.1391304347826087, mode=row)\n",
       "      )\n",
       "      (1): MBConv(\n",
       "        (block): Sequential(\n",
       "          (0): Conv2dNormActivation(\n",
       "            (0): Conv2d(192, 1152, kernel_size=(1, 1), stride=(1, 1), bias=False)\n",
       "            (1): BatchNorm2d(1152, eps=1e-05, momentum=0.1, affine=True, track_running_stats=True)\n",
       "            (2): SiLU(inplace=True)\n",
       "          )\n",
       "          (1): Conv2dNormActivation(\n",
       "            (0): Conv2d(1152, 1152, kernel_size=(5, 5), stride=(1, 1), padding=(2, 2), groups=1152, bias=False)\n",
       "            (1): BatchNorm2d(1152, eps=1e-05, momentum=0.1, affine=True, track_running_stats=True)\n",
       "            (2): SiLU(inplace=True)\n",
       "          )\n",
       "          (2): SqueezeExcitation(\n",
       "            (avgpool): AdaptiveAvgPool2d(output_size=1)\n",
       "            (fc1): Conv2d(1152, 48, kernel_size=(1, 1), stride=(1, 1))\n",
       "            (fc2): Conv2d(48, 1152, kernel_size=(1, 1), stride=(1, 1))\n",
       "            (activation): SiLU(inplace=True)\n",
       "            (scale_activation): Sigmoid()\n",
       "          )\n",
       "          (3): Conv2dNormActivation(\n",
       "            (0): Conv2d(1152, 192, kernel_size=(1, 1), stride=(1, 1), bias=False)\n",
       "            (1): BatchNorm2d(192, eps=1e-05, momentum=0.1, affine=True, track_running_stats=True)\n",
       "          )\n",
       "        )\n",
       "        (stochastic_depth): StochasticDepth(p=0.14782608695652175, mode=row)\n",
       "      )\n",
       "      (2): MBConv(\n",
       "        (block): Sequential(\n",
       "          (0): Conv2dNormActivation(\n",
       "            (0): Conv2d(192, 1152, kernel_size=(1, 1), stride=(1, 1), bias=False)\n",
       "            (1): BatchNorm2d(1152, eps=1e-05, momentum=0.1, affine=True, track_running_stats=True)\n",
       "            (2): SiLU(inplace=True)\n",
       "          )\n",
       "          (1): Conv2dNormActivation(\n",
       "            (0): Conv2d(1152, 1152, kernel_size=(5, 5), stride=(1, 1), padding=(2, 2), groups=1152, bias=False)\n",
       "            (1): BatchNorm2d(1152, eps=1e-05, momentum=0.1, affine=True, track_running_stats=True)\n",
       "            (2): SiLU(inplace=True)\n",
       "          )\n",
       "          (2): SqueezeExcitation(\n",
       "            (avgpool): AdaptiveAvgPool2d(output_size=1)\n",
       "            (fc1): Conv2d(1152, 48, kernel_size=(1, 1), stride=(1, 1))\n",
       "            (fc2): Conv2d(48, 1152, kernel_size=(1, 1), stride=(1, 1))\n",
       "            (activation): SiLU(inplace=True)\n",
       "            (scale_activation): Sigmoid()\n",
       "          )\n",
       "          (3): Conv2dNormActivation(\n",
       "            (0): Conv2d(1152, 192, kernel_size=(1, 1), stride=(1, 1), bias=False)\n",
       "            (1): BatchNorm2d(192, eps=1e-05, momentum=0.1, affine=True, track_running_stats=True)\n",
       "          )\n",
       "        )\n",
       "        (stochastic_depth): StochasticDepth(p=0.1565217391304348, mode=row)\n",
       "      )\n",
       "      (3): MBConv(\n",
       "        (block): Sequential(\n",
       "          (0): Conv2dNormActivation(\n",
       "            (0): Conv2d(192, 1152, kernel_size=(1, 1), stride=(1, 1), bias=False)\n",
       "            (1): BatchNorm2d(1152, eps=1e-05, momentum=0.1, affine=True, track_running_stats=True)\n",
       "            (2): SiLU(inplace=True)\n",
       "          )\n",
       "          (1): Conv2dNormActivation(\n",
       "            (0): Conv2d(1152, 1152, kernel_size=(5, 5), stride=(1, 1), padding=(2, 2), groups=1152, bias=False)\n",
       "            (1): BatchNorm2d(1152, eps=1e-05, momentum=0.1, affine=True, track_running_stats=True)\n",
       "            (2): SiLU(inplace=True)\n",
       "          )\n",
       "          (2): SqueezeExcitation(\n",
       "            (avgpool): AdaptiveAvgPool2d(output_size=1)\n",
       "            (fc1): Conv2d(1152, 48, kernel_size=(1, 1), stride=(1, 1))\n",
       "            (fc2): Conv2d(48, 1152, kernel_size=(1, 1), stride=(1, 1))\n",
       "            (activation): SiLU(inplace=True)\n",
       "            (scale_activation): Sigmoid()\n",
       "          )\n",
       "          (3): Conv2dNormActivation(\n",
       "            (0): Conv2d(1152, 192, kernel_size=(1, 1), stride=(1, 1), bias=False)\n",
       "            (1): BatchNorm2d(192, eps=1e-05, momentum=0.1, affine=True, track_running_stats=True)\n",
       "          )\n",
       "        )\n",
       "        (stochastic_depth): StochasticDepth(p=0.16521739130434784, mode=row)\n",
       "      )\n",
       "      (4): MBConv(\n",
       "        (block): Sequential(\n",
       "          (0): Conv2dNormActivation(\n",
       "            (0): Conv2d(192, 1152, kernel_size=(1, 1), stride=(1, 1), bias=False)\n",
       "            (1): BatchNorm2d(1152, eps=1e-05, momentum=0.1, affine=True, track_running_stats=True)\n",
       "            (2): SiLU(inplace=True)\n",
       "          )\n",
       "          (1): Conv2dNormActivation(\n",
       "            (0): Conv2d(1152, 1152, kernel_size=(5, 5), stride=(1, 1), padding=(2, 2), groups=1152, bias=False)\n",
       "            (1): BatchNorm2d(1152, eps=1e-05, momentum=0.1, affine=True, track_running_stats=True)\n",
       "            (2): SiLU(inplace=True)\n",
       "          )\n",
       "          (2): SqueezeExcitation(\n",
       "            (avgpool): AdaptiveAvgPool2d(output_size=1)\n",
       "            (fc1): Conv2d(1152, 48, kernel_size=(1, 1), stride=(1, 1))\n",
       "            (fc2): Conv2d(48, 1152, kernel_size=(1, 1), stride=(1, 1))\n",
       "            (activation): SiLU(inplace=True)\n",
       "            (scale_activation): Sigmoid()\n",
       "          )\n",
       "          (3): Conv2dNormActivation(\n",
       "            (0): Conv2d(1152, 192, kernel_size=(1, 1), stride=(1, 1), bias=False)\n",
       "            (1): BatchNorm2d(192, eps=1e-05, momentum=0.1, affine=True, track_running_stats=True)\n",
       "          )\n",
       "        )\n",
       "        (stochastic_depth): StochasticDepth(p=0.17391304347826086, mode=row)\n",
       "      )\n",
       "    )\n",
       "    (7): Sequential(\n",
       "      (0): MBConv(\n",
       "        (block): Sequential(\n",
       "          (0): Conv2dNormActivation(\n",
       "            (0): Conv2d(192, 1152, kernel_size=(1, 1), stride=(1, 1), bias=False)\n",
       "            (1): BatchNorm2d(1152, eps=1e-05, momentum=0.1, affine=True, track_running_stats=True)\n",
       "            (2): SiLU(inplace=True)\n",
       "          )\n",
       "          (1): Conv2dNormActivation(\n",
       "            (0): Conv2d(1152, 1152, kernel_size=(3, 3), stride=(1, 1), padding=(1, 1), groups=1152, bias=False)\n",
       "            (1): BatchNorm2d(1152, eps=1e-05, momentum=0.1, affine=True, track_running_stats=True)\n",
       "            (2): SiLU(inplace=True)\n",
       "          )\n",
       "          (2): SqueezeExcitation(\n",
       "            (avgpool): AdaptiveAvgPool2d(output_size=1)\n",
       "            (fc1): Conv2d(1152, 48, kernel_size=(1, 1), stride=(1, 1))\n",
       "            (fc2): Conv2d(48, 1152, kernel_size=(1, 1), stride=(1, 1))\n",
       "            (activation): SiLU(inplace=True)\n",
       "            (scale_activation): Sigmoid()\n",
       "          )\n",
       "          (3): Conv2dNormActivation(\n",
       "            (0): Conv2d(1152, 320, kernel_size=(1, 1), stride=(1, 1), bias=False)\n",
       "            (1): BatchNorm2d(320, eps=1e-05, momentum=0.1, affine=True, track_running_stats=True)\n",
       "          )\n",
       "        )\n",
       "        (stochastic_depth): StochasticDepth(p=0.1826086956521739, mode=row)\n",
       "      )\n",
       "      (1): MBConv(\n",
       "        (block): Sequential(\n",
       "          (0): Conv2dNormActivation(\n",
       "            (0): Conv2d(320, 1920, kernel_size=(1, 1), stride=(1, 1), bias=False)\n",
       "            (1): BatchNorm2d(1920, eps=1e-05, momentum=0.1, affine=True, track_running_stats=True)\n",
       "            (2): SiLU(inplace=True)\n",
       "          )\n",
       "          (1): Conv2dNormActivation(\n",
       "            (0): Conv2d(1920, 1920, kernel_size=(3, 3), stride=(1, 1), padding=(1, 1), groups=1920, bias=False)\n",
       "            (1): BatchNorm2d(1920, eps=1e-05, momentum=0.1, affine=True, track_running_stats=True)\n",
       "            (2): SiLU(inplace=True)\n",
       "          )\n",
       "          (2): SqueezeExcitation(\n",
       "            (avgpool): AdaptiveAvgPool2d(output_size=1)\n",
       "            (fc1): Conv2d(1920, 80, kernel_size=(1, 1), stride=(1, 1))\n",
       "            (fc2): Conv2d(80, 1920, kernel_size=(1, 1), stride=(1, 1))\n",
       "            (activation): SiLU(inplace=True)\n",
       "            (scale_activation): Sigmoid()\n",
       "          )\n",
       "          (3): Conv2dNormActivation(\n",
       "            (0): Conv2d(1920, 320, kernel_size=(1, 1), stride=(1, 1), bias=False)\n",
       "            (1): BatchNorm2d(320, eps=1e-05, momentum=0.1, affine=True, track_running_stats=True)\n",
       "          )\n",
       "        )\n",
       "        (stochastic_depth): StochasticDepth(p=0.19130434782608696, mode=row)\n",
       "      )\n",
       "    )\n",
       "    (8): Conv2dNormActivation(\n",
       "      (0): Conv2d(320, 1280, kernel_size=(1, 1), stride=(1, 1), bias=False)\n",
       "      (1): BatchNorm2d(1280, eps=1e-05, momentum=0.1, affine=True, track_running_stats=True)\n",
       "      (2): SiLU(inplace=True)\n",
       "    )\n",
       "  )\n",
       "  (avgpool): AdaptiveAvgPool2d(output_size=1)\n",
       "  (classifier): Sequential(\n",
       "    (0): Dropout(p=0.2, inplace=True)\n",
       "    (1): Linear(in_features=1280, out_features=1000, bias=True)\n",
       "  )\n",
       ")"
      ]
     },
     "execution_count": 3,
     "metadata": {},
     "output_type": "execute_result"
    }
   ],
   "source": [
    "import torch\n",
    "import torch.nn as nn\n",
    "\n",
    "from tqdm import tqdm\n",
    "\n",
    "\n",
    "model = models.efficientnet_b1(pretrained=True)\n",
    "model"
   ]
  },
  {
   "cell_type": "code",
   "execution_count": 4,
   "id": "b4980d57-1108-4e39-8553-aaeb52c10de7",
   "metadata": {
    "scrolled": true
   },
   "outputs": [],
   "source": [
    "model.classifier.out_features=20"
   ]
  },
  {
   "cell_type": "code",
   "execution_count": 5,
   "id": "40d23eac-13fc-4436-a075-40864791579e",
   "metadata": {},
   "outputs": [
    {
     "data": {
      "text/plain": [
       "7794184"
      ]
     },
     "execution_count": 5,
     "metadata": {},
     "output_type": "execute_result"
    }
   ],
   "source": [
    "#parameter 수 확인\n",
    "total_params = sum(p.numel() for p in model.parameters())\n",
    "total_params"
   ]
  },
  {
   "cell_type": "code",
   "execution_count": 6,
   "id": "f0f10d49-4b84-414c-8918-1f9c8d3d64f5",
   "metadata": {},
   "outputs": [],
   "source": [
    "data_dir = \"./data\"\n",
    "dir_lst = os.listdir(data_dir)\n",
    "for dir in dir_lst:\n",
    "    dir_path = os.listdir(f\"./data/{dir}\")\n",
    "\n",
    "    for name in dir_path:\n",
    "        if name == \".ipynb_checkpoints\":\n",
    "            print(name)\n",
    "            os.rmdir(f\"./data/{dir}/{name}\")"
   ]
  },
  {
   "cell_type": "code",
   "execution_count": 7,
   "id": "47bc6320-9ca4-4efa-a0d4-048f6b2ec4d5",
   "metadata": {},
   "outputs": [],
   "source": [
    "IMG_TRANSFORM = transforms.Compose([\n",
    "    transforms.ToTensor(),\n",
    "    transforms.Resize((512,512), antialias = True),\n",
    "    transforms.Normalize((0.5,0.5,0.5),(0.5,0.5,0.5)),\n",
    "    ])"
   ]
  },
  {
   "cell_type": "code",
   "execution_count": 8,
   "id": "a8d9d142-6f1a-47db-9797-e6760740d7ff",
   "metadata": {},
   "outputs": [],
   "source": [
    "train_imgfolder = ImageFolder(root=\"./data/train\",\n",
    "                              transform=IMG_TRANSFORM,\n",
    "                              target_transform=None\n",
    "                             )\n",
    "\n",
    "test_imgfolder = ImageFolder(root=\"./data/test\",\n",
    "                              transform=IMG_TRANSFORM\n",
    "                             )"
   ]
  },
  {
   "cell_type": "code",
   "execution_count": 9,
   "id": "5029d92a-00bc-4a3d-b6f9-86008c8995aa",
   "metadata": {},
   "outputs": [],
   "source": [
    "Image.MAX_IMAGE_PIXELS = None\n",
    "\n",
    "train_dataloader = DataLoader(dataset=train_imgfolder,\n",
    "\t\t\t\t\t\t\t  batch_size = 32,\n",
    "                              num_workers=os.cpu_count(),\n",
    "                              shuffle=True,\n",
    "                              drop_last=True \n",
    "                             )\n",
    "\n",
    "test_dataloader = DataLoader(dataset=test_imgfolder,\n",
    "\t\t\t\t\t\t\t  batch_size = 32,\n",
    "                              num_workers=os.cpu_count(),\n",
    "                              shuffle=True,\n",
    "                              drop_last=True \n",
    "                            )"
   ]
  },
  {
   "cell_type": "code",
   "execution_count": 10,
   "id": "22ac3976-a9b0-4fe2-934e-9ae687e7efed",
   "metadata": {},
   "outputs": [
    {
     "name": "stdout",
     "output_type": "stream",
     "text": [
      "Using device:  cuda:3\n"
     ]
    }
   ],
   "source": [
    "# model setting\n",
    "\n",
    "EPOCH = 50\n",
    "LEARNING_RATE = 1e-3 \n",
    "DEVICE = torch.device(\"cuda:3\" if torch.cuda.is_available() else \"cpu\")\n",
    "optimizer = torch.optim.Adam(model.parameters(), lr = LEARNING_RATE, weight_decay = 0.001)\n",
    "criterion = nn.CrossEntropyLoss()\n",
    "print(\"Using device: \",DEVICE)"
   ]
  },
  {
   "cell_type": "code",
   "execution_count": 11,
   "id": "a800dca9-50eb-4c37-8994-6c04c28ae140",
   "metadata": {},
   "outputs": [],
   "source": [
    "def loss_fn(class_output, label, criterion):\n",
    "    CE_loss = criterion(class_output, label)\n",
    "\n",
    "    return CE_loss "
   ]
  },
  {
   "cell_type": "code",
   "execution_count": 12,
   "id": "f35887cb-ff53-4df6-934c-04ef6048e88b",
   "metadata": {},
   "outputs": [],
   "source": [
    "def train(train_loader, model, optimizer, criterion, epoch):\n",
    "    model.train()\n",
    "    correct = 0\n",
    "    total = 0\n",
    "    \n",
    "    epoch_loss = []\n",
    "    for index, (img_data,labels) in enumerate(train_loader):\n",
    "        img_data, labels = img_data.to(DEVICE), labels.to(DEVICE)\n",
    "        optimizer.zero_grad()\n",
    "        \n",
    "        outputs = model(img_data)\n",
    "        loss = loss_fn(outputs, labels, criterion)\n",
    "        \n",
    "        _, predicted = torch.max(outputs.data, 1)\n",
    "        correct += (predicted == labels).sum().item()\n",
    "        total += labels.size(0)\n",
    "        \n",
    "        \n",
    "        loss.backward()\n",
    "        optimizer.step()\n",
    "\n",
    "        epoch_loss.append(loss.item())\n",
    "        if index%100==0:\n",
    "            print(f'train loss : {np.mean(epoch_loss):>7f}, [epoch:{epoch}, iter:{index}]')\n",
    "            \n",
    "    accuracy = correct / total\n",
    "    print(f\"TRAIN ACCURACY : {(100*accuracy):>0.1f}% [{correct}/{total}]\")\n",
    "    return np.mean(epoch_loss)"
   ]
  },
  {
   "cell_type": "code",
   "execution_count": 13,
   "id": "166bbec2-b81c-46cf-9586-7a0a468f3dbb",
   "metadata": {},
   "outputs": [],
   "source": [
    "def test(test_loader, model, criterion, epoch):\n",
    "    model.eval()\n",
    "\n",
    "    epoch_loss = []\n",
    "    correct = 0\n",
    "    total = 0\n",
    "    \n",
    "    with torch.no_grad():\n",
    "        for index, (img_data,labels) in enumerate(test_loader):\n",
    "            img_data, labels = img_data.to(DEVICE), labels.to(DEVICE)\n",
    "            outputs = model(img_data)\n",
    "    \n",
    "            loss = loss_fn(outputs, labels, criterion)\n",
    "\n",
    "            _, predicted = torch.max(outputs.data, 1)\n",
    "            correct += (predicted == labels).sum().item()\n",
    "            total += labels.size(0)\n",
    "            \n",
    "            epoch_loss.append(loss.item())\n",
    "    \n",
    "    accuracy = correct / total\n",
    "    \n",
    "    print(f\"TEST ACCURACY : {(100*accuracy):>0.1f}% [{correct}/{total}]\")\n",
    "    return np.mean(epoch_loss)"
   ]
  },
  {
   "cell_type": "code",
   "execution_count": 14,
   "id": "ee5442db-aa3a-4554-a670-99f3b731dafc",
   "metadata": {},
   "outputs": [],
   "source": [
    "import gc\n",
    "gc.collect()\n",
    "torch.cuda.empty_cache()"
   ]
  },
  {
   "cell_type": "code",
   "execution_count": null,
   "id": "858b7500-0e83-47c8-aba7-f9e360ea25c5",
   "metadata": {
    "scrolled": true
   },
   "outputs": [
    {
     "name": "stderr",
     "output_type": "stream",
     "text": [
      "Train:   0%|                                       | 0/50 [00:00<?, ?it/s]"
     ]
    },
    {
     "name": "stdout",
     "output_type": "stream",
     "text": [
      "EPOCH 1 \n",
      "-------------------------\n"
     ]
    },
    {
     "name": "stderr",
     "output_type": "stream",
     "text": [
      "/home/qkrwnstj/anaconda3/envs/qkrwnstj/lib/python3.9/site-packages/PIL/TiffImagePlugin.py:858: UserWarning: Corrupt EXIF data.  Expecting to read 2 bytes but only got 0. \n",
      "  warnings.warn(str(msg))\n"
     ]
    },
    {
     "name": "stdout",
     "output_type": "stream",
     "text": [
      "train loss : 7.680816, [epoch:1, iter:0]\n",
      "train loss : 2.262709, [epoch:1, iter:100]\n",
      "train loss : 1.953133, [epoch:1, iter:200]\n",
      "train loss : 1.822510, [epoch:1, iter:300]\n"
     ]
    },
    {
     "name": "stderr",
     "output_type": "stream",
     "text": [
      "/home/qkrwnstj/anaconda3/envs/qkrwnstj/lib/python3.9/site-packages/PIL/TiffImagePlugin.py:858: UserWarning: Corrupt EXIF data.  Expecting to read 2 bytes but only got 0. \n",
      "  warnings.warn(str(msg))\n"
     ]
    },
    {
     "name": "stdout",
     "output_type": "stream",
     "text": [
      "train loss : 1.733024, [epoch:1, iter:400]\n",
      "train loss : 1.675516, [epoch:1, iter:500]\n",
      "train loss : 1.632638, [epoch:1, iter:600]\n",
      "train loss : 1.600045, [epoch:1, iter:700]\n",
      "train loss : 1.582196, [epoch:1, iter:800]\n",
      "train loss : 1.561283, [epoch:1, iter:900]\n",
      "train loss : 1.543679, [epoch:1, iter:1000]\n",
      "train loss : 1.530490, [epoch:1, iter:1100]\n",
      "train loss : 1.522032, [epoch:1, iter:1200]\n",
      "train loss : 1.517117, [epoch:1, iter:1300]\n",
      "train loss : 1.510002, [epoch:1, iter:1400]\n",
      "train loss : 1.501552, [epoch:1, iter:1500]\n",
      "train loss : 1.494550, [epoch:1, iter:1600]\n",
      "train loss : 1.492112, [epoch:1, iter:1700]\n",
      "train loss : 1.488847, [epoch:1, iter:1800]\n",
      "train loss : 1.486095, [epoch:1, iter:1900]\n",
      "TRAIN ACCURACY : 53.0% [32654/61664]\n"
     ]
    },
    {
     "name": "stderr",
     "output_type": "stream",
     "text": [
      "Train:   2%|▌                          | 1/50 [15:10<12:23:39, 910.61s/it]"
     ]
    },
    {
     "name": "stdout",
     "output_type": "stream",
     "text": [
      "TEST ACCURACY : 44.7% [5216/11680]\n",
      "...MODEL SAVE...\n",
      "\n",
      "EPOCH:1 | train loss : 1.4851562890229475, test loss : 1.659120578308628\n",
      "\n",
      "EPOCH 2 \n",
      "-------------------------\n",
      "train loss : 1.326320, [epoch:2, iter:0]\n"
     ]
    },
    {
     "name": "stderr",
     "output_type": "stream",
     "text": [
      "/home/qkrwnstj/anaconda3/envs/qkrwnstj/lib/python3.9/site-packages/PIL/TiffImagePlugin.py:858: UserWarning: Corrupt EXIF data.  Expecting to read 2 bytes but only got 0. \n",
      "  warnings.warn(str(msg))\n"
     ]
    },
    {
     "name": "stdout",
     "output_type": "stream",
     "text": [
      "train loss : 1.402072, [epoch:2, iter:100]\n",
      "train loss : 1.415125, [epoch:2, iter:200]\n",
      "train loss : 1.419514, [epoch:2, iter:300]\n",
      "train loss : 1.423389, [epoch:2, iter:400]\n",
      "train loss : 1.417669, [epoch:2, iter:500]\n",
      "train loss : 1.415683, [epoch:2, iter:600]\n",
      "train loss : 1.416623, [epoch:2, iter:700]\n",
      "train loss : 1.416000, [epoch:2, iter:800]\n",
      "train loss : 1.417365, [epoch:2, iter:900]\n",
      "train loss : 1.416353, [epoch:2, iter:1000]\n",
      "train loss : 1.418211, [epoch:2, iter:1100]\n",
      "train loss : 1.416370, [epoch:2, iter:1200]\n",
      "train loss : 1.415968, [epoch:2, iter:1300]\n",
      "train loss : 1.416203, [epoch:2, iter:1400]\n",
      "train loss : 1.415909, [epoch:2, iter:1500]\n",
      "train loss : 1.415357, [epoch:2, iter:1600]\n",
      "train loss : 1.415126, [epoch:2, iter:1700]\n"
     ]
    },
    {
     "name": "stderr",
     "output_type": "stream",
     "text": [
      "/home/qkrwnstj/anaconda3/envs/qkrwnstj/lib/python3.9/site-packages/PIL/TiffImagePlugin.py:858: UserWarning: Corrupt EXIF data.  Expecting to read 2 bytes but only got 0. \n",
      "  warnings.warn(str(msg))\n"
     ]
    },
    {
     "name": "stdout",
     "output_type": "stream",
     "text": [
      "train loss : 1.413889, [epoch:2, iter:1800]\n",
      "train loss : 1.414497, [epoch:2, iter:1900]\n",
      "TRAIN ACCURACY : 54.3% [33483/61664]\n"
     ]
    },
    {
     "name": "stderr",
     "output_type": "stream",
     "text": [
      "Train:   4%|█                          | 2/50 [30:28<12:11:57, 914.94s/it]"
     ]
    },
    {
     "name": "stdout",
     "output_type": "stream",
     "text": [
      "TEST ACCURACY : 39.6% [4626/11680]\n",
      "\n",
      "EPOCH:2 | train loss : 1.4136663204533608, test loss : 1.8889240176710365\n",
      "\n",
      "EPOCH 3 \n",
      "-------------------------\n",
      "train loss : 1.671030, [epoch:3, iter:0]\n",
      "train loss : 1.382105, [epoch:3, iter:100]\n"
     ]
    },
    {
     "name": "stderr",
     "output_type": "stream",
     "text": [
      "/home/qkrwnstj/anaconda3/envs/qkrwnstj/lib/python3.9/site-packages/PIL/TiffImagePlugin.py:858: UserWarning: Corrupt EXIF data.  Expecting to read 2 bytes but only got 0. \n",
      "  warnings.warn(str(msg))\n"
     ]
    },
    {
     "name": "stdout",
     "output_type": "stream",
     "text": [
      "train loss : 1.366782, [epoch:3, iter:200]\n",
      "train loss : 1.359589, [epoch:3, iter:300]\n",
      "train loss : 1.353627, [epoch:3, iter:400]\n",
      "train loss : 1.352286, [epoch:3, iter:500]\n",
      "train loss : 1.366106, [epoch:3, iter:600]\n",
      "train loss : 1.372236, [epoch:3, iter:700]\n",
      "train loss : 1.375969, [epoch:3, iter:800]\n",
      "train loss : 1.373902, [epoch:3, iter:900]\n"
     ]
    },
    {
     "name": "stderr",
     "output_type": "stream",
     "text": [
      "/home/qkrwnstj/anaconda3/envs/qkrwnstj/lib/python3.9/site-packages/PIL/TiffImagePlugin.py:858: UserWarning: Corrupt EXIF data.  Expecting to read 2 bytes but only got 0. \n",
      "  warnings.warn(str(msg))\n"
     ]
    },
    {
     "name": "stdout",
     "output_type": "stream",
     "text": [
      "train loss : 1.374783, [epoch:3, iter:1000]\n",
      "train loss : 1.374946, [epoch:3, iter:1100]\n",
      "train loss : 1.375613, [epoch:3, iter:1200]\n",
      "train loss : 1.372617, [epoch:3, iter:1300]\n",
      "train loss : 1.373088, [epoch:3, iter:1400]\n",
      "train loss : 1.372072, [epoch:3, iter:1500]\n",
      "train loss : 1.373301, [epoch:3, iter:1600]\n",
      "train loss : 1.374384, [epoch:3, iter:1700]\n",
      "train loss : 1.372713, [epoch:3, iter:1800]\n",
      "train loss : 1.371645, [epoch:3, iter:1900]\n",
      "TRAIN ACCURACY : 55.6% [34286/61664]\n"
     ]
    },
    {
     "name": "stderr",
     "output_type": "stream",
     "text": [
      "Train:   6%|█▌                         | 3/50 [46:04<12:04:07, 924.42s/it]"
     ]
    },
    {
     "name": "stdout",
     "output_type": "stream",
     "text": [
      "TEST ACCURACY : 44.4% [5190/11680]\n",
      "\n",
      "EPOCH:3 | train loss : 1.3701787634593685, test loss : 1.7053078293800354\n",
      "\n",
      "EPOCH 4 \n",
      "-------------------------\n",
      "train loss : 1.090250, [epoch:4, iter:0]\n",
      "train loss : 1.298946, [epoch:4, iter:100]\n"
     ]
    },
    {
     "name": "stderr",
     "output_type": "stream",
     "text": [
      "/home/qkrwnstj/anaconda3/envs/qkrwnstj/lib/python3.9/site-packages/PIL/TiffImagePlugin.py:858: UserWarning: Corrupt EXIF data.  Expecting to read 2 bytes but only got 0. \n",
      "  warnings.warn(str(msg))\n"
     ]
    },
    {
     "name": "stdout",
     "output_type": "stream",
     "text": [
      "train loss : 1.307694, [epoch:4, iter:200]\n",
      "train loss : 1.322095, [epoch:4, iter:300]\n",
      "train loss : 1.322565, [epoch:4, iter:400]\n",
      "train loss : 1.328871, [epoch:4, iter:500]\n",
      "train loss : 1.329691, [epoch:4, iter:600]\n"
     ]
    },
    {
     "name": "stderr",
     "output_type": "stream",
     "text": [
      "/home/qkrwnstj/anaconda3/envs/qkrwnstj/lib/python3.9/site-packages/PIL/TiffImagePlugin.py:858: UserWarning: Corrupt EXIF data.  Expecting to read 2 bytes but only got 0. \n",
      "  warnings.warn(str(msg))\n"
     ]
    },
    {
     "name": "stdout",
     "output_type": "stream",
     "text": [
      "train loss : 1.328344, [epoch:4, iter:700]\n",
      "train loss : 1.330340, [epoch:4, iter:800]\n",
      "train loss : 1.334891, [epoch:4, iter:900]\n",
      "train loss : 1.337263, [epoch:4, iter:1000]\n",
      "train loss : 1.337478, [epoch:4, iter:1100]\n",
      "train loss : 1.339173, [epoch:4, iter:1200]\n",
      "train loss : 1.336380, [epoch:4, iter:1300]\n",
      "train loss : 1.336734, [epoch:4, iter:1400]\n",
      "train loss : 1.338233, [epoch:4, iter:1500]\n",
      "train loss : 1.337967, [epoch:4, iter:1600]\n",
      "train loss : 1.339150, [epoch:4, iter:1700]\n",
      "train loss : 1.337714, [epoch:4, iter:1800]\n",
      "train loss : 1.336561, [epoch:4, iter:1900]\n",
      "TRAIN ACCURACY : 56.7% [34989/61664]\n"
     ]
    },
    {
     "name": "stderr",
     "output_type": "stream",
     "text": [
      "Train:   8%|██                       | 4/50 [1:01:38<11:51:32, 928.10s/it]"
     ]
    },
    {
     "name": "stdout",
     "output_type": "stream",
     "text": [
      "TEST ACCURACY : 41.1% [4796/11680]\n",
      "\n",
      "EPOCH:4 | train loss : 1.3372616364848262, test loss : 1.8901546056956462\n",
      "\n",
      "EPOCH 5 \n",
      "-------------------------\n",
      "train loss : 1.296039, [epoch:5, iter:0]\n",
      "train loss : 1.277155, [epoch:5, iter:100]\n",
      "train loss : 1.301340, [epoch:5, iter:200]\n",
      "train loss : 1.293437, [epoch:5, iter:300]\n",
      "train loss : 1.287978, [epoch:5, iter:400]\n",
      "train loss : 1.289564, [epoch:5, iter:500]\n",
      "train loss : 1.295657, [epoch:5, iter:600]\n",
      "train loss : 1.291306, [epoch:5, iter:700]\n",
      "train loss : 1.291464, [epoch:5, iter:800]\n",
      "train loss : 1.291879, [epoch:5, iter:900]\n"
     ]
    },
    {
     "name": "stderr",
     "output_type": "stream",
     "text": [
      "/home/qkrwnstj/anaconda3/envs/qkrwnstj/lib/python3.9/site-packages/PIL/TiffImagePlugin.py:858: UserWarning: Corrupt EXIF data.  Expecting to read 2 bytes but only got 0. \n",
      "  warnings.warn(str(msg))\n"
     ]
    },
    {
     "name": "stdout",
     "output_type": "stream",
     "text": [
      "train loss : 1.295573, [epoch:5, iter:1000]\n",
      "train loss : 1.301202, [epoch:5, iter:1100]\n",
      "train loss : 1.301737, [epoch:5, iter:1200]\n",
      "train loss : 1.304235, [epoch:5, iter:1300]\n",
      "train loss : 1.306205, [epoch:5, iter:1400]\n",
      "train loss : 1.311896, [epoch:5, iter:1500]\n",
      "train loss : 1.313160, [epoch:5, iter:1600]\n",
      "train loss : 1.312963, [epoch:5, iter:1700]\n"
     ]
    },
    {
     "name": "stderr",
     "output_type": "stream",
     "text": [
      "/home/qkrwnstj/anaconda3/envs/qkrwnstj/lib/python3.9/site-packages/PIL/TiffImagePlugin.py:858: UserWarning: Corrupt EXIF data.  Expecting to read 2 bytes but only got 0. \n",
      "  warnings.warn(str(msg))\n"
     ]
    },
    {
     "name": "stdout",
     "output_type": "stream",
     "text": [
      "train loss : 1.313428, [epoch:5, iter:1800]\n",
      "train loss : 1.315515, [epoch:5, iter:1900]\n",
      "TRAIN ACCURACY : 56.9% [35113/61664]\n"
     ]
    },
    {
     "name": "stderr",
     "output_type": "stream",
     "text": [
      "Train:  10%|██▌                      | 5/50 [1:17:01<11:34:53, 926.52s/it]"
     ]
    },
    {
     "name": "stdout",
     "output_type": "stream",
     "text": [
      "TEST ACCURACY : 43.8% [5115/11680]\n",
      "\n",
      "EPOCH:5 | train loss : 1.3154639761003732, test loss : 1.7419375955242\n",
      "\n",
      "EPOCH 6 \n",
      "-------------------------\n",
      "train loss : 1.063705, [epoch:6, iter:0]\n",
      "train loss : 1.249621, [epoch:6, iter:100]\n"
     ]
    },
    {
     "name": "stderr",
     "output_type": "stream",
     "text": [
      "/home/qkrwnstj/anaconda3/envs/qkrwnstj/lib/python3.9/site-packages/PIL/TiffImagePlugin.py:858: UserWarning: Corrupt EXIF data.  Expecting to read 2 bytes but only got 0. \n",
      "  warnings.warn(str(msg))\n"
     ]
    },
    {
     "name": "stdout",
     "output_type": "stream",
     "text": [
      "train loss : 1.264789, [epoch:6, iter:200]\n",
      "train loss : 1.278559, [epoch:6, iter:300]\n",
      "train loss : 1.283230, [epoch:6, iter:400]\n",
      "train loss : 1.291272, [epoch:6, iter:500]\n",
      "train loss : 1.291196, [epoch:6, iter:600]\n",
      "train loss : 1.288359, [epoch:6, iter:700]\n"
     ]
    },
    {
     "name": "stderr",
     "output_type": "stream",
     "text": [
      "/home/qkrwnstj/anaconda3/envs/qkrwnstj/lib/python3.9/site-packages/PIL/TiffImagePlugin.py:858: UserWarning: Corrupt EXIF data.  Expecting to read 2 bytes but only got 0. \n",
      "  warnings.warn(str(msg))\n"
     ]
    },
    {
     "name": "stdout",
     "output_type": "stream",
     "text": [
      "train loss : 1.286604, [epoch:6, iter:800]\n",
      "train loss : 1.291731, [epoch:6, iter:900]\n",
      "train loss : 1.295434, [epoch:6, iter:1000]\n",
      "train loss : 1.295827, [epoch:6, iter:1100]\n",
      "train loss : 1.297158, [epoch:6, iter:1200]\n",
      "train loss : 1.297703, [epoch:6, iter:1300]\n",
      "train loss : 1.298915, [epoch:6, iter:1400]\n",
      "train loss : 1.300714, [epoch:6, iter:1500]\n",
      "train loss : 1.302948, [epoch:6, iter:1600]\n",
      "train loss : 1.303377, [epoch:6, iter:1700]\n",
      "train loss : 1.302096, [epoch:6, iter:1800]\n",
      "train loss : 1.302838, [epoch:6, iter:1900]\n",
      "TRAIN ACCURACY : 57.8% [35644/61664]\n"
     ]
    },
    {
     "name": "stderr",
     "output_type": "stream",
     "text": [
      "Train:  12%|███                      | 6/50 [1:32:22<11:18:02, 924.61s/it]"
     ]
    },
    {
     "name": "stdout",
     "output_type": "stream",
     "text": [
      "TEST ACCURACY : 44.5% [5200/11680]\n",
      "\n",
      "EPOCH:6 | train loss : 1.302859276115554, test loss : 1.6710505599844945\n",
      "\n",
      "EPOCH 7 \n",
      "-------------------------\n",
      "train loss : 1.514266, [epoch:7, iter:0]\n",
      "train loss : 1.279490, [epoch:7, iter:100]\n",
      "train loss : 1.292747, [epoch:7, iter:200]\n"
     ]
    },
    {
     "name": "stderr",
     "output_type": "stream",
     "text": [
      "/home/qkrwnstj/anaconda3/envs/qkrwnstj/lib/python3.9/site-packages/PIL/TiffImagePlugin.py:858: UserWarning: Corrupt EXIF data.  Expecting to read 2 bytes but only got 0. \n",
      "  warnings.warn(str(msg))\n"
     ]
    },
    {
     "name": "stdout",
     "output_type": "stream",
     "text": [
      "train loss : 1.280439, [epoch:7, iter:300]\n",
      "train loss : 1.284962, [epoch:7, iter:400]\n",
      "train loss : 1.276670, [epoch:7, iter:500]\n",
      "train loss : 1.284972, [epoch:7, iter:600]\n",
      "train loss : 1.288961, [epoch:7, iter:700]\n"
     ]
    },
    {
     "name": "stderr",
     "output_type": "stream",
     "text": [
      "/home/qkrwnstj/anaconda3/envs/qkrwnstj/lib/python3.9/site-packages/PIL/TiffImagePlugin.py:858: UserWarning: Corrupt EXIF data.  Expecting to read 2 bytes but only got 0. \n",
      "  warnings.warn(str(msg))\n"
     ]
    },
    {
     "name": "stdout",
     "output_type": "stream",
     "text": [
      "train loss : 1.288929, [epoch:7, iter:800]\n",
      "train loss : 1.292919, [epoch:7, iter:900]\n",
      "train loss : 1.290521, [epoch:7, iter:1000]\n",
      "train loss : 1.291408, [epoch:7, iter:1100]\n",
      "train loss : 1.293212, [epoch:7, iter:1200]\n",
      "train loss : 1.291033, [epoch:7, iter:1300]\n",
      "train loss : 1.291115, [epoch:7, iter:1400]\n",
      "train loss : 1.292441, [epoch:7, iter:1500]\n",
      "train loss : 1.296120, [epoch:7, iter:1600]\n",
      "train loss : 1.296219, [epoch:7, iter:1700]\n",
      "train loss : 1.295988, [epoch:7, iter:1800]\n",
      "train loss : 1.295701, [epoch:7, iter:1900]\n",
      "TRAIN ACCURACY : 57.8% [35635/61664]\n"
     ]
    },
    {
     "name": "stderr",
     "output_type": "stream",
     "text": [
      "Train:  14%|███▌                     | 7/50 [1:47:45<11:02:13, 924.04s/it]"
     ]
    },
    {
     "name": "stdout",
     "output_type": "stream",
     "text": [
      "TEST ACCURACY : 48.3% [5638/11680]\n",
      "...MODEL SAVE...\n",
      "\n",
      "EPOCH:7 | train loss : 1.295218142376827, test loss : 1.5917709979292465\n",
      "\n",
      "EPOCH 8 \n",
      "-------------------------\n",
      "train loss : 0.852654, [epoch:8, iter:0]\n"
     ]
    },
    {
     "name": "stderr",
     "output_type": "stream",
     "text": [
      "/home/qkrwnstj/anaconda3/envs/qkrwnstj/lib/python3.9/site-packages/PIL/TiffImagePlugin.py:858: UserWarning: Corrupt EXIF data.  Expecting to read 2 bytes but only got 0. \n",
      "  warnings.warn(str(msg))\n",
      "/home/qkrwnstj/anaconda3/envs/qkrwnstj/lib/python3.9/site-packages/PIL/TiffImagePlugin.py:858: UserWarning: Corrupt EXIF data.  Expecting to read 2 bytes but only got 0. \n",
      "  warnings.warn(str(msg))\n"
     ]
    },
    {
     "name": "stdout",
     "output_type": "stream",
     "text": [
      "train loss : 1.219004, [epoch:8, iter:100]\n",
      "train loss : 1.246355, [epoch:8, iter:200]\n",
      "train loss : 1.266451, [epoch:8, iter:300]\n",
      "train loss : 1.274885, [epoch:8, iter:400]\n",
      "train loss : 1.270665, [epoch:8, iter:500]\n",
      "train loss : 1.270916, [epoch:8, iter:600]\n",
      "train loss : 1.267279, [epoch:8, iter:700]\n",
      "train loss : 1.271974, [epoch:8, iter:800]\n",
      "train loss : 1.265432, [epoch:8, iter:900]\n",
      "train loss : 1.271911, [epoch:8, iter:1000]\n",
      "train loss : 1.276225, [epoch:8, iter:1100]\n",
      "train loss : 1.278774, [epoch:8, iter:1200]\n",
      "train loss : 1.280282, [epoch:8, iter:1300]\n",
      "train loss : 1.282530, [epoch:8, iter:1400]\n",
      "train loss : 1.281581, [epoch:8, iter:1500]\n",
      "train loss : 1.282113, [epoch:8, iter:1600]\n",
      "train loss : 1.282684, [epoch:8, iter:1700]\n",
      "train loss : 1.283046, [epoch:8, iter:1800]\n",
      "train loss : 1.282691, [epoch:8, iter:1900]\n",
      "TRAIN ACCURACY : 58.3% [35928/61664]\n"
     ]
    },
    {
     "name": "stderr",
     "output_type": "stream",
     "text": [
      "Train:  16%|████                     | 8/50 [2:03:07<10:46:18, 923.29s/it]"
     ]
    },
    {
     "name": "stdout",
     "output_type": "stream",
     "text": [
      "TEST ACCURACY : 46.3% [5412/11680]\n",
      "\n",
      "EPOCH:8 | train loss : 1.283019471119028, test loss : 1.633013606398073\n",
      "\n",
      "EPOCH 9 \n",
      "-------------------------\n",
      "train loss : 1.286114, [epoch:9, iter:0]\n",
      "train loss : 1.284752, [epoch:9, iter:100]\n",
      "train loss : 1.269009, [epoch:9, iter:200]\n",
      "train loss : 1.261059, [epoch:9, iter:300]\n",
      "train loss : 1.265886, [epoch:9, iter:400]\n",
      "train loss : 1.264040, [epoch:9, iter:500]\n",
      "train loss : 1.262954, [epoch:9, iter:600]\n",
      "train loss : 1.259825, [epoch:9, iter:700]\n"
     ]
    },
    {
     "name": "stderr",
     "output_type": "stream",
     "text": [
      "/home/qkrwnstj/anaconda3/envs/qkrwnstj/lib/python3.9/site-packages/PIL/TiffImagePlugin.py:858: UserWarning: Corrupt EXIF data.  Expecting to read 2 bytes but only got 0. \n",
      "  warnings.warn(str(msg))\n"
     ]
    },
    {
     "name": "stdout",
     "output_type": "stream",
     "text": [
      "train loss : 1.262198, [epoch:9, iter:800]\n",
      "train loss : 1.264479, [epoch:9, iter:900]\n",
      "train loss : 1.271124, [epoch:9, iter:1000]\n",
      "train loss : 1.270669, [epoch:9, iter:1100]\n",
      "train loss : 1.272456, [epoch:9, iter:1200]\n",
      "train loss : 1.269391, [epoch:9, iter:1300]\n",
      "train loss : 1.273252, [epoch:9, iter:1400]\n",
      "train loss : 1.275228, [epoch:9, iter:1500]\n"
     ]
    },
    {
     "name": "stderr",
     "output_type": "stream",
     "text": [
      "/home/qkrwnstj/anaconda3/envs/qkrwnstj/lib/python3.9/site-packages/PIL/TiffImagePlugin.py:858: UserWarning: Corrupt EXIF data.  Expecting to read 2 bytes but only got 0. \n",
      "  warnings.warn(str(msg))\n"
     ]
    },
    {
     "name": "stdout",
     "output_type": "stream",
     "text": [
      "train loss : 1.274052, [epoch:9, iter:1600]\n",
      "train loss : 1.274145, [epoch:9, iter:1700]\n",
      "train loss : 1.274112, [epoch:9, iter:1800]\n",
      "train loss : 1.274249, [epoch:9, iter:1900]\n",
      "TRAIN ACCURACY : 58.3% [35943/61664]\n"
     ]
    },
    {
     "name": "stderr",
     "output_type": "stream",
     "text": [
      "Train:  18%|████▌                    | 9/50 [2:18:30<10:31:00, 923.42s/it]"
     ]
    },
    {
     "name": "stdout",
     "output_type": "stream",
     "text": [
      "TEST ACCURACY : 46.2% [5396/11680]\n",
      "\n",
      "EPOCH:9 | train loss : 1.274761349132906, test loss : 1.631841996924518\n",
      "\n",
      "EPOCH 10 \n",
      "-------------------------\n",
      "train loss : 0.867468, [epoch:10, iter:0]\n",
      "train loss : 1.240278, [epoch:10, iter:100]\n",
      "train loss : 1.273102, [epoch:10, iter:200]\n",
      "train loss : 1.274072, [epoch:10, iter:300]\n",
      "train loss : 1.271178, [epoch:10, iter:400]\n",
      "train loss : 1.268723, [epoch:10, iter:500]\n",
      "train loss : 1.266078, [epoch:10, iter:600]\n",
      "train loss : 1.265368, [epoch:10, iter:700]\n",
      "train loss : 1.267442, [epoch:10, iter:800]\n"
     ]
    },
    {
     "name": "stderr",
     "output_type": "stream",
     "text": [
      "/home/qkrwnstj/anaconda3/envs/qkrwnstj/lib/python3.9/site-packages/PIL/TiffImagePlugin.py:858: UserWarning: Corrupt EXIF data.  Expecting to read 2 bytes but only got 0. \n",
      "  warnings.warn(str(msg))\n",
      "/home/qkrwnstj/anaconda3/envs/qkrwnstj/lib/python3.9/site-packages/PIL/TiffImagePlugin.py:858: UserWarning: Corrupt EXIF data.  Expecting to read 2 bytes but only got 0. \n",
      "  warnings.warn(str(msg))\n"
     ]
    },
    {
     "name": "stdout",
     "output_type": "stream",
     "text": [
      "train loss : 1.264520, [epoch:10, iter:900]\n",
      "train loss : 1.263640, [epoch:10, iter:1000]\n",
      "train loss : 1.263522, [epoch:10, iter:1100]\n",
      "train loss : 1.262689, [epoch:10, iter:1200]\n",
      "train loss : 1.265665, [epoch:10, iter:1300]\n",
      "train loss : 1.267748, [epoch:10, iter:1400]\n",
      "train loss : 1.268503, [epoch:10, iter:1500]\n",
      "train loss : 1.270269, [epoch:10, iter:1600]\n",
      "train loss : 1.268757, [epoch:10, iter:1700]\n",
      "train loss : 1.268653, [epoch:10, iter:1800]\n",
      "train loss : 1.268420, [epoch:10, iter:1900]\n",
      "TRAIN ACCURACY : 58.8% [36242/61664]\n"
     ]
    },
    {
     "name": "stderr",
     "output_type": "stream",
     "text": [
      "Train:  20%|████▊                   | 10/50 [2:33:39<10:12:37, 918.94s/it]"
     ]
    },
    {
     "name": "stdout",
     "output_type": "stream",
     "text": [
      "TEST ACCURACY : 44.9% [5241/11680]\n",
      "\n",
      "EPOCH:10 | train loss : 1.269279698108105, test loss : 1.6911997667730672\n",
      "\n",
      "EPOCH 11 \n",
      "-------------------------\n",
      "train loss : 1.156639, [epoch:11, iter:0]\n",
      "train loss : 1.220247, [epoch:11, iter:100]\n"
     ]
    },
    {
     "name": "stderr",
     "output_type": "stream",
     "text": [
      "/home/qkrwnstj/anaconda3/envs/qkrwnstj/lib/python3.9/site-packages/PIL/TiffImagePlugin.py:858: UserWarning: Corrupt EXIF data.  Expecting to read 2 bytes but only got 0. \n",
      "  warnings.warn(str(msg))\n"
     ]
    },
    {
     "name": "stdout",
     "output_type": "stream",
     "text": [
      "train loss : 1.218109, [epoch:11, iter:200]\n",
      "train loss : 1.227910, [epoch:11, iter:300]\n",
      "train loss : 1.225882, [epoch:11, iter:400]\n",
      "train loss : 1.232405, [epoch:11, iter:500]\n",
      "train loss : 1.232958, [epoch:11, iter:600]\n"
     ]
    },
    {
     "name": "stderr",
     "output_type": "stream",
     "text": [
      "/home/qkrwnstj/anaconda3/envs/qkrwnstj/lib/python3.9/site-packages/PIL/TiffImagePlugin.py:858: UserWarning: Corrupt EXIF data.  Expecting to read 2 bytes but only got 0. \n",
      "  warnings.warn(str(msg))\n"
     ]
    },
    {
     "name": "stdout",
     "output_type": "stream",
     "text": [
      "train loss : 1.240807, [epoch:11, iter:700]\n",
      "train loss : 1.242496, [epoch:11, iter:800]\n",
      "train loss : 1.246604, [epoch:11, iter:900]\n",
      "train loss : 1.248617, [epoch:11, iter:1000]\n",
      "train loss : 1.250709, [epoch:11, iter:1100]\n",
      "train loss : 1.254243, [epoch:11, iter:1200]\n",
      "train loss : 1.256246, [epoch:11, iter:1300]\n",
      "train loss : 1.256868, [epoch:11, iter:1400]\n",
      "train loss : 1.258497, [epoch:11, iter:1500]\n",
      "train loss : 1.259240, [epoch:11, iter:1600]\n",
      "train loss : 1.258633, [epoch:11, iter:1700]\n",
      "train loss : 1.260223, [epoch:11, iter:1800]\n",
      "train loss : 1.260862, [epoch:11, iter:1900]\n",
      "TRAIN ACCURACY : 58.9% [36321/61664]\n"
     ]
    },
    {
     "name": "stderr",
     "output_type": "stream",
     "text": [
      "Train:  22%|█████▌                   | 11/50 [2:49:07<9:59:05, 921.68s/it]"
     ]
    },
    {
     "name": "stdout",
     "output_type": "stream",
     "text": [
      "TEST ACCURACY : 45.1% [5265/11680]\n",
      "\n",
      "EPOCH:11 | train loss : 1.2609340152903796, test loss : 1.65360102065622\n",
      "\n",
      "EPOCH 12 \n",
      "-------------------------\n",
      "train loss : 0.871820, [epoch:12, iter:0]\n",
      "train loss : 1.212727, [epoch:12, iter:100]\n",
      "train loss : 1.217885, [epoch:12, iter:200]\n"
     ]
    },
    {
     "name": "stderr",
     "output_type": "stream",
     "text": [
      "/home/qkrwnstj/anaconda3/envs/qkrwnstj/lib/python3.9/site-packages/PIL/TiffImagePlugin.py:858: UserWarning: Corrupt EXIF data.  Expecting to read 2 bytes but only got 0. \n",
      "  warnings.warn(str(msg))\n"
     ]
    },
    {
     "name": "stdout",
     "output_type": "stream",
     "text": [
      "train loss : 1.218961, [epoch:12, iter:300]\n",
      "train loss : 1.233305, [epoch:12, iter:400]\n",
      "train loss : 1.237324, [epoch:12, iter:500]\n",
      "train loss : 1.244143, [epoch:12, iter:600]\n",
      "train loss : 1.243360, [epoch:12, iter:700]\n",
      "train loss : 1.241537, [epoch:12, iter:800]\n",
      "train loss : 1.240799, [epoch:12, iter:900]\n",
      "train loss : 1.243772, [epoch:12, iter:1000]\n",
      "train loss : 1.247900, [epoch:12, iter:1100]\n"
     ]
    },
    {
     "name": "stderr",
     "output_type": "stream",
     "text": [
      "/home/qkrwnstj/anaconda3/envs/qkrwnstj/lib/python3.9/site-packages/PIL/TiffImagePlugin.py:858: UserWarning: Corrupt EXIF data.  Expecting to read 2 bytes but only got 0. \n",
      "  warnings.warn(str(msg))\n"
     ]
    },
    {
     "name": "stdout",
     "output_type": "stream",
     "text": [
      "train loss : 1.249945, [epoch:12, iter:1200]\n",
      "train loss : 1.249777, [epoch:12, iter:1300]\n",
      "train loss : 1.247737, [epoch:12, iter:1400]\n",
      "train loss : 1.247225, [epoch:12, iter:1500]\n",
      "train loss : 1.249903, [epoch:12, iter:1600]\n",
      "train loss : 1.250727, [epoch:12, iter:1700]\n",
      "train loss : 1.251351, [epoch:12, iter:1800]\n",
      "train loss : 1.252653, [epoch:12, iter:1900]\n",
      "TRAIN ACCURACY : 59.1% [36417/61664]\n"
     ]
    },
    {
     "name": "stderr",
     "output_type": "stream",
     "text": [
      "Train:  24%|██████                   | 12/50 [3:04:09<9:39:56, 915.69s/it]"
     ]
    },
    {
     "name": "stdout",
     "output_type": "stream",
     "text": [
      "TEST ACCURACY : 45.7% [5343/11680]\n",
      "\n",
      "EPOCH:12 | train loss : 1.2530528016516007, test loss : 1.6972582941185939\n",
      "\n",
      "EPOCH 13 \n",
      "-------------------------\n",
      "train loss : 1.180079, [epoch:13, iter:0]\n",
      "train loss : 1.239661, [epoch:13, iter:100]\n",
      "train loss : 1.252021, [epoch:13, iter:200]\n",
      "train loss : 1.241494, [epoch:13, iter:300]\n",
      "train loss : 1.241434, [epoch:13, iter:400]\n",
      "train loss : 1.245559, [epoch:13, iter:500]\n",
      "train loss : 1.253908, [epoch:13, iter:600]\n",
      "train loss : 1.252236, [epoch:13, iter:700]\n",
      "train loss : 1.251813, [epoch:13, iter:800]\n",
      "train loss : 1.249991, [epoch:13, iter:900]\n",
      "train loss : 1.250935, [epoch:13, iter:1000]\n",
      "train loss : 1.250409, [epoch:13, iter:1100]\n",
      "train loss : 1.248697, [epoch:13, iter:1200]\n",
      "train loss : 1.246938, [epoch:13, iter:1300]\n"
     ]
    },
    {
     "name": "stderr",
     "output_type": "stream",
     "text": [
      "/home/qkrwnstj/anaconda3/envs/qkrwnstj/lib/python3.9/site-packages/PIL/TiffImagePlugin.py:858: UserWarning: Corrupt EXIF data.  Expecting to read 2 bytes but only got 0. \n",
      "  warnings.warn(str(msg))\n"
     ]
    },
    {
     "name": "stdout",
     "output_type": "stream",
     "text": [
      "train loss : 1.247948, [epoch:13, iter:1400]\n",
      "train loss : 1.248934, [epoch:13, iter:1500]\n"
     ]
    },
    {
     "name": "stderr",
     "output_type": "stream",
     "text": [
      "/home/qkrwnstj/anaconda3/envs/qkrwnstj/lib/python3.9/site-packages/PIL/TiffImagePlugin.py:858: UserWarning: Corrupt EXIF data.  Expecting to read 2 bytes but only got 0. \n",
      "  warnings.warn(str(msg))\n"
     ]
    },
    {
     "name": "stdout",
     "output_type": "stream",
     "text": [
      "train loss : 1.249951, [epoch:13, iter:1600]\n",
      "train loss : 1.250725, [epoch:13, iter:1700]\n",
      "train loss : 1.253477, [epoch:13, iter:1800]\n",
      "train loss : 1.255324, [epoch:13, iter:1900]\n",
      "TRAIN ACCURACY : 59.1% [36463/61664]\n"
     ]
    },
    {
     "name": "stderr",
     "output_type": "stream",
     "text": [
      "Train:  26%|██████▌                  | 13/50 [3:19:24<9:24:34, 915.52s/it]"
     ]
    },
    {
     "name": "stdout",
     "output_type": "stream",
     "text": [
      "TEST ACCURACY : 46.8% [5470/11680]\n",
      "\n",
      "EPOCH:13 | train loss : 1.2544780423991346, test loss : 1.6182726193780768\n",
      "\n",
      "EPOCH 14 \n",
      "-------------------------\n"
     ]
    },
    {
     "name": "stderr",
     "output_type": "stream",
     "text": [
      "/home/qkrwnstj/anaconda3/envs/qkrwnstj/lib/python3.9/site-packages/PIL/TiffImagePlugin.py:858: UserWarning: Corrupt EXIF data.  Expecting to read 2 bytes but only got 0. \n",
      "  warnings.warn(str(msg))\n"
     ]
    },
    {
     "name": "stdout",
     "output_type": "stream",
     "text": [
      "train loss : 0.793657, [epoch:14, iter:0]\n",
      "train loss : 1.185965, [epoch:14, iter:100]\n",
      "train loss : 1.187898, [epoch:14, iter:200]\n",
      "train loss : 1.199182, [epoch:14, iter:300]\n",
      "train loss : 1.208830, [epoch:14, iter:400]\n",
      "train loss : 1.218235, [epoch:14, iter:500]\n",
      "train loss : 1.219596, [epoch:14, iter:600]\n",
      "train loss : 1.225397, [epoch:14, iter:700]\n",
      "train loss : 1.223691, [epoch:14, iter:800]\n",
      "train loss : 1.229503, [epoch:14, iter:900]\n",
      "train loss : 1.231731, [epoch:14, iter:1000]\n",
      "train loss : 1.231798, [epoch:14, iter:1100]\n",
      "train loss : 1.235466, [epoch:14, iter:1200]\n",
      "train loss : 1.236357, [epoch:14, iter:1300]\n"
     ]
    },
    {
     "name": "stderr",
     "output_type": "stream",
     "text": [
      "/home/qkrwnstj/anaconda3/envs/qkrwnstj/lib/python3.9/site-packages/PIL/TiffImagePlugin.py:858: UserWarning: Corrupt EXIF data.  Expecting to read 2 bytes but only got 0. \n",
      "  warnings.warn(str(msg))\n"
     ]
    },
    {
     "name": "stdout",
     "output_type": "stream",
     "text": [
      "train loss : 1.236856, [epoch:14, iter:1400]\n",
      "train loss : 1.235774, [epoch:14, iter:1500]\n",
      "train loss : 1.238096, [epoch:14, iter:1600]\n",
      "train loss : 1.238781, [epoch:14, iter:1700]\n",
      "train loss : 1.238396, [epoch:14, iter:1800]\n",
      "train loss : 1.238157, [epoch:14, iter:1900]\n",
      "TRAIN ACCURACY : 59.6% [36729/61664]\n"
     ]
    },
    {
     "name": "stderr",
     "output_type": "stream",
     "text": [
      "Train:  28%|███████                  | 14/50 [3:35:18<9:16:10, 926.96s/it]"
     ]
    },
    {
     "name": "stdout",
     "output_type": "stream",
     "text": [
      "TEST ACCURACY : 46.3% [5408/11680]\n",
      "\n",
      "EPOCH:14 | train loss : 1.2387795011553049, test loss : 1.7008480855863388\n",
      "\n",
      "EPOCH 15 \n",
      "-------------------------\n",
      "train loss : 1.440944, [epoch:15, iter:0]\n",
      "train loss : 1.188144, [epoch:15, iter:100]\n"
     ]
    },
    {
     "name": "stderr",
     "output_type": "stream",
     "text": [
      "/home/qkrwnstj/anaconda3/envs/qkrwnstj/lib/python3.9/site-packages/PIL/TiffImagePlugin.py:858: UserWarning: Corrupt EXIF data.  Expecting to read 2 bytes but only got 0. \n",
      "  warnings.warn(str(msg))\n"
     ]
    },
    {
     "name": "stdout",
     "output_type": "stream",
     "text": [
      "train loss : 1.200448, [epoch:15, iter:200]\n",
      "train loss : 1.207363, [epoch:15, iter:300]\n"
     ]
    },
    {
     "name": "stderr",
     "output_type": "stream",
     "text": [
      "/home/qkrwnstj/anaconda3/envs/qkrwnstj/lib/python3.9/site-packages/PIL/TiffImagePlugin.py:858: UserWarning: Corrupt EXIF data.  Expecting to read 2 bytes but only got 0. \n",
      "  warnings.warn(str(msg))\n"
     ]
    },
    {
     "name": "stdout",
     "output_type": "stream",
     "text": [
      "train loss : 1.220630, [epoch:15, iter:400]\n",
      "train loss : 1.223919, [epoch:15, iter:500]\n",
      "train loss : 1.237422, [epoch:15, iter:600]\n",
      "train loss : 1.240274, [epoch:15, iter:700]\n",
      "train loss : 1.235230, [epoch:15, iter:800]\n",
      "train loss : 1.235310, [epoch:15, iter:900]\n",
      "train loss : 1.234708, [epoch:15, iter:1000]\n",
      "train loss : 1.234755, [epoch:15, iter:1100]\n",
      "train loss : 1.235882, [epoch:15, iter:1200]\n",
      "train loss : 1.236527, [epoch:15, iter:1300]\n",
      "train loss : 1.237547, [epoch:15, iter:1400]\n",
      "train loss : 1.237727, [epoch:15, iter:1500]\n",
      "train loss : 1.238935, [epoch:15, iter:1600]\n",
      "train loss : 1.240275, [epoch:15, iter:1700]\n",
      "train loss : 1.239554, [epoch:15, iter:1800]\n",
      "train loss : 1.238793, [epoch:15, iter:1900]\n",
      "TRAIN ACCURACY : 59.5% [36717/61664]\n"
     ]
    },
    {
     "name": "stderr",
     "output_type": "stream",
     "text": [
      "Train:  30%|███████▌                 | 15/50 [3:50:22<8:56:42, 920.06s/it]"
     ]
    },
    {
     "name": "stdout",
     "output_type": "stream",
     "text": [
      "TEST ACCURACY : 44.5% [5193/11680]\n",
      "\n",
      "EPOCH:15 | train loss : 1.238782995002036, test loss : 1.7250485838276066\n",
      "\n",
      "EPOCH 16 \n",
      "-------------------------\n",
      "train loss : 1.046992, [epoch:16, iter:0]\n",
      "train loss : 1.166562, [epoch:16, iter:100]\n"
     ]
    },
    {
     "name": "stderr",
     "output_type": "stream",
     "text": [
      "/home/qkrwnstj/anaconda3/envs/qkrwnstj/lib/python3.9/site-packages/PIL/TiffImagePlugin.py:858: UserWarning: Corrupt EXIF data.  Expecting to read 2 bytes but only got 0. \n",
      "  warnings.warn(str(msg))\n"
     ]
    },
    {
     "name": "stdout",
     "output_type": "stream",
     "text": [
      "train loss : 1.185175, [epoch:16, iter:200]\n"
     ]
    },
    {
     "name": "stderr",
     "output_type": "stream",
     "text": [
      "/home/qkrwnstj/anaconda3/envs/qkrwnstj/lib/python3.9/site-packages/PIL/TiffImagePlugin.py:858: UserWarning: Corrupt EXIF data.  Expecting to read 2 bytes but only got 0. \n",
      "  warnings.warn(str(msg))\n"
     ]
    },
    {
     "name": "stdout",
     "output_type": "stream",
     "text": [
      "train loss : 1.203980, [epoch:16, iter:300]\n",
      "train loss : 1.207481, [epoch:16, iter:400]\n",
      "train loss : 1.220096, [epoch:16, iter:500]\n",
      "train loss : 1.220341, [epoch:16, iter:600]\n"
     ]
    }
   ],
   "source": [
    "train_loss_lst, test_loss_lst = [], []\n",
    "\n",
    "model_version = 1\n",
    "\n",
    "\n",
    "test_best_loss = 100\n",
    "test_current_loss = 100\n",
    "early_stop_threshold = 5\n",
    "early_stop_trigger = 0\n",
    "\n",
    "model = model.to(DEVICE)\n",
    "\n",
    "for i in tqdm(range(EPOCH), desc = 'Train'):\n",
    "    print(f\"EPOCH {i+1} \\n-------------------------\")\n",
    "    train_loss = train(train_dataloader, model, optimizer, criterion, i+1)\n",
    "    test_loss = test(test_dataloader, model, criterion, i+1)\n",
    "\n",
    "    train_loss_lst.append(train_loss)\n",
    "    test_loss_lst.append(test_loss)\n",
    "\n",
    "    if test_loss < test_best_loss :\n",
    "        print(\"...MODEL SAVE...\")\n",
    "        test_best_loss = test_loss \n",
    "        \n",
    "        if model_version == 0:\n",
    "            torch.save(model.state_dict(),'contrastive_model_for_style_weight_v2_without_target_style.pth')\n",
    "        else:\n",
    "            torch.save(model.state_dict(),'contrastive_model_for_style_weight_efficientnet_b1.pth')\n",
    "        \n",
    "    if test_current_loss < test_loss:\n",
    "        early_stop_trigger += 1 \n",
    "    else:\n",
    "        early_stop_trigger = 0 \n",
    "    test_current_loss  = test_loss \n",
    "\n",
    "    print(f'\\nEPOCH:{i+1} | train loss : {train_loss}, test loss : {test_loss}\\n')\n",
    "    \n",
    "    if early_stop_trigger >= early_stop_threshold:\n",
    "        break\n",
    "        \n",
    "print(\"DONE!\")"
   ]
  },
  {
   "cell_type": "code",
   "execution_count": null,
   "id": "da12b1f9-ee33-4e24-9983-47749d373c2f",
   "metadata": {},
   "outputs": [],
   "source": [
    "figure = plt.figure(figsize = (10,5))\n",
    "rows, cols = 1, 2 \n",
    "\n",
    "title = ['train loss', 'test loss']\n",
    "values = [train_loss_lst, test_loss_lst]\n",
    "for i in range(1, rows* cols +1):\n",
    "    figure.add_subplot(rows,cols,i)\n",
    "    plt.title(title[i-1])\n",
    "    plt.plot(values[i-1])\n",
    "\n",
    "plt.show()"
   ]
  },
  {
   "cell_type": "code",
   "execution_count": null,
   "id": "ccb57e56-33cf-454e-8697-013513763e4f",
   "metadata": {},
   "outputs": [],
   "source": []
  },
  {
   "cell_type": "code",
   "execution_count": null,
   "id": "26709857-15e0-4ede-862a-22fda793c382",
   "metadata": {},
   "outputs": [],
   "source": []
  },
  {
   "cell_type": "code",
   "execution_count": null,
   "id": "fa5c944c-41ba-4c1d-8355-c45ce9353491",
   "metadata": {},
   "outputs": [],
   "source": []
  },
  {
   "cell_type": "code",
   "execution_count": null,
   "id": "beb22a7e-3405-4c50-8caa-2134613b3bff",
   "metadata": {},
   "outputs": [],
   "source": []
  },
  {
   "cell_type": "code",
   "execution_count": null,
   "id": "3ba4c834-847f-4c42-9eb1-6cd8767a246c",
   "metadata": {},
   "outputs": [],
   "source": []
  }
 ],
 "metadata": {
  "kernelspec": {
   "display_name": "qkrwnstj",
   "language": "python",
   "name": "qkrwnstj"
  },
  "language_info": {
   "codemirror_mode": {
    "name": "ipython",
    "version": 3
   },
   "file_extension": ".py",
   "mimetype": "text/x-python",
   "name": "python",
   "nbconvert_exporter": "python",
   "pygments_lexer": "ipython3",
   "version": "3.9.1"
  }
 },
 "nbformat": 4,
 "nbformat_minor": 5
}
