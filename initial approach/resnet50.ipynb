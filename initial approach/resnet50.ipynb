{
 "cells": [
  {
   "cell_type": "code",
   "execution_count": 1,
   "id": "c55f199e-724e-4a6d-8490-526496c038ea",
   "metadata": {},
   "outputs": [],
   "source": [
    "import torchvision\n",
    "from torchvision import models\n",
    "from torchvision.datasets import ImageFolder\n",
    "import torchvision.transforms as transforms\n",
    "from torch.utils.data import Dataset, DataLoader\n",
    "\n",
    "import os, subprocess\n",
    "import matplotlib.pyplot as plt\n",
    "import numpy as np\n",
    "from PIL import Image"
   ]
  },
  {
   "cell_type": "code",
   "execution_count": 2,
   "id": "f0f10d49-4b84-414c-8918-1f9c8d3d64f5",
   "metadata": {},
   "outputs": [],
   "source": [
    "data_dir = \"./data\"\n",
    "dir_lst = os.listdir(data_dir)\n",
    "for dir in dir_lst:\n",
    "    dir_path = os.listdir(f\"./data/{dir}\")\n",
    "\n",
    "    for name in dir_path:\n",
    "        if name == \".ipynb_checkpoints\":\n",
    "            print(name)\n",
    "            os.rmdir(f\"./data/{dir}/{name}\")"
   ]
  },
  {
   "cell_type": "code",
   "execution_count": 3,
   "id": "47bc6320-9ca4-4efa-a0d4-048f6b2ec4d5",
   "metadata": {},
   "outputs": [],
   "source": [
    "IMG_TRANSFORM = transforms.Compose([\n",
    "    transforms.ToTensor(),\n",
    "    transforms.Resize((512,512), antialias = True),\n",
    "    transforms.Normalize((0.5,0.5,0.5),(0.5,0.5,0.5)),\n",
    "    ])"
   ]
  },
  {
   "cell_type": "code",
   "execution_count": 4,
   "id": "a8d9d142-6f1a-47db-9797-e6760740d7ff",
   "metadata": {},
   "outputs": [],
   "source": [
    "train_imgfolder = ImageFolder(root=\"./data/train\",\n",
    "                              transform=IMG_TRANSFORM,\n",
    "                              target_transform=None\n",
    "                             )\n",
    "\n",
    "test_imgfolder = ImageFolder(root=\"./data/test\",\n",
    "                              transform=IMG_TRANSFORM\n",
    "                             )"
   ]
  },
  {
   "cell_type": "code",
   "execution_count": 5,
   "id": "5029d92a-00bc-4a3d-b6f9-86008c8995aa",
   "metadata": {},
   "outputs": [],
   "source": [
    "Image.MAX_IMAGE_PIXELS = None\n",
    "\n",
    "train_dataloader = DataLoader(dataset=train_imgfolder,\n",
    "\t\t\t\t\t\t\t  batch_size = 32,\n",
    "                              num_workers=os.cpu_count(),\n",
    "                              shuffle=True,\n",
    "                              drop_last=True \n",
    "                             )\n",
    "\n",
    "test_dataloader = DataLoader(dataset=test_imgfolder,\n",
    "\t\t\t\t\t\t\t  batch_size = 32,\n",
    "                              num_workers=os.cpu_count(),\n",
    "                              shuffle=True,\n",
    "                              drop_last=True \n",
    "                            )"
   ]
  },
  {
   "cell_type": "code",
   "execution_count": 6,
   "id": "0821fad3-540f-47ca-854f-9f5c7171d243",
   "metadata": {},
   "outputs": [],
   "source": [
    "import torch\n",
    "import torch.nn as nn\n",
    "\n",
    "from tqdm import tqdm\n",
    "\n",
    "pre_trained_model = models.resnet50(weights='ResNet50_Weights.IMAGENET1K_V1')\n",
    "new_model = torch.nn.Sequential(*(list(pre_trained_model.children())[:-1]))\n"
   ]
  },
  {
   "cell_type": "code",
   "execution_count": 7,
   "id": "f0d165a7-1bcf-4699-891d-00b78d0ac9de",
   "metadata": {},
   "outputs": [],
   "source": [
    "class modified_resnet50(nn.Module):\n",
    "    def __init__(self, new_model):\n",
    "        super(modified_resnet50,self).__init__()\n",
    "        self.resnet50 = new_model\n",
    "        self.fc = nn.Linear(2048, 2048)\n",
    "        self.cls_fc = nn.Linear(2048,33)\n",
    "        self.activation = nn.LeakyReLU()\n",
    "        \n",
    "    def forward(self, x):\n",
    "        x = self.resnet50(x)\n",
    "        x = x.squeeze(2,3)\n",
    "        style_x = self.activation(self.fc(x))\n",
    "        x = self.cls_fc(style_x)\n",
    "\n",
    "        # # of classess, 2048\n",
    "        return x, style_x     "
   ]
  },
  {
   "cell_type": "code",
   "execution_count": 8,
   "id": "22ac3976-a9b0-4fe2-934e-9ae687e7efed",
   "metadata": {},
   "outputs": [
    {
     "name": "stdout",
     "output_type": "stream",
     "text": [
      "Using device:  cuda:0\n"
     ]
    }
   ],
   "source": [
    "# model setting\n",
    "model = modified_resnet50(new_model)\n",
    "\n",
    "EPOCH = 50\n",
    "LEARNING_RATE = 1e-3 \n",
    "DEVICE = torch.device(\"cuda:0\" if torch.cuda.is_available() else \"cpu\")\n",
    "optimizer = torch.optim.Adam(model.parameters(), lr = LEARNING_RATE, weight_decay = 0.01)\n",
    "criterion = nn.CrossEntropyLoss()\n",
    "print(\"Using device: \",DEVICE)"
   ]
  },
  {
   "cell_type": "code",
   "execution_count": 9,
   "id": "a800dca9-50eb-4c37-8994-6c04c28ae140",
   "metadata": {},
   "outputs": [],
   "source": [
    "def loss_fn(class_output, label, criterion):\n",
    "    CE_loss = criterion(class_output, label)\n",
    "\n",
    "    return CE_loss "
   ]
  },
  {
   "cell_type": "code",
   "execution_count": 10,
   "id": "f35887cb-ff53-4df6-934c-04ef6048e88b",
   "metadata": {},
   "outputs": [],
   "source": [
    "def train(train_loader, model, optimizer, criterion, epoch):\n",
    "    model.train()\n",
    "    correct = 0\n",
    "    total = 0\n",
    "    \n",
    "    epoch_loss = []\n",
    "    for index, (img_data,labels) in enumerate(train_loader):\n",
    "        img_data, labels = img_data.to(DEVICE), labels.to(DEVICE)\n",
    "        optimizer.zero_grad()\n",
    "        \n",
    "        class_output, encoded_vector = model(img_data)\n",
    "        loss = loss_fn(class_output, labels, criterion)\n",
    "        \n",
    "        _, predicted = torch.max(class_output.data, 1)\n",
    "        correct += (predicted == labels).sum().item()\n",
    "        total += labels.size(0)\n",
    "        \n",
    "        \n",
    "        loss.backward()\n",
    "        optimizer.step()\n",
    "\n",
    "        epoch_loss.append(loss.item())\n",
    "        if index%100==0:\n",
    "            print(f'train loss : {np.mean(epoch_loss):>7f}, [epoch:{epoch}, iter:{index}]')\n",
    "            \n",
    "    accuracy = correct / total\n",
    "    print(f\"TRAIN ACCURACY : {(100*accuracy):>0.1f}% [{correct}/{total}]\")\n",
    "    return np.mean(epoch_loss)"
   ]
  },
  {
   "cell_type": "code",
   "execution_count": 11,
   "id": "166bbec2-b81c-46cf-9586-7a0a468f3dbb",
   "metadata": {},
   "outputs": [],
   "source": [
    "def test(test_loader, model, criterion, epoch):\n",
    "    model.eval()\n",
    "\n",
    "    epoch_loss = []\n",
    "    correct = 0\n",
    "    total = 0\n",
    "    \n",
    "    with torch.no_grad():\n",
    "        for index, (img_data,labels) in enumerate(test_loader):\n",
    "            img_data, labels = img_data.to(DEVICE), labels.to(DEVICE)\n",
    "            class_output, encoded_vector = model(img_data)\n",
    "    \n",
    "            loss = loss_fn(class_output, labels, criterion)\n",
    "\n",
    "            _, predicted = torch.max(class_output.data, 1)\n",
    "            correct += (predicted == labels).sum().item()\n",
    "            total += labels.size(0)\n",
    "            \n",
    "            epoch_loss.append(loss.item())\n",
    "    \n",
    "    accuracy = correct / total\n",
    "    \n",
    "    print(f\"TEST ACCURACY : {(100*accuracy):>0.1f}% [{correct}/{total}]\")\n",
    "    return np.mean(epoch_loss)"
   ]
  },
  {
   "cell_type": "code",
   "execution_count": 14,
   "id": "ee5442db-aa3a-4554-a670-99f3b731dafc",
   "metadata": {},
   "outputs": [],
   "source": [
    "import gc\n",
    "gc.collect()\n",
    "torch.cuda.empty_cache()"
   ]
  },
  {
   "cell_type": "code",
   "execution_count": 13,
   "id": "858b7500-0e83-47c8-aba7-f9e360ea25c5",
   "metadata": {},
   "outputs": [
    {
     "name": "stderr",
     "output_type": "stream",
     "text": [
      "Train:   0%|                                       | 0/50 [00:00<?, ?it/s]"
     ]
    },
    {
     "name": "stdout",
     "output_type": "stream",
     "text": [
      "EPOCH 1 \n",
      "-------------------------\n",
      "train loss : 3.544906, [epoch:1, iter:0]\n",
      "train loss : 3.297352, [epoch:1, iter:100]\n",
      "train loss : 3.193942, [epoch:1, iter:200]\n",
      "train loss : 3.163434, [epoch:1, iter:300]\n",
      "train loss : 3.132053, [epoch:1, iter:400]\n",
      "train loss : 3.113900, [epoch:1, iter:500]\n",
      "train loss : 3.098014, [epoch:1, iter:600]\n",
      "train loss : 3.086142, [epoch:1, iter:700]\n",
      "train loss : 3.066486, [epoch:1, iter:800]\n",
      "train loss : 3.052089, [epoch:1, iter:900]\n",
      "train loss : 3.035867, [epoch:1, iter:1000]\n",
      "train loss : 3.018818, [epoch:1, iter:1100]\n",
      "train loss : 3.009904, [epoch:1, iter:1200]\n",
      "train loss : 3.001343, [epoch:1, iter:1300]\n",
      "train loss : 2.992356, [epoch:1, iter:1400]\n",
      "train loss : 2.985194, [epoch:1, iter:1500]\n",
      "train loss : 2.977347, [epoch:1, iter:1600]\n",
      "train loss : 2.971984, [epoch:1, iter:1700]\n"
     ]
    },
    {
     "name": "stderr",
     "output_type": "stream",
     "text": [
      "/home/qkrwnstj/anaconda3/envs/qkrwnstj/lib/python3.9/site-packages/PIL/TiffImagePlugin.py:858: UserWarning: Corrupt EXIF data.  Expecting to read 2 bytes but only got 0. \n",
      "  warnings.warn(str(msg))\n"
     ]
    },
    {
     "name": "stdout",
     "output_type": "stream",
     "text": [
      "train loss : 2.965426, [epoch:1, iter:1800]\n",
      "train loss : 2.960060, [epoch:1, iter:1900]\n",
      "train loss : 2.954554, [epoch:1, iter:2000]\n"
     ]
    },
    {
     "name": "stderr",
     "output_type": "stream",
     "text": [
      "/home/qkrwnstj/anaconda3/envs/qkrwnstj/lib/python3.9/site-packages/PIL/TiffImagePlugin.py:858: UserWarning: Corrupt EXIF data.  Expecting to read 2 bytes but only got 0. \n",
      "  warnings.warn(str(msg))\n"
     ]
    },
    {
     "name": "stdout",
     "output_type": "stream",
     "text": [
      "train loss : 2.949132, [epoch:1, iter:2100]\n",
      "train loss : 2.944007, [epoch:1, iter:2200]\n",
      "train loss : 2.938438, [epoch:1, iter:2300]\n",
      "train loss : 2.933498, [epoch:1, iter:2400]\n",
      "train loss : 2.928861, [epoch:1, iter:2500]\n",
      "TRAIN ACCURACY : 18.5% [14849/80128]\n",
      "TEST ACCURACY : 14.3% [2547/17824]\n",
      "...MODEL SAVE...\n"
     ]
    },
    {
     "name": "stderr",
     "output_type": "stream",
     "text": [
      "Train:   2%|▌                         | 1/50 [18:22<15:00:41, 1102.88s/it]"
     ]
    },
    {
     "name": "stdout",
     "output_type": "stream",
     "text": [
      "\n",
      "EPOCH:1 | train loss : 2.9284441344463787, test loss : 3.0377256998681936\n",
      "\n",
      "EPOCH 2 \n",
      "-------------------------\n",
      "train loss : 2.747238, [epoch:2, iter:0]\n"
     ]
    },
    {
     "name": "stderr",
     "output_type": "stream",
     "text": [
      "/home/qkrwnstj/anaconda3/envs/qkrwnstj/lib/python3.9/site-packages/PIL/TiffImagePlugin.py:858: UserWarning: Corrupt EXIF data.  Expecting to read 2 bytes but only got 0. \n",
      "  warnings.warn(str(msg))\n"
     ]
    },
    {
     "name": "stdout",
     "output_type": "stream",
     "text": [
      "train loss : 2.811384, [epoch:2, iter:100]\n",
      "train loss : 2.815616, [epoch:2, iter:200]\n",
      "train loss : 2.802354, [epoch:2, iter:300]\n",
      "train loss : 2.802947, [epoch:2, iter:400]\n",
      "train loss : 2.798118, [epoch:2, iter:500]\n",
      "train loss : 2.796729, [epoch:2, iter:600]\n",
      "train loss : 2.791464, [epoch:2, iter:700]\n",
      "train loss : 2.792918, [epoch:2, iter:800]\n",
      "train loss : 2.792958, [epoch:2, iter:900]\n",
      "train loss : 2.790376, [epoch:2, iter:1000]\n",
      "train loss : 2.786605, [epoch:2, iter:1100]\n",
      "train loss : 2.784683, [epoch:2, iter:1200]\n",
      "train loss : 2.782663, [epoch:2, iter:1300]\n",
      "train loss : 2.779607, [epoch:2, iter:1400]\n",
      "train loss : 2.774537, [epoch:2, iter:1500]\n",
      "train loss : 2.775195, [epoch:2, iter:1600]\n",
      "train loss : 2.773279, [epoch:2, iter:1700]\n",
      "train loss : 2.769894, [epoch:2, iter:1800]\n",
      "train loss : 2.766294, [epoch:2, iter:1900]\n",
      "train loss : 2.764478, [epoch:2, iter:2000]\n"
     ]
    },
    {
     "name": "stderr",
     "output_type": "stream",
     "text": [
      "/home/qkrwnstj/anaconda3/envs/qkrwnstj/lib/python3.9/site-packages/PIL/TiffImagePlugin.py:858: UserWarning: Corrupt EXIF data.  Expecting to read 2 bytes but only got 0. \n",
      "  warnings.warn(str(msg))\n"
     ]
    },
    {
     "name": "stdout",
     "output_type": "stream",
     "text": [
      "train loss : 2.763047, [epoch:2, iter:2100]\n",
      "train loss : 2.760597, [epoch:2, iter:2200]\n",
      "train loss : 2.758615, [epoch:2, iter:2300]\n",
      "train loss : 2.755603, [epoch:2, iter:2400]\n",
      "train loss : 2.754467, [epoch:2, iter:2500]\n",
      "TRAIN ACCURACY : 22.4% [17985/80128]\n"
     ]
    },
    {
     "name": "stderr",
     "output_type": "stream",
     "text": [
      "Train:   4%|█                         | 2/50 [36:37<14:38:19, 1097.91s/it]"
     ]
    },
    {
     "name": "stdout",
     "output_type": "stream",
     "text": [
      "TEST ACCURACY : 14.4% [2558/17824]\n",
      "\n",
      "EPOCH:2 | train loss : 2.7543923166422797, test loss : 3.0837076836043242\n",
      "\n",
      "EPOCH 3 \n",
      "-------------------------\n",
      "train loss : 2.722411, [epoch:3, iter:0]\n",
      "train loss : 2.708518, [epoch:3, iter:100]\n",
      "train loss : 2.694838, [epoch:3, iter:200]\n",
      "train loss : 2.692981, [epoch:3, iter:300]\n",
      "train loss : 2.696930, [epoch:3, iter:400]\n",
      "train loss : 2.701319, [epoch:3, iter:500]\n",
      "train loss : 2.703872, [epoch:3, iter:600]\n",
      "train loss : 2.699738, [epoch:3, iter:700]\n",
      "train loss : 2.699781, [epoch:3, iter:800]\n",
      "train loss : 2.697895, [epoch:3, iter:900]\n",
      "train loss : 2.697729, [epoch:3, iter:1000]\n",
      "train loss : 2.696057, [epoch:3, iter:1100]\n",
      "train loss : 2.694421, [epoch:3, iter:1200]\n",
      "train loss : 2.691055, [epoch:3, iter:1300]\n",
      "train loss : 2.691919, [epoch:3, iter:1400]\n",
      "train loss : 2.691886, [epoch:3, iter:1500]\n",
      "train loss : 2.691256, [epoch:3, iter:1600]\n",
      "train loss : 2.692115, [epoch:3, iter:1700]\n",
      "train loss : 2.691706, [epoch:3, iter:1800]\n"
     ]
    },
    {
     "name": "stderr",
     "output_type": "stream",
     "text": [
      "/home/qkrwnstj/anaconda3/envs/qkrwnstj/lib/python3.9/site-packages/PIL/TiffImagePlugin.py:858: UserWarning: Corrupt EXIF data.  Expecting to read 2 bytes but only got 0. \n",
      "  warnings.warn(str(msg))\n"
     ]
    },
    {
     "name": "stdout",
     "output_type": "stream",
     "text": [
      "train loss : 2.689290, [epoch:3, iter:1900]\n"
     ]
    },
    {
     "name": "stderr",
     "output_type": "stream",
     "text": [
      "/home/qkrwnstj/anaconda3/envs/qkrwnstj/lib/python3.9/site-packages/PIL/TiffImagePlugin.py:858: UserWarning: Corrupt EXIF data.  Expecting to read 2 bytes but only got 0. \n",
      "  warnings.warn(str(msg))\n"
     ]
    },
    {
     "name": "stdout",
     "output_type": "stream",
     "text": [
      "train loss : 2.688367, [epoch:3, iter:2000]\n",
      "train loss : 2.687341, [epoch:3, iter:2100]\n",
      "train loss : 2.686747, [epoch:3, iter:2200]\n",
      "train loss : 2.686299, [epoch:3, iter:2300]\n",
      "train loss : 2.685906, [epoch:3, iter:2400]\n",
      "train loss : 2.685675, [epoch:3, iter:2500]\n",
      "TRAIN ACCURACY : 23.4% [18783/80128]\n",
      "TEST ACCURACY : 16.6% [2964/17824]\n",
      "...MODEL SAVE...\n"
     ]
    },
    {
     "name": "stderr",
     "output_type": "stream",
     "text": [
      "Train:   6%|█▌                        | 3/50 [54:51<14:18:52, 1096.44s/it]"
     ]
    },
    {
     "name": "stdout",
     "output_type": "stream",
     "text": [
      "\n",
      "EPOCH:3 | train loss : 2.68566903814721, test loss : 2.9080996342150485\n",
      "\n",
      "EPOCH 4 \n",
      "-------------------------\n",
      "train loss : 2.704124, [epoch:4, iter:0]\n",
      "train loss : 2.693142, [epoch:4, iter:100]\n"
     ]
    },
    {
     "name": "stderr",
     "output_type": "stream",
     "text": [
      "/home/qkrwnstj/anaconda3/envs/qkrwnstj/lib/python3.9/site-packages/PIL/TiffImagePlugin.py:858: UserWarning: Corrupt EXIF data.  Expecting to read 2 bytes but only got 0. \n",
      "  warnings.warn(str(msg))\n"
     ]
    },
    {
     "name": "stdout",
     "output_type": "stream",
     "text": [
      "train loss : 2.670061, [epoch:4, iter:200]\n",
      "train loss : 2.672011, [epoch:4, iter:300]\n",
      "train loss : 2.666970, [epoch:4, iter:400]\n",
      "train loss : 2.666974, [epoch:4, iter:500]\n",
      "train loss : 2.666083, [epoch:4, iter:600]\n",
      "train loss : 2.662828, [epoch:4, iter:700]\n",
      "train loss : 2.660044, [epoch:4, iter:800]\n",
      "train loss : 2.663182, [epoch:4, iter:900]\n",
      "train loss : 2.659847, [epoch:4, iter:1000]\n",
      "train loss : 2.659300, [epoch:4, iter:1100]\n",
      "train loss : 2.659394, [epoch:4, iter:1200]\n"
     ]
    },
    {
     "name": "stderr",
     "output_type": "stream",
     "text": [
      "/home/qkrwnstj/anaconda3/envs/qkrwnstj/lib/python3.9/site-packages/PIL/TiffImagePlugin.py:858: UserWarning: Corrupt EXIF data.  Expecting to read 2 bytes but only got 0. \n",
      "  warnings.warn(str(msg))\n"
     ]
    },
    {
     "name": "stdout",
     "output_type": "stream",
     "text": [
      "train loss : 2.660189, [epoch:4, iter:1300]\n",
      "train loss : 2.657042, [epoch:4, iter:1400]\n",
      "train loss : 2.656400, [epoch:4, iter:1500]\n",
      "train loss : 2.657390, [epoch:4, iter:1600]\n",
      "train loss : 2.657421, [epoch:4, iter:1700]\n",
      "train loss : 2.656977, [epoch:4, iter:1800]\n",
      "train loss : 2.654768, [epoch:4, iter:1900]\n",
      "train loss : 2.654893, [epoch:4, iter:2000]\n",
      "train loss : 2.653964, [epoch:4, iter:2100]\n",
      "train loss : 2.655315, [epoch:4, iter:2200]\n",
      "train loss : 2.655022, [epoch:4, iter:2300]\n",
      "train loss : 2.655347, [epoch:4, iter:2400]\n",
      "train loss : 2.653748, [epoch:4, iter:2500]\n",
      "TRAIN ACCURACY : 23.9% [19180/80128]\n"
     ]
    },
    {
     "name": "stderr",
     "output_type": "stream",
     "text": [
      "Train:   8%|█▉                      | 4/50 [1:13:16<14:03:08, 1099.75s/it]"
     ]
    },
    {
     "name": "stdout",
     "output_type": "stream",
     "text": [
      "TEST ACCURACY : 16.6% [2957/17824]\n",
      "...MODEL SAVE...\n",
      "\n",
      "EPOCH:4 | train loss : 2.653808493393298, test loss : 2.8868159366039228\n",
      "\n",
      "EPOCH 5 \n",
      "-------------------------\n",
      "train loss : 2.606926, [epoch:5, iter:0]\n",
      "train loss : 2.659563, [epoch:5, iter:100]\n",
      "train loss : 2.628172, [epoch:5, iter:200]\n",
      "train loss : 2.639112, [epoch:5, iter:300]\n"
     ]
    },
    {
     "name": "stderr",
     "output_type": "stream",
     "text": [
      "/home/qkrwnstj/anaconda3/envs/qkrwnstj/lib/python3.9/site-packages/PIL/TiffImagePlugin.py:858: UserWarning: Corrupt EXIF data.  Expecting to read 2 bytes but only got 0. \n",
      "  warnings.warn(str(msg))\n"
     ]
    },
    {
     "name": "stdout",
     "output_type": "stream",
     "text": [
      "train loss : 2.646576, [epoch:5, iter:400]\n",
      "train loss : 2.642244, [epoch:5, iter:500]\n",
      "train loss : 2.641706, [epoch:5, iter:600]\n",
      "train loss : 2.642609, [epoch:5, iter:700]\n",
      "train loss : 2.639729, [epoch:5, iter:800]\n",
      "train loss : 2.639532, [epoch:5, iter:900]\n",
      "train loss : 2.638577, [epoch:5, iter:1000]\n",
      "train loss : 2.638290, [epoch:5, iter:1100]\n",
      "train loss : 2.635213, [epoch:5, iter:1200]\n",
      "train loss : 2.634672, [epoch:5, iter:1300]\n",
      "train loss : 2.631331, [epoch:5, iter:1400]\n",
      "train loss : 2.631181, [epoch:5, iter:1500]\n",
      "train loss : 2.631442, [epoch:5, iter:1600]\n",
      "train loss : 2.633255, [epoch:5, iter:1700]\n",
      "train loss : 2.633139, [epoch:5, iter:1800]\n",
      "train loss : 2.633167, [epoch:5, iter:1900]\n",
      "train loss : 2.632477, [epoch:5, iter:2000]\n"
     ]
    },
    {
     "name": "stderr",
     "output_type": "stream",
     "text": [
      "/home/qkrwnstj/anaconda3/envs/qkrwnstj/lib/python3.9/site-packages/PIL/TiffImagePlugin.py:858: UserWarning: Corrupt EXIF data.  Expecting to read 2 bytes but only got 0. \n",
      "  warnings.warn(str(msg))\n"
     ]
    },
    {
     "name": "stdout",
     "output_type": "stream",
     "text": [
      "train loss : 2.632120, [epoch:5, iter:2100]\n",
      "train loss : 2.630418, [epoch:5, iter:2200]\n",
      "train loss : 2.628104, [epoch:5, iter:2300]\n",
      "train loss : 2.627585, [epoch:5, iter:2400]\n",
      "train loss : 2.626447, [epoch:5, iter:2500]\n",
      "TRAIN ACCURACY : 24.6% [19690/80128]\n"
     ]
    },
    {
     "name": "stderr",
     "output_type": "stream",
     "text": [
      "Train:  10%|██▍                     | 5/50 [1:31:34<13:44:19, 1099.10s/it]"
     ]
    },
    {
     "name": "stdout",
     "output_type": "stream",
     "text": [
      "TEST ACCURACY : 13.6% [2425/17824]\n",
      "\n",
      "EPOCH:5 | train loss : 2.6262768547946274, test loss : 3.05138484194634\n",
      "\n",
      "EPOCH 6 \n",
      "-------------------------\n",
      "train loss : 2.265801, [epoch:6, iter:0]\n",
      "train loss : 2.608009, [epoch:6, iter:100]\n"
     ]
    },
    {
     "name": "stderr",
     "output_type": "stream",
     "text": [
      "/home/qkrwnstj/anaconda3/envs/qkrwnstj/lib/python3.9/site-packages/PIL/TiffImagePlugin.py:858: UserWarning: Corrupt EXIF data.  Expecting to read 2 bytes but only got 0. \n",
      "  warnings.warn(str(msg))\n"
     ]
    },
    {
     "name": "stdout",
     "output_type": "stream",
     "text": [
      "train loss : 2.608822, [epoch:6, iter:200]\n",
      "train loss : 2.614637, [epoch:6, iter:300]\n",
      "train loss : 2.615820, [epoch:6, iter:400]\n",
      "train loss : 2.615326, [epoch:6, iter:500]\n",
      "train loss : 2.611051, [epoch:6, iter:600]\n",
      "train loss : 2.612636, [epoch:6, iter:700]\n",
      "train loss : 2.611415, [epoch:6, iter:800]\n",
      "train loss : 2.609104, [epoch:6, iter:900]\n",
      "train loss : 2.610118, [epoch:6, iter:1000]\n",
      "train loss : 2.607012, [epoch:6, iter:1100]\n",
      "train loss : 2.604435, [epoch:6, iter:1200]\n",
      "train loss : 2.602069, [epoch:6, iter:1300]\n",
      "train loss : 2.602372, [epoch:6, iter:1400]\n",
      "train loss : 2.600196, [epoch:6, iter:1500]\n",
      "train loss : 2.599545, [epoch:6, iter:1600]\n",
      "train loss : 2.599644, [epoch:6, iter:1700]\n",
      "train loss : 2.601623, [epoch:6, iter:1800]\n",
      "train loss : 2.602452, [epoch:6, iter:1900]\n",
      "train loss : 2.601907, [epoch:6, iter:2000]\n",
      "train loss : 2.601481, [epoch:6, iter:2100]\n",
      "train loss : 2.601686, [epoch:6, iter:2200]\n"
     ]
    },
    {
     "name": "stderr",
     "output_type": "stream",
     "text": [
      "/home/qkrwnstj/anaconda3/envs/qkrwnstj/lib/python3.9/site-packages/PIL/TiffImagePlugin.py:858: UserWarning: Corrupt EXIF data.  Expecting to read 2 bytes but only got 0. \n",
      "  warnings.warn(str(msg))\n"
     ]
    },
    {
     "name": "stdout",
     "output_type": "stream",
     "text": [
      "train loss : 2.601493, [epoch:6, iter:2300]\n",
      "train loss : 2.601535, [epoch:6, iter:2400]\n",
      "train loss : 2.602136, [epoch:6, iter:2500]\n",
      "TRAIN ACCURACY : 24.8% [19875/80128]\n"
     ]
    },
    {
     "name": "stderr",
     "output_type": "stream",
     "text": [
      "Train:  12%|██▉                     | 6/50 [1:50:21<13:32:48, 1108.37s/it]"
     ]
    },
    {
     "name": "stdout",
     "output_type": "stream",
     "text": [
      "TEST ACCURACY : 12.4% [2206/17824]\n",
      "\n",
      "EPOCH:6 | train loss : 2.6019828089129047, test loss : 3.2623395607330212\n",
      "\n",
      "EPOCH 7 \n",
      "-------------------------\n",
      "train loss : 2.616930, [epoch:7, iter:0]\n",
      "train loss : 2.598154, [epoch:7, iter:100]\n",
      "train loss : 2.602458, [epoch:7, iter:200]\n",
      "train loss : 2.588240, [epoch:7, iter:300]\n",
      "train loss : 2.579998, [epoch:7, iter:400]\n",
      "train loss : 2.576269, [epoch:7, iter:500]\n",
      "train loss : 2.573037, [epoch:7, iter:600]\n",
      "train loss : 2.579198, [epoch:7, iter:700]\n",
      "train loss : 2.579695, [epoch:7, iter:800]\n",
      "train loss : 2.581373, [epoch:7, iter:900]\n",
      "train loss : 2.585713, [epoch:7, iter:1000]\n"
     ]
    },
    {
     "name": "stderr",
     "output_type": "stream",
     "text": [
      "/home/qkrwnstj/anaconda3/envs/qkrwnstj/lib/python3.9/site-packages/PIL/TiffImagePlugin.py:858: UserWarning: Corrupt EXIF data.  Expecting to read 2 bytes but only got 0. \n",
      "  warnings.warn(str(msg))\n"
     ]
    },
    {
     "name": "stdout",
     "output_type": "stream",
     "text": [
      "train loss : 2.584820, [epoch:7, iter:1100]\n",
      "train loss : 2.578390, [epoch:7, iter:1200]\n",
      "train loss : 2.579920, [epoch:7, iter:1300]\n",
      "train loss : 2.580082, [epoch:7, iter:1400]\n",
      "train loss : 2.579971, [epoch:7, iter:1500]\n",
      "train loss : 2.580630, [epoch:7, iter:1600]\n",
      "train loss : 2.580778, [epoch:7, iter:1700]\n",
      "train loss : 2.580495, [epoch:7, iter:1800]\n",
      "train loss : 2.580313, [epoch:7, iter:1900]\n",
      "train loss : 2.580993, [epoch:7, iter:2000]\n",
      "train loss : 2.581479, [epoch:7, iter:2100]\n",
      "train loss : 2.579576, [epoch:7, iter:2200]\n"
     ]
    },
    {
     "name": "stderr",
     "output_type": "stream",
     "text": [
      "/home/qkrwnstj/anaconda3/envs/qkrwnstj/lib/python3.9/site-packages/PIL/TiffImagePlugin.py:858: UserWarning: Corrupt EXIF data.  Expecting to read 2 bytes but only got 0. \n",
      "  warnings.warn(str(msg))\n"
     ]
    },
    {
     "name": "stdout",
     "output_type": "stream",
     "text": [
      "train loss : 2.579921, [epoch:7, iter:2300]\n",
      "train loss : 2.579898, [epoch:7, iter:2400]\n",
      "train loss : 2.579544, [epoch:7, iter:2500]\n",
      "TRAIN ACCURACY : 25.3% [20294/80128]\n",
      "TEST ACCURACY : 17.9% [3195/17824]\n",
      "...MODEL SAVE...\n"
     ]
    },
    {
     "name": "stderr",
     "output_type": "stream",
     "text": [
      "Train:  14%|███▎                    | 7/50 [2:09:05<13:18:09, 1113.71s/it]"
     ]
    },
    {
     "name": "stdout",
     "output_type": "stream",
     "text": [
      "\n",
      "EPOCH:7 | train loss : 2.579754513292648, test loss : 2.867920398712158\n",
      "\n",
      "EPOCH 8 \n",
      "-------------------------\n",
      "train loss : 2.677861, [epoch:8, iter:0]\n",
      "train loss : 2.560779, [epoch:8, iter:100]\n",
      "train loss : 2.579472, [epoch:8, iter:200]\n"
     ]
    },
    {
     "name": "stderr",
     "output_type": "stream",
     "text": [
      "/home/qkrwnstj/anaconda3/envs/qkrwnstj/lib/python3.9/site-packages/PIL/TiffImagePlugin.py:858: UserWarning: Corrupt EXIF data.  Expecting to read 2 bytes but only got 0. \n",
      "  warnings.warn(str(msg))\n"
     ]
    },
    {
     "name": "stdout",
     "output_type": "stream",
     "text": [
      "train loss : 2.579731, [epoch:8, iter:300]\n",
      "train loss : 2.583398, [epoch:8, iter:400]\n",
      "train loss : 2.574490, [epoch:8, iter:500]\n",
      "train loss : 2.576632, [epoch:8, iter:600]\n",
      "train loss : 2.575719, [epoch:8, iter:700]\n",
      "train loss : 2.576307, [epoch:8, iter:800]\n",
      "train loss : 2.575086, [epoch:8, iter:900]\n",
      "train loss : 2.572851, [epoch:8, iter:1000]\n",
      "train loss : 2.573253, [epoch:8, iter:1100]\n"
     ]
    },
    {
     "name": "stderr",
     "output_type": "stream",
     "text": [
      "/home/qkrwnstj/anaconda3/envs/qkrwnstj/lib/python3.9/site-packages/PIL/TiffImagePlugin.py:858: UserWarning: Corrupt EXIF data.  Expecting to read 2 bytes but only got 0. \n",
      "  warnings.warn(str(msg))\n"
     ]
    },
    {
     "name": "stdout",
     "output_type": "stream",
     "text": [
      "train loss : 2.573548, [epoch:8, iter:1200]\n",
      "train loss : 2.574479, [epoch:8, iter:1300]\n",
      "train loss : 2.574953, [epoch:8, iter:1400]\n",
      "train loss : 2.575173, [epoch:8, iter:1500]\n",
      "train loss : 2.574119, [epoch:8, iter:1600]\n",
      "train loss : 2.571403, [epoch:8, iter:1700]\n",
      "train loss : 2.569811, [epoch:8, iter:1800]\n",
      "train loss : 2.570392, [epoch:8, iter:1900]\n",
      "train loss : 2.569585, [epoch:8, iter:2000]\n",
      "train loss : 2.568905, [epoch:8, iter:2100]\n",
      "train loss : 2.568827, [epoch:8, iter:2200]\n",
      "train loss : 2.569612, [epoch:8, iter:2300]\n",
      "train loss : 2.568487, [epoch:8, iter:2400]\n",
      "train loss : 2.566497, [epoch:8, iter:2500]\n",
      "TRAIN ACCURACY : 25.6% [20530/80128]\n"
     ]
    },
    {
     "name": "stderr",
     "output_type": "stream",
     "text": [
      "Train:  16%|███▊                    | 8/50 [2:28:00<13:04:20, 1120.50s/it]"
     ]
    },
    {
     "name": "stdout",
     "output_type": "stream",
     "text": [
      "TEST ACCURACY : 15.6% [2789/17824]\n",
      "\n",
      "EPOCH:8 | train loss : 2.5665774477270844, test loss : 2.916024364731684\n",
      "\n",
      "EPOCH 9 \n",
      "-------------------------\n",
      "train loss : 2.421947, [epoch:9, iter:0]\n",
      "train loss : 2.534141, [epoch:9, iter:100]\n"
     ]
    },
    {
     "name": "stderr",
     "output_type": "stream",
     "text": [
      "/home/qkrwnstj/anaconda3/envs/qkrwnstj/lib/python3.9/site-packages/PIL/TiffImagePlugin.py:858: UserWarning: Corrupt EXIF data.  Expecting to read 2 bytes but only got 0. \n",
      "  warnings.warn(str(msg))\n"
     ]
    },
    {
     "name": "stdout",
     "output_type": "stream",
     "text": [
      "train loss : 2.545724, [epoch:9, iter:200]\n",
      "train loss : 2.548119, [epoch:9, iter:300]\n",
      "train loss : 2.552565, [epoch:9, iter:400]\n",
      "train loss : 2.551617, [epoch:9, iter:500]\n",
      "train loss : 2.551126, [epoch:9, iter:600]\n",
      "train loss : 2.554543, [epoch:9, iter:700]\n",
      "train loss : 2.553958, [epoch:9, iter:800]\n",
      "train loss : 2.551682, [epoch:9, iter:900]\n",
      "train loss : 2.548028, [epoch:9, iter:1000]\n",
      "train loss : 2.547844, [epoch:9, iter:1100]\n",
      "train loss : 2.550249, [epoch:9, iter:1200]\n",
      "train loss : 2.551366, [epoch:9, iter:1300]\n",
      "train loss : 2.551559, [epoch:9, iter:1400]\n",
      "train loss : 2.553441, [epoch:9, iter:1500]\n"
     ]
    },
    {
     "name": "stderr",
     "output_type": "stream",
     "text": [
      "/home/qkrwnstj/anaconda3/envs/qkrwnstj/lib/python3.9/site-packages/PIL/TiffImagePlugin.py:858: UserWarning: Corrupt EXIF data.  Expecting to read 2 bytes but only got 0. \n",
      "  warnings.warn(str(msg))\n"
     ]
    },
    {
     "name": "stdout",
     "output_type": "stream",
     "text": [
      "train loss : 2.554216, [epoch:9, iter:1600]\n",
      "train loss : 2.555154, [epoch:9, iter:1700]\n",
      "train loss : 2.554301, [epoch:9, iter:1800]\n",
      "train loss : 2.553516, [epoch:9, iter:1900]\n",
      "train loss : 2.552546, [epoch:9, iter:2000]\n",
      "train loss : 2.551758, [epoch:9, iter:2100]\n",
      "train loss : 2.552408, [epoch:9, iter:2200]\n",
      "train loss : 2.552794, [epoch:9, iter:2300]\n",
      "train loss : 2.553894, [epoch:9, iter:2400]\n",
      "train loss : 2.553783, [epoch:9, iter:2500]\n",
      "TRAIN ACCURACY : 25.7% [20595/80128]\n",
      "TEST ACCURACY : 18.8% [3351/17824]\n",
      "...MODEL SAVE...\n"
     ]
    },
    {
     "name": "stderr",
     "output_type": "stream",
     "text": [
      "Train:  18%|████▎                   | 9/50 [2:46:37<12:44:47, 1119.22s/it]"
     ]
    },
    {
     "name": "stdout",
     "output_type": "stream",
     "text": [
      "\n",
      "EPOCH:9 | train loss : 2.553703311342782, test loss : 2.789385388526711\n",
      "\n",
      "EPOCH 10 \n",
      "-------------------------\n",
      "train loss : 2.781261, [epoch:10, iter:0]\n",
      "train loss : 2.516662, [epoch:10, iter:100]\n",
      "train loss : 2.538377, [epoch:10, iter:200]\n",
      "train loss : 2.548796, [epoch:10, iter:300]\n",
      "train loss : 2.554478, [epoch:10, iter:400]\n",
      "train loss : 2.552791, [epoch:10, iter:500]\n",
      "train loss : 2.554921, [epoch:10, iter:600]\n",
      "train loss : 2.549464, [epoch:10, iter:700]\n",
      "train loss : 2.544147, [epoch:10, iter:800]\n",
      "train loss : 2.545432, [epoch:10, iter:900]\n",
      "train loss : 2.545630, [epoch:10, iter:1000]\n",
      "train loss : 2.549456, [epoch:10, iter:1100]\n",
      "train loss : 2.551652, [epoch:10, iter:1200]\n",
      "train loss : 2.549465, [epoch:10, iter:1300]\n",
      "train loss : 2.549625, [epoch:10, iter:1400]\n",
      "train loss : 2.549129, [epoch:10, iter:1500]\n",
      "train loss : 2.549131, [epoch:10, iter:1600]\n",
      "train loss : 2.549256, [epoch:10, iter:1700]\n"
     ]
    },
    {
     "name": "stderr",
     "output_type": "stream",
     "text": [
      "/home/qkrwnstj/anaconda3/envs/qkrwnstj/lib/python3.9/site-packages/PIL/TiffImagePlugin.py:858: UserWarning: Corrupt EXIF data.  Expecting to read 2 bytes but only got 0. \n",
      "  warnings.warn(str(msg))\n"
     ]
    },
    {
     "name": "stdout",
     "output_type": "stream",
     "text": [
      "train loss : 2.545656, [epoch:10, iter:1800]\n",
      "train loss : 2.545255, [epoch:10, iter:1900]\n",
      "train loss : 2.547163, [epoch:10, iter:2000]\n"
     ]
    },
    {
     "name": "stderr",
     "output_type": "stream",
     "text": [
      "/home/qkrwnstj/anaconda3/envs/qkrwnstj/lib/python3.9/site-packages/PIL/TiffImagePlugin.py:858: UserWarning: Corrupt EXIF data.  Expecting to read 2 bytes but only got 0. \n",
      "  warnings.warn(str(msg))\n"
     ]
    },
    {
     "name": "stdout",
     "output_type": "stream",
     "text": [
      "train loss : 2.545566, [epoch:10, iter:2100]\n",
      "train loss : 2.545368, [epoch:10, iter:2200]\n",
      "train loss : 2.545828, [epoch:10, iter:2300]\n",
      "train loss : 2.547583, [epoch:10, iter:2400]\n",
      "train loss : 2.546876, [epoch:10, iter:2500]\n",
      "TRAIN ACCURACY : 25.8% [20710/80128]\n"
     ]
    },
    {
     "name": "stderr",
     "output_type": "stream",
     "text": [
      "Train:  20%|████▌                  | 10/50 [3:05:13<12:25:31, 1118.29s/it]"
     ]
    },
    {
     "name": "stdout",
     "output_type": "stream",
     "text": [
      "TEST ACCURACY : 18.7% [3338/17824]\n",
      "\n",
      "EPOCH:10 | train loss : 2.5467856641109, test loss : 2.800209192656101\n",
      "\n",
      "EPOCH 11 \n",
      "-------------------------\n",
      "train loss : 2.696091, [epoch:11, iter:0]\n",
      "train loss : 2.539860, [epoch:11, iter:100]\n",
      "train loss : 2.516514, [epoch:11, iter:200]\n",
      "train loss : 2.520135, [epoch:11, iter:300]\n",
      "train loss : 2.510281, [epoch:11, iter:400]\n",
      "train loss : 2.519377, [epoch:11, iter:500]\n",
      "train loss : 2.521482, [epoch:11, iter:600]\n",
      "train loss : 2.525758, [epoch:11, iter:700]\n",
      "train loss : 2.525854, [epoch:11, iter:800]\n",
      "train loss : 2.524869, [epoch:11, iter:900]\n",
      "train loss : 2.527223, [epoch:11, iter:1000]\n",
      "train loss : 2.529557, [epoch:11, iter:1100]\n",
      "train loss : 2.531417, [epoch:11, iter:1200]\n",
      "train loss : 2.535744, [epoch:11, iter:1300]\n",
      "train loss : 2.537425, [epoch:11, iter:1400]\n",
      "train loss : 2.536634, [epoch:11, iter:1500]\n"
     ]
    },
    {
     "name": "stderr",
     "output_type": "stream",
     "text": [
      "/home/qkrwnstj/anaconda3/envs/qkrwnstj/lib/python3.9/site-packages/PIL/TiffImagePlugin.py:858: UserWarning: Corrupt EXIF data.  Expecting to read 2 bytes but only got 0. \n",
      "  warnings.warn(str(msg))\n"
     ]
    },
    {
     "name": "stdout",
     "output_type": "stream",
     "text": [
      "train loss : 2.535833, [epoch:11, iter:1600]\n",
      "train loss : 2.536888, [epoch:11, iter:1700]\n",
      "train loss : 2.535901, [epoch:11, iter:1800]\n",
      "train loss : 2.534768, [epoch:11, iter:1900]\n",
      "train loss : 2.533073, [epoch:11, iter:2000]\n",
      "train loss : 2.532898, [epoch:11, iter:2100]\n",
      "train loss : 2.531685, [epoch:11, iter:2200]\n",
      "train loss : 2.530902, [epoch:11, iter:2300]\n"
     ]
    },
    {
     "name": "stderr",
     "output_type": "stream",
     "text": [
      "/home/qkrwnstj/anaconda3/envs/qkrwnstj/lib/python3.9/site-packages/PIL/TiffImagePlugin.py:858: UserWarning: Corrupt EXIF data.  Expecting to read 2 bytes but only got 0. \n",
      "  warnings.warn(str(msg))\n"
     ]
    },
    {
     "name": "stdout",
     "output_type": "stream",
     "text": [
      "train loss : 2.531071, [epoch:11, iter:2400]\n",
      "train loss : 2.530994, [epoch:11, iter:2500]\n",
      "TRAIN ACCURACY : 26.2% [21011/80128]\n"
     ]
    },
    {
     "name": "stderr",
     "output_type": "stream",
     "text": [
      "Train:  22%|█████                  | 11/50 [3:24:06<12:09:43, 1122.66s/it]"
     ]
    },
    {
     "name": "stdout",
     "output_type": "stream",
     "text": [
      "TEST ACCURACY : 15.5% [2759/17824]\n",
      "\n",
      "EPOCH:11 | train loss : 2.5309635282705387, test loss : 2.9937027767701894\n",
      "\n",
      "EPOCH 12 \n",
      "-------------------------\n",
      "train loss : 2.484035, [epoch:12, iter:0]\n",
      "train loss : 2.546968, [epoch:12, iter:100]\n",
      "train loss : 2.544140, [epoch:12, iter:200]\n",
      "train loss : 2.544882, [epoch:12, iter:300]\n",
      "train loss : 2.538908, [epoch:12, iter:400]\n",
      "train loss : 2.538875, [epoch:12, iter:500]\n"
     ]
    },
    {
     "name": "stderr",
     "output_type": "stream",
     "text": [
      "/home/qkrwnstj/anaconda3/envs/qkrwnstj/lib/python3.9/site-packages/PIL/TiffImagePlugin.py:858: UserWarning: Corrupt EXIF data.  Expecting to read 2 bytes but only got 0. \n",
      "  warnings.warn(str(msg))\n"
     ]
    },
    {
     "name": "stdout",
     "output_type": "stream",
     "text": [
      "train loss : 2.535220, [epoch:12, iter:600]\n",
      "train loss : 2.531269, [epoch:12, iter:700]\n",
      "train loss : 2.530451, [epoch:12, iter:800]\n",
      "train loss : 2.532498, [epoch:12, iter:900]\n",
      "train loss : 2.530287, [epoch:12, iter:1000]\n",
      "train loss : 2.529805, [epoch:12, iter:1100]\n",
      "train loss : 2.532066, [epoch:12, iter:1200]\n",
      "train loss : 2.534405, [epoch:12, iter:1300]\n",
      "train loss : 2.534284, [epoch:12, iter:1400]\n",
      "train loss : 2.535232, [epoch:12, iter:1500]\n",
      "train loss : 2.535214, [epoch:12, iter:1600]\n",
      "train loss : 2.535271, [epoch:12, iter:1700]\n",
      "train loss : 2.535806, [epoch:12, iter:1800]\n",
      "train loss : 2.534457, [epoch:12, iter:1900]\n"
     ]
    },
    {
     "name": "stderr",
     "output_type": "stream",
     "text": [
      "/home/qkrwnstj/anaconda3/envs/qkrwnstj/lib/python3.9/site-packages/PIL/TiffImagePlugin.py:858: UserWarning: Corrupt EXIF data.  Expecting to read 2 bytes but only got 0. \n",
      "  warnings.warn(str(msg))\n"
     ]
    },
    {
     "name": "stdout",
     "output_type": "stream",
     "text": [
      "train loss : 2.536558, [epoch:12, iter:2000]\n",
      "train loss : 2.536099, [epoch:12, iter:2100]\n",
      "train loss : 2.535879, [epoch:12, iter:2200]\n",
      "train loss : 2.534890, [epoch:12, iter:2300]\n",
      "train loss : 2.534294, [epoch:12, iter:2400]\n",
      "train loss : 2.531109, [epoch:12, iter:2500]\n",
      "TRAIN ACCURACY : 26.2% [20995/80128]\n"
     ]
    },
    {
     "name": "stderr",
     "output_type": "stream",
     "text": [
      "Train:  24%|█████▌                 | 12/50 [3:42:42<11:49:43, 1120.63s/it]"
     ]
    },
    {
     "name": "stdout",
     "output_type": "stream",
     "text": [
      "TEST ACCURACY : 17.9% [3199/17824]\n",
      "\n",
      "EPOCH:12 | train loss : 2.5311353711274487, test loss : 2.909353242100248\n",
      "\n",
      "EPOCH 13 \n",
      "-------------------------\n"
     ]
    },
    {
     "name": "stderr",
     "output_type": "stream",
     "text": [
      "/home/qkrwnstj/anaconda3/envs/qkrwnstj/lib/python3.9/site-packages/PIL/TiffImagePlugin.py:858: UserWarning: Corrupt EXIF data.  Expecting to read 2 bytes but only got 0. \n",
      "  warnings.warn(str(msg))\n",
      "/home/qkrwnstj/anaconda3/envs/qkrwnstj/lib/python3.9/site-packages/PIL/TiffImagePlugin.py:858: UserWarning: Corrupt EXIF data.  Expecting to read 2 bytes but only got 0. \n",
      "  warnings.warn(str(msg))\n"
     ]
    },
    {
     "name": "stdout",
     "output_type": "stream",
     "text": [
      "train loss : 2.283038, [epoch:13, iter:0]\n",
      "train loss : 2.475875, [epoch:13, iter:100]\n",
      "train loss : 2.498462, [epoch:13, iter:200]\n",
      "train loss : 2.506403, [epoch:13, iter:300]\n",
      "train loss : 2.511743, [epoch:13, iter:400]\n",
      "train loss : 2.516603, [epoch:13, iter:500]\n",
      "train loss : 2.522812, [epoch:13, iter:600]\n",
      "train loss : 2.530393, [epoch:13, iter:700]\n",
      "train loss : 2.524096, [epoch:13, iter:800]\n",
      "train loss : 2.525948, [epoch:13, iter:900]\n",
      "train loss : 2.524180, [epoch:13, iter:1000]\n",
      "train loss : 2.525260, [epoch:13, iter:1100]\n",
      "train loss : 2.524235, [epoch:13, iter:1200]\n",
      "train loss : 2.524414, [epoch:13, iter:1300]\n",
      "train loss : 2.522912, [epoch:13, iter:1400]\n",
      "train loss : 2.523632, [epoch:13, iter:1500]\n",
      "train loss : 2.521926, [epoch:13, iter:1600]\n",
      "train loss : 2.522091, [epoch:13, iter:1700]\n",
      "train loss : 2.523061, [epoch:13, iter:1800]\n",
      "train loss : 2.522715, [epoch:13, iter:1900]\n",
      "train loss : 2.522164, [epoch:13, iter:2000]\n",
      "train loss : 2.524171, [epoch:13, iter:2100]\n",
      "train loss : 2.524933, [epoch:13, iter:2200]\n",
      "train loss : 2.527061, [epoch:13, iter:2300]\n",
      "train loss : 2.526283, [epoch:13, iter:2400]\n",
      "train loss : 2.526175, [epoch:13, iter:2500]\n",
      "TRAIN ACCURACY : 26.1% [20894/80128]\n"
     ]
    },
    {
     "name": "stderr",
     "output_type": "stream",
     "text": [
      "Train:  26%|█████▉                 | 13/50 [4:01:17<11:30:09, 1119.18s/it]"
     ]
    },
    {
     "name": "stdout",
     "output_type": "stream",
     "text": [
      "TEST ACCURACY : 16.5% [2946/17824]\n",
      "\n",
      "EPOCH:13 | train loss : 2.5259794863744283, test loss : 2.8817053050926384\n",
      "\n",
      "EPOCH 14 \n",
      "-------------------------\n",
      "train loss : 2.283331, [epoch:14, iter:0]\n",
      "train loss : 2.537252, [epoch:14, iter:100]\n",
      "train loss : 2.539981, [epoch:14, iter:200]\n",
      "train loss : 2.524551, [epoch:14, iter:300]\n",
      "train loss : 2.527598, [epoch:14, iter:400]\n",
      "train loss : 2.524510, [epoch:14, iter:500]\n",
      "train loss : 2.518284, [epoch:14, iter:600]\n",
      "train loss : 2.519327, [epoch:14, iter:700]\n",
      "train loss : 2.517107, [epoch:14, iter:800]\n",
      "train loss : 2.519605, [epoch:14, iter:900]\n",
      "train loss : 2.528391, [epoch:14, iter:1000]\n",
      "train loss : 2.527955, [epoch:14, iter:1100]\n",
      "train loss : 2.526721, [epoch:14, iter:1200]\n",
      "train loss : 2.526048, [epoch:14, iter:1300]\n",
      "train loss : 2.524514, [epoch:14, iter:1400]\n",
      "train loss : 2.521990, [epoch:14, iter:1500]\n"
     ]
    },
    {
     "name": "stderr",
     "output_type": "stream",
     "text": [
      "/home/qkrwnstj/anaconda3/envs/qkrwnstj/lib/python3.9/site-packages/PIL/TiffImagePlugin.py:858: UserWarning: Corrupt EXIF data.  Expecting to read 2 bytes but only got 0. \n",
      "  warnings.warn(str(msg))\n"
     ]
    },
    {
     "name": "stdout",
     "output_type": "stream",
     "text": [
      "train loss : 2.523999, [epoch:14, iter:1600]\n",
      "train loss : 2.522398, [epoch:14, iter:1700]\n",
      "train loss : 2.524116, [epoch:14, iter:1800]\n",
      "train loss : 2.524091, [epoch:14, iter:1900]\n",
      "train loss : 2.524590, [epoch:14, iter:2000]\n",
      "train loss : 2.524840, [epoch:14, iter:2100]\n",
      "train loss : 2.524537, [epoch:14, iter:2200]\n"
     ]
    },
    {
     "name": "stderr",
     "output_type": "stream",
     "text": [
      "/home/qkrwnstj/anaconda3/envs/qkrwnstj/lib/python3.9/site-packages/PIL/TiffImagePlugin.py:858: UserWarning: Corrupt EXIF data.  Expecting to read 2 bytes but only got 0. \n",
      "  warnings.warn(str(msg))\n"
     ]
    },
    {
     "name": "stdout",
     "output_type": "stream",
     "text": [
      "train loss : 2.522850, [epoch:14, iter:2300]\n",
      "train loss : 2.521292, [epoch:14, iter:2400]\n",
      "train loss : 2.519466, [epoch:14, iter:2500]\n",
      "TRAIN ACCURACY : 26.3% [21087/80128]\n"
     ]
    },
    {
     "name": "stderr",
     "output_type": "stream",
     "text": [
      "Train:  28%|██████▍                | 14/50 [4:19:50<11:10:22, 1117.30s/it]"
     ]
    },
    {
     "name": "stdout",
     "output_type": "stream",
     "text": [
      "TEST ACCURACY : 13.9% [2476/17824]\n",
      "\n",
      "EPOCH:14 | train loss : 2.5196356690539337, test loss : 3.1205130642149563\n",
      "\n",
      "EPOCH 15 \n",
      "-------------------------\n",
      "train loss : 2.291458, [epoch:15, iter:0]\n",
      "train loss : 2.522991, [epoch:15, iter:100]\n",
      "train loss : 2.522819, [epoch:15, iter:200]\n",
      "train loss : 2.515674, [epoch:15, iter:300]\n",
      "train loss : 2.520105, [epoch:15, iter:400]\n",
      "train loss : 2.521150, [epoch:15, iter:500]\n"
     ]
    },
    {
     "name": "stderr",
     "output_type": "stream",
     "text": [
      "/home/qkrwnstj/anaconda3/envs/qkrwnstj/lib/python3.9/site-packages/PIL/TiffImagePlugin.py:858: UserWarning: Corrupt EXIF data.  Expecting to read 2 bytes but only got 0. \n",
      "  warnings.warn(str(msg))\n"
     ]
    },
    {
     "name": "stdout",
     "output_type": "stream",
     "text": [
      "train loss : 2.519235, [epoch:15, iter:600]\n",
      "train loss : 2.522435, [epoch:15, iter:700]\n",
      "train loss : 2.518536, [epoch:15, iter:800]\n",
      "train loss : 2.518232, [epoch:15, iter:900]\n",
      "train loss : 2.522088, [epoch:15, iter:1000]\n",
      "train loss : 2.522812, [epoch:15, iter:1100]\n",
      "train loss : 2.520373, [epoch:15, iter:1200]\n",
      "train loss : 2.518786, [epoch:15, iter:1300]\n",
      "train loss : 2.519040, [epoch:15, iter:1400]\n",
      "train loss : 2.518971, [epoch:15, iter:1500]\n",
      "train loss : 2.518519, [epoch:15, iter:1600]\n",
      "train loss : 2.519981, [epoch:15, iter:1700]\n",
      "train loss : 2.520132, [epoch:15, iter:1800]\n",
      "train loss : 2.518401, [epoch:15, iter:1900]\n"
     ]
    },
    {
     "name": "stderr",
     "output_type": "stream",
     "text": [
      "/home/qkrwnstj/anaconda3/envs/qkrwnstj/lib/python3.9/site-packages/PIL/TiffImagePlugin.py:858: UserWarning: Corrupt EXIF data.  Expecting to read 2 bytes but only got 0. \n",
      "  warnings.warn(str(msg))\n"
     ]
    },
    {
     "name": "stdout",
     "output_type": "stream",
     "text": [
      "train loss : 2.517873, [epoch:15, iter:2000]\n",
      "train loss : 2.519242, [epoch:15, iter:2100]\n",
      "train loss : 2.519377, [epoch:15, iter:2200]\n",
      "train loss : 2.518630, [epoch:15, iter:2300]\n",
      "train loss : 2.519154, [epoch:15, iter:2400]\n",
      "train loss : 2.519207, [epoch:15, iter:2500]\n",
      "TRAIN ACCURACY : 26.4% [21153/80128]\n"
     ]
    },
    {
     "name": "stderr",
     "output_type": "stream",
     "text": [
      "Train:  30%|██████▉                | 15/50 [4:38:34<10:52:56, 1119.32s/it]"
     ]
    },
    {
     "name": "stdout",
     "output_type": "stream",
     "text": [
      "TEST ACCURACY : 17.8% [3176/17824]\n",
      "\n",
      "EPOCH:15 | train loss : 2.519240224561371, test loss : 2.823379127084674\n",
      "\n",
      "EPOCH 16 \n",
      "-------------------------\n",
      "train loss : 2.559406, [epoch:16, iter:0]\n",
      "train loss : 2.540244, [epoch:16, iter:100]\n",
      "train loss : 2.525252, [epoch:16, iter:200]\n",
      "train loss : 2.519814, [epoch:16, iter:300]\n",
      "train loss : 2.511757, [epoch:16, iter:400]\n",
      "train loss : 2.512555, [epoch:16, iter:500]\n",
      "train loss : 2.514850, [epoch:16, iter:600]\n",
      "train loss : 2.513182, [epoch:16, iter:700]\n",
      "train loss : 2.516380, [epoch:16, iter:800]\n",
      "train loss : 2.513587, [epoch:16, iter:900]\n",
      "train loss : 2.512809, [epoch:16, iter:1000]\n",
      "train loss : 2.512301, [epoch:16, iter:1100]\n",
      "train loss : 2.513041, [epoch:16, iter:1200]\n",
      "train loss : 2.511823, [epoch:16, iter:1300]\n",
      "train loss : 2.511221, [epoch:16, iter:1400]\n",
      "train loss : 2.514392, [epoch:16, iter:1500]\n",
      "train loss : 2.513402, [epoch:16, iter:1600]\n",
      "train loss : 2.513256, [epoch:16, iter:1700]\n"
     ]
    },
    {
     "name": "stderr",
     "output_type": "stream",
     "text": [
      "/home/qkrwnstj/anaconda3/envs/qkrwnstj/lib/python3.9/site-packages/PIL/TiffImagePlugin.py:858: UserWarning: Corrupt EXIF data.  Expecting to read 2 bytes but only got 0. \n",
      "  warnings.warn(str(msg))\n"
     ]
    },
    {
     "name": "stdout",
     "output_type": "stream",
     "text": [
      "train loss : 2.511765, [epoch:16, iter:1800]\n",
      "train loss : 2.511273, [epoch:16, iter:1900]\n",
      "train loss : 2.512629, [epoch:16, iter:2000]\n"
     ]
    },
    {
     "name": "stderr",
     "output_type": "stream",
     "text": [
      "/home/qkrwnstj/anaconda3/envs/qkrwnstj/lib/python3.9/site-packages/PIL/TiffImagePlugin.py:858: UserWarning: Corrupt EXIF data.  Expecting to read 2 bytes but only got 0. \n",
      "  warnings.warn(str(msg))\n"
     ]
    },
    {
     "name": "stdout",
     "output_type": "stream",
     "text": [
      "train loss : 2.513538, [epoch:16, iter:2100]\n",
      "train loss : 2.515508, [epoch:16, iter:2200]\n",
      "train loss : 2.517341, [epoch:16, iter:2300]\n",
      "train loss : 2.516143, [epoch:16, iter:2400]\n",
      "train loss : 2.514568, [epoch:16, iter:2500]\n",
      "TRAIN ACCURACY : 26.4% [21115/80128]\n"
     ]
    },
    {
     "name": "stderr",
     "output_type": "stream",
     "text": [
      "Train:  32%|███████▎               | 16/50 [4:57:04<10:32:40, 1116.48s/it]"
     ]
    },
    {
     "name": "stdout",
     "output_type": "stream",
     "text": [
      "TEST ACCURACY : 15.9% [2827/17824]\n",
      "\n",
      "EPOCH:16 | train loss : 2.5145981858808772, test loss : 3.1278814216490494\n",
      "\n",
      "EPOCH 17 \n",
      "-------------------------\n",
      "train loss : 2.495988, [epoch:17, iter:0]\n",
      "train loss : 2.545783, [epoch:17, iter:100]\n"
     ]
    },
    {
     "name": "stderr",
     "output_type": "stream",
     "text": [
      "/home/qkrwnstj/anaconda3/envs/qkrwnstj/lib/python3.9/site-packages/PIL/TiffImagePlugin.py:858: UserWarning: Corrupt EXIF data.  Expecting to read 2 bytes but only got 0. \n",
      "  warnings.warn(str(msg))\n"
     ]
    },
    {
     "name": "stdout",
     "output_type": "stream",
     "text": [
      "train loss : 2.554849, [epoch:17, iter:200]\n",
      "train loss : 2.528040, [epoch:17, iter:300]\n",
      "train loss : 2.528173, [epoch:17, iter:400]\n",
      "train loss : 2.530151, [epoch:17, iter:500]\n",
      "train loss : 2.527919, [epoch:17, iter:600]\n",
      "train loss : 2.528357, [epoch:17, iter:700]\n",
      "train loss : 2.528327, [epoch:17, iter:800]\n",
      "train loss : 2.528419, [epoch:17, iter:900]\n",
      "train loss : 2.526590, [epoch:17, iter:1000]\n",
      "train loss : 2.523703, [epoch:17, iter:1100]\n",
      "train loss : 2.524374, [epoch:17, iter:1200]\n",
      "train loss : 2.523161, [epoch:17, iter:1300]\n",
      "train loss : 2.521118, [epoch:17, iter:1400]\n",
      "train loss : 2.519939, [epoch:17, iter:1500]\n",
      "train loss : 2.518692, [epoch:17, iter:1600]\n",
      "train loss : 2.518329, [epoch:17, iter:1700]\n",
      "train loss : 2.516737, [epoch:17, iter:1800]\n",
      "train loss : 2.518243, [epoch:17, iter:1900]\n",
      "train loss : 2.517494, [epoch:17, iter:2000]\n",
      "train loss : 2.515285, [epoch:17, iter:2100]\n",
      "train loss : 2.515055, [epoch:17, iter:2200]\n"
     ]
    },
    {
     "name": "stderr",
     "output_type": "stream",
     "text": [
      "/home/qkrwnstj/anaconda3/envs/qkrwnstj/lib/python3.9/site-packages/PIL/TiffImagePlugin.py:858: UserWarning: Corrupt EXIF data.  Expecting to read 2 bytes but only got 0. \n",
      "  warnings.warn(str(msg))\n"
     ]
    },
    {
     "name": "stdout",
     "output_type": "stream",
     "text": [
      "train loss : 2.514945, [epoch:17, iter:2300]\n",
      "train loss : 2.515019, [epoch:17, iter:2400]\n",
      "train loss : 2.514537, [epoch:17, iter:2500]\n",
      "TRAIN ACCURACY : 26.6% [21308/80128]\n"
     ]
    },
    {
     "name": "stderr",
     "output_type": "stream",
     "text": [
      "Train:  34%|███████▊               | 17/50 [5:15:49<10:15:26, 1119.00s/it]"
     ]
    },
    {
     "name": "stdout",
     "output_type": "stream",
     "text": [
      "TEST ACCURACY : 17.8% [3179/17824]\n",
      "\n",
      "EPOCH:17 | train loss : 2.514320568773693, test loss : 2.840702241370237\n",
      "\n",
      "EPOCH 18 \n",
      "-------------------------\n",
      "train loss : 2.510569, [epoch:18, iter:0]\n",
      "train loss : 2.515863, [epoch:18, iter:100]\n",
      "train loss : 2.509321, [epoch:18, iter:200]\n",
      "train loss : 2.498557, [epoch:18, iter:300]\n",
      "train loss : 2.507978, [epoch:18, iter:400]\n",
      "train loss : 2.503401, [epoch:18, iter:500]\n",
      "train loss : 2.500732, [epoch:18, iter:600]\n",
      "train loss : 2.503489, [epoch:18, iter:700]\n"
     ]
    },
    {
     "name": "stderr",
     "output_type": "stream",
     "text": [
      "/home/qkrwnstj/anaconda3/envs/qkrwnstj/lib/python3.9/site-packages/PIL/TiffImagePlugin.py:858: UserWarning: Corrupt EXIF data.  Expecting to read 2 bytes but only got 0. \n",
      "  warnings.warn(str(msg))\n"
     ]
    },
    {
     "name": "stdout",
     "output_type": "stream",
     "text": [
      "train loss : 2.507862, [epoch:18, iter:800]\n",
      "train loss : 2.505108, [epoch:18, iter:900]\n",
      "train loss : 2.505729, [epoch:18, iter:1000]\n",
      "train loss : 2.502513, [epoch:18, iter:1100]\n",
      "train loss : 2.503143, [epoch:18, iter:1200]\n",
      "train loss : 2.501347, [epoch:18, iter:1300]\n",
      "train loss : 2.501125, [epoch:18, iter:1400]\n",
      "train loss : 2.504020, [epoch:18, iter:1500]\n",
      "train loss : 2.504303, [epoch:18, iter:1600]\n",
      "train loss : 2.503441, [epoch:18, iter:1700]\n"
     ]
    },
    {
     "name": "stderr",
     "output_type": "stream",
     "text": [
      "/home/qkrwnstj/anaconda3/envs/qkrwnstj/lib/python3.9/site-packages/PIL/TiffImagePlugin.py:858: UserWarning: Corrupt EXIF data.  Expecting to read 2 bytes but only got 0. \n",
      "  warnings.warn(str(msg))\n"
     ]
    },
    {
     "name": "stdout",
     "output_type": "stream",
     "text": [
      "train loss : 2.502149, [epoch:18, iter:1800]\n",
      "train loss : 2.502114, [epoch:18, iter:1900]\n",
      "train loss : 2.503424, [epoch:18, iter:2000]\n",
      "train loss : 2.503114, [epoch:18, iter:2100]\n",
      "train loss : 2.503065, [epoch:18, iter:2200]\n",
      "train loss : 2.504661, [epoch:18, iter:2300]\n",
      "train loss : 2.504947, [epoch:18, iter:2400]\n",
      "train loss : 2.505421, [epoch:18, iter:2500]\n",
      "TRAIN ACCURACY : 26.7% [21374/80128]\n"
     ]
    },
    {
     "name": "stderr",
     "output_type": "stream",
     "text": [
      "Train:  36%|████████▋               | 18/50 [5:34:22<9:55:53, 1117.28s/it]"
     ]
    },
    {
     "name": "stdout",
     "output_type": "stream",
     "text": [
      "TEST ACCURACY : 17.7% [3158/17824]\n",
      "\n",
      "EPOCH:18 | train loss : 2.505389951383725, test loss : 2.790195508319985\n",
      "\n",
      "EPOCH 19 \n",
      "-------------------------\n",
      "train loss : 2.468563, [epoch:19, iter:0]\n",
      "train loss : 2.519846, [epoch:19, iter:100]\n",
      "train loss : 2.497825, [epoch:19, iter:200]\n",
      "train loss : 2.503101, [epoch:19, iter:300]\n"
     ]
    },
    {
     "name": "stderr",
     "output_type": "stream",
     "text": [
      "/home/qkrwnstj/anaconda3/envs/qkrwnstj/lib/python3.9/site-packages/PIL/TiffImagePlugin.py:858: UserWarning: Corrupt EXIF data.  Expecting to read 2 bytes but only got 0. \n",
      "  warnings.warn(str(msg))\n",
      "/home/qkrwnstj/anaconda3/envs/qkrwnstj/lib/python3.9/site-packages/PIL/TiffImagePlugin.py:858: UserWarning: Corrupt EXIF data.  Expecting to read 2 bytes but only got 0. \n",
      "  warnings.warn(str(msg))\n"
     ]
    },
    {
     "name": "stdout",
     "output_type": "stream",
     "text": [
      "train loss : 2.509542, [epoch:19, iter:400]\n",
      "train loss : 2.506642, [epoch:19, iter:500]\n",
      "train loss : 2.509706, [epoch:19, iter:600]\n",
      "train loss : 2.511281, [epoch:19, iter:700]\n",
      "train loss : 2.510726, [epoch:19, iter:800]\n",
      "train loss : 2.506515, [epoch:19, iter:900]\n",
      "train loss : 2.506983, [epoch:19, iter:1000]\n",
      "train loss : 2.503395, [epoch:19, iter:1100]\n",
      "train loss : 2.500731, [epoch:19, iter:1200]\n",
      "train loss : 2.500680, [epoch:19, iter:1300]\n",
      "train loss : 2.503605, [epoch:19, iter:1400]\n",
      "train loss : 2.504691, [epoch:19, iter:1500]\n",
      "train loss : 2.504645, [epoch:19, iter:1600]\n",
      "train loss : 2.505301, [epoch:19, iter:1700]\n",
      "train loss : 2.504915, [epoch:19, iter:1800]\n",
      "train loss : 2.505871, [epoch:19, iter:1900]\n",
      "train loss : 2.506151, [epoch:19, iter:2000]\n",
      "train loss : 2.503049, [epoch:19, iter:2100]\n",
      "train loss : 2.504411, [epoch:19, iter:2200]\n",
      "train loss : 2.504321, [epoch:19, iter:2300]\n",
      "train loss : 2.503258, [epoch:19, iter:2400]\n",
      "train loss : 2.501739, [epoch:19, iter:2500]\n",
      "TRAIN ACCURACY : 26.8% [21500/80128]\n"
     ]
    },
    {
     "name": "stderr",
     "output_type": "stream",
     "text": [
      "Train:  38%|█████████               | 19/50 [5:53:02<9:37:38, 1118.00s/it]"
     ]
    },
    {
     "name": "stdout",
     "output_type": "stream",
     "text": [
      "TEST ACCURACY : 18.6% [3319/17824]\n",
      "\n",
      "EPOCH:19 | train loss : 2.5017483079681, test loss : 2.7952294978889998\n",
      "\n",
      "EPOCH 20 \n",
      "-------------------------\n",
      "train loss : 2.701732, [epoch:20, iter:0]\n",
      "train loss : 2.470942, [epoch:20, iter:100]\n",
      "train loss : 2.466795, [epoch:20, iter:200]\n"
     ]
    },
    {
     "name": "stderr",
     "output_type": "stream",
     "text": [
      "/home/qkrwnstj/anaconda3/envs/qkrwnstj/lib/python3.9/site-packages/PIL/TiffImagePlugin.py:858: UserWarning: Corrupt EXIF data.  Expecting to read 2 bytes but only got 0. \n",
      "  warnings.warn(str(msg))\n"
     ]
    },
    {
     "name": "stdout",
     "output_type": "stream",
     "text": [
      "train loss : 2.479171, [epoch:20, iter:300]\n",
      "train loss : 2.482922, [epoch:20, iter:400]\n",
      "train loss : 2.493945, [epoch:20, iter:500]\n",
      "train loss : 2.493378, [epoch:20, iter:600]\n",
      "train loss : 2.487955, [epoch:20, iter:700]\n",
      "train loss : 2.490585, [epoch:20, iter:800]\n",
      "train loss : 2.488882, [epoch:20, iter:900]\n",
      "train loss : 2.492750, [epoch:20, iter:1000]\n",
      "train loss : 2.494302, [epoch:20, iter:1100]\n",
      "train loss : 2.495554, [epoch:20, iter:1200]\n",
      "train loss : 2.495404, [epoch:20, iter:1300]\n",
      "train loss : 2.495048, [epoch:20, iter:1400]\n",
      "train loss : 2.494262, [epoch:20, iter:1500]\n"
     ]
    },
    {
     "name": "stderr",
     "output_type": "stream",
     "text": [
      "/home/qkrwnstj/anaconda3/envs/qkrwnstj/lib/python3.9/site-packages/PIL/TiffImagePlugin.py:858: UserWarning: Corrupt EXIF data.  Expecting to read 2 bytes but only got 0. \n",
      "  warnings.warn(str(msg))\n"
     ]
    },
    {
     "name": "stdout",
     "output_type": "stream",
     "text": [
      "train loss : 2.494412, [epoch:20, iter:1600]\n",
      "train loss : 2.496620, [epoch:20, iter:1700]\n",
      "train loss : 2.498222, [epoch:20, iter:1800]\n",
      "train loss : 2.496908, [epoch:20, iter:1900]\n",
      "train loss : 2.496866, [epoch:20, iter:2000]\n",
      "train loss : 2.495874, [epoch:20, iter:2100]\n",
      "train loss : 2.495025, [epoch:20, iter:2200]\n",
      "train loss : 2.495721, [epoch:20, iter:2300]\n",
      "train loss : 2.496269, [epoch:20, iter:2400]\n",
      "train loss : 2.498233, [epoch:20, iter:2500]\n",
      "TRAIN ACCURACY : 27.0% [21612/80128]\n"
     ]
    },
    {
     "name": "stderr",
     "output_type": "stream",
     "text": [
      "Train:  40%|█████████▌              | 20/50 [6:11:33<9:17:58, 1115.97s/it]"
     ]
    },
    {
     "name": "stdout",
     "output_type": "stream",
     "text": [
      "TEST ACCURACY : 15.4% [2738/17824]\n",
      "\n",
      "EPOCH:20 | train loss : 2.498142000109243, test loss : 3.092600625122043\n",
      "\n",
      "EPOCH 21 \n",
      "-------------------------\n",
      "train loss : 2.477663, [epoch:21, iter:0]\n",
      "train loss : 2.478900, [epoch:21, iter:100]\n",
      "train loss : 2.479481, [epoch:21, iter:200]\n",
      "train loss : 2.493559, [epoch:21, iter:300]\n",
      "train loss : 2.490768, [epoch:21, iter:400]\n",
      "train loss : 2.496894, [epoch:21, iter:500]\n",
      "train loss : 2.500501, [epoch:21, iter:600]\n",
      "train loss : 2.500323, [epoch:21, iter:700]\n",
      "train loss : 2.498716, [epoch:21, iter:800]\n",
      "train loss : 2.498517, [epoch:21, iter:900]\n",
      "train loss : 2.500432, [epoch:21, iter:1000]\n",
      "train loss : 2.500939, [epoch:21, iter:1100]\n",
      "train loss : 2.499590, [epoch:21, iter:1200]\n"
     ]
    },
    {
     "name": "stderr",
     "output_type": "stream",
     "text": [
      "/home/qkrwnstj/anaconda3/envs/qkrwnstj/lib/python3.9/site-packages/PIL/TiffImagePlugin.py:858: UserWarning: Corrupt EXIF data.  Expecting to read 2 bytes but only got 0. \n",
      "  warnings.warn(str(msg))\n"
     ]
    },
    {
     "name": "stdout",
     "output_type": "stream",
     "text": [
      "train loss : 2.497101, [epoch:21, iter:1300]\n",
      "train loss : 2.496834, [epoch:21, iter:1400]\n",
      "train loss : 2.494682, [epoch:21, iter:1500]\n",
      "train loss : 2.493787, [epoch:21, iter:1600]\n",
      "train loss : 2.493621, [epoch:21, iter:1700]\n",
      "train loss : 2.495423, [epoch:21, iter:1800]\n",
      "train loss : 2.498494, [epoch:21, iter:1900]\n",
      "train loss : 2.499346, [epoch:21, iter:2000]\n",
      "train loss : 2.498698, [epoch:21, iter:2100]\n",
      "train loss : 2.496731, [epoch:21, iter:2200]\n",
      "train loss : 2.494498, [epoch:21, iter:2300]\n",
      "train loss : 2.495682, [epoch:21, iter:2400]\n",
      "train loss : 2.495518, [epoch:21, iter:2500]\n",
      "TRAIN ACCURACY : 27.0% [21595/80128]\n",
      "TEST ACCURACY : 19.5% [3477/17824]\n",
      "...MODEL SAVE...\n"
     ]
    },
    {
     "name": "stderr",
     "output_type": "stream",
     "text": [
      "Train:  42%|██████████              | 21/50 [6:30:18<9:00:40, 1118.63s/it]"
     ]
    },
    {
     "name": "stdout",
     "output_type": "stream",
     "text": [
      "\n",
      "EPOCH:21 | train loss : 2.4954238554921013, test loss : 2.7201708343341493\n",
      "\n",
      "EPOCH 22 \n",
      "-------------------------\n",
      "train loss : 2.781063, [epoch:22, iter:0]\n",
      "train loss : 2.497590, [epoch:22, iter:100]\n",
      "train loss : 2.503395, [epoch:22, iter:200]\n",
      "train loss : 2.498831, [epoch:22, iter:300]\n",
      "train loss : 2.486046, [epoch:22, iter:400]\n",
      "train loss : 2.487306, [epoch:22, iter:500]\n",
      "train loss : 2.486622, [epoch:22, iter:600]\n",
      "train loss : 2.490267, [epoch:22, iter:700]\n",
      "train loss : 2.486801, [epoch:22, iter:800]\n",
      "train loss : 2.487993, [epoch:22, iter:900]\n",
      "train loss : 2.493314, [epoch:22, iter:1000]\n",
      "train loss : 2.494323, [epoch:22, iter:1100]\n",
      "train loss : 2.497426, [epoch:22, iter:1200]\n"
     ]
    },
    {
     "name": "stderr",
     "output_type": "stream",
     "text": [
      "/home/qkrwnstj/anaconda3/envs/qkrwnstj/lib/python3.9/site-packages/PIL/TiffImagePlugin.py:858: UserWarning: Corrupt EXIF data.  Expecting to read 2 bytes but only got 0. \n",
      "  warnings.warn(str(msg))\n"
     ]
    },
    {
     "name": "stdout",
     "output_type": "stream",
     "text": [
      "train loss : 2.497766, [epoch:22, iter:1300]\n",
      "train loss : 2.499531, [epoch:22, iter:1400]\n",
      "train loss : 2.495976, [epoch:22, iter:1500]\n",
      "train loss : 2.496558, [epoch:22, iter:1600]\n",
      "train loss : 2.494023, [epoch:22, iter:1700]\n"
     ]
    },
    {
     "name": "stderr",
     "output_type": "stream",
     "text": [
      "/home/qkrwnstj/anaconda3/envs/qkrwnstj/lib/python3.9/site-packages/PIL/TiffImagePlugin.py:858: UserWarning: Corrupt EXIF data.  Expecting to read 2 bytes but only got 0. \n",
      "  warnings.warn(str(msg))\n"
     ]
    },
    {
     "name": "stdout",
     "output_type": "stream",
     "text": [
      "train loss : 2.497264, [epoch:22, iter:1800]\n",
      "train loss : 2.496869, [epoch:22, iter:1900]\n",
      "train loss : 2.495757, [epoch:22, iter:2000]\n",
      "train loss : 2.495349, [epoch:22, iter:2100]\n",
      "train loss : 2.495356, [epoch:22, iter:2200]\n",
      "train loss : 2.495896, [epoch:22, iter:2300]\n",
      "train loss : 2.496733, [epoch:22, iter:2400]\n",
      "train loss : 2.495702, [epoch:22, iter:2500]\n",
      "TRAIN ACCURACY : 27.0% [21620/80128]\n"
     ]
    },
    {
     "name": "stderr",
     "output_type": "stream",
     "text": [
      "Train:  44%|██████████▌             | 22/50 [6:49:08<8:43:38, 1122.08s/it]"
     ]
    },
    {
     "name": "stdout",
     "output_type": "stream",
     "text": [
      "TEST ACCURACY : 11.5% [2056/17824]\n",
      "\n",
      "EPOCH:22 | train loss : 2.495509027863463, test loss : 5.337879145380839\n",
      "\n",
      "EPOCH 23 \n",
      "-------------------------\n",
      "train loss : 2.303266, [epoch:23, iter:0]\n",
      "train loss : 2.492717, [epoch:23, iter:100]\n",
      "train loss : 2.485527, [epoch:23, iter:200]\n",
      "train loss : 2.499369, [epoch:23, iter:300]\n",
      "train loss : 2.490353, [epoch:23, iter:400]\n",
      "train loss : 2.487896, [epoch:23, iter:500]\n",
      "train loss : 2.489302, [epoch:23, iter:600]\n",
      "train loss : 2.494364, [epoch:23, iter:700]\n",
      "train loss : 2.493709, [epoch:23, iter:800]\n",
      "train loss : 2.497650, [epoch:23, iter:900]\n",
      "train loss : 2.491357, [epoch:23, iter:1000]\n",
      "train loss : 2.491534, [epoch:23, iter:1100]\n",
      "train loss : 2.489645, [epoch:23, iter:1200]\n",
      "train loss : 2.492616, [epoch:23, iter:1300]\n",
      "train loss : 2.491995, [epoch:23, iter:1400]\n",
      "train loss : 2.492692, [epoch:23, iter:1500]\n",
      "train loss : 2.492371, [epoch:23, iter:1600]\n",
      "train loss : 2.493452, [epoch:23, iter:1700]\n",
      "train loss : 2.491741, [epoch:23, iter:1800]\n",
      "train loss : 2.492997, [epoch:23, iter:1900]\n",
      "train loss : 2.493820, [epoch:23, iter:2000]\n",
      "train loss : 2.494414, [epoch:23, iter:2100]\n"
     ]
    },
    {
     "name": "stderr",
     "output_type": "stream",
     "text": [
      "/home/qkrwnstj/anaconda3/envs/qkrwnstj/lib/python3.9/site-packages/PIL/TiffImagePlugin.py:858: UserWarning: Corrupt EXIF data.  Expecting to read 2 bytes but only got 0. \n",
      "  warnings.warn(str(msg))\n"
     ]
    },
    {
     "name": "stdout",
     "output_type": "stream",
     "text": [
      "train loss : 2.495017, [epoch:23, iter:2200]\n"
     ]
    },
    {
     "name": "stderr",
     "output_type": "stream",
     "text": [
      "/home/qkrwnstj/anaconda3/envs/qkrwnstj/lib/python3.9/site-packages/PIL/TiffImagePlugin.py:858: UserWarning: Corrupt EXIF data.  Expecting to read 2 bytes but only got 0. \n",
      "  warnings.warn(str(msg))\n"
     ]
    },
    {
     "name": "stdout",
     "output_type": "stream",
     "text": [
      "train loss : 2.494260, [epoch:23, iter:2300]\n",
      "train loss : 2.491885, [epoch:23, iter:2400]\n",
      "train loss : 2.491015, [epoch:23, iter:2500]\n",
      "TRAIN ACCURACY : 27.1% [21750/80128]\n"
     ]
    },
    {
     "name": "stderr",
     "output_type": "stream",
     "text": [
      "Train:  46%|███████████             | 23/50 [7:07:39<8:23:23, 1118.65s/it]"
     ]
    },
    {
     "name": "stdout",
     "output_type": "stream",
     "text": [
      "TEST ACCURACY : 19.2% [3422/17824]\n",
      "\n",
      "EPOCH:23 | train loss : 2.490943180105557, test loss : 2.7544960688859814\n",
      "\n",
      "EPOCH 24 \n",
      "-------------------------\n"
     ]
    },
    {
     "name": "stderr",
     "output_type": "stream",
     "text": [
      "/home/qkrwnstj/anaconda3/envs/qkrwnstj/lib/python3.9/site-packages/PIL/TiffImagePlugin.py:858: UserWarning: Corrupt EXIF data.  Expecting to read 2 bytes but only got 0. \n",
      "  warnings.warn(str(msg))\n"
     ]
    },
    {
     "name": "stdout",
     "output_type": "stream",
     "text": [
      "train loss : 2.780070, [epoch:24, iter:0]\n",
      "train loss : 2.508840, [epoch:24, iter:100]\n",
      "train loss : 2.501250, [epoch:24, iter:200]\n",
      "train loss : 2.493649, [epoch:24, iter:300]\n",
      "train loss : 2.490439, [epoch:24, iter:400]\n",
      "train loss : 2.498291, [epoch:24, iter:500]\n",
      "train loss : 2.503738, [epoch:24, iter:600]\n",
      "train loss : 2.495369, [epoch:24, iter:700]\n",
      "train loss : 2.495070, [epoch:24, iter:800]\n"
     ]
    },
    {
     "name": "stderr",
     "output_type": "stream",
     "text": [
      "/home/qkrwnstj/anaconda3/envs/qkrwnstj/lib/python3.9/site-packages/PIL/TiffImagePlugin.py:858: UserWarning: Corrupt EXIF data.  Expecting to read 2 bytes but only got 0. \n",
      "  warnings.warn(str(msg))\n"
     ]
    },
    {
     "name": "stdout",
     "output_type": "stream",
     "text": [
      "train loss : 2.494512, [epoch:24, iter:900]\n",
      "train loss : 2.494349, [epoch:24, iter:1000]\n",
      "train loss : 2.495246, [epoch:24, iter:1100]\n",
      "train loss : 2.492695, [epoch:24, iter:1200]\n",
      "train loss : 2.490063, [epoch:24, iter:1300]\n",
      "train loss : 2.490499, [epoch:24, iter:1400]\n",
      "train loss : 2.490892, [epoch:24, iter:1500]\n",
      "train loss : 2.490389, [epoch:24, iter:1600]\n",
      "train loss : 2.490345, [epoch:24, iter:1700]\n",
      "train loss : 2.491470, [epoch:24, iter:1800]\n",
      "train loss : 2.492682, [epoch:24, iter:1900]\n",
      "train loss : 2.492056, [epoch:24, iter:2000]\n",
      "train loss : 2.491623, [epoch:24, iter:2100]\n",
      "train loss : 2.490831, [epoch:24, iter:2200]\n",
      "train loss : 2.489811, [epoch:24, iter:2300]\n",
      "train loss : 2.489851, [epoch:24, iter:2400]\n",
      "train loss : 2.490250, [epoch:24, iter:2500]\n",
      "TRAIN ACCURACY : 27.1% [21677/80128]\n"
     ]
    },
    {
     "name": "stderr",
     "output_type": "stream",
     "text": [
      "Train:  48%|███████████▌            | 24/50 [7:26:17<8:04:38, 1118.42s/it]"
     ]
    },
    {
     "name": "stdout",
     "output_type": "stream",
     "text": [
      "TEST ACCURACY : 15.1% [2695/17824]\n",
      "\n",
      "EPOCH:24 | train loss : 2.4904268859103085, test loss : 2.8919173027497433\n",
      "\n",
      "EPOCH 25 \n",
      "-------------------------\n",
      "train loss : 2.570021, [epoch:25, iter:0]\n",
      "train loss : 2.482964, [epoch:25, iter:100]\n",
      "train loss : 2.482225, [epoch:25, iter:200]\n",
      "train loss : 2.472432, [epoch:25, iter:300]\n",
      "train loss : 2.476377, [epoch:25, iter:400]\n",
      "train loss : 2.483304, [epoch:25, iter:500]\n",
      "train loss : 2.478840, [epoch:25, iter:600]\n",
      "train loss : 2.480440, [epoch:25, iter:700]\n",
      "train loss : 2.483701, [epoch:25, iter:800]\n",
      "train loss : 2.482640, [epoch:25, iter:900]\n",
      "train loss : 2.484400, [epoch:25, iter:1000]\n",
      "train loss : 2.486219, [epoch:25, iter:1100]\n",
      "train loss : 2.484143, [epoch:25, iter:1200]\n",
      "train loss : 2.485566, [epoch:25, iter:1300]\n",
      "train loss : 2.488268, [epoch:25, iter:1400]\n",
      "train loss : 2.489385, [epoch:25, iter:1500]\n"
     ]
    },
    {
     "name": "stderr",
     "output_type": "stream",
     "text": [
      "/home/qkrwnstj/anaconda3/envs/qkrwnstj/lib/python3.9/site-packages/PIL/TiffImagePlugin.py:858: UserWarning: Corrupt EXIF data.  Expecting to read 2 bytes but only got 0. \n",
      "  warnings.warn(str(msg))\n"
     ]
    },
    {
     "name": "stdout",
     "output_type": "stream",
     "text": [
      "train loss : 2.491212, [epoch:25, iter:1600]\n",
      "train loss : 2.490198, [epoch:25, iter:1700]\n",
      "train loss : 2.490411, [epoch:25, iter:1800]\n",
      "train loss : 2.489904, [epoch:25, iter:1900]\n",
      "train loss : 2.489506, [epoch:25, iter:2000]\n",
      "train loss : 2.489739, [epoch:25, iter:2100]\n"
     ]
    },
    {
     "name": "stderr",
     "output_type": "stream",
     "text": [
      "/home/qkrwnstj/anaconda3/envs/qkrwnstj/lib/python3.9/site-packages/PIL/TiffImagePlugin.py:858: UserWarning: Corrupt EXIF data.  Expecting to read 2 bytes but only got 0. \n",
      "  warnings.warn(str(msg))\n"
     ]
    },
    {
     "name": "stdout",
     "output_type": "stream",
     "text": [
      "train loss : 2.488904, [epoch:25, iter:2200]\n",
      "train loss : 2.489801, [epoch:25, iter:2300]\n",
      "train loss : 2.489785, [epoch:25, iter:2400]\n",
      "train loss : 2.488787, [epoch:25, iter:2500]\n",
      "TRAIN ACCURACY : 27.1% [21678/80128]\n"
     ]
    },
    {
     "name": "stderr",
     "output_type": "stream",
     "text": [
      "Train:  50%|████████████            | 25/50 [7:44:51<7:45:28, 1117.15s/it]"
     ]
    },
    {
     "name": "stdout",
     "output_type": "stream",
     "text": [
      "TEST ACCURACY : 14.6% [2602/17824]\n",
      "\n",
      "EPOCH:25 | train loss : 2.4886222284156294, test loss : 2.8963102964781346\n",
      "\n",
      "EPOCH 26 \n",
      "-------------------------\n",
      "train loss : 2.435925, [epoch:26, iter:0]\n",
      "train loss : 2.487576, [epoch:26, iter:100]\n",
      "train loss : 2.495497, [epoch:26, iter:200]\n"
     ]
    },
    {
     "name": "stderr",
     "output_type": "stream",
     "text": [
      "/home/qkrwnstj/anaconda3/envs/qkrwnstj/lib/python3.9/site-packages/PIL/TiffImagePlugin.py:858: UserWarning: Corrupt EXIF data.  Expecting to read 2 bytes but only got 0. \n",
      "  warnings.warn(str(msg))\n"
     ]
    },
    {
     "name": "stdout",
     "output_type": "stream",
     "text": [
      "train loss : 2.483217, [epoch:26, iter:300]\n",
      "train loss : 2.484601, [epoch:26, iter:400]\n",
      "train loss : 2.484205, [epoch:26, iter:500]\n",
      "train loss : 2.486168, [epoch:26, iter:600]\n",
      "train loss : 2.488652, [epoch:26, iter:700]\n",
      "train loss : 2.490893, [epoch:26, iter:800]\n",
      "train loss : 2.488580, [epoch:26, iter:900]\n",
      "train loss : 2.488145, [epoch:26, iter:1000]\n",
      "train loss : 2.489077, [epoch:26, iter:1100]\n",
      "train loss : 2.487582, [epoch:26, iter:1200]\n",
      "train loss : 2.486834, [epoch:26, iter:1300]\n",
      "train loss : 2.488760, [epoch:26, iter:1400]\n",
      "train loss : 2.487929, [epoch:26, iter:1500]\n",
      "train loss : 2.487528, [epoch:26, iter:1600]\n",
      "train loss : 2.489022, [epoch:26, iter:1700]\n",
      "train loss : 2.489050, [epoch:26, iter:1800]\n",
      "train loss : 2.487126, [epoch:26, iter:1900]\n",
      "train loss : 2.485950, [epoch:26, iter:2000]\n",
      "train loss : 2.485489, [epoch:26, iter:2100]\n"
     ]
    },
    {
     "name": "stderr",
     "output_type": "stream",
     "text": [
      "/home/qkrwnstj/anaconda3/envs/qkrwnstj/lib/python3.9/site-packages/PIL/TiffImagePlugin.py:858: UserWarning: Corrupt EXIF data.  Expecting to read 2 bytes but only got 0. \n",
      "  warnings.warn(str(msg))\n"
     ]
    },
    {
     "name": "stdout",
     "output_type": "stream",
     "text": [
      "train loss : 2.486380, [epoch:26, iter:2200]\n",
      "train loss : 2.485481, [epoch:26, iter:2300]\n",
      "train loss : 2.484917, [epoch:26, iter:2400]\n",
      "train loss : 2.486667, [epoch:26, iter:2500]\n",
      "TRAIN ACCURACY : 27.0% [21657/80128]\n"
     ]
    },
    {
     "name": "stderr",
     "output_type": "stream",
     "text": [
      "Train:  52%|████████████▍           | 26/50 [8:03:36<7:27:51, 1119.63s/it]"
     ]
    },
    {
     "name": "stdout",
     "output_type": "stream",
     "text": [
      "TEST ACCURACY : 11.7% [2085/17824]\n",
      "\n",
      "EPOCH:26 | train loss : 2.4866033073145744, test loss : 3.9210507428838706\n",
      "\n",
      "EPOCH 27 \n",
      "-------------------------\n",
      "train loss : 2.499278, [epoch:27, iter:0]\n",
      "train loss : 2.459399, [epoch:27, iter:100]\n",
      "train loss : 2.473051, [epoch:27, iter:200]\n",
      "train loss : 2.470688, [epoch:27, iter:300]\n",
      "train loss : 2.475924, [epoch:27, iter:400]\n",
      "train loss : 2.471268, [epoch:27, iter:500]\n",
      "train loss : 2.481503, [epoch:27, iter:600]\n",
      "train loss : 2.480932, [epoch:27, iter:700]\n",
      "train loss : 2.485097, [epoch:27, iter:800]\n",
      "train loss : 2.485632, [epoch:27, iter:900]\n"
     ]
    },
    {
     "name": "stderr",
     "output_type": "stream",
     "text": [
      "/home/qkrwnstj/anaconda3/envs/qkrwnstj/lib/python3.9/site-packages/PIL/TiffImagePlugin.py:858: UserWarning: Corrupt EXIF data.  Expecting to read 2 bytes but only got 0. \n",
      "  warnings.warn(str(msg))\n"
     ]
    },
    {
     "name": "stdout",
     "output_type": "stream",
     "text": [
      "train loss : 2.486381, [epoch:27, iter:1000]\n",
      "train loss : 2.484350, [epoch:27, iter:1100]\n",
      "train loss : 2.487145, [epoch:27, iter:1200]\n",
      "train loss : 2.488378, [epoch:27, iter:1300]\n"
     ]
    },
    {
     "name": "stderr",
     "output_type": "stream",
     "text": [
      "/home/qkrwnstj/anaconda3/envs/qkrwnstj/lib/python3.9/site-packages/PIL/TiffImagePlugin.py:858: UserWarning: Corrupt EXIF data.  Expecting to read 2 bytes but only got 0. \n",
      "  warnings.warn(str(msg))\n"
     ]
    },
    {
     "name": "stdout",
     "output_type": "stream",
     "text": [
      "train loss : 2.487009, [epoch:27, iter:1400]\n",
      "train loss : 2.485239, [epoch:27, iter:1500]\n",
      "train loss : 2.485442, [epoch:27, iter:1600]\n",
      "train loss : 2.487505, [epoch:27, iter:1700]\n",
      "train loss : 2.487225, [epoch:27, iter:1800]\n",
      "train loss : 2.487050, [epoch:27, iter:1900]\n",
      "train loss : 2.485991, [epoch:27, iter:2000]\n",
      "train loss : 2.485609, [epoch:27, iter:2100]\n",
      "train loss : 2.483430, [epoch:27, iter:2200]\n",
      "train loss : 2.485981, [epoch:27, iter:2300]\n",
      "train loss : 2.483927, [epoch:27, iter:2400]\n",
      "train loss : 2.481523, [epoch:27, iter:2500]\n",
      "TRAIN ACCURACY : 27.3% [21884/80128]\n"
     ]
    },
    {
     "name": "stderr",
     "output_type": "stream",
     "text": [
      "Train:  54%|████████████▉           | 27/50 [8:22:12<7:08:41, 1118.34s/it]"
     ]
    },
    {
     "name": "stdout",
     "output_type": "stream",
     "text": [
      "TEST ACCURACY : 15.8% [2821/17824]\n",
      "\n",
      "EPOCH:27 | train loss : 2.4815535493456897, test loss : 2.908929389083835\n",
      "\n",
      "EPOCH 28 \n",
      "-------------------------\n",
      "train loss : 2.443717, [epoch:28, iter:0]\n",
      "train loss : 2.500122, [epoch:28, iter:100]\n",
      "train loss : 2.495108, [epoch:28, iter:200]\n",
      "train loss : 2.486775, [epoch:28, iter:300]\n",
      "train loss : 2.486572, [epoch:28, iter:400]\n",
      "train loss : 2.485400, [epoch:28, iter:500]\n",
      "train loss : 2.479748, [epoch:28, iter:600]\n",
      "train loss : 2.479234, [epoch:28, iter:700]\n",
      "train loss : 2.485529, [epoch:28, iter:800]\n",
      "train loss : 2.481553, [epoch:28, iter:900]\n",
      "train loss : 2.478562, [epoch:28, iter:1000]\n",
      "train loss : 2.477066, [epoch:28, iter:1100]\n",
      "train loss : 2.476568, [epoch:28, iter:1200]\n",
      "train loss : 2.477434, [epoch:28, iter:1300]\n",
      "train loss : 2.477817, [epoch:28, iter:1400]\n",
      "train loss : 2.475887, [epoch:28, iter:1500]\n"
     ]
    },
    {
     "name": "stderr",
     "output_type": "stream",
     "text": [
      "/home/qkrwnstj/anaconda3/envs/qkrwnstj/lib/python3.9/site-packages/PIL/TiffImagePlugin.py:858: UserWarning: Corrupt EXIF data.  Expecting to read 2 bytes but only got 0. \n",
      "  warnings.warn(str(msg))\n"
     ]
    },
    {
     "name": "stdout",
     "output_type": "stream",
     "text": [
      "train loss : 2.476137, [epoch:28, iter:1600]\n"
     ]
    },
    {
     "name": "stderr",
     "output_type": "stream",
     "text": [
      "/home/qkrwnstj/anaconda3/envs/qkrwnstj/lib/python3.9/site-packages/PIL/TiffImagePlugin.py:858: UserWarning: Corrupt EXIF data.  Expecting to read 2 bytes but only got 0. \n",
      "  warnings.warn(str(msg))\n"
     ]
    },
    {
     "name": "stdout",
     "output_type": "stream",
     "text": [
      "train loss : 2.476888, [epoch:28, iter:1700]\n",
      "train loss : 2.476619, [epoch:28, iter:1800]\n",
      "train loss : 2.477075, [epoch:28, iter:1900]\n",
      "train loss : 2.478879, [epoch:28, iter:2000]\n",
      "train loss : 2.479880, [epoch:28, iter:2100]\n",
      "train loss : 2.480732, [epoch:28, iter:2200]\n",
      "train loss : 2.481043, [epoch:28, iter:2300]\n",
      "train loss : 2.481305, [epoch:28, iter:2400]\n",
      "train loss : 2.481641, [epoch:28, iter:2500]\n",
      "TRAIN ACCURACY : 27.3% [21848/80128]\n"
     ]
    },
    {
     "name": "stderr",
     "output_type": "stream",
     "text": [
      "Train:  56%|█████████████▍          | 28/50 [8:40:48<6:49:49, 1117.72s/it]"
     ]
    },
    {
     "name": "stdout",
     "output_type": "stream",
     "text": [
      "TEST ACCURACY : 18.2% [3236/17824]\n",
      "\n",
      "EPOCH:28 | train loss : 2.4816724652299484, test loss : 2.7921410899616017\n",
      "\n",
      "EPOCH 29 \n",
      "-------------------------\n",
      "train loss : 2.733717, [epoch:29, iter:0]\n",
      "train loss : 2.491414, [epoch:29, iter:100]\n",
      "train loss : 2.484595, [epoch:29, iter:200]\n",
      "train loss : 2.479099, [epoch:29, iter:300]\n",
      "train loss : 2.476818, [epoch:29, iter:400]\n",
      "train loss : 2.470628, [epoch:29, iter:500]\n"
     ]
    },
    {
     "name": "stderr",
     "output_type": "stream",
     "text": [
      "/home/qkrwnstj/anaconda3/envs/qkrwnstj/lib/python3.9/site-packages/PIL/TiffImagePlugin.py:858: UserWarning: Corrupt EXIF data.  Expecting to read 2 bytes but only got 0. \n",
      "  warnings.warn(str(msg))\n"
     ]
    },
    {
     "name": "stdout",
     "output_type": "stream",
     "text": [
      "train loss : 2.470081, [epoch:29, iter:600]\n",
      "train loss : 2.472287, [epoch:29, iter:700]\n",
      "train loss : 2.476097, [epoch:29, iter:800]\n",
      "train loss : 2.475536, [epoch:29, iter:900]\n",
      "train loss : 2.475995, [epoch:29, iter:1000]\n",
      "train loss : 2.477011, [epoch:29, iter:1100]\n",
      "train loss : 2.479910, [epoch:29, iter:1200]\n",
      "train loss : 2.480283, [epoch:29, iter:1300]\n",
      "train loss : 2.482526, [epoch:29, iter:1400]\n",
      "train loss : 2.480686, [epoch:29, iter:1500]\n",
      "train loss : 2.482169, [epoch:29, iter:1600]\n",
      "train loss : 2.484527, [epoch:29, iter:1700]\n"
     ]
    },
    {
     "name": "stderr",
     "output_type": "stream",
     "text": [
      "/home/qkrwnstj/anaconda3/envs/qkrwnstj/lib/python3.9/site-packages/PIL/TiffImagePlugin.py:858: UserWarning: Corrupt EXIF data.  Expecting to read 2 bytes but only got 0. \n",
      "  warnings.warn(str(msg))\n"
     ]
    },
    {
     "name": "stdout",
     "output_type": "stream",
     "text": [
      "train loss : 2.484190, [epoch:29, iter:1800]\n",
      "train loss : 2.485618, [epoch:29, iter:1900]\n",
      "train loss : 2.484765, [epoch:29, iter:2000]\n",
      "train loss : 2.484894, [epoch:29, iter:2100]\n",
      "train loss : 2.484671, [epoch:29, iter:2200]\n",
      "train loss : 2.484336, [epoch:29, iter:2300]\n",
      "train loss : 2.481470, [epoch:29, iter:2400]\n",
      "train loss : 2.482132, [epoch:29, iter:2500]\n",
      "TRAIN ACCURACY : 27.3% [21853/80128]\n"
     ]
    },
    {
     "name": "stderr",
     "output_type": "stream",
     "text": [
      "Train:  58%|█████████████▉          | 29/50 [8:59:26<6:31:11, 1117.70s/it]"
     ]
    },
    {
     "name": "stdout",
     "output_type": "stream",
     "text": [
      "TEST ACCURACY : 17.4% [3093/17824]\n",
      "\n",
      "EPOCH:29 | train loss : 2.482395345934283, test loss : 2.8414062537667566\n",
      "\n",
      "EPOCH 30 \n",
      "-------------------------\n",
      "train loss : 2.989318, [epoch:30, iter:0]\n",
      "train loss : 2.454467, [epoch:30, iter:100]\n",
      "train loss : 2.478244, [epoch:30, iter:200]\n",
      "train loss : 2.479625, [epoch:30, iter:300]\n",
      "train loss : 2.485095, [epoch:30, iter:400]\n",
      "train loss : 2.482532, [epoch:30, iter:500]\n",
      "train loss : 2.489434, [epoch:30, iter:600]\n",
      "train loss : 2.489960, [epoch:30, iter:700]\n"
     ]
    },
    {
     "name": "stderr",
     "output_type": "stream",
     "text": [
      "/home/qkrwnstj/anaconda3/envs/qkrwnstj/lib/python3.9/site-packages/PIL/TiffImagePlugin.py:858: UserWarning: Corrupt EXIF data.  Expecting to read 2 bytes but only got 0. \n",
      "  warnings.warn(str(msg))\n"
     ]
    },
    {
     "name": "stdout",
     "output_type": "stream",
     "text": [
      "train loss : 2.488692, [epoch:30, iter:800]\n",
      "train loss : 2.487129, [epoch:30, iter:900]\n",
      "train loss : 2.488555, [epoch:30, iter:1000]\n",
      "train loss : 2.488189, [epoch:30, iter:1100]\n",
      "train loss : 2.486862, [epoch:30, iter:1200]\n"
     ]
    },
    {
     "name": "stderr",
     "output_type": "stream",
     "text": [
      "/home/qkrwnstj/anaconda3/envs/qkrwnstj/lib/python3.9/site-packages/PIL/TiffImagePlugin.py:858: UserWarning: Corrupt EXIF data.  Expecting to read 2 bytes but only got 0. \n",
      "  warnings.warn(str(msg))\n"
     ]
    },
    {
     "name": "stdout",
     "output_type": "stream",
     "text": [
      "train loss : 2.488194, [epoch:30, iter:1300]\n",
      "train loss : 2.486227, [epoch:30, iter:1400]\n",
      "train loss : 2.486216, [epoch:30, iter:1500]\n",
      "train loss : 2.486197, [epoch:30, iter:1600]\n",
      "train loss : 2.483490, [epoch:30, iter:1700]\n",
      "train loss : 2.483433, [epoch:30, iter:1800]\n",
      "train loss : 2.481209, [epoch:30, iter:1900]\n",
      "train loss : 2.481945, [epoch:30, iter:2000]\n",
      "train loss : 2.481477, [epoch:30, iter:2100]\n",
      "train loss : 2.480263, [epoch:30, iter:2200]\n",
      "train loss : 2.480348, [epoch:30, iter:2300]\n",
      "train loss : 2.479904, [epoch:30, iter:2400]\n",
      "train loss : 2.479993, [epoch:30, iter:2500]\n",
      "TRAIN ACCURACY : 27.3% [21896/80128]\n",
      "TEST ACCURACY : 19.4% [3452/17824]\n",
      "...MODEL SAVE...\n"
     ]
    },
    {
     "name": "stderr",
     "output_type": "stream",
     "text": [
      "Train:  60%|██████████████▍         | 30/50 [9:18:10<6:13:13, 1119.66s/it]"
     ]
    },
    {
     "name": "stdout",
     "output_type": "stream",
     "text": [
      "\n",
      "EPOCH:30 | train loss : 2.4799417392514385, test loss : 2.7074150020387058\n",
      "\n",
      "EPOCH 31 \n",
      "-------------------------\n"
     ]
    },
    {
     "name": "stderr",
     "output_type": "stream",
     "text": [
      "/home/qkrwnstj/anaconda3/envs/qkrwnstj/lib/python3.9/site-packages/PIL/TiffImagePlugin.py:858: UserWarning: Corrupt EXIF data.  Expecting to read 2 bytes but only got 0. \n",
      "  warnings.warn(str(msg))\n"
     ]
    },
    {
     "name": "stdout",
     "output_type": "stream",
     "text": [
      "train loss : 2.434793, [epoch:31, iter:0]\n",
      "train loss : 2.466668, [epoch:31, iter:100]\n",
      "train loss : 2.484766, [epoch:31, iter:200]\n",
      "train loss : 2.483430, [epoch:31, iter:300]\n",
      "train loss : 2.483101, [epoch:31, iter:400]\n",
      "train loss : 2.473848, [epoch:31, iter:500]\n",
      "train loss : 2.471888, [epoch:31, iter:600]\n",
      "train loss : 2.469031, [epoch:31, iter:700]\n",
      "train loss : 2.472766, [epoch:31, iter:800]\n",
      "train loss : 2.473310, [epoch:31, iter:900]\n",
      "train loss : 2.475717, [epoch:31, iter:1000]\n",
      "train loss : 2.473652, [epoch:31, iter:1100]\n",
      "train loss : 2.473244, [epoch:31, iter:1200]\n",
      "train loss : 2.475839, [epoch:31, iter:1300]\n",
      "train loss : 2.476268, [epoch:31, iter:1400]\n",
      "train loss : 2.474197, [epoch:31, iter:1500]\n",
      "train loss : 2.476208, [epoch:31, iter:1600]\n",
      "train loss : 2.477313, [epoch:31, iter:1700]\n",
      "train loss : 2.476313, [epoch:31, iter:1800]\n",
      "train loss : 2.475224, [epoch:31, iter:1900]\n",
      "train loss : 2.475937, [epoch:31, iter:2000]\n"
     ]
    },
    {
     "name": "stderr",
     "output_type": "stream",
     "text": [
      "/home/qkrwnstj/anaconda3/envs/qkrwnstj/lib/python3.9/site-packages/PIL/TiffImagePlugin.py:858: UserWarning: Corrupt EXIF data.  Expecting to read 2 bytes but only got 0. \n",
      "  warnings.warn(str(msg))\n"
     ]
    },
    {
     "name": "stdout",
     "output_type": "stream",
     "text": [
      "train loss : 2.477023, [epoch:31, iter:2100]\n",
      "train loss : 2.476630, [epoch:31, iter:2200]\n",
      "train loss : 2.477945, [epoch:31, iter:2300]\n",
      "train loss : 2.479448, [epoch:31, iter:2400]\n",
      "train loss : 2.479621, [epoch:31, iter:2500]\n",
      "TRAIN ACCURACY : 27.3% [21877/80128]\n"
     ]
    },
    {
     "name": "stderr",
     "output_type": "stream",
     "text": [
      "Train:  62%|██████████████▉         | 31/50 [9:36:49<5:54:30, 1119.49s/it]"
     ]
    },
    {
     "name": "stdout",
     "output_type": "stream",
     "text": [
      "TEST ACCURACY : 18.3% [3256/17824]\n",
      "\n",
      "EPOCH:31 | train loss : 2.479569874394435, test loss : 2.8058613164206596\n",
      "\n",
      "EPOCH 32 \n",
      "-------------------------\n"
     ]
    },
    {
     "name": "stderr",
     "output_type": "stream",
     "text": [
      "/home/qkrwnstj/anaconda3/envs/qkrwnstj/lib/python3.9/site-packages/PIL/TiffImagePlugin.py:858: UserWarning: Corrupt EXIF data.  Expecting to read 2 bytes but only got 0. \n",
      "  warnings.warn(str(msg))\n"
     ]
    },
    {
     "name": "stdout",
     "output_type": "stream",
     "text": [
      "train loss : 2.624413, [epoch:32, iter:0]\n",
      "train loss : 2.497743, [epoch:32, iter:100]\n",
      "train loss : 2.479355, [epoch:32, iter:200]\n",
      "train loss : 2.487968, [epoch:32, iter:300]\n",
      "train loss : 2.487832, [epoch:32, iter:400]\n"
     ]
    },
    {
     "name": "stderr",
     "output_type": "stream",
     "text": [
      "/home/qkrwnstj/anaconda3/envs/qkrwnstj/lib/python3.9/site-packages/PIL/TiffImagePlugin.py:858: UserWarning: Corrupt EXIF data.  Expecting to read 2 bytes but only got 0. \n",
      "  warnings.warn(str(msg))\n"
     ]
    },
    {
     "name": "stdout",
     "output_type": "stream",
     "text": [
      "train loss : 2.482769, [epoch:32, iter:500]\n",
      "train loss : 2.481668, [epoch:32, iter:600]\n",
      "train loss : 2.483053, [epoch:32, iter:700]\n",
      "train loss : 2.481249, [epoch:32, iter:800]\n",
      "train loss : 2.478652, [epoch:32, iter:900]\n",
      "train loss : 2.477493, [epoch:32, iter:1000]\n",
      "train loss : 2.478185, [epoch:32, iter:1100]\n",
      "train loss : 2.477050, [epoch:32, iter:1200]\n",
      "train loss : 2.478929, [epoch:32, iter:1300]\n",
      "train loss : 2.476431, [epoch:32, iter:1400]\n",
      "train loss : 2.479481, [epoch:32, iter:1500]\n",
      "train loss : 2.480061, [epoch:32, iter:1600]\n",
      "train loss : 2.483174, [epoch:32, iter:1700]\n",
      "train loss : 2.483472, [epoch:32, iter:1800]\n",
      "train loss : 2.483456, [epoch:32, iter:1900]\n",
      "train loss : 2.483339, [epoch:32, iter:2000]\n",
      "train loss : 2.482133, [epoch:32, iter:2100]\n",
      "train loss : 2.482444, [epoch:32, iter:2200]\n",
      "train loss : 2.482479, [epoch:32, iter:2300]\n",
      "train loss : 2.482591, [epoch:32, iter:2400]\n",
      "train loss : 2.480746, [epoch:32, iter:2500]\n",
      "TRAIN ACCURACY : 27.4% [21976/80128]\n"
     ]
    },
    {
     "name": "stderr",
     "output_type": "stream",
     "text": [
      "Train:  64%|███████████████▎        | 32/50 [9:55:32<5:36:10, 1120.59s/it]"
     ]
    },
    {
     "name": "stdout",
     "output_type": "stream",
     "text": [
      "TEST ACCURACY : 14.9% [2664/17824]\n",
      "\n",
      "EPOCH:32 | train loss : 2.480837393968631, test loss : 2.9824692958989307\n",
      "\n",
      "EPOCH 33 \n",
      "-------------------------\n",
      "train loss : 2.312006, [epoch:33, iter:0]\n",
      "train loss : 2.437692, [epoch:33, iter:100]\n",
      "train loss : 2.461374, [epoch:33, iter:200]\n",
      "train loss : 2.469862, [epoch:33, iter:300]\n",
      "train loss : 2.465001, [epoch:33, iter:400]\n",
      "train loss : 2.470874, [epoch:33, iter:500]\n",
      "train loss : 2.468792, [epoch:33, iter:600]\n",
      "train loss : 2.466785, [epoch:33, iter:700]\n",
      "train loss : 2.466825, [epoch:33, iter:800]\n",
      "train loss : 2.466379, [epoch:33, iter:900]\n",
      "train loss : 2.470698, [epoch:33, iter:1000]\n",
      "train loss : 2.469526, [epoch:33, iter:1100]\n",
      "train loss : 2.467734, [epoch:33, iter:1200]\n",
      "train loss : 2.468919, [epoch:33, iter:1300]\n",
      "train loss : 2.469372, [epoch:33, iter:1400]\n",
      "train loss : 2.471159, [epoch:33, iter:1500]\n",
      "train loss : 2.473027, [epoch:33, iter:1600]\n",
      "train loss : 2.473366, [epoch:33, iter:1700]\n"
     ]
    },
    {
     "name": "stderr",
     "output_type": "stream",
     "text": [
      "/home/qkrwnstj/anaconda3/envs/qkrwnstj/lib/python3.9/site-packages/PIL/TiffImagePlugin.py:858: UserWarning: Corrupt EXIF data.  Expecting to read 2 bytes but only got 0. \n",
      "  warnings.warn(str(msg))\n"
     ]
    },
    {
     "name": "stdout",
     "output_type": "stream",
     "text": [
      "train loss : 2.474137, [epoch:33, iter:1800]\n",
      "train loss : 2.474675, [epoch:33, iter:1900]\n",
      "train loss : 2.476662, [epoch:33, iter:2000]\n",
      "train loss : 2.475674, [epoch:33, iter:2100]\n"
     ]
    },
    {
     "name": "stderr",
     "output_type": "stream",
     "text": [
      "/home/qkrwnstj/anaconda3/envs/qkrwnstj/lib/python3.9/site-packages/PIL/TiffImagePlugin.py:858: UserWarning: Corrupt EXIF data.  Expecting to read 2 bytes but only got 0. \n",
      "  warnings.warn(str(msg))\n"
     ]
    },
    {
     "name": "stdout",
     "output_type": "stream",
     "text": [
      "train loss : 2.476316, [epoch:33, iter:2200]\n",
      "train loss : 2.475056, [epoch:33, iter:2300]\n",
      "train loss : 2.475390, [epoch:33, iter:2400]\n",
      "train loss : 2.475933, [epoch:33, iter:2500]\n",
      "TRAIN ACCURACY : 27.4% [21970/80128]\n"
     ]
    },
    {
     "name": "stderr",
     "output_type": "stream",
     "text": [
      "Train:  66%|███████████████▏       | 33/50 [10:14:23<5:18:21, 1123.64s/it]"
     ]
    },
    {
     "name": "stdout",
     "output_type": "stream",
     "text": [
      "TEST ACCURACY : 17.3% [3088/17824]\n",
      "\n",
      "EPOCH:33 | train loss : 2.476029722644879, test loss : 2.8993963373413636\n",
      "\n",
      "EPOCH 34 \n",
      "-------------------------\n",
      "train loss : 2.306607, [epoch:34, iter:0]\n",
      "train loss : 2.505915, [epoch:34, iter:100]\n",
      "train loss : 2.486075, [epoch:34, iter:200]\n",
      "train loss : 2.474925, [epoch:34, iter:300]\n",
      "train loss : 2.475137, [epoch:34, iter:400]\n",
      "train loss : 2.472713, [epoch:34, iter:500]\n",
      "train loss : 2.478579, [epoch:34, iter:600]\n",
      "train loss : 2.475154, [epoch:34, iter:700]\n",
      "train loss : 2.477729, [epoch:34, iter:800]\n",
      "train loss : 2.477246, [epoch:34, iter:900]\n",
      "train loss : 2.477320, [epoch:34, iter:1000]\n"
     ]
    },
    {
     "name": "stderr",
     "output_type": "stream",
     "text": [
      "/home/qkrwnstj/anaconda3/envs/qkrwnstj/lib/python3.9/site-packages/PIL/TiffImagePlugin.py:858: UserWarning: Corrupt EXIF data.  Expecting to read 2 bytes but only got 0. \n",
      "  warnings.warn(str(msg))\n"
     ]
    },
    {
     "name": "stdout",
     "output_type": "stream",
     "text": [
      "train loss : 2.476184, [epoch:34, iter:1100]\n",
      "train loss : 2.478488, [epoch:34, iter:1200]\n",
      "train loss : 2.479801, [epoch:34, iter:1300]\n",
      "train loss : 2.478265, [epoch:34, iter:1400]\n",
      "train loss : 2.475598, [epoch:34, iter:1500]\n",
      "train loss : 2.475932, [epoch:34, iter:1600]\n",
      "train loss : 2.474094, [epoch:34, iter:1700]\n",
      "train loss : 2.474560, [epoch:34, iter:1800]\n",
      "train loss : 2.472557, [epoch:34, iter:1900]\n",
      "train loss : 2.473434, [epoch:34, iter:2000]\n",
      "train loss : 2.473829, [epoch:34, iter:2100]\n"
     ]
    },
    {
     "name": "stderr",
     "output_type": "stream",
     "text": [
      "/home/qkrwnstj/anaconda3/envs/qkrwnstj/lib/python3.9/site-packages/PIL/TiffImagePlugin.py:858: UserWarning: Corrupt EXIF data.  Expecting to read 2 bytes but only got 0. \n",
      "  warnings.warn(str(msg))\n"
     ]
    },
    {
     "name": "stdout",
     "output_type": "stream",
     "text": [
      "train loss : 2.472281, [epoch:34, iter:2200]\n",
      "train loss : 2.473446, [epoch:34, iter:2300]\n",
      "train loss : 2.473758, [epoch:34, iter:2400]\n",
      "train loss : 2.474071, [epoch:34, iter:2500]\n",
      "TRAIN ACCURACY : 27.5% [22032/80128]\n"
     ]
    },
    {
     "name": "stderr",
     "output_type": "stream",
     "text": [
      "Train:  68%|███████████████▋       | 34/50 [10:32:49<4:58:16, 1118.51s/it]"
     ]
    },
    {
     "name": "stdout",
     "output_type": "stream",
     "text": [
      "TEST ACCURACY : 8.1% [1452/17824]\n",
      "\n",
      "EPOCH:34 | train loss : 2.4741629411142094, test loss : 3.703264051964724\n",
      "\n",
      "EPOCH 35 \n",
      "-------------------------\n",
      "train loss : 2.442929, [epoch:35, iter:0]\n",
      "train loss : 2.470932, [epoch:35, iter:100]\n",
      "train loss : 2.475529, [epoch:35, iter:200]\n",
      "train loss : 2.478680, [epoch:35, iter:300]\n",
      "train loss : 2.473034, [epoch:35, iter:400]\n",
      "train loss : 2.471404, [epoch:35, iter:500]\n",
      "train loss : 2.471867, [epoch:35, iter:600]\n",
      "train loss : 2.473435, [epoch:35, iter:700]\n",
      "train loss : 2.469097, [epoch:35, iter:800]\n",
      "train loss : 2.467643, [epoch:35, iter:900]\n"
     ]
    },
    {
     "name": "stderr",
     "output_type": "stream",
     "text": [
      "/home/qkrwnstj/anaconda3/envs/qkrwnstj/lib/python3.9/site-packages/PIL/TiffImagePlugin.py:858: UserWarning: Corrupt EXIF data.  Expecting to read 2 bytes but only got 0. \n",
      "  warnings.warn(str(msg))\n"
     ]
    },
    {
     "name": "stdout",
     "output_type": "stream",
     "text": [
      "train loss : 2.469537, [epoch:35, iter:1000]\n",
      "train loss : 2.472630, [epoch:35, iter:1100]\n",
      "train loss : 2.472085, [epoch:35, iter:1200]\n"
     ]
    },
    {
     "name": "stderr",
     "output_type": "stream",
     "text": [
      "/home/qkrwnstj/anaconda3/envs/qkrwnstj/lib/python3.9/site-packages/PIL/TiffImagePlugin.py:858: UserWarning: Corrupt EXIF data.  Expecting to read 2 bytes but only got 0. \n",
      "  warnings.warn(str(msg))\n"
     ]
    },
    {
     "name": "stdout",
     "output_type": "stream",
     "text": [
      "train loss : 2.468761, [epoch:35, iter:1300]\n",
      "train loss : 2.471776, [epoch:35, iter:1400]\n",
      "train loss : 2.472099, [epoch:35, iter:1500]\n",
      "train loss : 2.472534, [epoch:35, iter:1600]\n",
      "train loss : 2.472291, [epoch:35, iter:1700]\n",
      "train loss : 2.471093, [epoch:35, iter:1800]\n",
      "train loss : 2.472546, [epoch:35, iter:1900]\n",
      "train loss : 2.473613, [epoch:35, iter:2000]\n",
      "train loss : 2.472632, [epoch:35, iter:2100]\n",
      "train loss : 2.473202, [epoch:35, iter:2200]\n",
      "train loss : 2.474388, [epoch:35, iter:2300]\n",
      "train loss : 2.471807, [epoch:35, iter:2400]\n",
      "train loss : 2.472258, [epoch:35, iter:2500]\n",
      "TRAIN ACCURACY : 27.5% [22025/80128]\n"
     ]
    },
    {
     "name": "stderr",
     "output_type": "stream",
     "text": [
      "Train:  70%|████████████████       | 35/50 [10:51:33<4:39:59, 1120.00s/it]"
     ]
    },
    {
     "name": "stdout",
     "output_type": "stream",
     "text": [
      "TEST ACCURACY : 11.9% [2129/17824]\n",
      "\n",
      "EPOCH:35 | train loss : 2.4722201710882277, test loss : 3.1676427243641934\n",
      "\n",
      "EPOCH 36 \n",
      "-------------------------\n",
      "train loss : 2.497763, [epoch:36, iter:0]\n",
      "train loss : 2.465646, [epoch:36, iter:100]\n",
      "train loss : 2.469328, [epoch:36, iter:200]\n",
      "train loss : 2.465556, [epoch:36, iter:300]\n",
      "train loss : 2.469593, [epoch:36, iter:400]\n",
      "train loss : 2.464276, [epoch:36, iter:500]\n",
      "train loss : 2.467953, [epoch:36, iter:600]\n",
      "train loss : 2.465411, [epoch:36, iter:700]\n",
      "train loss : 2.471651, [epoch:36, iter:800]\n",
      "train loss : 2.472549, [epoch:36, iter:900]\n"
     ]
    },
    {
     "name": "stderr",
     "output_type": "stream",
     "text": [
      "/home/qkrwnstj/anaconda3/envs/qkrwnstj/lib/python3.9/site-packages/PIL/TiffImagePlugin.py:858: UserWarning: Corrupt EXIF data.  Expecting to read 2 bytes but only got 0. \n",
      "  warnings.warn(str(msg))\n"
     ]
    },
    {
     "name": "stdout",
     "output_type": "stream",
     "text": [
      "train loss : 2.475792, [epoch:36, iter:1000]\n",
      "train loss : 2.472775, [epoch:36, iter:1100]\n",
      "train loss : 2.473020, [epoch:36, iter:1200]\n",
      "train loss : 2.471891, [epoch:36, iter:1300]\n",
      "train loss : 2.473625, [epoch:36, iter:1400]\n"
     ]
    },
    {
     "name": "stderr",
     "output_type": "stream",
     "text": [
      "/home/qkrwnstj/anaconda3/envs/qkrwnstj/lib/python3.9/site-packages/PIL/TiffImagePlugin.py:858: UserWarning: Corrupt EXIF data.  Expecting to read 2 bytes but only got 0. \n",
      "  warnings.warn(str(msg))\n"
     ]
    },
    {
     "name": "stdout",
     "output_type": "stream",
     "text": [
      "train loss : 2.473274, [epoch:36, iter:1500]\n",
      "train loss : 2.470750, [epoch:36, iter:1600]\n",
      "train loss : 2.471412, [epoch:36, iter:1700]\n",
      "train loss : 2.470539, [epoch:36, iter:1800]\n",
      "train loss : 2.471513, [epoch:36, iter:1900]\n",
      "train loss : 2.468924, [epoch:36, iter:2000]\n",
      "train loss : 2.468659, [epoch:36, iter:2100]\n",
      "train loss : 2.469743, [epoch:36, iter:2200]\n",
      "train loss : 2.469644, [epoch:36, iter:2300]\n",
      "train loss : 2.469230, [epoch:36, iter:2400]\n",
      "train loss : 2.471191, [epoch:36, iter:2500]\n",
      "TRAIN ACCURACY : 27.5% [22035/80128]\n"
     ]
    },
    {
     "name": "stderr",
     "output_type": "stream",
     "text": [
      "Train:  72%|████████████████▌      | 36/50 [11:10:10<4:21:05, 1118.98s/it]"
     ]
    },
    {
     "name": "stdout",
     "output_type": "stream",
     "text": [
      "TEST ACCURACY : 16.6% [2960/17824]\n",
      "\n",
      "EPOCH:36 | train loss : 2.471557350442432, test loss : 2.8999703773690295\n",
      "\n",
      "EPOCH 37 \n",
      "-------------------------\n"
     ]
    },
    {
     "name": "stderr",
     "output_type": "stream",
     "text": [
      "/home/qkrwnstj/anaconda3/envs/qkrwnstj/lib/python3.9/site-packages/PIL/TiffImagePlugin.py:858: UserWarning: Corrupt EXIF data.  Expecting to read 2 bytes but only got 0. \n",
      "  warnings.warn(str(msg))\n"
     ]
    },
    {
     "name": "stdout",
     "output_type": "stream",
     "text": [
      "train loss : 2.640174, [epoch:37, iter:0]\n",
      "train loss : 2.464432, [epoch:37, iter:100]\n",
      "train loss : 2.482546, [epoch:37, iter:200]\n",
      "train loss : 2.470409, [epoch:37, iter:300]\n",
      "train loss : 2.473052, [epoch:37, iter:400]\n",
      "train loss : 2.476850, [epoch:37, iter:500]\n",
      "train loss : 2.474297, [epoch:37, iter:600]\n",
      "train loss : 2.473445, [epoch:37, iter:700]\n",
      "train loss : 2.474308, [epoch:37, iter:800]\n",
      "train loss : 2.469936, [epoch:37, iter:900]\n",
      "train loss : 2.471026, [epoch:37, iter:1000]\n",
      "train loss : 2.468452, [epoch:37, iter:1100]\n",
      "train loss : 2.467995, [epoch:37, iter:1200]\n",
      "train loss : 2.468072, [epoch:37, iter:1300]\n",
      "train loss : 2.469471, [epoch:37, iter:1400]\n",
      "train loss : 2.472363, [epoch:37, iter:1500]\n"
     ]
    },
    {
     "name": "stderr",
     "output_type": "stream",
     "text": [
      "/home/qkrwnstj/anaconda3/envs/qkrwnstj/lib/python3.9/site-packages/PIL/TiffImagePlugin.py:858: UserWarning: Corrupt EXIF data.  Expecting to read 2 bytes but only got 0. \n",
      "  warnings.warn(str(msg))\n"
     ]
    },
    {
     "name": "stdout",
     "output_type": "stream",
     "text": [
      "train loss : 2.471596, [epoch:37, iter:1600]\n",
      "train loss : 2.471336, [epoch:37, iter:1700]\n",
      "train loss : 2.470481, [epoch:37, iter:1800]\n",
      "train loss : 2.470949, [epoch:37, iter:1900]\n",
      "train loss : 2.470773, [epoch:37, iter:2000]\n",
      "train loss : 2.470914, [epoch:37, iter:2100]\n",
      "train loss : 2.470685, [epoch:37, iter:2200]\n",
      "train loss : 2.471688, [epoch:37, iter:2300]\n",
      "train loss : 2.471064, [epoch:37, iter:2400]\n",
      "train loss : 2.471420, [epoch:37, iter:2500]\n",
      "TRAIN ACCURACY : 27.5% [22074/80128]\n"
     ]
    },
    {
     "name": "stderr",
     "output_type": "stream",
     "text": [
      "Train:  74%|█████████████████      | 37/50 [11:28:52<4:02:40, 1120.02s/it]"
     ]
    },
    {
     "name": "stdout",
     "output_type": "stream",
     "text": [
      "TEST ACCURACY : 11.4% [2040/17824]\n",
      "\n",
      "EPOCH:37 | train loss : 2.471370585286579, test loss : 3.7813111973836135\n",
      "\n",
      "EPOCH 38 \n",
      "-------------------------\n",
      "train loss : 2.634532, [epoch:38, iter:0]\n",
      "train loss : 2.438708, [epoch:38, iter:100]\n",
      "train loss : 2.435145, [epoch:38, iter:200]\n",
      "train loss : 2.435739, [epoch:38, iter:300]\n",
      "train loss : 2.440249, [epoch:38, iter:400]\n",
      "train loss : 2.452059, [epoch:38, iter:500]\n",
      "train loss : 2.455981, [epoch:38, iter:600]\n",
      "train loss : 2.460481, [epoch:38, iter:700]\n",
      "train loss : 2.465367, [epoch:38, iter:800]\n",
      "train loss : 2.466288, [epoch:38, iter:900]\n"
     ]
    },
    {
     "name": "stderr",
     "output_type": "stream",
     "text": [
      "/home/qkrwnstj/anaconda3/envs/qkrwnstj/lib/python3.9/site-packages/PIL/TiffImagePlugin.py:858: UserWarning: Corrupt EXIF data.  Expecting to read 2 bytes but only got 0. \n",
      "  warnings.warn(str(msg))\n"
     ]
    },
    {
     "name": "stdout",
     "output_type": "stream",
     "text": [
      "train loss : 2.471242, [epoch:38, iter:1000]\n",
      "train loss : 2.470917, [epoch:38, iter:1100]\n",
      "train loss : 2.472879, [epoch:38, iter:1200]\n",
      "train loss : 2.471739, [epoch:38, iter:1300]\n",
      "train loss : 2.472786, [epoch:38, iter:1400]\n",
      "train loss : 2.472080, [epoch:38, iter:1500]\n",
      "train loss : 2.473091, [epoch:38, iter:1600]\n"
     ]
    },
    {
     "name": "stderr",
     "output_type": "stream",
     "text": [
      "/home/qkrwnstj/anaconda3/envs/qkrwnstj/lib/python3.9/site-packages/PIL/TiffImagePlugin.py:858: UserWarning: Corrupt EXIF data.  Expecting to read 2 bytes but only got 0. \n",
      "  warnings.warn(str(msg))\n"
     ]
    },
    {
     "name": "stdout",
     "output_type": "stream",
     "text": [
      "train loss : 2.473001, [epoch:38, iter:1700]\n",
      "train loss : 2.471787, [epoch:38, iter:1800]\n",
      "train loss : 2.469978, [epoch:38, iter:1900]\n",
      "train loss : 2.470200, [epoch:38, iter:2000]\n",
      "train loss : 2.470285, [epoch:38, iter:2100]\n",
      "train loss : 2.470152, [epoch:38, iter:2200]\n",
      "train loss : 2.469056, [epoch:38, iter:2300]\n",
      "train loss : 2.469147, [epoch:38, iter:2400]\n",
      "train loss : 2.469344, [epoch:38, iter:2500]\n",
      "TRAIN ACCURACY : 27.6% [22078/80128]\n"
     ]
    },
    {
     "name": "stderr",
     "output_type": "stream",
     "text": [
      "Train:  76%|█████████████████▍     | 38/50 [11:47:23<3:43:26, 1117.19s/it]"
     ]
    },
    {
     "name": "stdout",
     "output_type": "stream",
     "text": [
      "TEST ACCURACY : 11.2% [1991/17824]\n",
      "\n",
      "EPOCH:38 | train loss : 2.469500208243775, test loss : 3.256105785952008\n",
      "\n",
      "EPOCH 39 \n",
      "-------------------------\n",
      "train loss : 2.577153, [epoch:39, iter:0]\n",
      "train loss : 2.462808, [epoch:39, iter:100]\n",
      "train loss : 2.497080, [epoch:39, iter:200]\n",
      "train loss : 2.492822, [epoch:39, iter:300]\n",
      "train loss : 2.483436, [epoch:39, iter:400]\n",
      "train loss : 2.483301, [epoch:39, iter:500]\n",
      "train loss : 2.483452, [epoch:39, iter:600]\n",
      "train loss : 2.479455, [epoch:39, iter:700]\n",
      "train loss : 2.478861, [epoch:39, iter:800]\n",
      "train loss : 2.476263, [epoch:39, iter:900]\n",
      "train loss : 2.474907, [epoch:39, iter:1000]\n"
     ]
    },
    {
     "name": "stderr",
     "output_type": "stream",
     "text": [
      "/home/qkrwnstj/anaconda3/envs/qkrwnstj/lib/python3.9/site-packages/PIL/TiffImagePlugin.py:858: UserWarning: Corrupt EXIF data.  Expecting to read 2 bytes but only got 0. \n",
      "  warnings.warn(str(msg))\n"
     ]
    },
    {
     "name": "stdout",
     "output_type": "stream",
     "text": [
      "train loss : 2.475396, [epoch:39, iter:1100]\n",
      "train loss : 2.473189, [epoch:39, iter:1200]\n",
      "train loss : 2.471794, [epoch:39, iter:1300]\n",
      "train loss : 2.471439, [epoch:39, iter:1400]\n",
      "train loss : 2.473817, [epoch:39, iter:1500]\n",
      "train loss : 2.474590, [epoch:39, iter:1600]\n"
     ]
    },
    {
     "name": "stderr",
     "output_type": "stream",
     "text": [
      "/home/qkrwnstj/anaconda3/envs/qkrwnstj/lib/python3.9/site-packages/PIL/TiffImagePlugin.py:858: UserWarning: Corrupt EXIF data.  Expecting to read 2 bytes but only got 0. \n",
      "  warnings.warn(str(msg))\n"
     ]
    },
    {
     "name": "stdout",
     "output_type": "stream",
     "text": [
      "train loss : 2.473933, [epoch:39, iter:1700]\n",
      "train loss : 2.472679, [epoch:39, iter:1800]\n",
      "train loss : 2.471318, [epoch:39, iter:1900]\n",
      "train loss : 2.471043, [epoch:39, iter:2000]\n",
      "train loss : 2.469168, [epoch:39, iter:2100]\n",
      "train loss : 2.467547, [epoch:39, iter:2200]\n",
      "train loss : 2.468697, [epoch:39, iter:2300]\n",
      "train loss : 2.469429, [epoch:39, iter:2400]\n",
      "train loss : 2.468732, [epoch:39, iter:2500]\n",
      "TRAIN ACCURACY : 27.7% [22199/80128]\n"
     ]
    },
    {
     "name": "stderr",
     "output_type": "stream",
     "text": [
      "Train:  78%|█████████████████▉     | 39/50 [12:06:01<3:24:54, 1117.66s/it]"
     ]
    },
    {
     "name": "stdout",
     "output_type": "stream",
     "text": [
      "TEST ACCURACY : 16.4% [2931/17824]\n",
      "\n",
      "EPOCH:39 | train loss : 2.468865844340751, test loss : 2.842265465101177\n",
      "\n",
      "EPOCH 40 \n",
      "-------------------------\n",
      "train loss : 2.417978, [epoch:40, iter:0]\n",
      "train loss : 2.398657, [epoch:40, iter:100]\n",
      "train loss : 2.440644, [epoch:40, iter:200]\n"
     ]
    },
    {
     "name": "stderr",
     "output_type": "stream",
     "text": [
      "/home/qkrwnstj/anaconda3/envs/qkrwnstj/lib/python3.9/site-packages/PIL/TiffImagePlugin.py:858: UserWarning: Corrupt EXIF data.  Expecting to read 2 bytes but only got 0. \n",
      "  warnings.warn(str(msg))\n"
     ]
    },
    {
     "name": "stdout",
     "output_type": "stream",
     "text": [
      "train loss : 2.450460, [epoch:40, iter:300]\n",
      "train loss : 2.444569, [epoch:40, iter:400]\n",
      "train loss : 2.448479, [epoch:40, iter:500]\n",
      "train loss : 2.447955, [epoch:40, iter:600]\n",
      "train loss : 2.449883, [epoch:40, iter:700]\n",
      "train loss : 2.457865, [epoch:40, iter:800]\n",
      "train loss : 2.459400, [epoch:40, iter:900]\n",
      "train loss : 2.456385, [epoch:40, iter:1000]\n",
      "train loss : 2.457499, [epoch:40, iter:1100]\n",
      "train loss : 2.458714, [epoch:40, iter:1200]\n",
      "train loss : 2.461522, [epoch:40, iter:1300]\n",
      "train loss : 2.461998, [epoch:40, iter:1400]\n",
      "train loss : 2.460775, [epoch:40, iter:1500]\n",
      "train loss : 2.462326, [epoch:40, iter:1600]\n",
      "train loss : 2.465061, [epoch:40, iter:1700]\n",
      "train loss : 2.466096, [epoch:40, iter:1800]\n",
      "train loss : 2.467314, [epoch:40, iter:1900]\n",
      "train loss : 2.466716, [epoch:40, iter:2000]\n",
      "train loss : 2.466983, [epoch:40, iter:2100]\n",
      "train loss : 2.465413, [epoch:40, iter:2200]\n"
     ]
    },
    {
     "name": "stderr",
     "output_type": "stream",
     "text": [
      "/home/qkrwnstj/anaconda3/envs/qkrwnstj/lib/python3.9/site-packages/PIL/TiffImagePlugin.py:858: UserWarning: Corrupt EXIF data.  Expecting to read 2 bytes but only got 0. \n",
      "  warnings.warn(str(msg))\n"
     ]
    },
    {
     "name": "stdout",
     "output_type": "stream",
     "text": [
      "train loss : 2.466739, [epoch:40, iter:2300]\n",
      "train loss : 2.465542, [epoch:40, iter:2400]\n",
      "train loss : 2.468205, [epoch:40, iter:2500]\n",
      "TRAIN ACCURACY : 27.6% [22124/80128]\n"
     ]
    },
    {
     "name": "stderr",
     "output_type": "stream",
     "text": [
      "Train:  80%|██████████████████▍    | 40/50 [12:24:36<3:06:06, 1116.65s/it]"
     ]
    },
    {
     "name": "stdout",
     "output_type": "stream",
     "text": [
      "TEST ACCURACY : 15.7% [2790/17824]\n",
      "\n",
      "EPOCH:40 | train loss : 2.4682384215223903, test loss : 2.9668642605656568\n",
      "\n",
      "EPOCH 41 \n",
      "-------------------------\n",
      "train loss : 2.831720, [epoch:41, iter:0]\n",
      "train loss : 2.481996, [epoch:41, iter:100]\n",
      "train loss : 2.467642, [epoch:41, iter:200]\n",
      "train loss : 2.465117, [epoch:41, iter:300]\n"
     ]
    },
    {
     "name": "stderr",
     "output_type": "stream",
     "text": [
      "/home/qkrwnstj/anaconda3/envs/qkrwnstj/lib/python3.9/site-packages/PIL/TiffImagePlugin.py:858: UserWarning: Corrupt EXIF data.  Expecting to read 2 bytes but only got 0. \n",
      "  warnings.warn(str(msg))\n"
     ]
    },
    {
     "name": "stdout",
     "output_type": "stream",
     "text": [
      "train loss : 2.470052, [epoch:41, iter:400]\n",
      "train loss : 2.470750, [epoch:41, iter:500]\n",
      "train loss : 2.472158, [epoch:41, iter:600]\n",
      "train loss : 2.471107, [epoch:41, iter:700]\n",
      "train loss : 2.469112, [epoch:41, iter:800]\n",
      "train loss : 2.466401, [epoch:41, iter:900]\n",
      "train loss : 2.466974, [epoch:41, iter:1000]\n",
      "train loss : 2.466571, [epoch:41, iter:1100]\n",
      "train loss : 2.468403, [epoch:41, iter:1200]\n",
      "train loss : 2.468444, [epoch:41, iter:1300]\n"
     ]
    },
    {
     "name": "stderr",
     "output_type": "stream",
     "text": [
      "/home/qkrwnstj/anaconda3/envs/qkrwnstj/lib/python3.9/site-packages/PIL/TiffImagePlugin.py:858: UserWarning: Corrupt EXIF data.  Expecting to read 2 bytes but only got 0. \n",
      "  warnings.warn(str(msg))\n"
     ]
    },
    {
     "name": "stdout",
     "output_type": "stream",
     "text": [
      "train loss : 2.467888, [epoch:41, iter:1400]\n",
      "train loss : 2.467738, [epoch:41, iter:1500]\n",
      "train loss : 2.465803, [epoch:41, iter:1600]\n",
      "train loss : 2.465036, [epoch:41, iter:1700]\n",
      "train loss : 2.464787, [epoch:41, iter:1800]\n",
      "train loss : 2.468437, [epoch:41, iter:1900]\n",
      "train loss : 2.466979, [epoch:41, iter:2000]\n",
      "train loss : 2.465738, [epoch:41, iter:2100]\n",
      "train loss : 2.465810, [epoch:41, iter:2200]\n",
      "train loss : 2.467377, [epoch:41, iter:2300]\n",
      "train loss : 2.466535, [epoch:41, iter:2400]\n",
      "train loss : 2.465878, [epoch:41, iter:2500]\n",
      "TRAIN ACCURACY : 27.8% [22262/80128]\n"
     ]
    },
    {
     "name": "stderr",
     "output_type": "stream",
     "text": [
      "Train:  82%|██████████████████▊    | 41/50 [12:43:21<2:47:54, 1119.40s/it]"
     ]
    },
    {
     "name": "stdout",
     "output_type": "stream",
     "text": [
      "TEST ACCURACY : 15.6% [2785/17824]\n",
      "\n",
      "EPOCH:41 | train loss : 2.4659285536303686, test loss : 2.881617709593028\n",
      "\n",
      "EPOCH 42 \n",
      "-------------------------\n",
      "train loss : 2.904232, [epoch:42, iter:0]\n",
      "train loss : 2.484717, [epoch:42, iter:100]\n",
      "train loss : 2.457595, [epoch:42, iter:200]\n",
      "train loss : 2.465442, [epoch:42, iter:300]\n",
      "train loss : 2.464958, [epoch:42, iter:400]\n",
      "train loss : 2.473389, [epoch:42, iter:500]\n",
      "train loss : 2.463183, [epoch:42, iter:600]\n"
     ]
    },
    {
     "name": "stderr",
     "output_type": "stream",
     "text": [
      "/home/qkrwnstj/anaconda3/envs/qkrwnstj/lib/python3.9/site-packages/PIL/TiffImagePlugin.py:858: UserWarning: Corrupt EXIF data.  Expecting to read 2 bytes but only got 0. \n",
      "  warnings.warn(str(msg))\n"
     ]
    },
    {
     "name": "stdout",
     "output_type": "stream",
     "text": [
      "train loss : 2.464921, [epoch:42, iter:700]\n",
      "train loss : 2.465054, [epoch:42, iter:800]\n",
      "train loss : 2.461951, [epoch:42, iter:900]\n",
      "train loss : 2.462252, [epoch:42, iter:1000]\n",
      "train loss : 2.459872, [epoch:42, iter:1100]\n"
     ]
    },
    {
     "name": "stderr",
     "output_type": "stream",
     "text": [
      "/home/qkrwnstj/anaconda3/envs/qkrwnstj/lib/python3.9/site-packages/PIL/TiffImagePlugin.py:858: UserWarning: Corrupt EXIF data.  Expecting to read 2 bytes but only got 0. \n",
      "  warnings.warn(str(msg))\n"
     ]
    },
    {
     "name": "stdout",
     "output_type": "stream",
     "text": [
      "train loss : 2.461120, [epoch:42, iter:1200]\n",
      "train loss : 2.462502, [epoch:42, iter:1300]\n",
      "train loss : 2.463596, [epoch:42, iter:1400]\n",
      "train loss : 2.463394, [epoch:42, iter:1500]\n",
      "train loss : 2.462214, [epoch:42, iter:1600]\n",
      "train loss : 2.462795, [epoch:42, iter:1700]\n",
      "train loss : 2.463829, [epoch:42, iter:1800]\n",
      "train loss : 2.466361, [epoch:42, iter:1900]\n",
      "train loss : 2.465013, [epoch:42, iter:2000]\n",
      "train loss : 2.465572, [epoch:42, iter:2100]\n",
      "train loss : 2.464539, [epoch:42, iter:2200]\n",
      "train loss : 2.465814, [epoch:42, iter:2300]\n",
      "train loss : 2.464564, [epoch:42, iter:2400]\n",
      "train loss : 2.464428, [epoch:42, iter:2500]\n",
      "TRAIN ACCURACY : 27.6% [22116/80128]\n"
     ]
    },
    {
     "name": "stderr",
     "output_type": "stream",
     "text": [
      "Train:  84%|███████████████████▎   | 42/50 [13:02:10<2:29:37, 1122.21s/it]"
     ]
    },
    {
     "name": "stdout",
     "output_type": "stream",
     "text": [
      "TEST ACCURACY : 17.9% [3189/17824]\n",
      "\n",
      "EPOCH:42 | train loss : 2.4644022722023364, test loss : 2.7411046837133823\n",
      "\n",
      "EPOCH 43 \n",
      "-------------------------\n",
      "train loss : 2.376765, [epoch:43, iter:0]\n",
      "train loss : 2.472100, [epoch:43, iter:100]\n",
      "train loss : 2.469227, [epoch:43, iter:200]\n"
     ]
    },
    {
     "name": "stderr",
     "output_type": "stream",
     "text": [
      "/home/qkrwnstj/anaconda3/envs/qkrwnstj/lib/python3.9/site-packages/PIL/TiffImagePlugin.py:858: UserWarning: Corrupt EXIF data.  Expecting to read 2 bytes but only got 0. \n",
      "  warnings.warn(str(msg))\n"
     ]
    },
    {
     "name": "stdout",
     "output_type": "stream",
     "text": [
      "train loss : 2.464582, [epoch:43, iter:300]\n",
      "train loss : 2.452080, [epoch:43, iter:400]\n",
      "train loss : 2.458879, [epoch:43, iter:500]\n",
      "train loss : 2.458316, [epoch:43, iter:600]\n",
      "train loss : 2.459733, [epoch:43, iter:700]\n",
      "train loss : 2.460546, [epoch:43, iter:800]\n",
      "train loss : 2.462299, [epoch:43, iter:900]\n",
      "train loss : 2.466467, [epoch:43, iter:1000]\n",
      "train loss : 2.465401, [epoch:43, iter:1100]\n",
      "train loss : 2.465712, [epoch:43, iter:1200]\n",
      "train loss : 2.467441, [epoch:43, iter:1300]\n",
      "train loss : 2.468650, [epoch:43, iter:1400]\n",
      "train loss : 2.470446, [epoch:43, iter:1500]\n",
      "train loss : 2.471370, [epoch:43, iter:1600]\n"
     ]
    },
    {
     "name": "stderr",
     "output_type": "stream",
     "text": [
      "/home/qkrwnstj/anaconda3/envs/qkrwnstj/lib/python3.9/site-packages/PIL/TiffImagePlugin.py:858: UserWarning: Corrupt EXIF data.  Expecting to read 2 bytes but only got 0. \n",
      "  warnings.warn(str(msg))\n"
     ]
    },
    {
     "name": "stdout",
     "output_type": "stream",
     "text": [
      "train loss : 2.473401, [epoch:43, iter:1700]\n",
      "train loss : 2.471129, [epoch:43, iter:1800]\n",
      "train loss : 2.470845, [epoch:43, iter:1900]\n",
      "train loss : 2.469694, [epoch:43, iter:2000]\n",
      "train loss : 2.469489, [epoch:43, iter:2100]\n",
      "train loss : 2.467911, [epoch:43, iter:2200]\n",
      "train loss : 2.467331, [epoch:43, iter:2300]\n",
      "train loss : 2.466416, [epoch:43, iter:2400]\n",
      "train loss : 2.465742, [epoch:43, iter:2500]\n",
      "TRAIN ACCURACY : 27.6% [22109/80128]\n"
     ]
    },
    {
     "name": "stderr",
     "output_type": "stream",
     "text": [
      "Train:  86%|███████████████████▊   | 43/50 [13:20:50<2:10:50, 1121.51s/it]"
     ]
    },
    {
     "name": "stdout",
     "output_type": "stream",
     "text": [
      "TEST ACCURACY : 12.1% [2149/17824]\n",
      "\n",
      "EPOCH:43 | train loss : 2.465845202104733, test loss : 3.303070174085388\n",
      "\n",
      "EPOCH 44 \n",
      "-------------------------\n",
      "train loss : 2.523633, [epoch:44, iter:0]\n",
      "train loss : 2.472786, [epoch:44, iter:100]\n",
      "train loss : 2.463719, [epoch:44, iter:200]\n",
      "train loss : 2.462996, [epoch:44, iter:300]\n",
      "train loss : 2.461158, [epoch:44, iter:400]\n",
      "train loss : 2.458762, [epoch:44, iter:500]\n",
      "train loss : 2.460573, [epoch:44, iter:600]\n"
     ]
    },
    {
     "name": "stderr",
     "output_type": "stream",
     "text": [
      "/home/qkrwnstj/anaconda3/envs/qkrwnstj/lib/python3.9/site-packages/PIL/TiffImagePlugin.py:858: UserWarning: Corrupt EXIF data.  Expecting to read 2 bytes but only got 0. \n",
      "  warnings.warn(str(msg))\n"
     ]
    },
    {
     "name": "stdout",
     "output_type": "stream",
     "text": [
      "train loss : 2.464867, [epoch:44, iter:700]\n",
      "train loss : 2.468105, [epoch:44, iter:800]\n",
      "train loss : 2.464305, [epoch:44, iter:900]\n",
      "train loss : 2.465307, [epoch:44, iter:1000]\n",
      "train loss : 2.468317, [epoch:44, iter:1100]\n"
     ]
    },
    {
     "name": "stderr",
     "output_type": "stream",
     "text": [
      "/home/qkrwnstj/anaconda3/envs/qkrwnstj/lib/python3.9/site-packages/PIL/TiffImagePlugin.py:858: UserWarning: Corrupt EXIF data.  Expecting to read 2 bytes but only got 0. \n",
      "  warnings.warn(str(msg))\n"
     ]
    },
    {
     "name": "stdout",
     "output_type": "stream",
     "text": [
      "train loss : 2.469429, [epoch:44, iter:1200]\n",
      "train loss : 2.472805, [epoch:44, iter:1300]\n",
      "train loss : 2.469896, [epoch:44, iter:1400]\n",
      "train loss : 2.470847, [epoch:44, iter:1500]\n",
      "train loss : 2.470034, [epoch:44, iter:1600]\n",
      "train loss : 2.469564, [epoch:44, iter:1700]\n",
      "train loss : 2.468972, [epoch:44, iter:1800]\n",
      "train loss : 2.468037, [epoch:44, iter:1900]\n",
      "train loss : 2.468006, [epoch:44, iter:2000]\n",
      "train loss : 2.467788, [epoch:44, iter:2100]\n",
      "train loss : 2.467867, [epoch:44, iter:2200]\n",
      "train loss : 2.466760, [epoch:44, iter:2300]\n",
      "train loss : 2.466122, [epoch:44, iter:2400]\n",
      "train loss : 2.464365, [epoch:44, iter:2500]\n",
      "TRAIN ACCURACY : 27.6% [22105/80128]\n"
     ]
    },
    {
     "name": "stderr",
     "output_type": "stream",
     "text": [
      "Train:  88%|████████████████████▏  | 44/50 [13:39:48<1:52:37, 1126.33s/it]"
     ]
    },
    {
     "name": "stdout",
     "output_type": "stream",
     "text": [
      "TEST ACCURACY : 16.0% [2858/17824]\n",
      "\n",
      "EPOCH:44 | train loss : 2.464388899338512, test loss : 2.8718729061969093\n",
      "\n",
      "EPOCH 45 \n",
      "-------------------------\n",
      "train loss : 2.818661, [epoch:45, iter:0]\n",
      "train loss : 2.470478, [epoch:45, iter:100]\n",
      "train loss : 2.463209, [epoch:45, iter:200]\n"
     ]
    },
    {
     "name": "stderr",
     "output_type": "stream",
     "text": [
      "/home/qkrwnstj/anaconda3/envs/qkrwnstj/lib/python3.9/site-packages/PIL/TiffImagePlugin.py:858: UserWarning: Corrupt EXIF data.  Expecting to read 2 bytes but only got 0. \n",
      "  warnings.warn(str(msg))\n"
     ]
    },
    {
     "name": "stdout",
     "output_type": "stream",
     "text": [
      "train loss : 2.461696, [epoch:45, iter:300]\n",
      "train loss : 2.460849, [epoch:45, iter:400]\n",
      "train loss : 2.463832, [epoch:45, iter:500]\n",
      "train loss : 2.463197, [epoch:45, iter:600]\n",
      "train loss : 2.461181, [epoch:45, iter:700]\n",
      "train loss : 2.464146, [epoch:45, iter:800]\n",
      "train loss : 2.464362, [epoch:45, iter:900]\n",
      "train loss : 2.463619, [epoch:45, iter:1000]\n",
      "train loss : 2.458633, [epoch:45, iter:1100]\n",
      "train loss : 2.457622, [epoch:45, iter:1200]\n",
      "train loss : 2.459619, [epoch:45, iter:1300]\n",
      "train loss : 2.456430, [epoch:45, iter:1400]\n",
      "train loss : 2.456259, [epoch:45, iter:1500]\n"
     ]
    },
    {
     "name": "stderr",
     "output_type": "stream",
     "text": [
      "/home/qkrwnstj/anaconda3/envs/qkrwnstj/lib/python3.9/site-packages/PIL/TiffImagePlugin.py:858: UserWarning: Corrupt EXIF data.  Expecting to read 2 bytes but only got 0. \n",
      "  warnings.warn(str(msg))\n"
     ]
    },
    {
     "name": "stdout",
     "output_type": "stream",
     "text": [
      "train loss : 2.456372, [epoch:45, iter:1600]\n",
      "train loss : 2.456451, [epoch:45, iter:1700]\n",
      "train loss : 2.457553, [epoch:45, iter:1800]\n",
      "train loss : 2.460202, [epoch:45, iter:1900]\n",
      "train loss : 2.459339, [epoch:45, iter:2000]\n",
      "train loss : 2.460563, [epoch:45, iter:2100]\n",
      "train loss : 2.462176, [epoch:45, iter:2200]\n",
      "train loss : 2.461517, [epoch:45, iter:2300]\n",
      "train loss : 2.461705, [epoch:45, iter:2400]\n",
      "train loss : 2.461540, [epoch:45, iter:2500]\n",
      "TRAIN ACCURACY : 27.8% [22247/80128]\n"
     ]
    },
    {
     "name": "stderr",
     "output_type": "stream",
     "text": [
      "Train:  90%|████████████████████▋  | 45/50 [13:58:17<1:33:26, 1121.32s/it]"
     ]
    },
    {
     "name": "stdout",
     "output_type": "stream",
     "text": [
      "TEST ACCURACY : 17.4% [3104/17824]\n",
      "\n",
      "EPOCH:45 | train loss : 2.4615343120722724, test loss : 2.748277147967683\n",
      "\n",
      "EPOCH 46 \n",
      "-------------------------\n",
      "train loss : 2.513941, [epoch:46, iter:0]\n",
      "train loss : 2.425619, [epoch:46, iter:100]\n",
      "train loss : 2.444149, [epoch:46, iter:200]\n",
      "train loss : 2.444613, [epoch:46, iter:300]\n",
      "train loss : 2.445222, [epoch:46, iter:400]\n",
      "train loss : 2.450707, [epoch:46, iter:500]\n",
      "train loss : 2.446820, [epoch:46, iter:600]\n",
      "train loss : 2.446414, [epoch:46, iter:700]\n",
      "train loss : 2.446634, [epoch:46, iter:800]\n",
      "train loss : 2.447691, [epoch:46, iter:900]\n",
      "train loss : 2.450222, [epoch:46, iter:1000]\n",
      "train loss : 2.455133, [epoch:46, iter:1100]\n",
      "train loss : 2.458180, [epoch:46, iter:1200]\n",
      "train loss : 2.460064, [epoch:46, iter:1300]\n",
      "train loss : 2.461371, [epoch:46, iter:1400]\n",
      "train loss : 2.463951, [epoch:46, iter:1500]\n"
     ]
    },
    {
     "name": "stderr",
     "output_type": "stream",
     "text": [
      "/home/qkrwnstj/anaconda3/envs/qkrwnstj/lib/python3.9/site-packages/PIL/TiffImagePlugin.py:858: UserWarning: Corrupt EXIF data.  Expecting to read 2 bytes but only got 0. \n",
      "  warnings.warn(str(msg))\n"
     ]
    },
    {
     "name": "stdout",
     "output_type": "stream",
     "text": [
      "train loss : 2.465632, [epoch:46, iter:1600]\n",
      "train loss : 2.467512, [epoch:46, iter:1700]\n",
      "train loss : 2.466035, [epoch:46, iter:1800]\n",
      "train loss : 2.466293, [epoch:46, iter:1900]\n"
     ]
    },
    {
     "name": "stderr",
     "output_type": "stream",
     "text": [
      "/home/qkrwnstj/anaconda3/envs/qkrwnstj/lib/python3.9/site-packages/PIL/TiffImagePlugin.py:858: UserWarning: Corrupt EXIF data.  Expecting to read 2 bytes but only got 0. \n",
      "  warnings.warn(str(msg))\n"
     ]
    },
    {
     "name": "stdout",
     "output_type": "stream",
     "text": [
      "train loss : 2.465056, [epoch:46, iter:2000]\n",
      "train loss : 2.463273, [epoch:46, iter:2100]\n",
      "train loss : 2.463174, [epoch:46, iter:2200]\n",
      "train loss : 2.462382, [epoch:46, iter:2300]\n",
      "train loss : 2.462811, [epoch:46, iter:2400]\n",
      "train loss : 2.461632, [epoch:46, iter:2500]\n",
      "TRAIN ACCURACY : 27.9% [22318/80128]\n"
     ]
    },
    {
     "name": "stderr",
     "output_type": "stream",
     "text": [
      "Train:  92%|█████████████████████▏ | 46/50 [14:16:49<1:14:34, 1118.56s/it]"
     ]
    },
    {
     "name": "stdout",
     "output_type": "stream",
     "text": [
      "TEST ACCURACY : 18.2% [3245/17824]\n",
      "\n",
      "EPOCH:46 | train loss : 2.4616484667736884, test loss : 2.7467795210209953\n",
      "\n",
      "EPOCH 47 \n",
      "-------------------------\n",
      "train loss : 2.221134, [epoch:47, iter:0]\n",
      "train loss : 2.477938, [epoch:47, iter:100]\n",
      "train loss : 2.449442, [epoch:47, iter:200]\n",
      "train loss : 2.443163, [epoch:47, iter:300]\n",
      "train loss : 2.444819, [epoch:47, iter:400]\n",
      "train loss : 2.458774, [epoch:47, iter:500]\n",
      "train loss : 2.464495, [epoch:47, iter:600]\n",
      "train loss : 2.466340, [epoch:47, iter:700]\n",
      "train loss : 2.465011, [epoch:47, iter:800]\n",
      "train loss : 2.464738, [epoch:47, iter:900]\n",
      "train loss : 2.467454, [epoch:47, iter:1000]\n",
      "train loss : 2.466762, [epoch:47, iter:1100]\n"
     ]
    },
    {
     "name": "stderr",
     "output_type": "stream",
     "text": [
      "/home/qkrwnstj/anaconda3/envs/qkrwnstj/lib/python3.9/site-packages/PIL/TiffImagePlugin.py:858: UserWarning: Corrupt EXIF data.  Expecting to read 2 bytes but only got 0. \n",
      "  warnings.warn(str(msg))\n"
     ]
    },
    {
     "name": "stdout",
     "output_type": "stream",
     "text": [
      "train loss : 2.465858, [epoch:47, iter:1200]\n",
      "train loss : 2.463387, [epoch:47, iter:1300]\n",
      "train loss : 2.463130, [epoch:47, iter:1400]\n",
      "train loss : 2.462560, [epoch:47, iter:1500]\n",
      "train loss : 2.461594, [epoch:47, iter:1600]\n",
      "train loss : 2.461910, [epoch:47, iter:1700]\n",
      "train loss : 2.460559, [epoch:47, iter:1800]\n",
      "train loss : 2.460835, [epoch:47, iter:1900]\n",
      "train loss : 2.461089, [epoch:47, iter:2000]\n",
      "train loss : 2.461103, [epoch:47, iter:2100]\n"
     ]
    },
    {
     "name": "stderr",
     "output_type": "stream",
     "text": [
      "/home/qkrwnstj/anaconda3/envs/qkrwnstj/lib/python3.9/site-packages/PIL/TiffImagePlugin.py:858: UserWarning: Corrupt EXIF data.  Expecting to read 2 bytes but only got 0. \n",
      "  warnings.warn(str(msg))\n"
     ]
    },
    {
     "name": "stdout",
     "output_type": "stream",
     "text": [
      "train loss : 2.461446, [epoch:47, iter:2200]\n",
      "train loss : 2.461494, [epoch:47, iter:2300]\n",
      "train loss : 2.461238, [epoch:47, iter:2400]\n",
      "train loss : 2.462252, [epoch:47, iter:2500]\n",
      "TRAIN ACCURACY : 27.7% [22223/80128]\n"
     ]
    },
    {
     "name": "stderr",
     "output_type": "stream",
     "text": [
      "Train:  94%|███████████████████████▌ | 47/50 [14:35:11<55:40, 1113.41s/it]"
     ]
    },
    {
     "name": "stdout",
     "output_type": "stream",
     "text": [
      "TEST ACCURACY : 18.0% [3214/17824]\n",
      "\n",
      "EPOCH:47 | train loss : 2.4621580539229577, test loss : 2.7884106845787224\n",
      "\n",
      "EPOCH 48 \n",
      "-------------------------\n",
      "train loss : 2.356457, [epoch:48, iter:0]\n",
      "train loss : 2.473362, [epoch:48, iter:100]\n",
      "train loss : 2.456234, [epoch:48, iter:200]\n",
      "train loss : 2.447017, [epoch:48, iter:300]\n",
      "train loss : 2.442238, [epoch:48, iter:400]\n",
      "train loss : 2.448670, [epoch:48, iter:500]\n"
     ]
    },
    {
     "name": "stderr",
     "output_type": "stream",
     "text": [
      "/home/qkrwnstj/anaconda3/envs/qkrwnstj/lib/python3.9/site-packages/PIL/TiffImagePlugin.py:858: UserWarning: Corrupt EXIF data.  Expecting to read 2 bytes but only got 0. \n",
      "  warnings.warn(str(msg))\n"
     ]
    },
    {
     "name": "stdout",
     "output_type": "stream",
     "text": [
      "train loss : 2.451896, [epoch:48, iter:600]\n",
      "train loss : 2.463084, [epoch:48, iter:700]\n",
      "train loss : 2.465485, [epoch:48, iter:800]\n",
      "train loss : 2.465830, [epoch:48, iter:900]\n",
      "train loss : 2.462146, [epoch:48, iter:1000]\n",
      "train loss : 2.462698, [epoch:48, iter:1100]\n",
      "train loss : 2.461412, [epoch:48, iter:1200]\n",
      "train loss : 2.458894, [epoch:48, iter:1300]\n",
      "train loss : 2.460967, [epoch:48, iter:1400]\n",
      "train loss : 2.460713, [epoch:48, iter:1500]\n",
      "train loss : 2.460717, [epoch:48, iter:1600]\n",
      "train loss : 2.462387, [epoch:48, iter:1700]\n"
     ]
    },
    {
     "name": "stderr",
     "output_type": "stream",
     "text": [
      "/home/qkrwnstj/anaconda3/envs/qkrwnstj/lib/python3.9/site-packages/PIL/TiffImagePlugin.py:858: UserWarning: Corrupt EXIF data.  Expecting to read 2 bytes but only got 0. \n",
      "  warnings.warn(str(msg))\n"
     ]
    },
    {
     "name": "stdout",
     "output_type": "stream",
     "text": [
      "train loss : 2.461667, [epoch:48, iter:1800]\n",
      "train loss : 2.461058, [epoch:48, iter:1900]\n",
      "train loss : 2.461025, [epoch:48, iter:2000]\n",
      "train loss : 2.460909, [epoch:48, iter:2100]\n",
      "train loss : 2.460167, [epoch:48, iter:2200]\n",
      "train loss : 2.460980, [epoch:48, iter:2300]\n",
      "train loss : 2.459781, [epoch:48, iter:2400]\n",
      "train loss : 2.459526, [epoch:48, iter:2500]\n",
      "TRAIN ACCURACY : 27.8% [22314/80128]\n"
     ]
    },
    {
     "name": "stderr",
     "output_type": "stream",
     "text": [
      "Train:  96%|████████████████████████ | 48/50 [14:53:37<37:02, 1111.25s/it]"
     ]
    },
    {
     "name": "stdout",
     "output_type": "stream",
     "text": [
      "TEST ACCURACY : 14.1% [2516/17824]\n",
      "\n",
      "EPOCH:48 | train loss : 2.4594422825418722, test loss : 3.001166530314639\n",
      "\n",
      "EPOCH 49 \n",
      "-------------------------\n",
      "train loss : 2.916081, [epoch:49, iter:0]\n",
      "train loss : 2.488741, [epoch:49, iter:100]\n",
      "train loss : 2.475567, [epoch:49, iter:200]\n"
     ]
    },
    {
     "name": "stderr",
     "output_type": "stream",
     "text": [
      "/home/qkrwnstj/anaconda3/envs/qkrwnstj/lib/python3.9/site-packages/PIL/TiffImagePlugin.py:858: UserWarning: Corrupt EXIF data.  Expecting to read 2 bytes but only got 0. \n",
      "  warnings.warn(str(msg))\n"
     ]
    },
    {
     "name": "stdout",
     "output_type": "stream",
     "text": [
      "train loss : 2.473108, [epoch:49, iter:300]\n",
      "train loss : 2.464945, [epoch:49, iter:400]\n",
      "train loss : 2.464711, [epoch:49, iter:500]\n",
      "train loss : 2.458662, [epoch:49, iter:600]\n",
      "train loss : 2.462004, [epoch:49, iter:700]\n",
      "train loss : 2.455046, [epoch:49, iter:800]\n",
      "train loss : 2.456067, [epoch:49, iter:900]\n",
      "train loss : 2.459659, [epoch:49, iter:1000]\n",
      "train loss : 2.458879, [epoch:49, iter:1100]\n",
      "train loss : 2.459763, [epoch:49, iter:1200]\n",
      "train loss : 2.461612, [epoch:49, iter:1300]\n",
      "train loss : 2.464106, [epoch:49, iter:1400]\n"
     ]
    },
    {
     "name": "stderr",
     "output_type": "stream",
     "text": [
      "/home/qkrwnstj/anaconda3/envs/qkrwnstj/lib/python3.9/site-packages/PIL/TiffImagePlugin.py:858: UserWarning: Corrupt EXIF data.  Expecting to read 2 bytes but only got 0. \n",
      "  warnings.warn(str(msg))\n"
     ]
    },
    {
     "name": "stdout",
     "output_type": "stream",
     "text": [
      "train loss : 2.462807, [epoch:49, iter:1500]\n",
      "train loss : 2.464130, [epoch:49, iter:1600]\n",
      "train loss : 2.463908, [epoch:49, iter:1700]\n",
      "train loss : 2.462688, [epoch:49, iter:1800]\n",
      "train loss : 2.461161, [epoch:49, iter:1900]\n",
      "train loss : 2.459047, [epoch:49, iter:2000]\n",
      "train loss : 2.458425, [epoch:49, iter:2100]\n",
      "train loss : 2.457194, [epoch:49, iter:2200]\n",
      "train loss : 2.456060, [epoch:49, iter:2300]\n",
      "train loss : 2.457318, [epoch:49, iter:2400]\n",
      "train loss : 2.459604, [epoch:49, iter:2500]\n",
      "TRAIN ACCURACY : 27.8% [22265/80128]\n"
     ]
    },
    {
     "name": "stderr",
     "output_type": "stream",
     "text": [
      "Train:  98%|████████████████████████▌| 49/50 [15:12:02<18:29, 1109.38s/it]"
     ]
    },
    {
     "name": "stdout",
     "output_type": "stream",
     "text": [
      "TEST ACCURACY : 9.7% [1726/17824]\n",
      "\n",
      "EPOCH:49 | train loss : 2.4595935378021325, test loss : 3.4218658377923057\n",
      "\n",
      "EPOCH 50 \n",
      "-------------------------\n",
      "train loss : 2.427617, [epoch:50, iter:0]\n",
      "train loss : 2.460852, [epoch:50, iter:100]\n",
      "train loss : 2.454894, [epoch:50, iter:200]\n",
      "train loss : 2.449737, [epoch:50, iter:300]\n",
      "train loss : 2.447161, [epoch:50, iter:400]\n",
      "train loss : 2.443429, [epoch:50, iter:500]\n",
      "train loss : 2.450088, [epoch:50, iter:600]\n",
      "train loss : 2.452757, [epoch:50, iter:700]\n",
      "train loss : 2.449282, [epoch:50, iter:800]\n",
      "train loss : 2.451794, [epoch:50, iter:900]\n",
      "train loss : 2.454379, [epoch:50, iter:1000]\n",
      "train loss : 2.456629, [epoch:50, iter:1100]\n",
      "train loss : 2.455027, [epoch:50, iter:1200]\n"
     ]
    },
    {
     "name": "stderr",
     "output_type": "stream",
     "text": [
      "/home/qkrwnstj/anaconda3/envs/qkrwnstj/lib/python3.9/site-packages/PIL/TiffImagePlugin.py:858: UserWarning: Corrupt EXIF data.  Expecting to read 2 bytes but only got 0. \n",
      "  warnings.warn(str(msg))\n"
     ]
    },
    {
     "name": "stdout",
     "output_type": "stream",
     "text": [
      "train loss : 2.458933, [epoch:50, iter:1300]\n",
      "train loss : 2.460763, [epoch:50, iter:1400]\n",
      "train loss : 2.460239, [epoch:50, iter:1500]\n",
      "train loss : 2.459692, [epoch:50, iter:1600]\n",
      "train loss : 2.461168, [epoch:50, iter:1700]\n",
      "train loss : 2.462873, [epoch:50, iter:1800]\n",
      "train loss : 2.462800, [epoch:50, iter:1900]\n",
      "train loss : 2.462316, [epoch:50, iter:2000]\n",
      "train loss : 2.462488, [epoch:50, iter:2100]\n",
      "train loss : 2.461086, [epoch:50, iter:2200]\n",
      "train loss : 2.460640, [epoch:50, iter:2300]\n"
     ]
    },
    {
     "name": "stderr",
     "output_type": "stream",
     "text": [
      "/home/qkrwnstj/anaconda3/envs/qkrwnstj/lib/python3.9/site-packages/PIL/TiffImagePlugin.py:858: UserWarning: Corrupt EXIF data.  Expecting to read 2 bytes but only got 0. \n",
      "  warnings.warn(str(msg))\n"
     ]
    },
    {
     "name": "stdout",
     "output_type": "stream",
     "text": [
      "train loss : 2.461306, [epoch:50, iter:2400]\n",
      "train loss : 2.461136, [epoch:50, iter:2500]\n",
      "TRAIN ACCURACY : 27.8% [22298/80128]\n"
     ]
    },
    {
     "name": "stderr",
     "output_type": "stream",
     "text": [
      "Train: 100%|█████████████████████████| 50/50 [15:30:25<00:00, 1116.50s/it]"
     ]
    },
    {
     "name": "stdout",
     "output_type": "stream",
     "text": [
      "TEST ACCURACY : 17.7% [3155/17824]\n",
      "\n",
      "EPOCH:50 | train loss : 2.460976928900987, test loss : 2.8491460048531714\n",
      "\n",
      "DONE!\n"
     ]
    },
    {
     "name": "stderr",
     "output_type": "stream",
     "text": [
      "\n"
     ]
    }
   ],
   "source": [
    "train_loss_lst, test_loss_lst = [], []\n",
    "\n",
    "model_version = 1\n",
    "\n",
    "\n",
    "test_best_loss = 100\n",
    "test_current_loss = 100\n",
    "early_stop_threshold = 5\n",
    "early_stop_trigger = 0\n",
    "\n",
    "model = model.to(DEVICE)\n",
    "\n",
    "for i in tqdm(range(EPOCH), desc = 'Train'):\n",
    "    print(f\"EPOCH {i+1} \\n-------------------------\")\n",
    "    train_loss = train(train_dataloader, model, optimizer, criterion, i+1)\n",
    "    test_loss = test(test_dataloader, model, criterion, i+1)\n",
    "\n",
    "    train_loss_lst.append(train_loss)\n",
    "    test_loss_lst.append(test_loss)\n",
    "\n",
    "    if test_loss < test_best_loss :\n",
    "        print(\"...MODEL SAVE...\")\n",
    "        test_best_loss = test_loss \n",
    "        \n",
    "        if model_version == 0:\n",
    "            torch.save(model.state_dict(),'contrastive_model_for_style_weight_v2_without_target_style.pth')\n",
    "        else:\n",
    "            torch.save(model.state_dict(),'contrastive_model_for_style_weight_resnet.pth')\n",
    "        \n",
    "    if test_current_loss < test_loss:\n",
    "        early_stop_trigger += 1 \n",
    "    else:\n",
    "        early_stop_trigger = 0 \n",
    "    test_current_loss  = test_loss \n",
    "\n",
    "    print(f'\\nEPOCH:{i+1} | train loss : {train_loss}, test loss : {test_loss}\\n')\n",
    "    \n",
    "    if early_stop_trigger >= early_stop_threshold:\n",
    "        break\n",
    "        \n",
    "print(\"DONE!\")"
   ]
  },
  {
   "cell_type": "code",
   "execution_count": null,
   "id": "da12b1f9-ee33-4e24-9983-47749d373c2f",
   "metadata": {},
   "outputs": [],
   "source": []
  },
  {
   "cell_type": "code",
   "execution_count": null,
   "id": "ccb57e56-33cf-454e-8697-013513763e4f",
   "metadata": {},
   "outputs": [],
   "source": []
  },
  {
   "cell_type": "code",
   "execution_count": null,
   "id": "26709857-15e0-4ede-862a-22fda793c382",
   "metadata": {},
   "outputs": [],
   "source": []
  },
  {
   "cell_type": "code",
   "execution_count": null,
   "id": "fa5c944c-41ba-4c1d-8355-c45ce9353491",
   "metadata": {},
   "outputs": [],
   "source": []
  },
  {
   "cell_type": "code",
   "execution_count": null,
   "id": "beb22a7e-3405-4c50-8caa-2134613b3bff",
   "metadata": {},
   "outputs": [],
   "source": []
  },
  {
   "cell_type": "code",
   "execution_count": null,
   "id": "3ba4c834-847f-4c42-9eb1-6cd8767a246c",
   "metadata": {},
   "outputs": [],
   "source": []
  }
 ],
 "metadata": {
  "kernelspec": {
   "display_name": "qkrwnstj",
   "language": "python",
   "name": "qkrwnstj"
  },
  "language_info": {
   "codemirror_mode": {
    "name": "ipython",
    "version": 3
   },
   "file_extension": ".py",
   "mimetype": "text/x-python",
   "name": "python",
   "nbconvert_exporter": "python",
   "pygments_lexer": "ipython3",
   "version": "3.9.1"
  }
 },
 "nbformat": 4,
 "nbformat_minor": 5
}
