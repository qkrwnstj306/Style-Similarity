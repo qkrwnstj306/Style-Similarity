{
 "cells": [
  {
   "cell_type": "code",
   "execution_count": 1,
   "id": "c55f199e-724e-4a6d-8490-526496c038ea",
   "metadata": {},
   "outputs": [],
   "source": [
    "import torchvision\n",
    "from torchvision import models\n",
    "from torchvision.datasets import ImageFolder\n",
    "import torchvision.transforms as transforms\n",
    "from torch.utils.data import Dataset, DataLoader\n",
    "\n",
    "import os, subprocess\n",
    "import matplotlib.pyplot as plt\n",
    "import numpy as np\n",
    "from PIL import Image"
   ]
  },
  {
   "cell_type": "code",
   "execution_count": 2,
   "id": "6e9e42c5-62b1-4b1e-ac5d-6df3cd731284",
   "metadata": {
    "scrolled": true
   },
   "outputs": [
    {
     "name": "stdout",
     "output_type": "stream",
     "text": [
      "AlexNet\n",
      "AlexNet_Weights\n",
      "ConvNeXt\n",
      "ConvNeXt_Base_Weights\n",
      "ConvNeXt_Large_Weights\n",
      "ConvNeXt_Small_Weights\n",
      "ConvNeXt_Tiny_Weights\n",
      "DenseNet\n",
      "DenseNet121_Weights\n",
      "DenseNet161_Weights\n",
      "DenseNet169_Weights\n",
      "DenseNet201_Weights\n",
      "EfficientNet\n",
      "EfficientNet_B0_Weights\n",
      "EfficientNet_B1_Weights\n",
      "EfficientNet_B2_Weights\n",
      "EfficientNet_B3_Weights\n",
      "EfficientNet_B4_Weights\n",
      "EfficientNet_B5_Weights\n",
      "EfficientNet_B6_Weights\n",
      "EfficientNet_B7_Weights\n",
      "EfficientNet_V2_L_Weights\n",
      "EfficientNet_V2_M_Weights\n",
      "EfficientNet_V2_S_Weights\n",
      "GoogLeNet\n",
      "GoogLeNetOutputs\n",
      "GoogLeNet_Weights\n",
      "Inception3\n",
      "InceptionOutputs\n",
      "Inception_V3_Weights\n",
      "MNASNet\n",
      "MNASNet0_5_Weights\n",
      "MNASNet0_75_Weights\n",
      "MNASNet1_0_Weights\n",
      "MNASNet1_3_Weights\n",
      "MaxVit\n",
      "MaxVit_T_Weights\n",
      "MobileNetV2\n",
      "MobileNetV3\n",
      "MobileNet_V2_Weights\n",
      "MobileNet_V3_Large_Weights\n",
      "MobileNet_V3_Small_Weights\n",
      "RegNet\n",
      "RegNet_X_16GF_Weights\n",
      "RegNet_X_1_6GF_Weights\n",
      "RegNet_X_32GF_Weights\n",
      "RegNet_X_3_2GF_Weights\n",
      "RegNet_X_400MF_Weights\n",
      "RegNet_X_800MF_Weights\n",
      "RegNet_X_8GF_Weights\n",
      "RegNet_Y_128GF_Weights\n",
      "RegNet_Y_16GF_Weights\n",
      "RegNet_Y_1_6GF_Weights\n",
      "RegNet_Y_32GF_Weights\n",
      "RegNet_Y_3_2GF_Weights\n",
      "RegNet_Y_400MF_Weights\n",
      "RegNet_Y_800MF_Weights\n",
      "RegNet_Y_8GF_Weights\n",
      "ResNeXt101_32X8D_Weights\n",
      "ResNeXt101_64X4D_Weights\n",
      "ResNeXt50_32X4D_Weights\n",
      "ResNet\n",
      "ResNet101_Weights\n",
      "ResNet152_Weights\n",
      "ResNet18_Weights\n",
      "ResNet34_Weights\n",
      "ResNet50_Weights\n",
      "ShuffleNetV2\n",
      "ShuffleNet_V2_X0_5_Weights\n",
      "ShuffleNet_V2_X1_0_Weights\n",
      "ShuffleNet_V2_X1_5_Weights\n",
      "ShuffleNet_V2_X2_0_Weights\n",
      "SqueezeNet\n",
      "SqueezeNet1_0_Weights\n",
      "SqueezeNet1_1_Weights\n",
      "SwinTransformer\n",
      "Swin_B_Weights\n",
      "Swin_S_Weights\n",
      "Swin_T_Weights\n",
      "Swin_V2_B_Weights\n",
      "Swin_V2_S_Weights\n",
      "Swin_V2_T_Weights\n",
      "VGG\n",
      "VGG11_BN_Weights\n",
      "VGG11_Weights\n",
      "VGG13_BN_Weights\n",
      "VGG13_Weights\n",
      "VGG16_BN_Weights\n",
      "VGG16_Weights\n",
      "VGG19_BN_Weights\n",
      "VGG19_Weights\n",
      "ViT_B_16_Weights\n",
      "ViT_B_32_Weights\n",
      "ViT_H_14_Weights\n",
      "ViT_L_16_Weights\n",
      "ViT_L_32_Weights\n",
      "VisionTransformer\n",
      "Weights\n",
      "WeightsEnum\n",
      "Wide_ResNet101_2_Weights\n",
      "Wide_ResNet50_2_Weights\n",
      "_GoogLeNetOutputs\n",
      "_InceptionOutputs\n",
      "__builtins__\n",
      "__cached__\n",
      "__doc__\n",
      "__file__\n",
      "__loader__\n",
      "__name__\n",
      "__package__\n",
      "__path__\n",
      "__spec__\n",
      "_api\n",
      "_meta\n",
      "_utils\n",
      "alexnet\n",
      "convnext\n",
      "convnext_base\n",
      "convnext_large\n",
      "convnext_small\n",
      "convnext_tiny\n",
      "densenet\n",
      "densenet121\n",
      "densenet161\n",
      "densenet169\n",
      "densenet201\n",
      "detection\n",
      "efficientnet\n",
      "efficientnet_b0\n",
      "efficientnet_b1\n",
      "efficientnet_b2\n",
      "efficientnet_b3\n",
      "efficientnet_b4\n",
      "efficientnet_b5\n",
      "efficientnet_b6\n",
      "efficientnet_b7\n",
      "efficientnet_v2_l\n",
      "efficientnet_v2_m\n",
      "efficientnet_v2_s\n",
      "get_model\n",
      "get_model_builder\n",
      "get_model_weights\n",
      "get_weight\n",
      "googlenet\n",
      "inception\n",
      "inception_v3\n",
      "list_models\n",
      "maxvit\n",
      "maxvit_t\n",
      "mnasnet\n",
      "mnasnet0_5\n",
      "mnasnet0_75\n",
      "mnasnet1_0\n",
      "mnasnet1_3\n",
      "mobilenet\n",
      "mobilenet_v2\n",
      "mobilenet_v3_large\n",
      "mobilenet_v3_small\n",
      "mobilenetv2\n",
      "mobilenetv3\n",
      "optical_flow\n",
      "quantization\n",
      "regnet\n",
      "regnet_x_16gf\n",
      "regnet_x_1_6gf\n",
      "regnet_x_32gf\n",
      "regnet_x_3_2gf\n",
      "regnet_x_400mf\n",
      "regnet_x_800mf\n",
      "regnet_x_8gf\n",
      "regnet_y_128gf\n",
      "regnet_y_16gf\n",
      "regnet_y_1_6gf\n",
      "regnet_y_32gf\n",
      "regnet_y_3_2gf\n",
      "regnet_y_400mf\n",
      "regnet_y_800mf\n",
      "regnet_y_8gf\n",
      "resnet\n",
      "resnet101\n",
      "resnet152\n",
      "resnet18\n",
      "resnet34\n",
      "resnet50\n",
      "resnext101_32x8d\n",
      "resnext101_64x4d\n",
      "resnext50_32x4d\n",
      "segmentation\n",
      "shufflenet_v2_x0_5\n",
      "shufflenet_v2_x1_0\n",
      "shufflenet_v2_x1_5\n",
      "shufflenet_v2_x2_0\n",
      "shufflenetv2\n",
      "squeezenet\n",
      "squeezenet1_0\n",
      "squeezenet1_1\n",
      "swin_b\n",
      "swin_s\n",
      "swin_t\n",
      "swin_transformer\n",
      "swin_v2_b\n",
      "swin_v2_s\n",
      "swin_v2_t\n",
      "vgg\n",
      "vgg11\n",
      "vgg11_bn\n",
      "vgg13\n",
      "vgg13_bn\n",
      "vgg16\n",
      "vgg16_bn\n",
      "vgg19\n",
      "vgg19_bn\n",
      "video\n",
      "vision_transformer\n",
      "vit_b_16\n",
      "vit_b_32\n",
      "vit_h_14\n",
      "vit_l_16\n",
      "vit_l_32\n",
      "wide_resnet101_2\n",
      "wide_resnet50_2\n"
     ]
    }
   ],
   "source": [
    "for name in dir(torchvision.models):\n",
    "    print(name)"
   ]
  },
  {
   "cell_type": "code",
   "execution_count": 3,
   "id": "7ed23181-947c-4d44-ac54-29c452c5e0f8",
   "metadata": {},
   "outputs": [
    {
     "name": "stderr",
     "output_type": "stream",
     "text": [
      "/home/qkrwnstj/anaconda3/envs/qkrwnstj/lib/python3.9/site-packages/torchvision/models/_utils.py:208: UserWarning: The parameter 'pretrained' is deprecated since 0.13 and may be removed in the future, please use 'weights' instead.\n",
      "  warnings.warn(\n",
      "/home/qkrwnstj/anaconda3/envs/qkrwnstj/lib/python3.9/site-packages/torchvision/models/_utils.py:223: UserWarning: Arguments other than a weight enum or `None` for 'weights' are deprecated since 0.13 and may be removed in the future. The current behavior is equivalent to passing `weights=ResNet18_Weights.IMAGENET1K_V1`. You can also use `weights=ResNet18_Weights.DEFAULT` to get the most up-to-date weights.\n",
      "  warnings.warn(msg)\n"
     ]
    },
    {
     "data": {
      "text/plain": [
       "ResNet(\n",
       "  (conv1): Conv2d(3, 64, kernel_size=(7, 7), stride=(2, 2), padding=(3, 3), bias=False)\n",
       "  (bn1): BatchNorm2d(64, eps=1e-05, momentum=0.1, affine=True, track_running_stats=True)\n",
       "  (relu): ReLU(inplace=True)\n",
       "  (maxpool): MaxPool2d(kernel_size=3, stride=2, padding=1, dilation=1, ceil_mode=False)\n",
       "  (layer1): Sequential(\n",
       "    (0): BasicBlock(\n",
       "      (conv1): Conv2d(64, 64, kernel_size=(3, 3), stride=(1, 1), padding=(1, 1), bias=False)\n",
       "      (bn1): BatchNorm2d(64, eps=1e-05, momentum=0.1, affine=True, track_running_stats=True)\n",
       "      (relu): ReLU(inplace=True)\n",
       "      (conv2): Conv2d(64, 64, kernel_size=(3, 3), stride=(1, 1), padding=(1, 1), bias=False)\n",
       "      (bn2): BatchNorm2d(64, eps=1e-05, momentum=0.1, affine=True, track_running_stats=True)\n",
       "    )\n",
       "    (1): BasicBlock(\n",
       "      (conv1): Conv2d(64, 64, kernel_size=(3, 3), stride=(1, 1), padding=(1, 1), bias=False)\n",
       "      (bn1): BatchNorm2d(64, eps=1e-05, momentum=0.1, affine=True, track_running_stats=True)\n",
       "      (relu): ReLU(inplace=True)\n",
       "      (conv2): Conv2d(64, 64, kernel_size=(3, 3), stride=(1, 1), padding=(1, 1), bias=False)\n",
       "      (bn2): BatchNorm2d(64, eps=1e-05, momentum=0.1, affine=True, track_running_stats=True)\n",
       "    )\n",
       "  )\n",
       "  (layer2): Sequential(\n",
       "    (0): BasicBlock(\n",
       "      (conv1): Conv2d(64, 128, kernel_size=(3, 3), stride=(2, 2), padding=(1, 1), bias=False)\n",
       "      (bn1): BatchNorm2d(128, eps=1e-05, momentum=0.1, affine=True, track_running_stats=True)\n",
       "      (relu): ReLU(inplace=True)\n",
       "      (conv2): Conv2d(128, 128, kernel_size=(3, 3), stride=(1, 1), padding=(1, 1), bias=False)\n",
       "      (bn2): BatchNorm2d(128, eps=1e-05, momentum=0.1, affine=True, track_running_stats=True)\n",
       "      (downsample): Sequential(\n",
       "        (0): Conv2d(64, 128, kernel_size=(1, 1), stride=(2, 2), bias=False)\n",
       "        (1): BatchNorm2d(128, eps=1e-05, momentum=0.1, affine=True, track_running_stats=True)\n",
       "      )\n",
       "    )\n",
       "    (1): BasicBlock(\n",
       "      (conv1): Conv2d(128, 128, kernel_size=(3, 3), stride=(1, 1), padding=(1, 1), bias=False)\n",
       "      (bn1): BatchNorm2d(128, eps=1e-05, momentum=0.1, affine=True, track_running_stats=True)\n",
       "      (relu): ReLU(inplace=True)\n",
       "      (conv2): Conv2d(128, 128, kernel_size=(3, 3), stride=(1, 1), padding=(1, 1), bias=False)\n",
       "      (bn2): BatchNorm2d(128, eps=1e-05, momentum=0.1, affine=True, track_running_stats=True)\n",
       "    )\n",
       "  )\n",
       "  (layer3): Sequential(\n",
       "    (0): BasicBlock(\n",
       "      (conv1): Conv2d(128, 256, kernel_size=(3, 3), stride=(2, 2), padding=(1, 1), bias=False)\n",
       "      (bn1): BatchNorm2d(256, eps=1e-05, momentum=0.1, affine=True, track_running_stats=True)\n",
       "      (relu): ReLU(inplace=True)\n",
       "      (conv2): Conv2d(256, 256, kernel_size=(3, 3), stride=(1, 1), padding=(1, 1), bias=False)\n",
       "      (bn2): BatchNorm2d(256, eps=1e-05, momentum=0.1, affine=True, track_running_stats=True)\n",
       "      (downsample): Sequential(\n",
       "        (0): Conv2d(128, 256, kernel_size=(1, 1), stride=(2, 2), bias=False)\n",
       "        (1): BatchNorm2d(256, eps=1e-05, momentum=0.1, affine=True, track_running_stats=True)\n",
       "      )\n",
       "    )\n",
       "    (1): BasicBlock(\n",
       "      (conv1): Conv2d(256, 256, kernel_size=(3, 3), stride=(1, 1), padding=(1, 1), bias=False)\n",
       "      (bn1): BatchNorm2d(256, eps=1e-05, momentum=0.1, affine=True, track_running_stats=True)\n",
       "      (relu): ReLU(inplace=True)\n",
       "      (conv2): Conv2d(256, 256, kernel_size=(3, 3), stride=(1, 1), padding=(1, 1), bias=False)\n",
       "      (bn2): BatchNorm2d(256, eps=1e-05, momentum=0.1, affine=True, track_running_stats=True)\n",
       "    )\n",
       "  )\n",
       "  (layer4): Sequential(\n",
       "    (0): BasicBlock(\n",
       "      (conv1): Conv2d(256, 512, kernel_size=(3, 3), stride=(2, 2), padding=(1, 1), bias=False)\n",
       "      (bn1): BatchNorm2d(512, eps=1e-05, momentum=0.1, affine=True, track_running_stats=True)\n",
       "      (relu): ReLU(inplace=True)\n",
       "      (conv2): Conv2d(512, 512, kernel_size=(3, 3), stride=(1, 1), padding=(1, 1), bias=False)\n",
       "      (bn2): BatchNorm2d(512, eps=1e-05, momentum=0.1, affine=True, track_running_stats=True)\n",
       "      (downsample): Sequential(\n",
       "        (0): Conv2d(256, 512, kernel_size=(1, 1), stride=(2, 2), bias=False)\n",
       "        (1): BatchNorm2d(512, eps=1e-05, momentum=0.1, affine=True, track_running_stats=True)\n",
       "      )\n",
       "    )\n",
       "    (1): BasicBlock(\n",
       "      (conv1): Conv2d(512, 512, kernel_size=(3, 3), stride=(1, 1), padding=(1, 1), bias=False)\n",
       "      (bn1): BatchNorm2d(512, eps=1e-05, momentum=0.1, affine=True, track_running_stats=True)\n",
       "      (relu): ReLU(inplace=True)\n",
       "      (conv2): Conv2d(512, 512, kernel_size=(3, 3), stride=(1, 1), padding=(1, 1), bias=False)\n",
       "      (bn2): BatchNorm2d(512, eps=1e-05, momentum=0.1, affine=True, track_running_stats=True)\n",
       "    )\n",
       "  )\n",
       "  (avgpool): AdaptiveAvgPool2d(output_size=(1, 1))\n",
       "  (fc): Linear(in_features=512, out_features=1000, bias=True)\n",
       ")"
      ]
     },
     "execution_count": 3,
     "metadata": {},
     "output_type": "execute_result"
    }
   ],
   "source": [
    "import torch\n",
    "import torch.nn as nn\n",
    "\n",
    "from tqdm import tqdm\n",
    "\n",
    "\n",
    "model = models.resnet18(pretrained=True)\n",
    "model"
   ]
  },
  {
   "cell_type": "code",
   "execution_count": 4,
   "id": "b4980d57-1108-4e39-8553-aaeb52c10de7",
   "metadata": {},
   "outputs": [
    {
     "data": {
      "text/plain": [
       "ResNet(\n",
       "  (conv1): Conv2d(3, 64, kernel_size=(7, 7), stride=(2, 2), padding=(3, 3), bias=False)\n",
       "  (bn1): BatchNorm2d(64, eps=1e-05, momentum=0.1, affine=True, track_running_stats=True)\n",
       "  (relu): ReLU(inplace=True)\n",
       "  (maxpool): MaxPool2d(kernel_size=3, stride=2, padding=1, dilation=1, ceil_mode=False)\n",
       "  (layer1): Sequential(\n",
       "    (0): BasicBlock(\n",
       "      (conv1): Conv2d(64, 64, kernel_size=(3, 3), stride=(1, 1), padding=(1, 1), bias=False)\n",
       "      (bn1): BatchNorm2d(64, eps=1e-05, momentum=0.1, affine=True, track_running_stats=True)\n",
       "      (relu): ReLU(inplace=True)\n",
       "      (conv2): Conv2d(64, 64, kernel_size=(3, 3), stride=(1, 1), padding=(1, 1), bias=False)\n",
       "      (bn2): BatchNorm2d(64, eps=1e-05, momentum=0.1, affine=True, track_running_stats=True)\n",
       "    )\n",
       "    (1): BasicBlock(\n",
       "      (conv1): Conv2d(64, 64, kernel_size=(3, 3), stride=(1, 1), padding=(1, 1), bias=False)\n",
       "      (bn1): BatchNorm2d(64, eps=1e-05, momentum=0.1, affine=True, track_running_stats=True)\n",
       "      (relu): ReLU(inplace=True)\n",
       "      (conv2): Conv2d(64, 64, kernel_size=(3, 3), stride=(1, 1), padding=(1, 1), bias=False)\n",
       "      (bn2): BatchNorm2d(64, eps=1e-05, momentum=0.1, affine=True, track_running_stats=True)\n",
       "    )\n",
       "  )\n",
       "  (layer2): Sequential(\n",
       "    (0): BasicBlock(\n",
       "      (conv1): Conv2d(64, 128, kernel_size=(3, 3), stride=(2, 2), padding=(1, 1), bias=False)\n",
       "      (bn1): BatchNorm2d(128, eps=1e-05, momentum=0.1, affine=True, track_running_stats=True)\n",
       "      (relu): ReLU(inplace=True)\n",
       "      (conv2): Conv2d(128, 128, kernel_size=(3, 3), stride=(1, 1), padding=(1, 1), bias=False)\n",
       "      (bn2): BatchNorm2d(128, eps=1e-05, momentum=0.1, affine=True, track_running_stats=True)\n",
       "      (downsample): Sequential(\n",
       "        (0): Conv2d(64, 128, kernel_size=(1, 1), stride=(2, 2), bias=False)\n",
       "        (1): BatchNorm2d(128, eps=1e-05, momentum=0.1, affine=True, track_running_stats=True)\n",
       "      )\n",
       "    )\n",
       "    (1): BasicBlock(\n",
       "      (conv1): Conv2d(128, 128, kernel_size=(3, 3), stride=(1, 1), padding=(1, 1), bias=False)\n",
       "      (bn1): BatchNorm2d(128, eps=1e-05, momentum=0.1, affine=True, track_running_stats=True)\n",
       "      (relu): ReLU(inplace=True)\n",
       "      (conv2): Conv2d(128, 128, kernel_size=(3, 3), stride=(1, 1), padding=(1, 1), bias=False)\n",
       "      (bn2): BatchNorm2d(128, eps=1e-05, momentum=0.1, affine=True, track_running_stats=True)\n",
       "    )\n",
       "  )\n",
       "  (layer3): Sequential(\n",
       "    (0): BasicBlock(\n",
       "      (conv1): Conv2d(128, 256, kernel_size=(3, 3), stride=(2, 2), padding=(1, 1), bias=False)\n",
       "      (bn1): BatchNorm2d(256, eps=1e-05, momentum=0.1, affine=True, track_running_stats=True)\n",
       "      (relu): ReLU(inplace=True)\n",
       "      (conv2): Conv2d(256, 256, kernel_size=(3, 3), stride=(1, 1), padding=(1, 1), bias=False)\n",
       "      (bn2): BatchNorm2d(256, eps=1e-05, momentum=0.1, affine=True, track_running_stats=True)\n",
       "      (downsample): Sequential(\n",
       "        (0): Conv2d(128, 256, kernel_size=(1, 1), stride=(2, 2), bias=False)\n",
       "        (1): BatchNorm2d(256, eps=1e-05, momentum=0.1, affine=True, track_running_stats=True)\n",
       "      )\n",
       "    )\n",
       "    (1): BasicBlock(\n",
       "      (conv1): Conv2d(256, 256, kernel_size=(3, 3), stride=(1, 1), padding=(1, 1), bias=False)\n",
       "      (bn1): BatchNorm2d(256, eps=1e-05, momentum=0.1, affine=True, track_running_stats=True)\n",
       "      (relu): ReLU(inplace=True)\n",
       "      (conv2): Conv2d(256, 256, kernel_size=(3, 3), stride=(1, 1), padding=(1, 1), bias=False)\n",
       "      (bn2): BatchNorm2d(256, eps=1e-05, momentum=0.1, affine=True, track_running_stats=True)\n",
       "    )\n",
       "  )\n",
       "  (layer4): Sequential(\n",
       "    (0): BasicBlock(\n",
       "      (conv1): Conv2d(256, 512, kernel_size=(3, 3), stride=(2, 2), padding=(1, 1), bias=False)\n",
       "      (bn1): BatchNorm2d(512, eps=1e-05, momentum=0.1, affine=True, track_running_stats=True)\n",
       "      (relu): ReLU(inplace=True)\n",
       "      (conv2): Conv2d(512, 512, kernel_size=(3, 3), stride=(1, 1), padding=(1, 1), bias=False)\n",
       "      (bn2): BatchNorm2d(512, eps=1e-05, momentum=0.1, affine=True, track_running_stats=True)\n",
       "      (downsample): Sequential(\n",
       "        (0): Conv2d(256, 512, kernel_size=(1, 1), stride=(2, 2), bias=False)\n",
       "        (1): BatchNorm2d(512, eps=1e-05, momentum=0.1, affine=True, track_running_stats=True)\n",
       "      )\n",
       "    )\n",
       "    (1): BasicBlock(\n",
       "      (conv1): Conv2d(512, 512, kernel_size=(3, 3), stride=(1, 1), padding=(1, 1), bias=False)\n",
       "      (bn1): BatchNorm2d(512, eps=1e-05, momentum=0.1, affine=True, track_running_stats=True)\n",
       "      (relu): ReLU(inplace=True)\n",
       "      (conv2): Conv2d(512, 512, kernel_size=(3, 3), stride=(1, 1), padding=(1, 1), bias=False)\n",
       "      (bn2): BatchNorm2d(512, eps=1e-05, momentum=0.1, affine=True, track_running_stats=True)\n",
       "    )\n",
       "  )\n",
       "  (avgpool): AdaptiveAvgPool2d(output_size=(1, 1))\n",
       "  (fc): Linear(in_features=512, out_features=20, bias=True)\n",
       ")"
      ]
     },
     "execution_count": 4,
     "metadata": {},
     "output_type": "execute_result"
    }
   ],
   "source": [
    "model.fc.out_features=20\n",
    "model"
   ]
  },
  {
   "cell_type": "code",
   "execution_count": 5,
   "id": "40d23eac-13fc-4436-a075-40864791579e",
   "metadata": {},
   "outputs": [
    {
     "data": {
      "text/plain": [
       "11689512"
      ]
     },
     "execution_count": 5,
     "metadata": {},
     "output_type": "execute_result"
    }
   ],
   "source": [
    "#parameter 수 확인\n",
    "total_params = sum(p.numel() for p in model.parameters())\n",
    "total_params"
   ]
  },
  {
   "cell_type": "code",
   "execution_count": 6,
   "id": "f0f10d49-4b84-414c-8918-1f9c8d3d64f5",
   "metadata": {},
   "outputs": [],
   "source": [
    "data_dir = \"./data\"\n",
    "dir_lst = os.listdir(data_dir)\n",
    "for dir in dir_lst:\n",
    "    dir_path = os.listdir(f\"./data/{dir}\")\n",
    "\n",
    "    for name in dir_path:\n",
    "        if name == \".ipynb_checkpoints\":\n",
    "            print(name)\n",
    "            os.rmdir(f\"./data/{dir}/{name}\")"
   ]
  },
  {
   "cell_type": "code",
   "execution_count": 7,
   "id": "47bc6320-9ca4-4efa-a0d4-048f6b2ec4d5",
   "metadata": {},
   "outputs": [],
   "source": [
    "IMG_TRANSFORM = transforms.Compose([\n",
    "    transforms.ToTensor(),\n",
    "    transforms.Resize((512,512), antialias = True),\n",
    "    transforms.Normalize((0.5,0.5,0.5),(0.5,0.5,0.5)),\n",
    "    ])"
   ]
  },
  {
   "cell_type": "code",
   "execution_count": 8,
   "id": "a8d9d142-6f1a-47db-9797-e6760740d7ff",
   "metadata": {},
   "outputs": [],
   "source": [
    "train_imgfolder = ImageFolder(root=\"./data/train\",\n",
    "                              transform=IMG_TRANSFORM,\n",
    "                              target_transform=None\n",
    "                             )\n",
    "\n",
    "test_imgfolder = ImageFolder(root=\"./data/test\",\n",
    "                              transform=IMG_TRANSFORM\n",
    "                             )"
   ]
  },
  {
   "cell_type": "code",
   "execution_count": 9,
   "id": "5029d92a-00bc-4a3d-b6f9-86008c8995aa",
   "metadata": {},
   "outputs": [],
   "source": [
    "Image.MAX_IMAGE_PIXELS = None\n",
    "\n",
    "train_dataloader = DataLoader(dataset=train_imgfolder,\n",
    "\t\t\t\t\t\t\t  batch_size = 64,\n",
    "                              num_workers=os.cpu_count(),\n",
    "                              shuffle=True,\n",
    "                              drop_last=True \n",
    "                             )\n",
    "\n",
    "test_dataloader = DataLoader(dataset=test_imgfolder,\n",
    "\t\t\t\t\t\t\t  batch_size = 64,\n",
    "                              num_workers=os.cpu_count(),\n",
    "                              shuffle=True,\n",
    "                              drop_last=True \n",
    "                            )"
   ]
  },
  {
   "cell_type": "code",
   "execution_count": 10,
   "id": "22ac3976-a9b0-4fe2-934e-9ae687e7efed",
   "metadata": {},
   "outputs": [
    {
     "name": "stdout",
     "output_type": "stream",
     "text": [
      "Using device:  cuda:2\n"
     ]
    }
   ],
   "source": [
    "# model setting\n",
    "\n",
    "EPOCH = 50\n",
    "LEARNING_RATE = 1e-3 \n",
    "DEVICE = torch.device(\"cuda:2\" if torch.cuda.is_available() else \"cpu\")\n",
    "optimizer = torch.optim.Adam(model.parameters(), lr = LEARNING_RATE, weight_decay = 0.001)\n",
    "criterion = nn.CrossEntropyLoss()\n",
    "print(\"Using device: \",DEVICE)"
   ]
  },
  {
   "cell_type": "code",
   "execution_count": 11,
   "id": "a800dca9-50eb-4c37-8994-6c04c28ae140",
   "metadata": {},
   "outputs": [],
   "source": [
    "def loss_fn(class_output, label, criterion):\n",
    "    CE_loss = criterion(class_output, label)\n",
    "\n",
    "    return CE_loss "
   ]
  },
  {
   "cell_type": "code",
   "execution_count": 12,
   "id": "f35887cb-ff53-4df6-934c-04ef6048e88b",
   "metadata": {},
   "outputs": [],
   "source": [
    "def train(train_loader, model, optimizer, criterion, epoch):\n",
    "    model.train()\n",
    "    correct = 0\n",
    "    total = 0\n",
    "    \n",
    "    epoch_loss = []\n",
    "    for index, (img_data,labels) in enumerate(train_loader):\n",
    "        img_data, labels = img_data.to(DEVICE), labels.to(DEVICE)\n",
    "        optimizer.zero_grad()\n",
    "        \n",
    "        outputs = model(img_data)\n",
    "        loss = loss_fn(outputs, labels, criterion)\n",
    "        \n",
    "        _, predicted = torch.max(outputs.data, 1)\n",
    "        correct += (predicted == labels).sum().item()\n",
    "        total += labels.size(0)\n",
    "        \n",
    "        \n",
    "        loss.backward()\n",
    "        optimizer.step()\n",
    "\n",
    "        epoch_loss.append(loss.item())\n",
    "        if index%100==0:\n",
    "            print(f'train loss : {np.mean(epoch_loss):>7f}, [epoch:{epoch}, iter:{index}]')\n",
    "            \n",
    "    accuracy = correct / total\n",
    "    print(f\"TRAIN ACCURACY : {(100*accuracy):>0.1f}% [{correct}/{total}]\")\n",
    "    return np.mean(epoch_loss)"
   ]
  },
  {
   "cell_type": "code",
   "execution_count": 13,
   "id": "166bbec2-b81c-46cf-9586-7a0a468f3dbb",
   "metadata": {},
   "outputs": [],
   "source": [
    "def test(test_loader, model, criterion, epoch):\n",
    "    model.eval()\n",
    "\n",
    "    epoch_loss = []\n",
    "    correct = 0\n",
    "    total = 0\n",
    "    \n",
    "    with torch.no_grad():\n",
    "        for index, (img_data,labels) in enumerate(test_loader):\n",
    "            img_data, labels = img_data.to(DEVICE), labels.to(DEVICE)\n",
    "            outputs = model(img_data)\n",
    "    \n",
    "            loss = loss_fn(outputs, labels, criterion)\n",
    "\n",
    "            _, predicted = torch.max(outputs.data, 1)\n",
    "            correct += (predicted == labels).sum().item()\n",
    "            total += labels.size(0)\n",
    "            \n",
    "            epoch_loss.append(loss.item())\n",
    "    \n",
    "    accuracy = correct / total\n",
    "    \n",
    "    print(f\"TEST ACCURACY : {(100*accuracy):>0.1f}% [{correct}/{total}]\")\n",
    "    return np.mean(epoch_loss)"
   ]
  },
  {
   "cell_type": "code",
   "execution_count": 14,
   "id": "ee5442db-aa3a-4554-a670-99f3b731dafc",
   "metadata": {},
   "outputs": [],
   "source": [
    "import gc\n",
    "gc.collect()\n",
    "torch.cuda.empty_cache()"
   ]
  },
  {
   "cell_type": "code",
   "execution_count": null,
   "id": "858b7500-0e83-47c8-aba7-f9e360ea25c5",
   "metadata": {
    "scrolled": true
   },
   "outputs": [
    {
     "name": "stderr",
     "output_type": "stream",
     "text": [
      "Train:   0%|                                       | 0/50 [00:00<?, ?it/s]"
     ]
    },
    {
     "name": "stdout",
     "output_type": "stream",
     "text": [
      "EPOCH 1 \n",
      "-------------------------\n",
      "train loss : 8.987834, [epoch:1, iter:0]\n"
     ]
    },
    {
     "name": "stderr",
     "output_type": "stream",
     "text": [
      "/home/qkrwnstj/anaconda3/envs/qkrwnstj/lib/python3.9/site-packages/PIL/TiffImagePlugin.py:858: UserWarning: Corrupt EXIF data.  Expecting to read 2 bytes but only got 0. \n",
      "  warnings.warn(str(msg))\n"
     ]
    },
    {
     "name": "stdout",
     "output_type": "stream",
     "text": [
      "train loss : 2.298772, [epoch:1, iter:100]\n"
     ]
    },
    {
     "name": "stderr",
     "output_type": "stream",
     "text": [
      "/home/qkrwnstj/anaconda3/envs/qkrwnstj/lib/python3.9/site-packages/PIL/TiffImagePlugin.py:858: UserWarning: Corrupt EXIF data.  Expecting to read 2 bytes but only got 0. \n",
      "  warnings.warn(str(msg))\n"
     ]
    },
    {
     "name": "stdout",
     "output_type": "stream",
     "text": [
      "train loss : 2.067837, [epoch:1, iter:200]\n",
      "train loss : 1.943789, [epoch:1, iter:300]\n",
      "train loss : 1.872494, [epoch:1, iter:400]\n",
      "train loss : 1.827620, [epoch:1, iter:500]\n",
      "train loss : 1.791963, [epoch:1, iter:600]\n",
      "train loss : 1.764496, [epoch:1, iter:700]\n",
      "train loss : 1.739869, [epoch:1, iter:800]\n",
      "train loss : 1.723020, [epoch:1, iter:900]\n",
      "TRAIN ACCURACY : 45.7% [28149/61632]\n"
     ]
    },
    {
     "name": "stderr",
     "output_type": "stream",
     "text": [
      "Train:   2%|▌                           | 1/50 [10:50<8:51:15, 650.52s/it]"
     ]
    },
    {
     "name": "stdout",
     "output_type": "stream",
     "text": [
      "TEST ACCURACY : 29.4% [3421/11648]\n",
      "...MODEL SAVE...\n",
      "\n",
      "EPOCH:1 | train loss : 1.714554451955318, test loss : 2.682305021600409\n",
      "\n",
      "EPOCH 2 \n",
      "-------------------------\n"
     ]
    },
    {
     "name": "stderr",
     "output_type": "stream",
     "text": [
      "/home/qkrwnstj/anaconda3/envs/qkrwnstj/lib/python3.9/site-packages/PIL/TiffImagePlugin.py:858: UserWarning: Corrupt EXIF data.  Expecting to read 2 bytes but only got 0. \n",
      "  warnings.warn(str(msg))\n"
     ]
    },
    {
     "name": "stdout",
     "output_type": "stream",
     "text": [
      "train loss : 1.409655, [epoch:2, iter:0]\n",
      "train loss : 1.531189, [epoch:2, iter:100]\n",
      "train loss : 1.522819, [epoch:2, iter:200]\n",
      "train loss : 1.538915, [epoch:2, iter:300]\n",
      "train loss : 1.532045, [epoch:2, iter:400]\n"
     ]
    },
    {
     "name": "stderr",
     "output_type": "stream",
     "text": [
      "/home/qkrwnstj/anaconda3/envs/qkrwnstj/lib/python3.9/site-packages/PIL/TiffImagePlugin.py:858: UserWarning: Corrupt EXIF data.  Expecting to read 2 bytes but only got 0. \n",
      "  warnings.warn(str(msg))\n"
     ]
    },
    {
     "name": "stdout",
     "output_type": "stream",
     "text": [
      "train loss : 1.526812, [epoch:2, iter:500]\n",
      "train loss : 1.524522, [epoch:2, iter:600]\n",
      "train loss : 1.521263, [epoch:2, iter:700]\n",
      "train loss : 1.514198, [epoch:2, iter:800]\n",
      "train loss : 1.515567, [epoch:2, iter:900]\n",
      "TRAIN ACCURACY : 50.7% [31248/61632]\n"
     ]
    },
    {
     "name": "stderr",
     "output_type": "stream",
     "text": [
      "Train:   4%|█                           | 2/50 [22:12<8:54:59, 668.73s/it]"
     ]
    },
    {
     "name": "stdout",
     "output_type": "stream",
     "text": [
      "TEST ACCURACY : 32.1% [3737/11648]\n",
      "...MODEL SAVE...\n",
      "\n",
      "EPOCH:2 | train loss : 1.5158448782541547, test loss : 2.2113801208171218\n",
      "\n",
      "EPOCH 3 \n",
      "-------------------------\n",
      "train loss : 1.493022, [epoch:3, iter:0]\n",
      "train loss : 1.451385, [epoch:3, iter:100]\n",
      "train loss : 1.439528, [epoch:3, iter:200]\n",
      "train loss : 1.444452, [epoch:3, iter:300]\n"
     ]
    },
    {
     "name": "stderr",
     "output_type": "stream",
     "text": [
      "/home/qkrwnstj/anaconda3/envs/qkrwnstj/lib/python3.9/site-packages/PIL/TiffImagePlugin.py:858: UserWarning: Corrupt EXIF data.  Expecting to read 2 bytes but only got 0. \n",
      "  warnings.warn(str(msg))\n",
      "/home/qkrwnstj/anaconda3/envs/qkrwnstj/lib/python3.9/site-packages/PIL/TiffImagePlugin.py:858: UserWarning: Corrupt EXIF data.  Expecting to read 2 bytes but only got 0. \n",
      "  warnings.warn(str(msg))\n"
     ]
    },
    {
     "name": "stdout",
     "output_type": "stream",
     "text": [
      "train loss : 1.440256, [epoch:3, iter:400]\n",
      "train loss : 1.439969, [epoch:3, iter:500]\n",
      "train loss : 1.442058, [epoch:3, iter:600]\n",
      "train loss : 1.441310, [epoch:3, iter:700]\n",
      "train loss : 1.437975, [epoch:3, iter:800]\n",
      "train loss : 1.440111, [epoch:3, iter:900]\n",
      "TRAIN ACCURACY : 53.2% [32809/61632]\n"
     ]
    },
    {
     "name": "stderr",
     "output_type": "stream",
     "text": [
      "Train:   6%|█▋                          | 3/50 [34:02<8:58:41, 687.68s/it]"
     ]
    },
    {
     "name": "stdout",
     "output_type": "stream",
     "text": [
      "TEST ACCURACY : 36.0% [4191/11648]\n",
      "...MODEL SAVE...\n",
      "\n",
      "EPOCH:3 | train loss : 1.4387350769429192, test loss : 2.0568444591302137\n",
      "\n",
      "EPOCH 4 \n",
      "-------------------------\n",
      "train loss : 1.678887, [epoch:4, iter:0]\n",
      "train loss : 1.366955, [epoch:4, iter:100]\n"
     ]
    },
    {
     "name": "stderr",
     "output_type": "stream",
     "text": [
      "/home/qkrwnstj/anaconda3/envs/qkrwnstj/lib/python3.9/site-packages/PIL/TiffImagePlugin.py:858: UserWarning: Corrupt EXIF data.  Expecting to read 2 bytes but only got 0. \n",
      "  warnings.warn(str(msg))\n"
     ]
    },
    {
     "name": "stdout",
     "output_type": "stream",
     "text": [
      "train loss : 1.374354, [epoch:4, iter:200]\n",
      "train loss : 1.382975, [epoch:4, iter:300]\n",
      "train loss : 1.374962, [epoch:4, iter:400]\n",
      "train loss : 1.377744, [epoch:4, iter:500]\n"
     ]
    },
    {
     "name": "stderr",
     "output_type": "stream",
     "text": [
      "/home/qkrwnstj/anaconda3/envs/qkrwnstj/lib/python3.9/site-packages/PIL/TiffImagePlugin.py:858: UserWarning: Corrupt EXIF data.  Expecting to read 2 bytes but only got 0. \n",
      "  warnings.warn(str(msg))\n"
     ]
    },
    {
     "name": "stdout",
     "output_type": "stream",
     "text": [
      "train loss : 1.378542, [epoch:4, iter:600]\n",
      "train loss : 1.379782, [epoch:4, iter:700]\n",
      "train loss : 1.379457, [epoch:4, iter:800]\n",
      "train loss : 1.377592, [epoch:4, iter:900]\n",
      "TRAIN ACCURACY : 55.1% [33977/61632]\n"
     ]
    },
    {
     "name": "stderr",
     "output_type": "stream",
     "text": [
      "Train:   8%|██▏                         | 4/50 [45:14<8:42:38, 681.70s/it]"
     ]
    },
    {
     "name": "stdout",
     "output_type": "stream",
     "text": [
      "TEST ACCURACY : 40.3% [4691/11648]\n",
      "...MODEL SAVE...\n",
      "\n",
      "EPOCH:4 | train loss : 1.375707357781451, test loss : 1.9852931578080732\n",
      "\n",
      "EPOCH 5 \n",
      "-------------------------\n",
      "train loss : 1.116356, [epoch:5, iter:0]\n"
     ]
    },
    {
     "name": "stderr",
     "output_type": "stream",
     "text": [
      "/home/qkrwnstj/anaconda3/envs/qkrwnstj/lib/python3.9/site-packages/PIL/TiffImagePlugin.py:858: UserWarning: Corrupt EXIF data.  Expecting to read 2 bytes but only got 0. \n",
      "  warnings.warn(str(msg))\n"
     ]
    },
    {
     "name": "stdout",
     "output_type": "stream",
     "text": [
      "train loss : 1.288447, [epoch:5, iter:100]\n",
      "train loss : 1.308718, [epoch:5, iter:200]\n"
     ]
    },
    {
     "name": "stderr",
     "output_type": "stream",
     "text": [
      "/home/qkrwnstj/anaconda3/envs/qkrwnstj/lib/python3.9/site-packages/PIL/TiffImagePlugin.py:858: UserWarning: Corrupt EXIF data.  Expecting to read 2 bytes but only got 0. \n",
      "  warnings.warn(str(msg))\n"
     ]
    },
    {
     "name": "stdout",
     "output_type": "stream",
     "text": [
      "train loss : 1.312303, [epoch:5, iter:300]\n",
      "train loss : 1.325294, [epoch:5, iter:400]\n",
      "train loss : 1.325087, [epoch:5, iter:500]\n",
      "train loss : 1.324672, [epoch:5, iter:600]\n",
      "train loss : 1.327446, [epoch:5, iter:700]\n",
      "train loss : 1.332970, [epoch:5, iter:800]\n",
      "train loss : 1.334152, [epoch:5, iter:900]\n",
      "TRAIN ACCURACY : 56.4% [34788/61632]\n"
     ]
    },
    {
     "name": "stderr",
     "output_type": "stream",
     "text": [
      "Train:  10%|██▊                         | 5/50 [56:39<8:32:11, 682.91s/it]"
     ]
    },
    {
     "name": "stdout",
     "output_type": "stream",
     "text": [
      "TEST ACCURACY : 43.8% [5101/11648]\n",
      "...MODEL SAVE...\n",
      "\n",
      "EPOCH:5 | train loss : 1.3329688326096856, test loss : 1.7643767693540553\n",
      "\n",
      "EPOCH 6 \n",
      "-------------------------\n",
      "train loss : 1.118202, [epoch:6, iter:0]\n"
     ]
    },
    {
     "name": "stderr",
     "output_type": "stream",
     "text": [
      "/home/qkrwnstj/anaconda3/envs/qkrwnstj/lib/python3.9/site-packages/PIL/TiffImagePlugin.py:858: UserWarning: Corrupt EXIF data.  Expecting to read 2 bytes but only got 0. \n",
      "  warnings.warn(str(msg))\n"
     ]
    },
    {
     "name": "stdout",
     "output_type": "stream",
     "text": [
      "train loss : 1.260561, [epoch:6, iter:100]\n"
     ]
    },
    {
     "name": "stderr",
     "output_type": "stream",
     "text": [
      "/home/qkrwnstj/anaconda3/envs/qkrwnstj/lib/python3.9/site-packages/PIL/TiffImagePlugin.py:858: UserWarning: Corrupt EXIF data.  Expecting to read 2 bytes but only got 0. \n",
      "  warnings.warn(str(msg))\n"
     ]
    },
    {
     "name": "stdout",
     "output_type": "stream",
     "text": [
      "train loss : 1.270809, [epoch:6, iter:200]\n",
      "train loss : 1.284568, [epoch:6, iter:300]\n",
      "train loss : 1.284718, [epoch:6, iter:400]\n",
      "train loss : 1.293439, [epoch:6, iter:500]\n",
      "train loss : 1.292802, [epoch:6, iter:600]\n",
      "train loss : 1.293742, [epoch:6, iter:700]\n",
      "train loss : 1.294093, [epoch:6, iter:800]\n",
      "train loss : 1.296533, [epoch:6, iter:900]\n",
      "TRAIN ACCURACY : 57.5% [35459/61632]\n"
     ]
    },
    {
     "name": "stderr",
     "output_type": "stream",
     "text": [
      "Train:  12%|███                       | 6/50 [1:08:00<8:20:07, 682.00s/it]"
     ]
    },
    {
     "name": "stdout",
     "output_type": "stream",
     "text": [
      "TEST ACCURACY : 42.4% [4938/11648]\n",
      "\n",
      "EPOCH:6 | train loss : 1.297459176581968, test loss : 1.8911626528907608\n",
      "\n",
      "EPOCH 7 \n",
      "-------------------------\n",
      "train loss : 1.107564, [epoch:7, iter:0]\n",
      "train loss : 1.235846, [epoch:7, iter:100]\n"
     ]
    },
    {
     "name": "stderr",
     "output_type": "stream",
     "text": [
      "/home/qkrwnstj/anaconda3/envs/qkrwnstj/lib/python3.9/site-packages/PIL/TiffImagePlugin.py:858: UserWarning: Corrupt EXIF data.  Expecting to read 2 bytes but only got 0. \n",
      "  warnings.warn(str(msg))\n"
     ]
    },
    {
     "name": "stdout",
     "output_type": "stream",
     "text": [
      "train loss : 1.242498, [epoch:7, iter:200]\n",
      "train loss : 1.248926, [epoch:7, iter:300]\n",
      "train loss : 1.244994, [epoch:7, iter:400]\n",
      "train loss : 1.250693, [epoch:7, iter:500]\n",
      "train loss : 1.254574, [epoch:7, iter:600]\n",
      "train loss : 1.258687, [epoch:7, iter:700]\n"
     ]
    },
    {
     "name": "stderr",
     "output_type": "stream",
     "text": [
      "/home/qkrwnstj/anaconda3/envs/qkrwnstj/lib/python3.9/site-packages/PIL/TiffImagePlugin.py:858: UserWarning: Corrupt EXIF data.  Expecting to read 2 bytes but only got 0. \n",
      "  warnings.warn(str(msg))\n"
     ]
    },
    {
     "name": "stdout",
     "output_type": "stream",
     "text": [
      "train loss : 1.262955, [epoch:7, iter:800]\n",
      "train loss : 1.263774, [epoch:7, iter:900]\n",
      "TRAIN ACCURACY : 58.6% [36110/61632]\n"
     ]
    },
    {
     "name": "stderr",
     "output_type": "stream",
     "text": [
      "Train:  14%|███▋                      | 7/50 [1:18:55<8:02:34, 673.36s/it]"
     ]
    },
    {
     "name": "stdout",
     "output_type": "stream",
     "text": [
      "TEST ACCURACY : 39.4% [4595/11648]\n",
      "\n",
      "EPOCH:7 | train loss : 1.2647960875512159, test loss : 2.0208221660865533\n",
      "\n",
      "EPOCH 8 \n",
      "-------------------------\n",
      "train loss : 1.042290, [epoch:8, iter:0]\n"
     ]
    },
    {
     "name": "stderr",
     "output_type": "stream",
     "text": [
      "/home/qkrwnstj/anaconda3/envs/qkrwnstj/lib/python3.9/site-packages/PIL/TiffImagePlugin.py:858: UserWarning: Corrupt EXIF data.  Expecting to read 2 bytes but only got 0. \n",
      "  warnings.warn(str(msg))\n"
     ]
    },
    {
     "name": "stdout",
     "output_type": "stream",
     "text": [
      "train loss : 1.166914, [epoch:8, iter:100]\n",
      "train loss : 1.212521, [epoch:8, iter:200]\n",
      "train loss : 1.219120, [epoch:8, iter:300]\n",
      "train loss : 1.227342, [epoch:8, iter:400]\n"
     ]
    },
    {
     "name": "stderr",
     "output_type": "stream",
     "text": [
      "/home/qkrwnstj/anaconda3/envs/qkrwnstj/lib/python3.9/site-packages/PIL/TiffImagePlugin.py:858: UserWarning: Corrupt EXIF data.  Expecting to read 2 bytes but only got 0. \n",
      "  warnings.warn(str(msg))\n"
     ]
    },
    {
     "name": "stdout",
     "output_type": "stream",
     "text": [
      "train loss : 1.233287, [epoch:8, iter:500]\n",
      "train loss : 1.235673, [epoch:8, iter:600]\n",
      "train loss : 1.239996, [epoch:8, iter:700]\n",
      "train loss : 1.242908, [epoch:8, iter:800]\n",
      "train loss : 1.244151, [epoch:8, iter:900]\n",
      "TRAIN ACCURACY : 59.1% [36455/61632]\n"
     ]
    },
    {
     "name": "stderr",
     "output_type": "stream",
     "text": [
      "Train:  16%|████▏                     | 8/50 [1:30:01<7:49:42, 671.02s/it]"
     ]
    },
    {
     "name": "stdout",
     "output_type": "stream",
     "text": [
      "TEST ACCURACY : 37.4% [4360/11648]\n",
      "\n",
      "EPOCH:8 | train loss : 1.2449244839503881, test loss : 1.9978906152012583\n",
      "\n",
      "EPOCH 9 \n",
      "-------------------------\n",
      "train loss : 1.212343, [epoch:9, iter:0]\n"
     ]
    },
    {
     "name": "stderr",
     "output_type": "stream",
     "text": [
      "/home/qkrwnstj/anaconda3/envs/qkrwnstj/lib/python3.9/site-packages/PIL/TiffImagePlugin.py:858: UserWarning: Corrupt EXIF data.  Expecting to read 2 bytes but only got 0. \n",
      "  warnings.warn(str(msg))\n"
     ]
    },
    {
     "name": "stdout",
     "output_type": "stream",
     "text": [
      "train loss : 1.186526, [epoch:9, iter:100]\n",
      "train loss : 1.191636, [epoch:9, iter:200]\n",
      "train loss : 1.207223, [epoch:9, iter:300]\n",
      "train loss : 1.214596, [epoch:9, iter:400]\n",
      "train loss : 1.224556, [epoch:9, iter:500]\n",
      "train loss : 1.223562, [epoch:9, iter:600]\n",
      "train loss : 1.221041, [epoch:9, iter:700]\n"
     ]
    },
    {
     "name": "stderr",
     "output_type": "stream",
     "text": [
      "/home/qkrwnstj/anaconda3/envs/qkrwnstj/lib/python3.9/site-packages/PIL/TiffImagePlugin.py:858: UserWarning: Corrupt EXIF data.  Expecting to read 2 bytes but only got 0. \n",
      "  warnings.warn(str(msg))\n"
     ]
    },
    {
     "name": "stdout",
     "output_type": "stream",
     "text": [
      "train loss : 1.222042, [epoch:9, iter:800]\n",
      "train loss : 1.226882, [epoch:9, iter:900]\n",
      "TRAIN ACCURACY : 59.8% [36865/61632]\n"
     ]
    },
    {
     "name": "stderr",
     "output_type": "stream",
     "text": [
      "Train:  18%|████▋                     | 9/50 [1:41:20<7:40:05, 673.32s/it]"
     ]
    },
    {
     "name": "stdout",
     "output_type": "stream",
     "text": [
      "TEST ACCURACY : 41.5% [4839/11648]\n",
      "\n",
      "EPOCH:9 | train loss : 1.2289359972484386, test loss : 1.940482919687753\n",
      "\n",
      "EPOCH 10 \n",
      "-------------------------\n",
      "train loss : 1.066191, [epoch:10, iter:0]\n",
      "train loss : 1.173605, [epoch:10, iter:100]\n",
      "train loss : 1.176728, [epoch:10, iter:200]\n"
     ]
    },
    {
     "name": "stderr",
     "output_type": "stream",
     "text": [
      "/home/qkrwnstj/anaconda3/envs/qkrwnstj/lib/python3.9/site-packages/PIL/TiffImagePlugin.py:858: UserWarning: Corrupt EXIF data.  Expecting to read 2 bytes but only got 0. \n",
      "  warnings.warn(str(msg))\n"
     ]
    },
    {
     "name": "stdout",
     "output_type": "stream",
     "text": [
      "train loss : 1.172124, [epoch:10, iter:300]\n",
      "train loss : 1.181968, [epoch:10, iter:400]\n",
      "train loss : 1.183945, [epoch:10, iter:500]\n"
     ]
    },
    {
     "name": "stderr",
     "output_type": "stream",
     "text": [
      "/home/qkrwnstj/anaconda3/envs/qkrwnstj/lib/python3.9/site-packages/PIL/TiffImagePlugin.py:858: UserWarning: Corrupt EXIF data.  Expecting to read 2 bytes but only got 0. \n",
      "  warnings.warn(str(msg))\n"
     ]
    },
    {
     "name": "stdout",
     "output_type": "stream",
     "text": [
      "train loss : 1.189873, [epoch:10, iter:600]\n",
      "train loss : 1.196634, [epoch:10, iter:700]\n",
      "train loss : 1.195547, [epoch:10, iter:800]\n",
      "train loss : 1.201659, [epoch:10, iter:900]\n",
      "TRAIN ACCURACY : 60.8% [37478/61632]\n"
     ]
    },
    {
     "name": "stderr",
     "output_type": "stream",
     "text": [
      "Train:  20%|█████                    | 10/50 [1:52:38<7:30:00, 675.01s/it]"
     ]
    },
    {
     "name": "stdout",
     "output_type": "stream",
     "text": [
      "TEST ACCURACY : 42.8% [4989/11648]\n",
      "\n",
      "EPOCH:10 | train loss : 1.2026123765349264, test loss : 1.8170290320784181\n",
      "\n",
      "EPOCH 11 \n",
      "-------------------------\n",
      "train loss : 1.255784, [epoch:11, iter:0]\n",
      "train loss : 1.118835, [epoch:11, iter:100]\n"
     ]
    },
    {
     "name": "stderr",
     "output_type": "stream",
     "text": [
      "/home/qkrwnstj/anaconda3/envs/qkrwnstj/lib/python3.9/site-packages/PIL/TiffImagePlugin.py:858: UserWarning: Corrupt EXIF data.  Expecting to read 2 bytes but only got 0. \n",
      "  warnings.warn(str(msg))\n"
     ]
    },
    {
     "name": "stdout",
     "output_type": "stream",
     "text": [
      "train loss : 1.141459, [epoch:11, iter:200]\n",
      "train loss : 1.155315, [epoch:11, iter:300]\n",
      "train loss : 1.165298, [epoch:11, iter:400]\n",
      "train loss : 1.170520, [epoch:11, iter:500]\n"
     ]
    },
    {
     "name": "stderr",
     "output_type": "stream",
     "text": [
      "/home/qkrwnstj/anaconda3/envs/qkrwnstj/lib/python3.9/site-packages/PIL/TiffImagePlugin.py:858: UserWarning: Corrupt EXIF data.  Expecting to read 2 bytes but only got 0. \n",
      "  warnings.warn(str(msg))\n"
     ]
    },
    {
     "name": "stdout",
     "output_type": "stream",
     "text": [
      "train loss : 1.176247, [epoch:11, iter:600]\n",
      "train loss : 1.175779, [epoch:11, iter:700]\n",
      "train loss : 1.178169, [epoch:11, iter:800]\n",
      "train loss : 1.180707, [epoch:11, iter:900]\n",
      "TRAIN ACCURACY : 61.5% [37892/61632]\n"
     ]
    },
    {
     "name": "stderr",
     "output_type": "stream",
     "text": [
      "Train:  22%|█████▌                   | 11/50 [2:03:43<7:16:44, 671.90s/it]"
     ]
    },
    {
     "name": "stdout",
     "output_type": "stream",
     "text": [
      "TEST ACCURACY : 46.0% [5359/11648]\n",
      "...MODEL SAVE...\n",
      "\n",
      "EPOCH:11 | train loss : 1.1819401125917801, test loss : 1.6561037511615964\n",
      "\n",
      "EPOCH 12 \n",
      "-------------------------\n"
     ]
    },
    {
     "name": "stderr",
     "output_type": "stream",
     "text": [
      "/home/qkrwnstj/anaconda3/envs/qkrwnstj/lib/python3.9/site-packages/PIL/TiffImagePlugin.py:858: UserWarning: Corrupt EXIF data.  Expecting to read 2 bytes but only got 0. \n",
      "  warnings.warn(str(msg))\n"
     ]
    },
    {
     "name": "stdout",
     "output_type": "stream",
     "text": [
      "train loss : 1.370647, [epoch:12, iter:0]\n",
      "train loss : 1.094568, [epoch:12, iter:100]\n",
      "train loss : 1.104326, [epoch:12, iter:200]\n"
     ]
    },
    {
     "name": "stderr",
     "output_type": "stream",
     "text": [
      "/home/qkrwnstj/anaconda3/envs/qkrwnstj/lib/python3.9/site-packages/PIL/TiffImagePlugin.py:858: UserWarning: Corrupt EXIF data.  Expecting to read 2 bytes but only got 0. \n",
      "  warnings.warn(str(msg))\n"
     ]
    },
    {
     "name": "stdout",
     "output_type": "stream",
     "text": [
      "train loss : 1.128557, [epoch:12, iter:300]\n",
      "train loss : 1.132047, [epoch:12, iter:400]\n",
      "train loss : 1.146635, [epoch:12, iter:500]\n",
      "train loss : 1.152607, [epoch:12, iter:600]\n",
      "train loss : 1.163890, [epoch:12, iter:700]\n",
      "train loss : 1.168357, [epoch:12, iter:800]\n",
      "train loss : 1.172823, [epoch:12, iter:900]\n",
      "TRAIN ACCURACY : 61.4% [37860/61632]\n"
     ]
    },
    {
     "name": "stderr",
     "output_type": "stream",
     "text": [
      "Train:  24%|██████                   | 12/50 [2:15:04<7:07:20, 674.76s/it]"
     ]
    },
    {
     "name": "stdout",
     "output_type": "stream",
     "text": [
      "TEST ACCURACY : 42.1% [4899/11648]\n",
      "\n",
      "EPOCH:12 | train loss : 1.1747131234388857, test loss : 1.8143794615190107\n",
      "\n",
      "EPOCH 13 \n",
      "-------------------------\n",
      "train loss : 1.060805, [epoch:13, iter:0]\n",
      "train loss : 1.147825, [epoch:13, iter:100]\n",
      "train loss : 1.140674, [epoch:13, iter:200]\n",
      "train loss : 1.132008, [epoch:13, iter:300]\n",
      "train loss : 1.137269, [epoch:13, iter:400]\n",
      "train loss : 1.138794, [epoch:13, iter:500]\n",
      "train loss : 1.144823, [epoch:13, iter:600]\n"
     ]
    },
    {
     "name": "stderr",
     "output_type": "stream",
     "text": [
      "/home/qkrwnstj/anaconda3/envs/qkrwnstj/lib/python3.9/site-packages/PIL/TiffImagePlugin.py:858: UserWarning: Corrupt EXIF data.  Expecting to read 2 bytes but only got 0. \n",
      "  warnings.warn(str(msg))\n"
     ]
    },
    {
     "name": "stdout",
     "output_type": "stream",
     "text": [
      "train loss : 1.148767, [epoch:13, iter:700]\n",
      "train loss : 1.146530, [epoch:13, iter:800]\n"
     ]
    },
    {
     "name": "stderr",
     "output_type": "stream",
     "text": [
      "/home/qkrwnstj/anaconda3/envs/qkrwnstj/lib/python3.9/site-packages/PIL/TiffImagePlugin.py:858: UserWarning: Corrupt EXIF data.  Expecting to read 2 bytes but only got 0. \n",
      "  warnings.warn(str(msg))\n"
     ]
    },
    {
     "name": "stdout",
     "output_type": "stream",
     "text": [
      "train loss : 1.148674, [epoch:13, iter:900]\n",
      "TRAIN ACCURACY : 62.1% [38293/61632]\n"
     ]
    },
    {
     "name": "stderr",
     "output_type": "stream",
     "text": [
      "Train:  26%|██████▌                  | 13/50 [2:26:17<6:55:36, 673.97s/it]"
     ]
    },
    {
     "name": "stdout",
     "output_type": "stream",
     "text": [
      "TEST ACCURACY : 43.4% [5052/11648]\n",
      "\n",
      "EPOCH:13 | train loss : 1.1503312049872654, test loss : 1.8470720131318648\n",
      "\n",
      "EPOCH 14 \n",
      "-------------------------\n",
      "train loss : 1.132159, [epoch:14, iter:0]\n",
      "train loss : 1.083514, [epoch:14, iter:100]\n",
      "train loss : 1.106857, [epoch:14, iter:200]\n",
      "train loss : 1.103810, [epoch:14, iter:300]\n",
      "train loss : 1.111695, [epoch:14, iter:400]\n"
     ]
    },
    {
     "name": "stderr",
     "output_type": "stream",
     "text": [
      "/home/qkrwnstj/anaconda3/envs/qkrwnstj/lib/python3.9/site-packages/PIL/TiffImagePlugin.py:858: UserWarning: Corrupt EXIF data.  Expecting to read 2 bytes but only got 0. \n",
      "  warnings.warn(str(msg))\n"
     ]
    },
    {
     "name": "stdout",
     "output_type": "stream",
     "text": [
      "train loss : 1.122655, [epoch:14, iter:500]\n",
      "train loss : 1.128454, [epoch:14, iter:600]\n"
     ]
    },
    {
     "name": "stderr",
     "output_type": "stream",
     "text": [
      "/home/qkrwnstj/anaconda3/envs/qkrwnstj/lib/python3.9/site-packages/PIL/TiffImagePlugin.py:858: UserWarning: Corrupt EXIF data.  Expecting to read 2 bytes but only got 0. \n",
      "  warnings.warn(str(msg))\n"
     ]
    },
    {
     "name": "stdout",
     "output_type": "stream",
     "text": [
      "train loss : 1.131344, [epoch:14, iter:700]\n",
      "train loss : 1.135465, [epoch:14, iter:800]\n",
      "train loss : 1.138012, [epoch:14, iter:900]\n",
      "TRAIN ACCURACY : 62.7% [38653/61632]\n"
     ]
    },
    {
     "name": "stderr",
     "output_type": "stream",
     "text": [
      "Train:  28%|███████                  | 14/50 [2:37:21<6:42:39, 671.10s/it]"
     ]
    },
    {
     "name": "stdout",
     "output_type": "stream",
     "text": [
      "TEST ACCURACY : 39.3% [4580/11648]\n",
      "\n",
      "EPOCH:14 | train loss : 1.1377122309349037, test loss : 2.0367282655212904\n",
      "\n",
      "EPOCH 15 \n",
      "-------------------------\n",
      "train loss : 1.114927, [epoch:15, iter:0]\n"
     ]
    },
    {
     "name": "stderr",
     "output_type": "stream",
     "text": [
      "/home/qkrwnstj/anaconda3/envs/qkrwnstj/lib/python3.9/site-packages/PIL/TiffImagePlugin.py:858: UserWarning: Corrupt EXIF data.  Expecting to read 2 bytes but only got 0. \n",
      "  warnings.warn(str(msg))\n"
     ]
    },
    {
     "name": "stdout",
     "output_type": "stream",
     "text": [
      "train loss : 1.059304, [epoch:15, iter:100]\n",
      "train loss : 1.074821, [epoch:15, iter:200]\n",
      "train loss : 1.084307, [epoch:15, iter:300]\n"
     ]
    },
    {
     "name": "stderr",
     "output_type": "stream",
     "text": [
      "/home/qkrwnstj/anaconda3/envs/qkrwnstj/lib/python3.9/site-packages/PIL/TiffImagePlugin.py:858: UserWarning: Corrupt EXIF data.  Expecting to read 2 bytes but only got 0. \n",
      "  warnings.warn(str(msg))\n"
     ]
    },
    {
     "name": "stdout",
     "output_type": "stream",
     "text": [
      "train loss : 1.094718, [epoch:15, iter:400]\n",
      "train loss : 1.101315, [epoch:15, iter:500]\n",
      "train loss : 1.107743, [epoch:15, iter:600]\n",
      "train loss : 1.110926, [epoch:15, iter:700]\n",
      "train loss : 1.117188, [epoch:15, iter:800]\n",
      "train loss : 1.122495, [epoch:15, iter:900]\n",
      "TRAIN ACCURACY : 62.9% [38740/61632]\n"
     ]
    },
    {
     "name": "stderr",
     "output_type": "stream",
     "text": [
      "Train:  30%|███████▌                 | 15/50 [2:48:12<6:27:57, 665.08s/it]"
     ]
    },
    {
     "name": "stdout",
     "output_type": "stream",
     "text": [
      "TEST ACCURACY : 44.0% [5120/11648]\n",
      "\n",
      "EPOCH:15 | train loss : 1.12497683174266, test loss : 1.8503057969795478\n",
      "\n",
      "EPOCH 16 \n",
      "-------------------------\n",
      "train loss : 1.045979, [epoch:16, iter:0]\n",
      "train loss : 1.070574, [epoch:16, iter:100]\n",
      "train loss : 1.066800, [epoch:16, iter:200]\n",
      "train loss : 1.077166, [epoch:16, iter:300]\n"
     ]
    },
    {
     "name": "stderr",
     "output_type": "stream",
     "text": [
      "/home/qkrwnstj/anaconda3/envs/qkrwnstj/lib/python3.9/site-packages/PIL/TiffImagePlugin.py:858: UserWarning: Corrupt EXIF data.  Expecting to read 2 bytes but only got 0. \n",
      "  warnings.warn(str(msg))\n"
     ]
    },
    {
     "name": "stdout",
     "output_type": "stream",
     "text": [
      "train loss : 1.084672, [epoch:16, iter:400]\n",
      "train loss : 1.084765, [epoch:16, iter:500]\n",
      "train loss : 1.096924, [epoch:16, iter:600]\n"
     ]
    },
    {
     "name": "stderr",
     "output_type": "stream",
     "text": [
      "/home/qkrwnstj/anaconda3/envs/qkrwnstj/lib/python3.9/site-packages/PIL/TiffImagePlugin.py:858: UserWarning: Corrupt EXIF data.  Expecting to read 2 bytes but only got 0. \n",
      "  warnings.warn(str(msg))\n"
     ]
    },
    {
     "name": "stdout",
     "output_type": "stream",
     "text": [
      "train loss : 1.105130, [epoch:16, iter:700]\n",
      "train loss : 1.109505, [epoch:16, iter:800]\n",
      "train loss : 1.115801, [epoch:16, iter:900]\n",
      "TRAIN ACCURACY : 63.2% [38949/61632]\n"
     ]
    },
    {
     "name": "stderr",
     "output_type": "stream",
     "text": [
      "Train:  32%|████████                 | 16/50 [2:59:22<6:17:43, 666.57s/it]"
     ]
    },
    {
     "name": "stdout",
     "output_type": "stream",
     "text": [
      "TEST ACCURACY : 43.7% [5085/11648]\n",
      "\n",
      "EPOCH:16 | train loss : 1.118119881160534, test loss : 1.894145525418795\n",
      "\n",
      "EPOCH 17 \n",
      "-------------------------\n",
      "train loss : 0.736936, [epoch:17, iter:0]\n"
     ]
    },
    {
     "name": "stderr",
     "output_type": "stream",
     "text": [
      "/home/qkrwnstj/anaconda3/envs/qkrwnstj/lib/python3.9/site-packages/PIL/TiffImagePlugin.py:858: UserWarning: Corrupt EXIF data.  Expecting to read 2 bytes but only got 0. \n",
      "  warnings.warn(str(msg))\n"
     ]
    },
    {
     "name": "stdout",
     "output_type": "stream",
     "text": [
      "train loss : 1.033812, [epoch:17, iter:100]\n",
      "train loss : 1.047596, [epoch:17, iter:200]\n"
     ]
    },
    {
     "name": "stderr",
     "output_type": "stream",
     "text": [
      "/home/qkrwnstj/anaconda3/envs/qkrwnstj/lib/python3.9/site-packages/PIL/TiffImagePlugin.py:858: UserWarning: Corrupt EXIF data.  Expecting to read 2 bytes but only got 0. \n",
      "  warnings.warn(str(msg))\n"
     ]
    },
    {
     "name": "stdout",
     "output_type": "stream",
     "text": [
      "train loss : 1.063191, [epoch:17, iter:300]\n",
      "train loss : 1.074994, [epoch:17, iter:400]\n",
      "train loss : 1.086891, [epoch:17, iter:500]\n",
      "train loss : 1.093787, [epoch:17, iter:600]\n",
      "train loss : 1.099772, [epoch:17, iter:700]\n",
      "train loss : 1.103872, [epoch:17, iter:800]\n",
      "train loss : 1.107562, [epoch:17, iter:900]\n",
      "TRAIN ACCURACY : 63.3% [39028/61632]\n"
     ]
    },
    {
     "name": "stderr",
     "output_type": "stream",
     "text": [
      "Train:  34%|████████▌                | 17/50 [3:10:53<6:10:39, 673.94s/it]"
     ]
    },
    {
     "name": "stdout",
     "output_type": "stream",
     "text": [
      "TEST ACCURACY : 42.7% [4974/11648]\n",
      "\n",
      "EPOCH:17 | train loss : 1.1090533863965844, test loss : 1.9016262954407996\n",
      "\n",
      "EPOCH 18 \n",
      "-------------------------\n",
      "train loss : 1.048547, [epoch:18, iter:0]\n",
      "train loss : 1.006583, [epoch:18, iter:100]\n",
      "train loss : 1.019218, [epoch:18, iter:200]\n"
     ]
    },
    {
     "name": "stderr",
     "output_type": "stream",
     "text": [
      "/home/qkrwnstj/anaconda3/envs/qkrwnstj/lib/python3.9/site-packages/PIL/TiffImagePlugin.py:858: UserWarning: Corrupt EXIF data.  Expecting to read 2 bytes but only got 0. \n",
      "  warnings.warn(str(msg))\n"
     ]
    },
    {
     "name": "stdout",
     "output_type": "stream",
     "text": [
      "train loss : 1.041133, [epoch:18, iter:300]\n",
      "train loss : 1.053420, [epoch:18, iter:400]\n",
      "train loss : 1.072063, [epoch:18, iter:500]\n",
      "train loss : 1.076873, [epoch:18, iter:600]\n",
      "train loss : 1.084679, [epoch:18, iter:700]\n",
      "train loss : 1.089067, [epoch:18, iter:800]\n"
     ]
    },
    {
     "name": "stderr",
     "output_type": "stream",
     "text": [
      "/home/qkrwnstj/anaconda3/envs/qkrwnstj/lib/python3.9/site-packages/PIL/TiffImagePlugin.py:858: UserWarning: Corrupt EXIF data.  Expecting to read 2 bytes but only got 0. \n",
      "  warnings.warn(str(msg))\n"
     ]
    },
    {
     "name": "stdout",
     "output_type": "stream",
     "text": [
      "train loss : 1.095963, [epoch:18, iter:900]\n",
      "TRAIN ACCURACY : 63.9% [39364/61632]\n"
     ]
    },
    {
     "name": "stderr",
     "output_type": "stream",
     "text": [
      "Train:  36%|█████████                | 18/50 [3:22:06<5:59:18, 673.71s/it]"
     ]
    },
    {
     "name": "stdout",
     "output_type": "stream",
     "text": [
      "TEST ACCURACY : 44.8% [5218/11648]\n",
      "\n",
      "EPOCH:18 | train loss : 1.099544215115679, test loss : 1.811018827852312\n",
      "\n",
      "EPOCH 19 \n",
      "-------------------------\n",
      "train loss : 1.066224, [epoch:19, iter:0]\n",
      "train loss : 1.003148, [epoch:19, iter:100]\n",
      "train loss : 1.029757, [epoch:19, iter:200]\n",
      "train loss : 1.051111, [epoch:19, iter:300]\n",
      "train loss : 1.053009, [epoch:19, iter:400]\n",
      "train loss : 1.055947, [epoch:19, iter:500]\n"
     ]
    },
    {
     "name": "stderr",
     "output_type": "stream",
     "text": [
      "/home/qkrwnstj/anaconda3/envs/qkrwnstj/lib/python3.9/site-packages/PIL/TiffImagePlugin.py:858: UserWarning: Corrupt EXIF data.  Expecting to read 2 bytes but only got 0. \n",
      "  warnings.warn(str(msg))\n",
      "/home/qkrwnstj/anaconda3/envs/qkrwnstj/lib/python3.9/site-packages/PIL/TiffImagePlugin.py:858: UserWarning: Corrupt EXIF data.  Expecting to read 2 bytes but only got 0. \n",
      "  warnings.warn(str(msg))\n"
     ]
    },
    {
     "name": "stdout",
     "output_type": "stream",
     "text": [
      "train loss : 1.063562, [epoch:19, iter:600]\n",
      "train loss : 1.071719, [epoch:19, iter:700]\n",
      "train loss : 1.077475, [epoch:19, iter:800]\n",
      "train loss : 1.082908, [epoch:19, iter:900]\n",
      "TRAIN ACCURACY : 64.2% [39576/61632]\n"
     ]
    },
    {
     "name": "stderr",
     "output_type": "stream",
     "text": [
      "Train:  38%|█████████▌               | 19/50 [3:33:10<5:46:34, 670.79s/it]"
     ]
    },
    {
     "name": "stdout",
     "output_type": "stream",
     "text": [
      "TEST ACCURACY : 39.0% [4547/11648]\n",
      "\n",
      "EPOCH:19 | train loss : 1.0866351310214026, test loss : 1.988170442345378\n",
      "\n",
      "EPOCH 20 \n",
      "-------------------------\n",
      "train loss : 0.831658, [epoch:20, iter:0]\n"
     ]
    },
    {
     "name": "stderr",
     "output_type": "stream",
     "text": [
      "/home/qkrwnstj/anaconda3/envs/qkrwnstj/lib/python3.9/site-packages/PIL/TiffImagePlugin.py:858: UserWarning: Corrupt EXIF data.  Expecting to read 2 bytes but only got 0. \n",
      "  warnings.warn(str(msg))\n"
     ]
    },
    {
     "name": "stdout",
     "output_type": "stream",
     "text": [
      "train loss : 0.987621, [epoch:20, iter:100]\n",
      "train loss : 1.004146, [epoch:20, iter:200]\n",
      "train loss : 1.019862, [epoch:20, iter:300]\n",
      "train loss : 1.031255, [epoch:20, iter:400]\n",
      "train loss : 1.043543, [epoch:20, iter:500]\n",
      "train loss : 1.060842, [epoch:20, iter:600]\n",
      "train loss : 1.063791, [epoch:20, iter:700]\n",
      "train loss : 1.071011, [epoch:20, iter:800]\n"
     ]
    },
    {
     "name": "stderr",
     "output_type": "stream",
     "text": [
      "/home/qkrwnstj/anaconda3/envs/qkrwnstj/lib/python3.9/site-packages/PIL/TiffImagePlugin.py:858: UserWarning: Corrupt EXIF data.  Expecting to read 2 bytes but only got 0. \n",
      "  warnings.warn(str(msg))\n"
     ]
    },
    {
     "name": "stdout",
     "output_type": "stream",
     "text": [
      "train loss : 1.077743, [epoch:20, iter:900]\n",
      "TRAIN ACCURACY : 64.4% [39717/61632]\n"
     ]
    },
    {
     "name": "stderr",
     "output_type": "stream",
     "text": [
      "Train:  40%|██████████               | 20/50 [3:44:22<5:35:27, 670.91s/it]"
     ]
    },
    {
     "name": "stdout",
     "output_type": "stream",
     "text": [
      "TEST ACCURACY : 40.4% [4711/11648]\n",
      "\n",
      "EPOCH:20 | train loss : 1.0799733617595424, test loss : 2.1595089632076223\n",
      "\n",
      "EPOCH 21 \n",
      "-------------------------\n",
      "train loss : 1.263471, [epoch:21, iter:0]\n",
      "train loss : 1.006890, [epoch:21, iter:100]\n",
      "train loss : 1.016773, [epoch:21, iter:200]\n"
     ]
    },
    {
     "name": "stderr",
     "output_type": "stream",
     "text": [
      "/home/qkrwnstj/anaconda3/envs/qkrwnstj/lib/python3.9/site-packages/PIL/TiffImagePlugin.py:858: UserWarning: Corrupt EXIF data.  Expecting to read 2 bytes but only got 0. \n",
      "  warnings.warn(str(msg))\n"
     ]
    },
    {
     "name": "stdout",
     "output_type": "stream",
     "text": [
      "train loss : 1.034425, [epoch:21, iter:300]\n",
      "train loss : 1.046259, [epoch:21, iter:400]\n",
      "train loss : 1.056746, [epoch:21, iter:500]\n",
      "train loss : 1.060549, [epoch:21, iter:600]\n",
      "train loss : 1.063013, [epoch:21, iter:700]\n"
     ]
    },
    {
     "name": "stderr",
     "output_type": "stream",
     "text": [
      "/home/qkrwnstj/anaconda3/envs/qkrwnstj/lib/python3.9/site-packages/PIL/TiffImagePlugin.py:858: UserWarning: Corrupt EXIF data.  Expecting to read 2 bytes but only got 0. \n",
      "  warnings.warn(str(msg))\n"
     ]
    },
    {
     "name": "stdout",
     "output_type": "stream",
     "text": [
      "train loss : 1.065568, [epoch:21, iter:800]\n",
      "train loss : 1.069314, [epoch:21, iter:900]\n",
      "TRAIN ACCURACY : 64.8% [39914/61632]\n"
     ]
    },
    {
     "name": "stderr",
     "output_type": "stream",
     "text": [
      "Train:  42%|██████████▌              | 21/50 [3:55:19<5:22:18, 666.85s/it]"
     ]
    },
    {
     "name": "stdout",
     "output_type": "stream",
     "text": [
      "TEST ACCURACY : 40.8% [4757/11648]\n",
      "\n",
      "EPOCH:21 | train loss : 1.0706028815122903, test loss : 1.9306557505995363\n",
      "\n",
      "EPOCH 22 \n",
      "-------------------------\n",
      "train loss : 1.049485, [epoch:22, iter:0]\n"
     ]
    }
   ],
   "source": [
    "train_loss_lst, test_loss_lst = [], []\n",
    "\n",
    "model_version = 1\n",
    "\n",
    "\n",
    "test_best_loss = 100\n",
    "test_current_loss = 100\n",
    "early_stop_threshold = 5\n",
    "early_stop_trigger = 0\n",
    "\n",
    "model = model.to(DEVICE)\n",
    "\n",
    "for i in tqdm(range(EPOCH), desc = 'Train'):\n",
    "    print(f\"EPOCH {i+1} \\n-------------------------\")\n",
    "    train_loss = train(train_dataloader, model, optimizer, criterion, i+1)\n",
    "    test_loss = test(test_dataloader, model, criterion, i+1)\n",
    "\n",
    "    train_loss_lst.append(train_loss)\n",
    "    test_loss_lst.append(test_loss)\n",
    "\n",
    "    if test_loss < test_best_loss :\n",
    "        print(\"...MODEL SAVE...\")\n",
    "        test_best_loss = test_loss \n",
    "        \n",
    "        if model_version == 0:\n",
    "            torch.save(model.state_dict(),'contrastive_model_for_style_weight_v2_without_target_style.pth')\n",
    "        else:\n",
    "            torch.save(model.state_dict(),'contrastive_model_for_style_weight_resnet18.pth')\n",
    "        \n",
    "    if test_current_loss < test_loss:\n",
    "        early_stop_trigger += 1 \n",
    "    else:\n",
    "        early_stop_trigger = 0 \n",
    "    test_current_loss  = test_loss \n",
    "\n",
    "    print(f'\\nEPOCH:{i+1} | train loss : {train_loss}, test loss : {test_loss}\\n')\n",
    "    \n",
    "    if early_stop_trigger >= early_stop_threshold:\n",
    "        break\n",
    "        \n",
    "print(\"DONE!\")"
   ]
  },
  {
   "cell_type": "code",
   "execution_count": null,
   "id": "da12b1f9-ee33-4e24-9983-47749d373c2f",
   "metadata": {},
   "outputs": [],
   "source": [
    "figure = plt.figure(figsize = (10,5))\n",
    "rows, cols = 1, 2 \n",
    "\n",
    "title = ['train loss', 'test loss']\n",
    "values = [train_loss_lst, test_loss_lst]\n",
    "for i in range(1, rows* cols +1):\n",
    "    figure.add_subplot(rows,cols,i)\n",
    "    plt.title(title[i-1])\n",
    "    plt.plot(values[i-1])\n",
    "\n",
    "plt.show()"
   ]
  },
  {
   "cell_type": "code",
   "execution_count": null,
   "id": "ccb57e56-33cf-454e-8697-013513763e4f",
   "metadata": {},
   "outputs": [],
   "source": []
  },
  {
   "cell_type": "code",
   "execution_count": null,
   "id": "26709857-15e0-4ede-862a-22fda793c382",
   "metadata": {},
   "outputs": [],
   "source": []
  },
  {
   "cell_type": "code",
   "execution_count": null,
   "id": "fa5c944c-41ba-4c1d-8355-c45ce9353491",
   "metadata": {},
   "outputs": [],
   "source": []
  },
  {
   "cell_type": "code",
   "execution_count": null,
   "id": "beb22a7e-3405-4c50-8caa-2134613b3bff",
   "metadata": {},
   "outputs": [],
   "source": []
  },
  {
   "cell_type": "code",
   "execution_count": null,
   "id": "3ba4c834-847f-4c42-9eb1-6cd8767a246c",
   "metadata": {},
   "outputs": [],
   "source": []
  },
  {
   "cell_type": "code",
   "execution_count": null,
   "id": "2f32ac09-0ea2-441c-b3bc-a1009c1bd057",
   "metadata": {},
   "outputs": [],
   "source": []
  },
  {
   "cell_type": "code",
   "execution_count": null,
   "id": "5fb3906f-3009-488e-aa31-6c4270557aa5",
   "metadata": {},
   "outputs": [],
   "source": []
  },
  {
   "cell_type": "code",
   "execution_count": null,
   "id": "0fb9f761-9b4f-4e1f-91ce-5924fcc0ec27",
   "metadata": {},
   "outputs": [],
   "source": []
  }
 ],
 "metadata": {
  "kernelspec": {
   "display_name": "qkrwnstj",
   "language": "python",
   "name": "qkrwnstj"
  },
  "language_info": {
   "codemirror_mode": {
    "name": "ipython",
    "version": 3
   },
   "file_extension": ".py",
   "mimetype": "text/x-python",
   "name": "python",
   "nbconvert_exporter": "python",
   "pygments_lexer": "ipython3",
   "version": "3.9.1"
  }
 },
 "nbformat": 4,
 "nbformat_minor": 5
}
